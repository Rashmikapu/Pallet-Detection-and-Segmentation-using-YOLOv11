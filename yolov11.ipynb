{
  "nbformat": 4,
  "nbformat_minor": 0,
  "metadata": {
    "colab": {
      "provenance": [],
      "machine_shape": "hm",
      "gpuType": "A100"
    },
    "kernelspec": {
      "name": "python3",
      "display_name": "Python 3"
    },
    "language_info": {
      "name": "python"
    },
    "accelerator": "GPU"
  },
  "cells": [
    {
      "cell_type": "code",
      "source": [
        "from google.colab import drive\n",
        "drive.mount('/content/drive')"
      ],
      "metadata": {
        "colab": {
          "base_uri": "https://localhost:8080/"
        },
        "id": "EAE-8LiZ-8Eg",
        "outputId": "df0ddc5c-b567-48b6-eca5-9261fdf5312d"
      },
      "execution_count": null,
      "outputs": [
        {
          "output_type": "stream",
          "name": "stdout",
          "text": [
            "Mounted at /content/drive\n"
          ]
        }
      ]
    },
    {
      "cell_type": "code",
      "execution_count": null,
      "metadata": {
        "colab": {
          "base_uri": "https://localhost:8080/"
        },
        "id": "XfC86Dgu-yCC",
        "outputId": "94be5056-9f8a-49c5-9309-523a478828c4"
      },
      "outputs": [
        {
          "output_type": "stream",
          "name": "stdout",
          "text": [
            "Data split and organized successfully.\n",
            "Data split, organized, and YAML file created successfully.\n",
            "YAML file saved at: /content/drive/MyDrive/yolov11/custom_data.yaml\n"
          ]
        }
      ],
      "source": [
        "# Detection\n",
        "import os\n",
        "import shutil\n",
        "import random\n",
        "import yaml\n",
        "\n",
        "# Paths to your original images and annotations\n",
        "image_dir = \"/content/drive/MyDrive/Pallets\"\n",
        "annotation_dir = \"/content/drive/MyDrive/Pallet_Annotation/yolo_annotations\"\n",
        "\n",
        "#  80% for training, 20% for validation\n",
        "train_ratio = 0.8\n",
        "\n",
        "# Define paths for the new directory structure\n",
        "base_dir = \"/content/drive/MyDrive/yolov11\"\n",
        "image_train_dir = os.path.join(base_dir, \"images/train\")\n",
        "image_val_dir = os.path.join(base_dir, \"images/val\")\n",
        "label_train_dir = os.path.join(base_dir, \"labels/train\")\n",
        "label_val_dir = os.path.join(base_dir, \"labels/val\")\n",
        "\n",
        "# Create directories\n",
        "os.makedirs(image_train_dir, exist_ok=True)\n",
        "os.makedirs(image_val_dir, exist_ok=True)\n",
        "os.makedirs(label_train_dir, exist_ok=True)\n",
        "os.makedirs(label_val_dir, exist_ok=True)\n",
        "\n",
        "# Get list of all images and corresponding annotations\n",
        "images = [f for f in os.listdir(image_dir) if f.endswith(('.jpg', '.jpeg', '.png'))]\n",
        "annotations = [f.replace('.jpg', '.txt').replace('.jpeg', '.txt').replace('.png', '.txt') for f in images]\n",
        "\n",
        "# Shuffle and split data\n",
        "data = list(zip(images, annotations))\n",
        "random.shuffle(data)\n",
        "train_size = int(len(data) * train_ratio)\n",
        "train_data = data[:train_size]\n",
        "val_data = data[train_size:]\n",
        "\n",
        "# Function to copy files to the appropriate directories\n",
        "def copy_files(data, image_dest, label_dest):\n",
        "    for img, ann in data:\n",
        "        img_src = os.path.join(image_dir, img)\n",
        "        ann_src = os.path.join(annotation_dir, ann)\n",
        "\n",
        "        img_dest_path = os.path.join(image_dest, img)\n",
        "        ann_dest_path = os.path.join(label_dest, ann)\n",
        "\n",
        "        # Copy image and annotation if both exist\n",
        "        if os.path.exists(img_src) and os.path.exists(ann_src):\n",
        "            shutil.copy(img_src, img_dest_path)\n",
        "            shutil.copy(ann_src, ann_dest_path)\n",
        "\n",
        "# Copy training and validation files\n",
        "copy_files(train_data, image_train_dir, label_train_dir)\n",
        "copy_files(val_data, image_val_dir, label_val_dir)\n",
        "\n",
        "print(\"Data split and organized successfully.\")\n",
        "\n",
        "# Define class names (adjust based on your dataset)\n",
        "class_names = {'0': 'pallets', '1': 'ground'}  # Replace with actual class names\n",
        "\n",
        "# YAML file content\n",
        "yaml_content = {\n",
        "    \"train\": os.path.abspath(image_train_dir),\n",
        "    \"val\": os.path.abspath(image_val_dir),\n",
        "    \"nc\": len(class_names),\n",
        "    \"names\": class_names\n",
        "}\n",
        "\n",
        "# Save YAML file\n",
        "yaml_path = os.path.join(base_dir, \"custom_data.yaml\")\n",
        "with open(yaml_path, \"w\") as yaml_file:\n",
        "    yaml.dump(yaml_content, yaml_file, default_flow_style=False)\n",
        "\n",
        "print(\"Data split, organized, and YAML file created successfully.\")\n",
        "print(f\"YAML file saved at: {yaml_path}\")\n"
      ]
    },
    {
      "cell_type": "code",
      "source": [
        "!pip install ultralytics"
      ],
      "metadata": {
        "colab": {
          "base_uri": "https://localhost:8080/"
        },
        "id": "CuuChtQDPywx",
        "outputId": "07852b25-920a-4cde-f047-2a418d8607e5",
        "collapsed": true
      },
      "execution_count": null,
      "outputs": [
        {
          "output_type": "stream",
          "name": "stdout",
          "text": [
            "Collecting ultralytics\n",
            "  Downloading ultralytics-8.3.31-py3-none-any.whl.metadata (35 kB)\n",
            "Requirement already satisfied: numpy>=1.23.0 in /usr/local/lib/python3.10/dist-packages (from ultralytics) (1.26.4)\n",
            "Requirement already satisfied: matplotlib>=3.3.0 in /usr/local/lib/python3.10/dist-packages (from ultralytics) (3.8.0)\n",
            "Requirement already satisfied: opencv-python>=4.6.0 in /usr/local/lib/python3.10/dist-packages (from ultralytics) (4.10.0.84)\n",
            "Requirement already satisfied: pillow>=7.1.2 in /usr/local/lib/python3.10/dist-packages (from ultralytics) (11.0.0)\n",
            "Requirement already satisfied: pyyaml>=5.3.1 in /usr/local/lib/python3.10/dist-packages (from ultralytics) (6.0.2)\n",
            "Requirement already satisfied: requests>=2.23.0 in /usr/local/lib/python3.10/dist-packages (from ultralytics) (2.32.3)\n",
            "Requirement already satisfied: scipy>=1.4.1 in /usr/local/lib/python3.10/dist-packages (from ultralytics) (1.13.1)\n",
            "Requirement already satisfied: torch>=1.8.0 in /usr/local/lib/python3.10/dist-packages (from ultralytics) (2.5.0+cu121)\n",
            "Requirement already satisfied: torchvision>=0.9.0 in /usr/local/lib/python3.10/dist-packages (from ultralytics) (0.20.0+cu121)\n",
            "Requirement already satisfied: tqdm>=4.64.0 in /usr/local/lib/python3.10/dist-packages (from ultralytics) (4.66.6)\n",
            "Requirement already satisfied: psutil in /usr/local/lib/python3.10/dist-packages (from ultralytics) (5.9.5)\n",
            "Requirement already satisfied: py-cpuinfo in /usr/local/lib/python3.10/dist-packages (from ultralytics) (9.0.0)\n",
            "Requirement already satisfied: pandas>=1.1.4 in /usr/local/lib/python3.10/dist-packages (from ultralytics) (2.2.2)\n",
            "Requirement already satisfied: seaborn>=0.11.0 in /usr/local/lib/python3.10/dist-packages (from ultralytics) (0.13.2)\n",
            "Collecting ultralytics-thop>=2.0.0 (from ultralytics)\n",
            "  Downloading ultralytics_thop-2.0.11-py3-none-any.whl.metadata (9.4 kB)\n",
            "Requirement already satisfied: contourpy>=1.0.1 in /usr/local/lib/python3.10/dist-packages (from matplotlib>=3.3.0->ultralytics) (1.3.0)\n",
            "Requirement already satisfied: cycler>=0.10 in /usr/local/lib/python3.10/dist-packages (from matplotlib>=3.3.0->ultralytics) (0.12.1)\n",
            "Requirement already satisfied: fonttools>=4.22.0 in /usr/local/lib/python3.10/dist-packages (from matplotlib>=3.3.0->ultralytics) (4.54.1)\n",
            "Requirement already satisfied: kiwisolver>=1.0.1 in /usr/local/lib/python3.10/dist-packages (from matplotlib>=3.3.0->ultralytics) (1.4.7)\n",
            "Requirement already satisfied: packaging>=20.0 in /usr/local/lib/python3.10/dist-packages (from matplotlib>=3.3.0->ultralytics) (24.2)\n",
            "Requirement already satisfied: pyparsing>=2.3.1 in /usr/local/lib/python3.10/dist-packages (from matplotlib>=3.3.0->ultralytics) (3.2.0)\n",
            "Requirement already satisfied: python-dateutil>=2.7 in /usr/local/lib/python3.10/dist-packages (from matplotlib>=3.3.0->ultralytics) (2.8.2)\n",
            "Requirement already satisfied: pytz>=2020.1 in /usr/local/lib/python3.10/dist-packages (from pandas>=1.1.4->ultralytics) (2024.2)\n",
            "Requirement already satisfied: tzdata>=2022.7 in /usr/local/lib/python3.10/dist-packages (from pandas>=1.1.4->ultralytics) (2024.2)\n",
            "Requirement already satisfied: charset-normalizer<4,>=2 in /usr/local/lib/python3.10/dist-packages (from requests>=2.23.0->ultralytics) (3.4.0)\n",
            "Requirement already satisfied: idna<4,>=2.5 in /usr/local/lib/python3.10/dist-packages (from requests>=2.23.0->ultralytics) (3.10)\n",
            "Requirement already satisfied: urllib3<3,>=1.21.1 in /usr/local/lib/python3.10/dist-packages (from requests>=2.23.0->ultralytics) (2.2.3)\n",
            "Requirement already satisfied: certifi>=2017.4.17 in /usr/local/lib/python3.10/dist-packages (from requests>=2.23.0->ultralytics) (2024.8.30)\n",
            "Requirement already satisfied: filelock in /usr/local/lib/python3.10/dist-packages (from torch>=1.8.0->ultralytics) (3.16.1)\n",
            "Requirement already satisfied: typing-extensions>=4.8.0 in /usr/local/lib/python3.10/dist-packages (from torch>=1.8.0->ultralytics) (4.12.2)\n",
            "Requirement already satisfied: networkx in /usr/local/lib/python3.10/dist-packages (from torch>=1.8.0->ultralytics) (3.4.2)\n",
            "Requirement already satisfied: jinja2 in /usr/local/lib/python3.10/dist-packages (from torch>=1.8.0->ultralytics) (3.1.4)\n",
            "Requirement already satisfied: fsspec in /usr/local/lib/python3.10/dist-packages (from torch>=1.8.0->ultralytics) (2024.10.0)\n",
            "Requirement already satisfied: sympy==1.13.1 in /usr/local/lib/python3.10/dist-packages (from torch>=1.8.0->ultralytics) (1.13.1)\n",
            "Requirement already satisfied: mpmath<1.4,>=1.1.0 in /usr/local/lib/python3.10/dist-packages (from sympy==1.13.1->torch>=1.8.0->ultralytics) (1.3.0)\n",
            "Requirement already satisfied: six>=1.5 in /usr/local/lib/python3.10/dist-packages (from python-dateutil>=2.7->matplotlib>=3.3.0->ultralytics) (1.16.0)\n",
            "Requirement already satisfied: MarkupSafe>=2.0 in /usr/local/lib/python3.10/dist-packages (from jinja2->torch>=1.8.0->ultralytics) (3.0.2)\n",
            "Downloading ultralytics-8.3.31-py3-none-any.whl (886 kB)\n",
            "\u001b[2K   \u001b[90m━━━━━━━━━━━━━━━━━━━━━━━━━━━━━━━━━━━━━━━━\u001b[0m \u001b[32m886.3/886.3 kB\u001b[0m \u001b[31m52.0 MB/s\u001b[0m eta \u001b[36m0:00:00\u001b[0m\n",
            "\u001b[?25hDownloading ultralytics_thop-2.0.11-py3-none-any.whl (26 kB)\n",
            "Installing collected packages: ultralytics-thop, ultralytics\n",
            "Successfully installed ultralytics-8.3.31 ultralytics-thop-2.0.11\n"
          ]
        }
      ]
    },
    {
      "cell_type": "code",
      "source": [
        "from ultralytics import YOLO\n",
        "import matplotlib.pyplot as plt\n",
        "\n",
        "model = YOLO('yolo11n.pt')  # load a pretrained YOLO detection model\n",
        "results = model.train(data='/content/drive/MyDrive/yolov11/custom_data.yaml', epochs=20, batch= 16, device = 0,\n",
        "    hsv_h=0.015,           # HSV augmentation for hue\n",
        "    hsv_s=0.7,             # HSV augmentation for saturation\n",
        "    hsv_v=0.4,             # HSV augmentation for value\n",
        "    degrees=10.0,          # Rotation augmentation\n",
        "    translate=0.1,         # Translation augmentation\n",
        "    scale=0.5,             # Scale augmentation\n",
        "    shear=0.0  )  # train the model\n",
        "\n"
      ],
      "metadata": {
        "colab": {
          "base_uri": "https://localhost:8080/"
        },
        "id": "fXZ0aisWM5s6",
        "outputId": "dee745f0-3297-4621-e956-b9342a4e6d62",
        "collapsed": true
      },
      "execution_count": null,
      "outputs": [
        {
          "output_type": "stream",
          "name": "stdout",
          "text": [
            "Creating new Ultralytics Settings v0.0.6 file ✅ \n",
            "View Ultralytics Settings with 'yolo settings' or at '/root/.config/Ultralytics/settings.json'\n",
            "Update Settings with 'yolo settings key=value', i.e. 'yolo settings runs_dir=path/to/dir'. For help see https://docs.ultralytics.com/quickstart/#ultralytics-settings.\n",
            "Downloading https://github.com/ultralytics/assets/releases/download/v8.3.0/yolo11n.pt to 'yolo11n.pt'...\n"
          ]
        },
        {
          "output_type": "stream",
          "name": "stderr",
          "text": [
            "100%|██████████| 5.35M/5.35M [00:00<00:00, 357MB/s]\n"
          ]
        },
        {
          "output_type": "stream",
          "name": "stdout",
          "text": [
            "Ultralytics 8.3.31 🚀 Python-3.10.12 torch-2.5.0+cu121 CUDA:0 (NVIDIA A100-SXM4-40GB, 40514MiB)\n",
            "\u001b[34m\u001b[1mengine/trainer: \u001b[0mtask=detect, mode=train, model=yolo11n.pt, data=/content/drive/MyDrive/yolov11/custom_data.yaml, epochs=20, time=None, patience=100, batch=16, imgsz=640, save=True, save_period=-1, cache=False, device=0, workers=8, project=None, name=train, exist_ok=False, pretrained=True, optimizer=auto, verbose=True, seed=0, deterministic=True, single_cls=False, rect=False, cos_lr=False, close_mosaic=10, resume=False, amp=True, fraction=1.0, profile=False, freeze=None, multi_scale=False, overlap_mask=True, mask_ratio=4, dropout=0.0, val=True, split=val, save_json=False, save_hybrid=False, conf=None, iou=0.7, max_det=300, half=False, dnn=False, plots=True, source=None, vid_stride=1, stream_buffer=False, visualize=False, augment=False, agnostic_nms=False, classes=None, retina_masks=False, embed=None, show=False, save_frames=False, save_txt=False, save_conf=False, save_crop=False, show_labels=True, show_conf=True, show_boxes=True, line_width=None, format=torchscript, keras=False, optimize=False, int8=False, dynamic=False, simplify=True, opset=None, workspace=4, nms=False, lr0=0.01, lrf=0.01, momentum=0.937, weight_decay=0.0005, warmup_epochs=3.0, warmup_momentum=0.8, warmup_bias_lr=0.1, box=7.5, cls=0.5, dfl=1.5, pose=12.0, kobj=1.0, label_smoothing=0.0, nbs=64, hsv_h=0.015, hsv_s=0.7, hsv_v=0.4, degrees=10.0, translate=0.1, scale=0.5, shear=0.0, perspective=0.0, flipud=0.0, fliplr=0.5, bgr=0.0, mosaic=1.0, mixup=0.0, copy_paste=0.0, copy_paste_mode=flip, auto_augment=randaugment, erasing=0.4, crop_fraction=1.0, cfg=None, tracker=botsort.yaml, save_dir=runs/detect/train\n",
            "Downloading https://ultralytics.com/assets/Arial.ttf to '/root/.config/Ultralytics/Arial.ttf'...\n"
          ]
        },
        {
          "output_type": "stream",
          "name": "stderr",
          "text": [
            "100%|██████████| 755k/755k [00:00<00:00, 87.7MB/s]\n"
          ]
        },
        {
          "output_type": "stream",
          "name": "stdout",
          "text": [
            "Overriding model.yaml nc=80 with nc=2\n",
            "\n",
            "                   from  n    params  module                                       arguments                     \n",
            "  0                  -1  1       464  ultralytics.nn.modules.conv.Conv             [3, 16, 3, 2]                 \n",
            "  1                  -1  1      4672  ultralytics.nn.modules.conv.Conv             [16, 32, 3, 2]                \n",
            "  2                  -1  1      6640  ultralytics.nn.modules.block.C3k2            [32, 64, 1, False, 0.25]      \n",
            "  3                  -1  1     36992  ultralytics.nn.modules.conv.Conv             [64, 64, 3, 2]                \n",
            "  4                  -1  1     26080  ultralytics.nn.modules.block.C3k2            [64, 128, 1, False, 0.25]     \n",
            "  5                  -1  1    147712  ultralytics.nn.modules.conv.Conv             [128, 128, 3, 2]              \n",
            "  6                  -1  1     87040  ultralytics.nn.modules.block.C3k2            [128, 128, 1, True]           \n",
            "  7                  -1  1    295424  ultralytics.nn.modules.conv.Conv             [128, 256, 3, 2]              \n",
            "  8                  -1  1    346112  ultralytics.nn.modules.block.C3k2            [256, 256, 1, True]           \n",
            "  9                  -1  1    164608  ultralytics.nn.modules.block.SPPF            [256, 256, 5]                 \n",
            " 10                  -1  1    249728  ultralytics.nn.modules.block.C2PSA           [256, 256, 1]                 \n",
            " 11                  -1  1         0  torch.nn.modules.upsampling.Upsample         [None, 2, 'nearest']          \n",
            " 12             [-1, 6]  1         0  ultralytics.nn.modules.conv.Concat           [1]                           \n",
            " 13                  -1  1    111296  ultralytics.nn.modules.block.C3k2            [384, 128, 1, False]          \n",
            " 14                  -1  1         0  torch.nn.modules.upsampling.Upsample         [None, 2, 'nearest']          \n",
            " 15             [-1, 4]  1         0  ultralytics.nn.modules.conv.Concat           [1]                           \n",
            " 16                  -1  1     32096  ultralytics.nn.modules.block.C3k2            [256, 64, 1, False]           \n",
            " 17                  -1  1     36992  ultralytics.nn.modules.conv.Conv             [64, 64, 3, 2]                \n",
            " 18            [-1, 13]  1         0  ultralytics.nn.modules.conv.Concat           [1]                           \n",
            " 19                  -1  1     86720  ultralytics.nn.modules.block.C3k2            [192, 128, 1, False]          \n",
            " 20                  -1  1    147712  ultralytics.nn.modules.conv.Conv             [128, 128, 3, 2]              \n",
            " 21            [-1, 10]  1         0  ultralytics.nn.modules.conv.Concat           [1]                           \n",
            " 22                  -1  1    378880  ultralytics.nn.modules.block.C3k2            [384, 256, 1, True]           \n",
            " 23        [16, 19, 22]  1    431062  ultralytics.nn.modules.head.Detect           [2, [64, 128, 256]]           \n",
            "YOLO11n summary: 319 layers, 2,590,230 parameters, 2,590,214 gradients, 6.4 GFLOPs\n",
            "\n",
            "Transferred 448/499 items from pretrained weights\n",
            "\u001b[34m\u001b[1mTensorBoard: \u001b[0mStart with 'tensorboard --logdir runs/detect/train', view at http://localhost:6006/\n",
            "Freezing layer 'model.23.dfl.conv.weight'\n",
            "\u001b[34m\u001b[1mAMP: \u001b[0mrunning Automatic Mixed Precision (AMP) checks...\n",
            "\u001b[34m\u001b[1mAMP: \u001b[0mchecks passed ✅\n"
          ]
        },
        {
          "output_type": "stream",
          "name": "stderr",
          "text": [
            "\u001b[34m\u001b[1mtrain: \u001b[0mScanning /content/drive/MyDrive/yolov11/labels/train... 415 images, 0 backgrounds, 0 corrupt: 100%|██████████| 415/415 [00:02<00:00, 145.73it/s]\n"
          ]
        },
        {
          "output_type": "stream",
          "name": "stdout",
          "text": [
            "\u001b[34m\u001b[1mtrain: \u001b[0mNew cache created: /content/drive/MyDrive/yolov11/labels/train.cache\n",
            "\u001b[34m\u001b[1malbumentations: \u001b[0mBlur(p=0.01, blur_limit=(3, 7)), MedianBlur(p=0.01, blur_limit=(3, 7)), ToGray(p=0.01, num_output_channels=3, method='weighted_average'), CLAHE(p=0.01, clip_limit=(1.0, 4.0), tile_grid_size=(8, 8))\n"
          ]
        },
        {
          "output_type": "stream",
          "name": "stderr",
          "text": [
            "/usr/local/lib/python3.10/dist-packages/albumentations/__init__.py:24: UserWarning: A new version of Albumentations is available: 1.4.21 (you have 1.4.20). Upgrade using: pip install -U albumentations. To disable automatic update checks, set the environment variable NO_ALBUMENTATIONS_UPDATE to 1.\n",
            "  check_for_updates()\n",
            "\u001b[34m\u001b[1mval: \u001b[0mScanning /content/drive/MyDrive/yolov11/labels/val... 104 images, 0 backgrounds, 0 corrupt: 100%|██████████| 104/104 [00:00<00:00, 150.70it/s]\n"
          ]
        },
        {
          "output_type": "stream",
          "name": "stdout",
          "text": [
            "\u001b[34m\u001b[1mval: \u001b[0mNew cache created: /content/drive/MyDrive/yolov11/labels/val.cache\n",
            "Plotting labels to runs/detect/train/labels.jpg... \n",
            "\u001b[34m\u001b[1moptimizer:\u001b[0m 'optimizer=auto' found, ignoring 'lr0=0.01' and 'momentum=0.937' and determining best 'optimizer', 'lr0' and 'momentum' automatically... \n",
            "\u001b[34m\u001b[1moptimizer:\u001b[0m AdamW(lr=0.001667, momentum=0.9) with parameter groups 81 weight(decay=0.0), 88 weight(decay=0.0005), 87 bias(decay=0.0)\n",
            "\u001b[34m\u001b[1mTensorBoard: \u001b[0mmodel graph visualization added ✅\n",
            "Image sizes 640 train, 640 val\n",
            "Using 8 dataloader workers\n",
            "Logging results to \u001b[1mruns/detect/train\u001b[0m\n",
            "Starting training for 20 epochs...\n",
            "\n",
            "      Epoch    GPU_mem   box_loss   cls_loss   dfl_loss  Instances       Size\n"
          ]
        },
        {
          "output_type": "stream",
          "name": "stderr",
          "text": [
            "       1/20      2.65G      1.293      2.721      1.662        170        640: 100%|██████████| 26/26 [00:05<00:00,  4.57it/s]\n",
            "                 Class     Images  Instances      Box(P          R      mAP50  mAP50-95): 100%|██████████| 4/4 [00:02<00:00,  1.81it/s]"
          ]
        },
        {
          "output_type": "stream",
          "name": "stdout",
          "text": [
            "                   all        104        568     0.0145      0.866       0.47      0.291\n"
          ]
        },
        {
          "output_type": "stream",
          "name": "stderr",
          "text": [
            "\n"
          ]
        },
        {
          "output_type": "stream",
          "name": "stdout",
          "text": [
            "\n",
            "      Epoch    GPU_mem   box_loss   cls_loss   dfl_loss  Instances       Size\n"
          ]
        },
        {
          "output_type": "stream",
          "name": "stderr",
          "text": [
            "       2/20      2.65G       1.07      2.051      1.533        223        640: 100%|██████████| 26/26 [00:03<00:00,  8.08it/s]\n",
            "                 Class     Images  Instances      Box(P          R      mAP50  mAP50-95): 100%|██████████| 4/4 [00:00<00:00,  5.90it/s]"
          ]
        },
        {
          "output_type": "stream",
          "name": "stdout",
          "text": [
            "                   all        104        568      0.719      0.143      0.417      0.219\n"
          ]
        },
        {
          "output_type": "stream",
          "name": "stderr",
          "text": [
            "\n"
          ]
        },
        {
          "output_type": "stream",
          "name": "stdout",
          "text": [
            "\n",
            "      Epoch    GPU_mem   box_loss   cls_loss   dfl_loss  Instances       Size\n"
          ]
        },
        {
          "output_type": "stream",
          "name": "stderr",
          "text": [
            "       3/20      2.49G      1.099      1.694      1.567        187        640: 100%|██████████| 26/26 [00:03<00:00,  7.67it/s]\n",
            "                 Class     Images  Instances      Box(P          R      mAP50  mAP50-95): 100%|██████████| 4/4 [00:00<00:00,  5.83it/s]"
          ]
        },
        {
          "output_type": "stream",
          "name": "stdout",
          "text": [
            "                   all        104        568      0.479      0.401      0.414      0.225\n"
          ]
        },
        {
          "output_type": "stream",
          "name": "stderr",
          "text": [
            "\n"
          ]
        },
        {
          "output_type": "stream",
          "name": "stdout",
          "text": [
            "\n",
            "      Epoch    GPU_mem   box_loss   cls_loss   dfl_loss  Instances       Size\n"
          ]
        },
        {
          "output_type": "stream",
          "name": "stderr",
          "text": [
            "       4/20      2.67G      1.054       1.54      1.514        219        640: 100%|██████████| 26/26 [00:03<00:00,  8.49it/s]\n",
            "                 Class     Images  Instances      Box(P          R      mAP50  mAP50-95): 100%|██████████| 4/4 [00:00<00:00,  6.14it/s]"
          ]
        },
        {
          "output_type": "stream",
          "name": "stdout",
          "text": [
            "                   all        104        568      0.467      0.387      0.393       0.21\n"
          ]
        },
        {
          "output_type": "stream",
          "name": "stderr",
          "text": [
            "\n"
          ]
        },
        {
          "output_type": "stream",
          "name": "stdout",
          "text": [
            "\n",
            "      Epoch    GPU_mem   box_loss   cls_loss   dfl_loss  Instances       Size\n"
          ]
        },
        {
          "output_type": "stream",
          "name": "stderr",
          "text": [
            "       5/20      2.66G      1.054      1.522      1.509        188        640: 100%|██████████| 26/26 [00:03<00:00,  8.48it/s]\n",
            "                 Class     Images  Instances      Box(P          R      mAP50  mAP50-95): 100%|██████████| 4/4 [00:00<00:00,  6.70it/s]"
          ]
        },
        {
          "output_type": "stream",
          "name": "stdout",
          "text": [
            "                   all        104        568      0.407       0.33      0.309      0.162\n"
          ]
        },
        {
          "output_type": "stream",
          "name": "stderr",
          "text": [
            "\n"
          ]
        },
        {
          "output_type": "stream",
          "name": "stdout",
          "text": [
            "\n",
            "      Epoch    GPU_mem   box_loss   cls_loss   dfl_loss  Instances       Size\n"
          ]
        },
        {
          "output_type": "stream",
          "name": "stderr",
          "text": [
            "       6/20      2.65G       1.03      1.482      1.507        177        640: 100%|██████████| 26/26 [00:03<00:00,  8.23it/s]\n",
            "                 Class     Images  Instances      Box(P          R      mAP50  mAP50-95): 100%|██████████| 4/4 [00:00<00:00,  6.34it/s]"
          ]
        },
        {
          "output_type": "stream",
          "name": "stdout",
          "text": [
            "                   all        104        568      0.494      0.427      0.458      0.286\n"
          ]
        },
        {
          "output_type": "stream",
          "name": "stderr",
          "text": [
            "\n"
          ]
        },
        {
          "output_type": "stream",
          "name": "stdout",
          "text": [
            "\n",
            "      Epoch    GPU_mem   box_loss   cls_loss   dfl_loss  Instances       Size\n"
          ]
        },
        {
          "output_type": "stream",
          "name": "stderr",
          "text": [
            "       7/20      2.65G      1.015      1.468      1.485        174        640: 100%|██████████| 26/26 [00:03<00:00,  7.97it/s]\n",
            "                 Class     Images  Instances      Box(P          R      mAP50  mAP50-95): 100%|██████████| 4/4 [00:00<00:00,  5.89it/s]"
          ]
        },
        {
          "output_type": "stream",
          "name": "stdout",
          "text": [
            "                   all        104        568      0.526      0.431      0.436      0.272\n"
          ]
        },
        {
          "output_type": "stream",
          "name": "stderr",
          "text": [
            "\n"
          ]
        },
        {
          "output_type": "stream",
          "name": "stdout",
          "text": [
            "\n",
            "      Epoch    GPU_mem   box_loss   cls_loss   dfl_loss  Instances       Size\n"
          ]
        },
        {
          "output_type": "stream",
          "name": "stderr",
          "text": [
            "       8/20      2.65G      0.991      1.419      1.477        182        640: 100%|██████████| 26/26 [00:03<00:00,  8.19it/s]\n",
            "                 Class     Images  Instances      Box(P          R      mAP50  mAP50-95): 100%|██████████| 4/4 [00:00<00:00,  6.35it/s]"
          ]
        },
        {
          "output_type": "stream",
          "name": "stdout",
          "text": [
            "                   all        104        568      0.592      0.384      0.426      0.249\n"
          ]
        },
        {
          "output_type": "stream",
          "name": "stderr",
          "text": [
            "\n"
          ]
        },
        {
          "output_type": "stream",
          "name": "stdout",
          "text": [
            "\n",
            "      Epoch    GPU_mem   box_loss   cls_loss   dfl_loss  Instances       Size\n"
          ]
        },
        {
          "output_type": "stream",
          "name": "stderr",
          "text": [
            "       9/20      2.65G     0.9737      1.387      1.466        139        640: 100%|██████████| 26/26 [00:03<00:00,  8.48it/s]\n",
            "                 Class     Images  Instances      Box(P          R      mAP50  mAP50-95): 100%|██████████| 4/4 [00:00<00:00,  7.21it/s]"
          ]
        },
        {
          "output_type": "stream",
          "name": "stdout",
          "text": [
            "                   all        104        568      0.631      0.443      0.504      0.338\n"
          ]
        },
        {
          "output_type": "stream",
          "name": "stderr",
          "text": [
            "\n"
          ]
        },
        {
          "output_type": "stream",
          "name": "stdout",
          "text": [
            "\n",
            "      Epoch    GPU_mem   box_loss   cls_loss   dfl_loss  Instances       Size\n"
          ]
        },
        {
          "output_type": "stream",
          "name": "stderr",
          "text": [
            "      10/20      2.64G     0.9504      1.325      1.433        182        640: 100%|██████████| 26/26 [00:03<00:00,  8.17it/s]\n",
            "                 Class     Images  Instances      Box(P          R      mAP50  mAP50-95): 100%|██████████| 4/4 [00:00<00:00,  6.91it/s]"
          ]
        },
        {
          "output_type": "stream",
          "name": "stdout",
          "text": [
            "                   all        104        568      0.676      0.429      0.485      0.325\n"
          ]
        },
        {
          "output_type": "stream",
          "name": "stderr",
          "text": [
            "\n"
          ]
        },
        {
          "output_type": "stream",
          "name": "stdout",
          "text": [
            "Closing dataloader mosaic\n",
            "\u001b[34m\u001b[1malbumentations: \u001b[0mBlur(p=0.01, blur_limit=(3, 7)), MedianBlur(p=0.01, blur_limit=(3, 7)), ToGray(p=0.01, num_output_channels=3, method='weighted_average'), CLAHE(p=0.01, clip_limit=(1.0, 4.0), tile_grid_size=(8, 8))\n",
            "\n",
            "      Epoch    GPU_mem   box_loss   cls_loss   dfl_loss  Instances       Size\n"
          ]
        },
        {
          "output_type": "stream",
          "name": "stderr",
          "text": [
            "      11/20      2.63G     0.9263      1.601      1.514         81        640: 100%|██████████| 26/26 [00:04<00:00,  6.02it/s]\n",
            "                 Class     Images  Instances      Box(P          R      mAP50  mAP50-95): 100%|██████████| 4/4 [00:00<00:00,  6.70it/s]"
          ]
        },
        {
          "output_type": "stream",
          "name": "stdout",
          "text": [
            "                   all        104        568      0.542      0.515      0.458      0.315\n"
          ]
        },
        {
          "output_type": "stream",
          "name": "stderr",
          "text": [
            "\n"
          ]
        },
        {
          "output_type": "stream",
          "name": "stdout",
          "text": [
            "\n",
            "      Epoch    GPU_mem   box_loss   cls_loss   dfl_loss  Instances       Size\n"
          ]
        },
        {
          "output_type": "stream",
          "name": "stderr",
          "text": [
            "      12/20      2.61G      0.887      1.441      1.465         89        640: 100%|██████████| 26/26 [00:03<00:00,  8.49it/s]\n",
            "                 Class     Images  Instances      Box(P          R      mAP50  mAP50-95): 100%|██████████| 4/4 [00:00<00:00,  7.04it/s]"
          ]
        },
        {
          "output_type": "stream",
          "name": "stdout",
          "text": [
            "                   all        104        568      0.586      0.481      0.511      0.362\n"
          ]
        },
        {
          "output_type": "stream",
          "name": "stderr",
          "text": [
            "\n"
          ]
        },
        {
          "output_type": "stream",
          "name": "stdout",
          "text": [
            "\n",
            "      Epoch    GPU_mem   box_loss   cls_loss   dfl_loss  Instances       Size\n"
          ]
        },
        {
          "output_type": "stream",
          "name": "stderr",
          "text": [
            "      13/20      2.63G     0.8588      1.367      1.444         72        640: 100%|██████████| 26/26 [00:03<00:00,  8.46it/s]\n",
            "                 Class     Images  Instances      Box(P          R      mAP50  mAP50-95): 100%|██████████| 4/4 [00:00<00:00,  6.79it/s]"
          ]
        },
        {
          "output_type": "stream",
          "name": "stdout",
          "text": [
            "                   all        104        568      0.654      0.471       0.51      0.348\n"
          ]
        },
        {
          "output_type": "stream",
          "name": "stderr",
          "text": [
            "\n"
          ]
        },
        {
          "output_type": "stream",
          "name": "stdout",
          "text": [
            "\n",
            "      Epoch    GPU_mem   box_loss   cls_loss   dfl_loss  Instances       Size\n"
          ]
        },
        {
          "output_type": "stream",
          "name": "stderr",
          "text": [
            "      14/20      2.63G     0.8259      1.333      1.407         78        640: 100%|██████████| 26/26 [00:03<00:00,  7.94it/s]\n",
            "                 Class     Images  Instances      Box(P          R      mAP50  mAP50-95): 100%|██████████| 4/4 [00:00<00:00,  6.78it/s]"
          ]
        },
        {
          "output_type": "stream",
          "name": "stdout",
          "text": [
            "                   all        104        568      0.624      0.494      0.542      0.372\n"
          ]
        },
        {
          "output_type": "stream",
          "name": "stderr",
          "text": [
            "\n"
          ]
        },
        {
          "output_type": "stream",
          "name": "stdout",
          "text": [
            "\n",
            "      Epoch    GPU_mem   box_loss   cls_loss   dfl_loss  Instances       Size\n"
          ]
        },
        {
          "output_type": "stream",
          "name": "stderr",
          "text": [
            "      15/20      2.63G     0.8041      1.258      1.378         69        640: 100%|██████████| 26/26 [00:03<00:00,  8.48it/s]\n",
            "                 Class     Images  Instances      Box(P          R      mAP50  mAP50-95): 100%|██████████| 4/4 [00:00<00:00,  7.82it/s]"
          ]
        },
        {
          "output_type": "stream",
          "name": "stdout",
          "text": [
            "                   all        104        568      0.717      0.487      0.547      0.365\n"
          ]
        },
        {
          "output_type": "stream",
          "name": "stderr",
          "text": [
            "\n"
          ]
        },
        {
          "output_type": "stream",
          "name": "stdout",
          "text": [
            "\n",
            "      Epoch    GPU_mem   box_loss   cls_loss   dfl_loss  Instances       Size\n"
          ]
        },
        {
          "output_type": "stream",
          "name": "stderr",
          "text": [
            "      16/20      2.63G     0.7761      1.226      1.353         80        640: 100%|██████████| 26/26 [00:03<00:00,  8.52it/s]\n",
            "                 Class     Images  Instances      Box(P          R      mAP50  mAP50-95): 100%|██████████| 4/4 [00:00<00:00,  7.85it/s]"
          ]
        },
        {
          "output_type": "stream",
          "name": "stdout",
          "text": [
            "                   all        104        568      0.624      0.512      0.548       0.39\n"
          ]
        },
        {
          "output_type": "stream",
          "name": "stderr",
          "text": [
            "\n"
          ]
        },
        {
          "output_type": "stream",
          "name": "stdout",
          "text": [
            "\n",
            "      Epoch    GPU_mem   box_loss   cls_loss   dfl_loss  Instances       Size\n"
          ]
        },
        {
          "output_type": "stream",
          "name": "stderr",
          "text": [
            "      17/20      2.63G     0.7131      1.146      1.284         68        640: 100%|██████████| 26/26 [00:02<00:00,  8.76it/s]\n",
            "                 Class     Images  Instances      Box(P          R      mAP50  mAP50-95): 100%|██████████| 4/4 [00:00<00:00,  6.77it/s]"
          ]
        },
        {
          "output_type": "stream",
          "name": "stdout",
          "text": [
            "                   all        104        568      0.665      0.501      0.557      0.396\n"
          ]
        },
        {
          "output_type": "stream",
          "name": "stderr",
          "text": [
            "\n"
          ]
        },
        {
          "output_type": "stream",
          "name": "stdout",
          "text": [
            "\n",
            "      Epoch    GPU_mem   box_loss   cls_loss   dfl_loss  Instances       Size\n"
          ]
        },
        {
          "output_type": "stream",
          "name": "stderr",
          "text": [
            "      18/20      2.63G     0.7113       1.11      1.312         87        640: 100%|██████████| 26/26 [00:03<00:00,  8.19it/s]\n",
            "                 Class     Images  Instances      Box(P          R      mAP50  mAP50-95): 100%|██████████| 4/4 [00:00<00:00,  6.88it/s]"
          ]
        },
        {
          "output_type": "stream",
          "name": "stdout",
          "text": [
            "                   all        104        568      0.623      0.497      0.545      0.389\n"
          ]
        },
        {
          "output_type": "stream",
          "name": "stderr",
          "text": [
            "\n"
          ]
        },
        {
          "output_type": "stream",
          "name": "stdout",
          "text": [
            "\n",
            "      Epoch    GPU_mem   box_loss   cls_loss   dfl_loss  Instances       Size\n"
          ]
        },
        {
          "output_type": "stream",
          "name": "stderr",
          "text": [
            "      19/20      2.63G     0.6777      1.105      1.288         87        640: 100%|██████████| 26/26 [00:03<00:00,  8.59it/s]\n",
            "                 Class     Images  Instances      Box(P          R      mAP50  mAP50-95): 100%|██████████| 4/4 [00:00<00:00,  7.05it/s]"
          ]
        },
        {
          "output_type": "stream",
          "name": "stdout",
          "text": [
            "                   all        104        568      0.695      0.486      0.543      0.408\n"
          ]
        },
        {
          "output_type": "stream",
          "name": "stderr",
          "text": [
            "\n"
          ]
        },
        {
          "output_type": "stream",
          "name": "stdout",
          "text": [
            "\n",
            "      Epoch    GPU_mem   box_loss   cls_loss   dfl_loss  Instances       Size\n"
          ]
        },
        {
          "output_type": "stream",
          "name": "stderr",
          "text": [
            "      20/20      2.63G     0.6842      1.066      1.285         69        640: 100%|██████████| 26/26 [00:03<00:00,  8.48it/s]\n",
            "                 Class     Images  Instances      Box(P          R      mAP50  mAP50-95): 100%|██████████| 4/4 [00:00<00:00,  7.38it/s]"
          ]
        },
        {
          "output_type": "stream",
          "name": "stdout",
          "text": [
            "                   all        104        568      0.649      0.508      0.544      0.401\n"
          ]
        },
        {
          "output_type": "stream",
          "name": "stderr",
          "text": [
            "\n"
          ]
        },
        {
          "output_type": "stream",
          "name": "stdout",
          "text": [
            "\n",
            "20 epochs completed in 0.028 hours.\n",
            "Optimizer stripped from runs/detect/train/weights/last.pt, 5.5MB\n",
            "Optimizer stripped from runs/detect/train/weights/best.pt, 5.5MB\n",
            "\n",
            "Validating runs/detect/train/weights/best.pt...\n",
            "Ultralytics 8.3.31 🚀 Python-3.10.12 torch-2.5.0+cu121 CUDA:0 (NVIDIA A100-SXM4-40GB, 40514MiB)\n",
            "YOLO11n summary (fused): 238 layers, 2,582,542 parameters, 0 gradients, 6.3 GFLOPs\n"
          ]
        },
        {
          "output_type": "stream",
          "name": "stderr",
          "text": [
            "                 Class     Images  Instances      Box(P          R      mAP50  mAP50-95): 100%|██████████| 4/4 [00:01<00:00,  3.03it/s]\n"
          ]
        },
        {
          "output_type": "stream",
          "name": "stdout",
          "text": [
            "                   all        104        568      0.694      0.485      0.543      0.408\n",
            "               pallets        102        425      0.578      0.376      0.445      0.305\n",
            "                ground         89        143      0.809      0.594      0.641      0.512\n",
            "Speed: 0.2ms preprocess, 0.7ms inference, 0.0ms loss, 7.1ms postprocess per image\n",
            "Results saved to \u001b[1mruns/detect/train\u001b[0m\n"
          ]
        }
      ]
    },
    {
      "cell_type": "code",
      "source": [
        "print(results)"
      ],
      "metadata": {
        "colab": {
          "base_uri": "https://localhost:8080/"
        },
        "collapsed": true,
        "id": "-V4pkiR-X1Xq",
        "outputId": "b466c521-8f06-44b7-e0f7-38113c27b7f6"
      },
      "execution_count": null,
      "outputs": [
        {
          "output_type": "stream",
          "name": "stdout",
          "text": [
            "ultralytics.utils.metrics.DetMetrics object with attributes:\n",
            "\n",
            "ap_class_index: array([0])\n",
            "box: ultralytics.utils.metrics.Metric object\n",
            "confusion_matrix: <ultralytics.utils.metrics.ConfusionMatrix object at 0x7dbc76fb7820>\n",
            "curves: ['Precision-Recall(B)', 'F1-Confidence(B)', 'Precision-Confidence(B)', 'Recall-Confidence(B)']\n",
            "curves_results: [[array([          0,    0.001001,    0.002002,    0.003003,    0.004004,    0.005005,    0.006006,    0.007007,    0.008008,    0.009009,     0.01001,    0.011011,    0.012012,    0.013013,    0.014014,    0.015015,    0.016016,    0.017017,    0.018018,    0.019019,     0.02002,    0.021021,    0.022022,    0.023023,\n",
            "          0.024024,    0.025025,    0.026026,    0.027027,    0.028028,    0.029029,     0.03003,    0.031031,    0.032032,    0.033033,    0.034034,    0.035035,    0.036036,    0.037037,    0.038038,    0.039039,     0.04004,    0.041041,    0.042042,    0.043043,    0.044044,    0.045045,    0.046046,    0.047047,\n",
            "          0.048048,    0.049049,     0.05005,    0.051051,    0.052052,    0.053053,    0.054054,    0.055055,    0.056056,    0.057057,    0.058058,    0.059059,     0.06006,    0.061061,    0.062062,    0.063063,    0.064064,    0.065065,    0.066066,    0.067067,    0.068068,    0.069069,     0.07007,    0.071071,\n",
            "          0.072072,    0.073073,    0.074074,    0.075075,    0.076076,    0.077077,    0.078078,    0.079079,     0.08008,    0.081081,    0.082082,    0.083083,    0.084084,    0.085085,    0.086086,    0.087087,    0.088088,    0.089089,     0.09009,    0.091091,    0.092092,    0.093093,    0.094094,    0.095095,\n",
            "          0.096096,    0.097097,    0.098098,    0.099099,      0.1001,      0.1011,      0.1021,      0.1031,      0.1041,     0.10511,     0.10611,     0.10711,     0.10811,     0.10911,     0.11011,     0.11111,     0.11211,     0.11311,     0.11411,     0.11512,     0.11612,     0.11712,     0.11812,     0.11912,\n",
            "           0.12012,     0.12112,     0.12212,     0.12312,     0.12412,     0.12513,     0.12613,     0.12713,     0.12813,     0.12913,     0.13013,     0.13113,     0.13213,     0.13313,     0.13413,     0.13514,     0.13614,     0.13714,     0.13814,     0.13914,     0.14014,     0.14114,     0.14214,     0.14314,\n",
            "           0.14414,     0.14515,     0.14615,     0.14715,     0.14815,     0.14915,     0.15015,     0.15115,     0.15215,     0.15315,     0.15415,     0.15516,     0.15616,     0.15716,     0.15816,     0.15916,     0.16016,     0.16116,     0.16216,     0.16316,     0.16416,     0.16517,     0.16617,     0.16717,\n",
            "           0.16817,     0.16917,     0.17017,     0.17117,     0.17217,     0.17317,     0.17417,     0.17518,     0.17618,     0.17718,     0.17818,     0.17918,     0.18018,     0.18118,     0.18218,     0.18318,     0.18418,     0.18519,     0.18619,     0.18719,     0.18819,     0.18919,     0.19019,     0.19119,\n",
            "           0.19219,     0.19319,     0.19419,      0.1952,      0.1962,      0.1972,      0.1982,      0.1992,      0.2002,      0.2012,      0.2022,      0.2032,      0.2042,     0.20521,     0.20621,     0.20721,     0.20821,     0.20921,     0.21021,     0.21121,     0.21221,     0.21321,     0.21421,     0.21522,\n",
            "           0.21622,     0.21722,     0.21822,     0.21922,     0.22022,     0.22122,     0.22222,     0.22322,     0.22422,     0.22523,     0.22623,     0.22723,     0.22823,     0.22923,     0.23023,     0.23123,     0.23223,     0.23323,     0.23423,     0.23524,     0.23624,     0.23724,     0.23824,     0.23924,\n",
            "           0.24024,     0.24124,     0.24224,     0.24324,     0.24424,     0.24525,     0.24625,     0.24725,     0.24825,     0.24925,     0.25025,     0.25125,     0.25225,     0.25325,     0.25425,     0.25526,     0.25626,     0.25726,     0.25826,     0.25926,     0.26026,     0.26126,     0.26226,     0.26326,\n",
            "           0.26426,     0.26527,     0.26627,     0.26727,     0.26827,     0.26927,     0.27027,     0.27127,     0.27227,     0.27327,     0.27427,     0.27528,     0.27628,     0.27728,     0.27828,     0.27928,     0.28028,     0.28128,     0.28228,     0.28328,     0.28428,     0.28529,     0.28629,     0.28729,\n",
            "           0.28829,     0.28929,     0.29029,     0.29129,     0.29229,     0.29329,     0.29429,      0.2953,      0.2963,      0.2973,      0.2983,      0.2993,      0.3003,      0.3013,      0.3023,      0.3033,      0.3043,     0.30531,     0.30631,     0.30731,     0.30831,     0.30931,     0.31031,     0.31131,\n",
            "           0.31231,     0.31331,     0.31431,     0.31532,     0.31632,     0.31732,     0.31832,     0.31932,     0.32032,     0.32132,     0.32232,     0.32332,     0.32432,     0.32533,     0.32633,     0.32733,     0.32833,     0.32933,     0.33033,     0.33133,     0.33233,     0.33333,     0.33433,     0.33534,\n",
            "           0.33634,     0.33734,     0.33834,     0.33934,     0.34034,     0.34134,     0.34234,     0.34334,     0.34434,     0.34535,     0.34635,     0.34735,     0.34835,     0.34935,     0.35035,     0.35135,     0.35235,     0.35335,     0.35435,     0.35536,     0.35636,     0.35736,     0.35836,     0.35936,\n",
            "           0.36036,     0.36136,     0.36236,     0.36336,     0.36436,     0.36537,     0.36637,     0.36737,     0.36837,     0.36937,     0.37037,     0.37137,     0.37237,     0.37337,     0.37437,     0.37538,     0.37638,     0.37738,     0.37838,     0.37938,     0.38038,     0.38138,     0.38238,     0.38338,\n",
            "           0.38438,     0.38539,     0.38639,     0.38739,     0.38839,     0.38939,     0.39039,     0.39139,     0.39239,     0.39339,     0.39439,      0.3954,      0.3964,      0.3974,      0.3984,      0.3994,      0.4004,      0.4014,      0.4024,      0.4034,      0.4044,     0.40541,     0.40641,     0.40741,\n",
            "           0.40841,     0.40941,     0.41041,     0.41141,     0.41241,     0.41341,     0.41441,     0.41542,     0.41642,     0.41742,     0.41842,     0.41942,     0.42042,     0.42142,     0.42242,     0.42342,     0.42442,     0.42543,     0.42643,     0.42743,     0.42843,     0.42943,     0.43043,     0.43143,\n",
            "           0.43243,     0.43343,     0.43443,     0.43544,     0.43644,     0.43744,     0.43844,     0.43944,     0.44044,     0.44144,     0.44244,     0.44344,     0.44444,     0.44545,     0.44645,     0.44745,     0.44845,     0.44945,     0.45045,     0.45145,     0.45245,     0.45345,     0.45445,     0.45546,\n",
            "           0.45646,     0.45746,     0.45846,     0.45946,     0.46046,     0.46146,     0.46246,     0.46346,     0.46446,     0.46547,     0.46647,     0.46747,     0.46847,     0.46947,     0.47047,     0.47147,     0.47247,     0.47347,     0.47447,     0.47548,     0.47648,     0.47748,     0.47848,     0.47948,\n",
            "           0.48048,     0.48148,     0.48248,     0.48348,     0.48448,     0.48549,     0.48649,     0.48749,     0.48849,     0.48949,     0.49049,     0.49149,     0.49249,     0.49349,     0.49449,      0.4955,      0.4965,      0.4975,      0.4985,      0.4995,      0.5005,      0.5015,      0.5025,      0.5035,\n",
            "            0.5045,     0.50551,     0.50651,     0.50751,     0.50851,     0.50951,     0.51051,     0.51151,     0.51251,     0.51351,     0.51451,     0.51552,     0.51652,     0.51752,     0.51852,     0.51952,     0.52052,     0.52152,     0.52252,     0.52352,     0.52452,     0.52553,     0.52653,     0.52753,\n",
            "           0.52853,     0.52953,     0.53053,     0.53153,     0.53253,     0.53353,     0.53453,     0.53554,     0.53654,     0.53754,     0.53854,     0.53954,     0.54054,     0.54154,     0.54254,     0.54354,     0.54454,     0.54555,     0.54655,     0.54755,     0.54855,     0.54955,     0.55055,     0.55155,\n",
            "           0.55255,     0.55355,     0.55455,     0.55556,     0.55656,     0.55756,     0.55856,     0.55956,     0.56056,     0.56156,     0.56256,     0.56356,     0.56456,     0.56557,     0.56657,     0.56757,     0.56857,     0.56957,     0.57057,     0.57157,     0.57257,     0.57357,     0.57457,     0.57558,\n",
            "           0.57658,     0.57758,     0.57858,     0.57958,     0.58058,     0.58158,     0.58258,     0.58358,     0.58458,     0.58559,     0.58659,     0.58759,     0.58859,     0.58959,     0.59059,     0.59159,     0.59259,     0.59359,     0.59459,      0.5956,      0.5966,      0.5976,      0.5986,      0.5996,\n",
            "            0.6006,      0.6016,      0.6026,      0.6036,      0.6046,     0.60561,     0.60661,     0.60761,     0.60861,     0.60961,     0.61061,     0.61161,     0.61261,     0.61361,     0.61461,     0.61562,     0.61662,     0.61762,     0.61862,     0.61962,     0.62062,     0.62162,     0.62262,     0.62362,\n",
            "           0.62462,     0.62563,     0.62663,     0.62763,     0.62863,     0.62963,     0.63063,     0.63163,     0.63263,     0.63363,     0.63463,     0.63564,     0.63664,     0.63764,     0.63864,     0.63964,     0.64064,     0.64164,     0.64264,     0.64364,     0.64464,     0.64565,     0.64665,     0.64765,\n",
            "           0.64865,     0.64965,     0.65065,     0.65165,     0.65265,     0.65365,     0.65465,     0.65566,     0.65666,     0.65766,     0.65866,     0.65966,     0.66066,     0.66166,     0.66266,     0.66366,     0.66466,     0.66567,     0.66667,     0.66767,     0.66867,     0.66967,     0.67067,     0.67167,\n",
            "           0.67267,     0.67367,     0.67467,     0.67568,     0.67668,     0.67768,     0.67868,     0.67968,     0.68068,     0.68168,     0.68268,     0.68368,     0.68468,     0.68569,     0.68669,     0.68769,     0.68869,     0.68969,     0.69069,     0.69169,     0.69269,     0.69369,     0.69469,      0.6957,\n",
            "            0.6967,      0.6977,      0.6987,      0.6997,      0.7007,      0.7017,      0.7027,      0.7037,      0.7047,     0.70571,     0.70671,     0.70771,     0.70871,     0.70971,     0.71071,     0.71171,     0.71271,     0.71371,     0.71471,     0.71572,     0.71672,     0.71772,     0.71872,     0.71972,\n",
            "           0.72072,     0.72172,     0.72272,     0.72372,     0.72472,     0.72573,     0.72673,     0.72773,     0.72873,     0.72973,     0.73073,     0.73173,     0.73273,     0.73373,     0.73473,     0.73574,     0.73674,     0.73774,     0.73874,     0.73974,     0.74074,     0.74174,     0.74274,     0.74374,\n",
            "           0.74474,     0.74575,     0.74675,     0.74775,     0.74875,     0.74975,     0.75075,     0.75175,     0.75275,     0.75375,     0.75475,     0.75576,     0.75676,     0.75776,     0.75876,     0.75976,     0.76076,     0.76176,     0.76276,     0.76376,     0.76476,     0.76577,     0.76677,     0.76777,\n",
            "           0.76877,     0.76977,     0.77077,     0.77177,     0.77277,     0.77377,     0.77477,     0.77578,     0.77678,     0.77778,     0.77878,     0.77978,     0.78078,     0.78178,     0.78278,     0.78378,     0.78478,     0.78579,     0.78679,     0.78779,     0.78879,     0.78979,     0.79079,     0.79179,\n",
            "           0.79279,     0.79379,     0.79479,      0.7958,      0.7968,      0.7978,      0.7988,      0.7998,      0.8008,      0.8018,      0.8028,      0.8038,      0.8048,     0.80581,     0.80681,     0.80781,     0.80881,     0.80981,     0.81081,     0.81181,     0.81281,     0.81381,     0.81481,     0.81582,\n",
            "           0.81682,     0.81782,     0.81882,     0.81982,     0.82082,     0.82182,     0.82282,     0.82382,     0.82482,     0.82583,     0.82683,     0.82783,     0.82883,     0.82983,     0.83083,     0.83183,     0.83283,     0.83383,     0.83483,     0.83584,     0.83684,     0.83784,     0.83884,     0.83984,\n",
            "           0.84084,     0.84184,     0.84284,     0.84384,     0.84484,     0.84585,     0.84685,     0.84785,     0.84885,     0.84985,     0.85085,     0.85185,     0.85285,     0.85385,     0.85485,     0.85586,     0.85686,     0.85786,     0.85886,     0.85986,     0.86086,     0.86186,     0.86286,     0.86386,\n",
            "           0.86486,     0.86587,     0.86687,     0.86787,     0.86887,     0.86987,     0.87087,     0.87187,     0.87287,     0.87387,     0.87487,     0.87588,     0.87688,     0.87788,     0.87888,     0.87988,     0.88088,     0.88188,     0.88288,     0.88388,     0.88488,     0.88589,     0.88689,     0.88789,\n",
            "           0.88889,     0.88989,     0.89089,     0.89189,     0.89289,     0.89389,     0.89489,      0.8959,      0.8969,      0.8979,      0.8989,      0.8999,      0.9009,      0.9019,      0.9029,      0.9039,      0.9049,     0.90591,     0.90691,     0.90791,     0.90891,     0.90991,     0.91091,     0.91191,\n",
            "           0.91291,     0.91391,     0.91491,     0.91592,     0.91692,     0.91792,     0.91892,     0.91992,     0.92092,     0.92192,     0.92292,     0.92392,     0.92492,     0.92593,     0.92693,     0.92793,     0.92893,     0.92993,     0.93093,     0.93193,     0.93293,     0.93393,     0.93493,     0.93594,\n",
            "           0.93694,     0.93794,     0.93894,     0.93994,     0.94094,     0.94194,     0.94294,     0.94394,     0.94494,     0.94595,     0.94695,     0.94795,     0.94895,     0.94995,     0.95095,     0.95195,     0.95295,     0.95395,     0.95495,     0.95596,     0.95696,     0.95796,     0.95896,     0.95996,\n",
            "           0.96096,     0.96196,     0.96296,     0.96396,     0.96496,     0.96597,     0.96697,     0.96797,     0.96897,     0.96997,     0.97097,     0.97197,     0.97297,     0.97397,     0.97497,     0.97598,     0.97698,     0.97798,     0.97898,     0.97998,     0.98098,     0.98198,     0.98298,     0.98398,\n",
            "           0.98498,     0.98599,     0.98699,     0.98799,     0.98899,     0.98999,     0.99099,     0.99199,     0.99299,     0.99399,     0.99499,       0.996,       0.997,       0.998,       0.999,           1]), array([[          1,           1,           1,           1,           1,           1,           1,           1,           1,           1,           1,           1,           1,           1,           1,           1,           1,           1,           1,           1,           1,           1,           1,\n",
            "                  1,           1,           1,           1,           1,           1,           1,           1,           1,           1,           1,           1,           1,           1,           1,           1,           1,           1,           1,           1,           1,           1,           1,\n",
            "                  1,           1,           1,           1,           1,           1,           1,           1,           1,           1,           1,           1,           1,           1,           1,           1,           1,           1,           1,           1,           1,           1,           1,\n",
            "                  1,           1,           1,           1,           1,           1,           1,           1,           1,           1,           1,           1,           1,           1,           1,           1,           1,           1,           1,           1,           1,           1,           1,\n",
            "                  1,           1,           1,           1,           1,           1,           1,           1,           1,           1,           1,           1,           1,           1,           1,           1,           1,           1,           1,           1,           1,           1,           1,\n",
            "                  1,           1,           1,           1,           1,           1,           1,           1,           1,           1,           1,           1,           1,           1,           1,           1,           1,           1,           1,           1,           1,           1,           1,\n",
            "                  1,           1,           1,           1,           1,           1,           1,           1,     0.99231,     0.99231,     0.99231,     0.99231,     0.99231,     0.99231,     0.99231,     0.99231,     0.99231,     0.99231,     0.99231,     0.99231,     0.99231,     0.99231,     0.99231,\n",
            "            0.99231,     0.99231,     0.99231,     0.99231,     0.99231,     0.99231,     0.99231,     0.99231,     0.99231,     0.98611,     0.98611,     0.98611,     0.98611,     0.98611,     0.98611,     0.98611,     0.98611,     0.98611,     0.98611,     0.98611,     0.98611,     0.98611,     0.98611,\n",
            "            0.98611,     0.98611,     0.98611,     0.98182,     0.98182,     0.98182,     0.98182,     0.98182,     0.98182,     0.98182,     0.98182,     0.98182,     0.98182,     0.98182,     0.98182,     0.98182,     0.98182,     0.98182,     0.98182,     0.98182,     0.98182,     0.98182,     0.98182,\n",
            "            0.98182,     0.98182,     0.98182,     0.98182,     0.98182,     0.98182,     0.97605,     0.97605,      0.9734,      0.9734,      0.9734,      0.9734,      0.9734,      0.9734,      0.9734,      0.9734,      0.9734,      0.9734,      0.9734,      0.9734,      0.9734,      0.9734,      0.9734,\n",
            "             0.9734,      0.9734,      0.9734,      0.9734,      0.9734,      0.9734,      0.9734,      0.9734,      0.9734,      0.9734,      0.9734,     0.97073,     0.97073,     0.97073,     0.97073,     0.97073,     0.97073,     0.97073,     0.97073,     0.97073,     0.97073,     0.97073,     0.97073,\n",
            "            0.97073,     0.97073,     0.97073,     0.97073,     0.97073,     0.97073,     0.97073,     0.97073,     0.97073,     0.96682,     0.96682,     0.96682,     0.96682,     0.96682,     0.96682,     0.96682,     0.96262,     0.96262,      0.9589,      0.9589,      0.9589,      0.9589,      0.9589,\n",
            "             0.9589,     0.95575,     0.95575,     0.95575,     0.95575,     0.95575,     0.95575,     0.95575,     0.94828,     0.94828,     0.94828,     0.94828,     0.94828,     0.94828,     0.94444,     0.93697,     0.93697,     0.93697,     0.93361,     0.93361,     0.93004,     0.93004,     0.91903,\n",
            "            0.91667,     0.91667,     0.91667,     0.91667,     0.91667,     0.91538,     0.91538,     0.91538,     0.91538,     0.91538,     0.91538,     0.91538,     0.91538,     0.91538,     0.91321,     0.91321,     0.91321,     0.91321,     0.91321,     0.91321,     0.90441,     0.90441,     0.90441,\n",
            "            0.90441,     0.90441,     0.89286,     0.89286,     0.89286,     0.89286,     0.89286,     0.89046,     0.89046,     0.89046,     0.88772,     0.88542,     0.88542,     0.88542,     0.87973,     0.87713,     0.87708,     0.87708,     0.87708,     0.87708,     0.87708,     0.87708,     0.87708,\n",
            "            0.87708,     0.87708,     0.87708,     0.87541,     0.87541,     0.87541,     0.87055,     0.87055,     0.87055,     0.86817,     0.86581,     0.86581,     0.85093,     0.85093,     0.85093,     0.85093,     0.84615,     0.83384,     0.81711,     0.81711,     0.81525,     0.80747,     0.80747,\n",
            "            0.80747,     0.80747,     0.78992,      0.7883,     0.78356,     0.78356,     0.78356,     0.78356,     0.77628,     0.77628,     0.77628,       0.776,       0.776,       0.776,       0.776,     0.76903,     0.76903,     0.76903,     0.76823,     0.76823,     0.76546,     0.76546,     0.76546,\n",
            "             0.7641,     0.76081,     0.76081,      0.7601,      0.7601,     0.75689,     0.75561,     0.75561,     0.75434,     0.75369,     0.75369,     0.75369,     0.75245,     0.75061,     0.75061,     0.75061,     0.75061,        0.75,        0.75,        0.75,      0.7494,      0.7494,     0.74822,\n",
            "            0.74822,     0.74704,     0.74588,     0.74359,     0.74359,     0.74359,     0.73793,     0.73793,     0.73516,     0.73516,     0.72584,     0.71116,     0.71116,     0.71116,     0.70716,     0.70236,     0.70236,     0.70236,     0.70213,     0.70213,     0.70042,     0.70042,     0.70042,\n",
            "            0.69729,     0.69729,     0.69729,      0.6893,     0.68357,     0.68357,     0.68145,     0.68145,       0.678,     0.67194,     0.67126,     0.67126,     0.67059,     0.66473,     0.66281,     0.66281,     0.65094,     0.65065,     0.65065,     0.65065,     0.65065,     0.65065,     0.65065,\n",
            "            0.65065,     0.65065,     0.65065,     0.65009,     0.65009,     0.64014,      0.6362,     0.63345,     0.62195,     0.62195,     0.62045,     0.61538,     0.61538,     0.61538,      0.6098,     0.60637,     0.60199,     0.60199,     0.59967,     0.59512,     0.59512,     0.59512,     0.59289,\n",
            "            0.59259,     0.58202,     0.58202,     0.57903,     0.57878,     0.57252,     0.57252,     0.57252,     0.57252,     0.57252,     0.56036,     0.56036,     0.55935,     0.55588,     0.55572,     0.55572,     0.55072,     0.54741,     0.54455,     0.54455,     0.54455,     0.54455,     0.54455,\n",
            "            0.54455,     0.53591,     0.53591,     0.53591,     0.53591,     0.53508,     0.53488,     0.53488,     0.53261,     0.53261,     0.52894,     0.52807,     0.52807,     0.52807,      0.5266,     0.52653,     0.52431,     0.52431,     0.52431,     0.52425,      0.5235,      0.5235,     0.52276,\n",
            "            0.51469,     0.51334,     0.51334,     0.50622,     0.50622,     0.50622,     0.50616,     0.50616,     0.50616,     0.50616,     0.50616,     0.50616,     0.49579,     0.49402,     0.49057,     0.49057,     0.49057,     0.49057,     0.48886,     0.48886,     0.48832,     0.48495,     0.48055,\n",
            "            0.48055,     0.46941,     0.46941,     0.46432,     0.46432,     0.45937,     0.45905,     0.45905,     0.44958,     0.44958,     0.44958,     0.44828,     0.44103,     0.44103,     0.43935,     0.43902,      0.4387,      0.4387,     0.43313,     0.43241,     0.43238,     0.43238,     0.43238,\n",
            "            0.43238,     0.43124,     0.43124,     0.42982,     0.42982,     0.42788,      0.4215,      0.4215,     0.42045,     0.41981,     0.41026,     0.41026,     0.41026,     0.41026,     0.40741,     0.40741,     0.40741,     0.40741,     0.40231,     0.40231,     0.40231,     0.39703,     0.39703,\n",
            "            0.39703,     0.39108,      0.3896,     0.38846,     0.38846,       0.388,     0.37923,     0.37653,     0.37653,     0.37653,     0.37419,     0.37419,     0.37409,     0.37409,      0.3728,     0.37272,     0.37272,     0.37272,     0.37272,     0.37272,     0.36441,     0.36441,     0.36441,\n",
            "            0.36441,     0.36039,     0.36039,     0.36039,     0.35763,     0.35465,     0.35465,     0.35199,     0.34386,     0.34237,     0.33873,     0.33873,     0.33872,     0.33014,     0.32769,     0.32769,     0.32572,     0.32185,     0.32124,     0.32124,     0.32105,     0.32066,     0.32047,\n",
            "            0.32047,     0.31842,     0.31398,     0.31321,     0.31321,     0.31171,     0.31171,     0.31136,     0.30472,     0.30472,     0.30414,     0.30414,     0.30414,     0.30414,     0.30036,     0.29988,     0.29746,     0.29746,     0.29717,     0.29666,     0.29666,     0.29666,     0.29666,\n",
            "             0.2933,     0.28579,     0.28579,     0.28357,     0.28357,     0.28225,     0.28225,     0.28171,     0.28089,     0.28089,     0.28089,     0.28089,     0.28083,      0.2797,     0.27933,     0.27933,     0.27616,      0.2732,     0.27202,     0.27202,     0.27141,     0.26844,     0.26185,\n",
            "            0.26185,      0.2595,     0.25884,     0.25857,     0.25857,      0.2568,     0.25678,     0.25358,     0.25333,     0.25333,     0.25285,     0.25177,     0.24519,     0.24519,     0.24431,     0.24431,      0.2441,      0.2441,     0.23153,     0.22872,     0.22722,     0.22722,     0.22706,\n",
            "            0.22254,     0.22114,     0.22114,     0.22114,     0.22114,     0.22056,     0.22056,     0.21337,     0.21337,       0.208,       0.208,       0.208,     0.20597,     0.20573,      0.2045,      0.2045,     0.20397,     0.20181,     0.20145,     0.20145,     0.20086,     0.19936,     0.19858,\n",
            "            0.19858,     0.19858,     0.19845,     0.19447,     0.19447,     0.19408,      0.1931,     0.19298,     0.19149,     0.19149,     0.19125,     0.18432,     0.18246,     0.18246,     0.18225,     0.18141,     0.17837,     0.17837,     0.17837,      0.1772,      0.1737,      0.1737,     0.17291,\n",
            "             0.1705,     0.16929,     0.16929,     0.16929,     0.16929,     0.16695,     0.16695,      0.1624,     0.15982,     0.15777,     0.15635,     0.15635,     0.15632,     0.15543,     0.15488,     0.15488,      0.1521,     0.15205,     0.15114,     0.15114,     0.15013,      0.1478,     0.14372,\n",
            "            0.14372,     0.14299,       0.141,     0.13779,     0.13779,     0.13626,     0.13593,      0.1337,     0.12828,     0.12828,     0.12615,     0.12615,     0.12337,     0.12337,     0.11308,     0.11042,     0.10931,     0.10931,       0.109,      0.1081,     0.10716,     0.10716,     0.10716,\n",
            "            0.10558,     0.10432,     0.10432,     0.10429,     0.10341,     0.10155,     0.10155,     0.10154,     0.10154,    0.099711,    0.097661,    0.097661,    0.097661,    0.093839,    0.093483,    0.093483,     0.08557,    0.085008,    0.084127,    0.084127,    0.083946,    0.083499,    0.080071,\n",
            "           0.080071,    0.067689,    0.067601,    0.062587,    0.062587,    0.060903,    0.057461,    0.056159,    0.056159,    0.055075,    0.054127,    0.047704,    0.043226,    0.043226,    0.042252,     0.03408,    0.033161,    0.033161,       0.033,    0.032005,    0.031863,    0.031863,    0.030833,\n",
            "           0.030768,    0.030732,    0.030732,    0.030464,    0.030413,    0.030275,    0.030275,    0.030183,    0.030148,    0.030132,    0.029866,    0.029866,    0.029782,    0.029226,    0.029155,    0.029155,    0.028446,    0.028328,    0.027781,    0.027781,    0.027721,    0.026819,    0.026682,\n",
            "           0.026682,    0.026522,    0.026304,    0.025834,    0.025834,     0.02579,     0.02579,    0.025787,    0.025787,    0.025765,    0.025748,    0.024416,    0.024275,    0.024275,    0.023973,    0.023563,    0.023563,    0.023563,    0.023335,    0.023185,    0.021961,    0.021961,     0.02165,\n",
            "           0.021439,    0.021229,    0.021019,    0.020809,    0.020599,    0.020388,    0.020178,    0.019968,    0.019758,    0.019548,    0.019338,    0.019127,    0.018917,    0.018707,    0.018497,    0.018287,    0.018076,    0.017866,    0.017656,    0.017446,    0.017236,    0.017025,    0.016815,\n",
            "           0.016605,    0.016395,    0.016185,    0.015974,    0.015764,    0.015554,    0.015344,    0.015134,    0.014924,    0.014713,    0.014503,    0.014293,    0.014083,    0.013873,    0.013662,    0.013452,    0.013242,    0.013032,    0.012822,    0.012611,    0.012401,    0.012191,    0.011981,\n",
            "           0.011771,     0.01156,     0.01135,     0.01114,     0.01093,     0.01072,     0.01051,    0.010299,    0.010089,    0.009879,   0.0096688,   0.0094586,   0.0092484,   0.0090382,    0.008828,   0.0086178,   0.0084076,   0.0081974,   0.0079872,   0.0077771,   0.0075669,   0.0073567,   0.0071465,\n",
            "          0.0069363,   0.0067261,   0.0065159,   0.0063057,   0.0060955,   0.0058853,   0.0056751,    0.005465,   0.0052548,   0.0050446,   0.0048344,   0.0046242,    0.004414,   0.0042038,   0.0039936,   0.0037834,   0.0035732,   0.0033631,   0.0031529,   0.0029427,   0.0027325,   0.0025223,   0.0023121,\n",
            "          0.0021019,   0.0018917,   0.0016815,   0.0014713,   0.0012611,    0.001051,  0.00084076,  0.00063057,  0.00042038,  0.00021019,           0]]), 'Recall', 'Precision'], [array([          0,    0.001001,    0.002002,    0.003003,    0.004004,    0.005005,    0.006006,    0.007007,    0.008008,    0.009009,     0.01001,    0.011011,    0.012012,    0.013013,    0.014014,    0.015015,    0.016016,    0.017017,    0.018018,    0.019019,     0.02002,    0.021021,    0.022022,    0.023023,\n",
            "          0.024024,    0.025025,    0.026026,    0.027027,    0.028028,    0.029029,     0.03003,    0.031031,    0.032032,    0.033033,    0.034034,    0.035035,    0.036036,    0.037037,    0.038038,    0.039039,     0.04004,    0.041041,    0.042042,    0.043043,    0.044044,    0.045045,    0.046046,    0.047047,\n",
            "          0.048048,    0.049049,     0.05005,    0.051051,    0.052052,    0.053053,    0.054054,    0.055055,    0.056056,    0.057057,    0.058058,    0.059059,     0.06006,    0.061061,    0.062062,    0.063063,    0.064064,    0.065065,    0.066066,    0.067067,    0.068068,    0.069069,     0.07007,    0.071071,\n",
            "          0.072072,    0.073073,    0.074074,    0.075075,    0.076076,    0.077077,    0.078078,    0.079079,     0.08008,    0.081081,    0.082082,    0.083083,    0.084084,    0.085085,    0.086086,    0.087087,    0.088088,    0.089089,     0.09009,    0.091091,    0.092092,    0.093093,    0.094094,    0.095095,\n",
            "          0.096096,    0.097097,    0.098098,    0.099099,      0.1001,      0.1011,      0.1021,      0.1031,      0.1041,     0.10511,     0.10611,     0.10711,     0.10811,     0.10911,     0.11011,     0.11111,     0.11211,     0.11311,     0.11411,     0.11512,     0.11612,     0.11712,     0.11812,     0.11912,\n",
            "           0.12012,     0.12112,     0.12212,     0.12312,     0.12412,     0.12513,     0.12613,     0.12713,     0.12813,     0.12913,     0.13013,     0.13113,     0.13213,     0.13313,     0.13413,     0.13514,     0.13614,     0.13714,     0.13814,     0.13914,     0.14014,     0.14114,     0.14214,     0.14314,\n",
            "           0.14414,     0.14515,     0.14615,     0.14715,     0.14815,     0.14915,     0.15015,     0.15115,     0.15215,     0.15315,     0.15415,     0.15516,     0.15616,     0.15716,     0.15816,     0.15916,     0.16016,     0.16116,     0.16216,     0.16316,     0.16416,     0.16517,     0.16617,     0.16717,\n",
            "           0.16817,     0.16917,     0.17017,     0.17117,     0.17217,     0.17317,     0.17417,     0.17518,     0.17618,     0.17718,     0.17818,     0.17918,     0.18018,     0.18118,     0.18218,     0.18318,     0.18418,     0.18519,     0.18619,     0.18719,     0.18819,     0.18919,     0.19019,     0.19119,\n",
            "           0.19219,     0.19319,     0.19419,      0.1952,      0.1962,      0.1972,      0.1982,      0.1992,      0.2002,      0.2012,      0.2022,      0.2032,      0.2042,     0.20521,     0.20621,     0.20721,     0.20821,     0.20921,     0.21021,     0.21121,     0.21221,     0.21321,     0.21421,     0.21522,\n",
            "           0.21622,     0.21722,     0.21822,     0.21922,     0.22022,     0.22122,     0.22222,     0.22322,     0.22422,     0.22523,     0.22623,     0.22723,     0.22823,     0.22923,     0.23023,     0.23123,     0.23223,     0.23323,     0.23423,     0.23524,     0.23624,     0.23724,     0.23824,     0.23924,\n",
            "           0.24024,     0.24124,     0.24224,     0.24324,     0.24424,     0.24525,     0.24625,     0.24725,     0.24825,     0.24925,     0.25025,     0.25125,     0.25225,     0.25325,     0.25425,     0.25526,     0.25626,     0.25726,     0.25826,     0.25926,     0.26026,     0.26126,     0.26226,     0.26326,\n",
            "           0.26426,     0.26527,     0.26627,     0.26727,     0.26827,     0.26927,     0.27027,     0.27127,     0.27227,     0.27327,     0.27427,     0.27528,     0.27628,     0.27728,     0.27828,     0.27928,     0.28028,     0.28128,     0.28228,     0.28328,     0.28428,     0.28529,     0.28629,     0.28729,\n",
            "           0.28829,     0.28929,     0.29029,     0.29129,     0.29229,     0.29329,     0.29429,      0.2953,      0.2963,      0.2973,      0.2983,      0.2993,      0.3003,      0.3013,      0.3023,      0.3033,      0.3043,     0.30531,     0.30631,     0.30731,     0.30831,     0.30931,     0.31031,     0.31131,\n",
            "           0.31231,     0.31331,     0.31431,     0.31532,     0.31632,     0.31732,     0.31832,     0.31932,     0.32032,     0.32132,     0.32232,     0.32332,     0.32432,     0.32533,     0.32633,     0.32733,     0.32833,     0.32933,     0.33033,     0.33133,     0.33233,     0.33333,     0.33433,     0.33534,\n",
            "           0.33634,     0.33734,     0.33834,     0.33934,     0.34034,     0.34134,     0.34234,     0.34334,     0.34434,     0.34535,     0.34635,     0.34735,     0.34835,     0.34935,     0.35035,     0.35135,     0.35235,     0.35335,     0.35435,     0.35536,     0.35636,     0.35736,     0.35836,     0.35936,\n",
            "           0.36036,     0.36136,     0.36236,     0.36336,     0.36436,     0.36537,     0.36637,     0.36737,     0.36837,     0.36937,     0.37037,     0.37137,     0.37237,     0.37337,     0.37437,     0.37538,     0.37638,     0.37738,     0.37838,     0.37938,     0.38038,     0.38138,     0.38238,     0.38338,\n",
            "           0.38438,     0.38539,     0.38639,     0.38739,     0.38839,     0.38939,     0.39039,     0.39139,     0.39239,     0.39339,     0.39439,      0.3954,      0.3964,      0.3974,      0.3984,      0.3994,      0.4004,      0.4014,      0.4024,      0.4034,      0.4044,     0.40541,     0.40641,     0.40741,\n",
            "           0.40841,     0.40941,     0.41041,     0.41141,     0.41241,     0.41341,     0.41441,     0.41542,     0.41642,     0.41742,     0.41842,     0.41942,     0.42042,     0.42142,     0.42242,     0.42342,     0.42442,     0.42543,     0.42643,     0.42743,     0.42843,     0.42943,     0.43043,     0.43143,\n",
            "           0.43243,     0.43343,     0.43443,     0.43544,     0.43644,     0.43744,     0.43844,     0.43944,     0.44044,     0.44144,     0.44244,     0.44344,     0.44444,     0.44545,     0.44645,     0.44745,     0.44845,     0.44945,     0.45045,     0.45145,     0.45245,     0.45345,     0.45445,     0.45546,\n",
            "           0.45646,     0.45746,     0.45846,     0.45946,     0.46046,     0.46146,     0.46246,     0.46346,     0.46446,     0.46547,     0.46647,     0.46747,     0.46847,     0.46947,     0.47047,     0.47147,     0.47247,     0.47347,     0.47447,     0.47548,     0.47648,     0.47748,     0.47848,     0.47948,\n",
            "           0.48048,     0.48148,     0.48248,     0.48348,     0.48448,     0.48549,     0.48649,     0.48749,     0.48849,     0.48949,     0.49049,     0.49149,     0.49249,     0.49349,     0.49449,      0.4955,      0.4965,      0.4975,      0.4985,      0.4995,      0.5005,      0.5015,      0.5025,      0.5035,\n",
            "            0.5045,     0.50551,     0.50651,     0.50751,     0.50851,     0.50951,     0.51051,     0.51151,     0.51251,     0.51351,     0.51451,     0.51552,     0.51652,     0.51752,     0.51852,     0.51952,     0.52052,     0.52152,     0.52252,     0.52352,     0.52452,     0.52553,     0.52653,     0.52753,\n",
            "           0.52853,     0.52953,     0.53053,     0.53153,     0.53253,     0.53353,     0.53453,     0.53554,     0.53654,     0.53754,     0.53854,     0.53954,     0.54054,     0.54154,     0.54254,     0.54354,     0.54454,     0.54555,     0.54655,     0.54755,     0.54855,     0.54955,     0.55055,     0.55155,\n",
            "           0.55255,     0.55355,     0.55455,     0.55556,     0.55656,     0.55756,     0.55856,     0.55956,     0.56056,     0.56156,     0.56256,     0.56356,     0.56456,     0.56557,     0.56657,     0.56757,     0.56857,     0.56957,     0.57057,     0.57157,     0.57257,     0.57357,     0.57457,     0.57558,\n",
            "           0.57658,     0.57758,     0.57858,     0.57958,     0.58058,     0.58158,     0.58258,     0.58358,     0.58458,     0.58559,     0.58659,     0.58759,     0.58859,     0.58959,     0.59059,     0.59159,     0.59259,     0.59359,     0.59459,      0.5956,      0.5966,      0.5976,      0.5986,      0.5996,\n",
            "            0.6006,      0.6016,      0.6026,      0.6036,      0.6046,     0.60561,     0.60661,     0.60761,     0.60861,     0.60961,     0.61061,     0.61161,     0.61261,     0.61361,     0.61461,     0.61562,     0.61662,     0.61762,     0.61862,     0.61962,     0.62062,     0.62162,     0.62262,     0.62362,\n",
            "           0.62462,     0.62563,     0.62663,     0.62763,     0.62863,     0.62963,     0.63063,     0.63163,     0.63263,     0.63363,     0.63463,     0.63564,     0.63664,     0.63764,     0.63864,     0.63964,     0.64064,     0.64164,     0.64264,     0.64364,     0.64464,     0.64565,     0.64665,     0.64765,\n",
            "           0.64865,     0.64965,     0.65065,     0.65165,     0.65265,     0.65365,     0.65465,     0.65566,     0.65666,     0.65766,     0.65866,     0.65966,     0.66066,     0.66166,     0.66266,     0.66366,     0.66466,     0.66567,     0.66667,     0.66767,     0.66867,     0.66967,     0.67067,     0.67167,\n",
            "           0.67267,     0.67367,     0.67467,     0.67568,     0.67668,     0.67768,     0.67868,     0.67968,     0.68068,     0.68168,     0.68268,     0.68368,     0.68468,     0.68569,     0.68669,     0.68769,     0.68869,     0.68969,     0.69069,     0.69169,     0.69269,     0.69369,     0.69469,      0.6957,\n",
            "            0.6967,      0.6977,      0.6987,      0.6997,      0.7007,      0.7017,      0.7027,      0.7037,      0.7047,     0.70571,     0.70671,     0.70771,     0.70871,     0.70971,     0.71071,     0.71171,     0.71271,     0.71371,     0.71471,     0.71572,     0.71672,     0.71772,     0.71872,     0.71972,\n",
            "           0.72072,     0.72172,     0.72272,     0.72372,     0.72472,     0.72573,     0.72673,     0.72773,     0.72873,     0.72973,     0.73073,     0.73173,     0.73273,     0.73373,     0.73473,     0.73574,     0.73674,     0.73774,     0.73874,     0.73974,     0.74074,     0.74174,     0.74274,     0.74374,\n",
            "           0.74474,     0.74575,     0.74675,     0.74775,     0.74875,     0.74975,     0.75075,     0.75175,     0.75275,     0.75375,     0.75475,     0.75576,     0.75676,     0.75776,     0.75876,     0.75976,     0.76076,     0.76176,     0.76276,     0.76376,     0.76476,     0.76577,     0.76677,     0.76777,\n",
            "           0.76877,     0.76977,     0.77077,     0.77177,     0.77277,     0.77377,     0.77477,     0.77578,     0.77678,     0.77778,     0.77878,     0.77978,     0.78078,     0.78178,     0.78278,     0.78378,     0.78478,     0.78579,     0.78679,     0.78779,     0.78879,     0.78979,     0.79079,     0.79179,\n",
            "           0.79279,     0.79379,     0.79479,      0.7958,      0.7968,      0.7978,      0.7988,      0.7998,      0.8008,      0.8018,      0.8028,      0.8038,      0.8048,     0.80581,     0.80681,     0.80781,     0.80881,     0.80981,     0.81081,     0.81181,     0.81281,     0.81381,     0.81481,     0.81582,\n",
            "           0.81682,     0.81782,     0.81882,     0.81982,     0.82082,     0.82182,     0.82282,     0.82382,     0.82482,     0.82583,     0.82683,     0.82783,     0.82883,     0.82983,     0.83083,     0.83183,     0.83283,     0.83383,     0.83483,     0.83584,     0.83684,     0.83784,     0.83884,     0.83984,\n",
            "           0.84084,     0.84184,     0.84284,     0.84384,     0.84484,     0.84585,     0.84685,     0.84785,     0.84885,     0.84985,     0.85085,     0.85185,     0.85285,     0.85385,     0.85485,     0.85586,     0.85686,     0.85786,     0.85886,     0.85986,     0.86086,     0.86186,     0.86286,     0.86386,\n",
            "           0.86486,     0.86587,     0.86687,     0.86787,     0.86887,     0.86987,     0.87087,     0.87187,     0.87287,     0.87387,     0.87487,     0.87588,     0.87688,     0.87788,     0.87888,     0.87988,     0.88088,     0.88188,     0.88288,     0.88388,     0.88488,     0.88589,     0.88689,     0.88789,\n",
            "           0.88889,     0.88989,     0.89089,     0.89189,     0.89289,     0.89389,     0.89489,      0.8959,      0.8969,      0.8979,      0.8989,      0.8999,      0.9009,      0.9019,      0.9029,      0.9039,      0.9049,     0.90591,     0.90691,     0.90791,     0.90891,     0.90991,     0.91091,     0.91191,\n",
            "           0.91291,     0.91391,     0.91491,     0.91592,     0.91692,     0.91792,     0.91892,     0.91992,     0.92092,     0.92192,     0.92292,     0.92392,     0.92492,     0.92593,     0.92693,     0.92793,     0.92893,     0.92993,     0.93093,     0.93193,     0.93293,     0.93393,     0.93493,     0.93594,\n",
            "           0.93694,     0.93794,     0.93894,     0.93994,     0.94094,     0.94194,     0.94294,     0.94394,     0.94494,     0.94595,     0.94695,     0.94795,     0.94895,     0.94995,     0.95095,     0.95195,     0.95295,     0.95395,     0.95495,     0.95596,     0.95696,     0.95796,     0.95896,     0.95996,\n",
            "           0.96096,     0.96196,     0.96296,     0.96396,     0.96496,     0.96597,     0.96697,     0.96797,     0.96897,     0.96997,     0.97097,     0.97197,     0.97297,     0.97397,     0.97497,     0.97598,     0.97698,     0.97798,     0.97898,     0.97998,     0.98098,     0.98198,     0.98298,     0.98398,\n",
            "           0.98498,     0.98599,     0.98699,     0.98799,     0.98899,     0.98999,     0.99099,     0.99199,     0.99299,     0.99399,     0.99499,       0.996,       0.997,       0.998,       0.999,           1]), array([[   0.042616,    0.042616,    0.051751,    0.059237,    0.074112,     0.12463,     0.16925,      0.1979,     0.22932,     0.25067,     0.26688,     0.28149,     0.29314,     0.30474,     0.31473,     0.32326,     0.33404,     0.34158,     0.34923,     0.35821,     0.36663,     0.37193,      0.3773,\n",
            "            0.38311,     0.38921,     0.39313,     0.39718,     0.39824,      0.4029,      0.4077,     0.41009,       0.415,     0.41633,      0.4202,      0.4219,     0.42594,     0.42795,     0.42784,     0.43235,     0.43402,     0.43845,      0.4411,      0.4442,      0.4455,     0.44866,     0.45195,\n",
            "            0.45518,     0.45712,     0.45948,     0.45989,     0.46351,     0.46306,     0.46384,     0.46411,     0.46612,     0.46844,     0.47108,     0.47222,      0.4717,     0.47218,     0.47316,     0.47612,     0.47715,     0.47879,     0.47964,     0.48255,     0.48142,     0.48366,     0.48265,\n",
            "            0.48387,     0.48661,     0.48811,     0.48819,      0.4902,     0.49259,     0.49338,      0.4935,     0.49354,     0.49238,     0.49275,      0.4943,     0.49489,      0.4954,     0.49443,      0.4949,     0.49664,     0.49889,     0.49918,     0.49964,     0.49882,     0.49931,     0.50181,\n",
            "            0.50328,     0.50447,      0.5042,     0.50371,     0.50402,     0.50516,     0.50555,     0.50719,      0.5078,     0.50837,     0.50714,      0.5086,     0.51015,     0.51122,     0.51259,      0.5133,     0.51396,     0.51536,     0.51573,     0.51712,     0.51628,      0.5172,     0.51656,\n",
            "            0.51657,     0.51591,     0.51551,     0.51738,     0.51688,     0.51708,     0.51788,     0.51854,     0.51986,     0.52159,     0.52175,     0.52191,     0.52222,     0.52261,     0.52037,      0.5201,     0.52021,     0.51799,     0.51782,     0.51942,     0.52155,     0.52136,     0.52141,\n",
            "            0.52167,     0.52194,     0.52259,     0.52374,      0.5249,     0.52514,     0.52518,     0.52511,      0.5246,     0.52308,      0.5242,     0.52354,      0.5237,     0.52271,     0.52218,     0.52382,     0.52392,     0.52419,     0.52371,     0.52286,     0.52313,     0.52224,     0.52274,\n",
            "            0.52067,     0.52018,      0.5213,     0.52216,     0.52353,     0.52476,     0.52253,     0.52201,     0.52222,     0.52324,     0.52248,     0.52342,     0.52358,     0.52374,     0.52372,      0.5235,     0.52447,      0.5247,     0.52411,     0.52515,     0.52493,      0.5247,     0.52578,\n",
            "            0.52719,     0.52788,      0.5281,     0.52837,     0.52899,     0.52915,     0.52942,     0.52986,     0.52868,     0.52737,     0.52679,     0.52762,      0.5296,     0.52874,     0.52861,     0.52836,     0.52853,     0.52877,     0.52869,     0.52952,     0.52983,      0.5311,     0.53138,\n",
            "            0.53188,     0.53199,     0.53209,      0.5326,     0.53289,      0.5313,     0.53226,     0.53118,     0.53066,     0.53047,     0.53206,     0.53239,     0.53244,     0.53209,     0.53173,     0.53254,     0.53269,     0.53336,     0.53382,     0.53401,      0.5344,     0.53494,     0.53524,\n",
            "            0.53354,     0.53411,     0.53451,     0.53481,     0.53516,     0.53532,     0.53547,     0.53486,     0.53491,     0.53438,     0.53502,     0.53634,     0.53697,     0.53725,     0.53769,     0.53754,     0.53759,     0.53782,     0.53813,     0.53914,     0.53828,     0.53909,     0.53965,\n",
            "             0.5407,     0.54091,     0.54115,     0.54139,      0.5416,     0.54182,     0.54058,     0.53928,     0.53814,     0.53748,     0.53722,     0.53539,     0.53534,     0.53492,      0.5345,     0.53467,     0.53488,     0.53397,     0.53502,     0.53564,     0.53644,     0.53672,     0.53687,\n",
            "            0.53703,      0.5376,     0.53745,     0.53649,     0.53658,     0.53667,     0.53676,     0.53685,     0.53757,     0.53852,     0.53769,     0.53757,     0.53689,     0.53711,     0.53639,     0.53659,     0.53678,      0.5371,     0.53802,     0.53734,     0.53743,     0.53761,     0.53778,\n",
            "             0.5373,      0.5376,     0.53786,     0.53697,     0.53562,     0.53615,     0.53695,     0.53721,     0.53749,     0.53748,      0.5366,     0.53686,     0.53728,     0.53796,     0.53811,     0.53826,     0.53858,     0.53886,     0.53842,     0.53798,     0.53732,     0.53772,     0.53797,\n",
            "            0.53756,       0.536,     0.53651,     0.53581,     0.53446,     0.53401,     0.53357,     0.53227,     0.53278,     0.53298,     0.53366,     0.53379,      0.5337,     0.53406,      0.5337,     0.53325,      0.5328,     0.53235,      0.5319,     0.53177,     0.53191,     0.53206,     0.53304,\n",
            "             0.5334,     0.53371,     0.53471,     0.53511,     0.53543,     0.53609,     0.53489,     0.53515,     0.53548,     0.53587,     0.53613,     0.53628,     0.53638,     0.53647,     0.53657,     0.53712,     0.53738,     0.53743,     0.53697,     0.53651,     0.53642,     0.53654,     0.53666,\n",
            "            0.53678,     0.53704,     0.53692,     0.53595,     0.53571,     0.53547,     0.53523,     0.53499,     0.53493,     0.53565,     0.53612,     0.53598,     0.53535,     0.53462,     0.53416,     0.53428,      0.5344,     0.53453,     0.53487,      0.5346,     0.53396,     0.53385,     0.53343,\n",
            "            0.53261,     0.53019,     0.53055,     0.52982,     0.52846,      0.5278,     0.52676,     0.52547,     0.52536,     0.52562,     0.52477,     0.52385,     0.52308,     0.52243,     0.52273,     0.52163,     0.52163,     0.52175,     0.52187,     0.52163,     0.52102,     0.52058,     0.52014,\n",
            "            0.52008,     0.52049,     0.52005,     0.51961,     0.51857,     0.51833,     0.51789,     0.51745,     0.51773,     0.51822,     0.51778,     0.51734,     0.51701,     0.51724,     0.51735,     0.51702,     0.51669,     0.51636,      0.5153,     0.51535,     0.51541,     0.51546,     0.51551,\n",
            "            0.51556,     0.51562,     0.51567,     0.51572,     0.51471,     0.51391,     0.51324,     0.51246,     0.51112,     0.51183,      0.5123,     0.51243,     0.51255,     0.51266,     0.51145,       0.511,     0.51055,      0.5101,     0.50961,     0.50912,     0.50893,     0.50916,     0.50907,\n",
            "            0.50862,     0.50817,      0.5069,     0.50736,     0.50827,      0.5076,     0.50624,     0.50487,     0.50501,     0.50517,     0.50532,     0.50571,     0.50545,     0.50499,     0.50453,     0.50463,     0.50428,     0.50394,      0.5036,     0.50373,     0.50389,     0.50404,      0.5041,\n",
            "            0.50415,     0.50421,     0.50427,     0.50433,     0.50439,     0.50444,     0.50452,     0.50468,     0.50483,     0.50498,     0.50509,     0.50521,     0.50533,     0.50594,     0.50618,     0.50687,      0.5071,     0.50653,     0.50515,     0.50414,     0.50345,      0.5039,     0.50418,\n",
            "            0.50433,     0.50449,     0.50486,     0.50397,     0.50389,     0.50361,     0.50333,     0.50305,     0.50277,     0.50287,     0.50302,     0.50318,     0.50334,     0.50349,     0.50366,     0.50412,     0.50435,     0.50461,     0.50508,      0.5046,     0.50472,     0.50484,     0.50496,\n",
            "            0.50516,     0.50564,     0.50605,     0.50629,     0.50645,     0.50617,     0.50593,     0.50499,     0.50476,     0.50452,     0.50428,     0.50405,     0.50381,     0.50331,      0.5026,      0.5026,     0.50355,     0.50387,     0.50411,     0.50413,     0.50385,     0.50401,     0.50417,\n",
            "              0.503,     0.50324,     0.50301,     0.50269,     0.50237,     0.50205,     0.50051,     0.50061,      0.5007,      0.5008,      0.5009,     0.49917,     0.49772,     0.49733,     0.49757,     0.49716,     0.49643,     0.49518,     0.49463,     0.49438,     0.49414,      0.4939,     0.49365,\n",
            "            0.49341,     0.49131,     0.49057,     0.48841,     0.48767,      0.4878,     0.48794,     0.48807,     0.48771,     0.48697,     0.48699,     0.48684,     0.48634,     0.48585,     0.48652,     0.48554,     0.48491,     0.48454,     0.48417,      0.4838,     0.48292,     0.48311,      0.4829,\n",
            "            0.48216,     0.48042,     0.48066,     0.47998,      0.4791,     0.47872,     0.47835,     0.47797,     0.47719,     0.47623,     0.47548,     0.47593,     0.47634,     0.47658,     0.47651,     0.47575,       0.475,     0.47424,     0.47367,      0.4734,     0.47312,     0.47285,     0.47257,\n",
            "            0.47083,     0.47106,     0.47129,     0.47148,     0.47167,     0.47204,     0.47045,     0.47006,     0.46968,      0.4693,     0.46914,     0.46904,     0.46895,     0.46886,     0.46876,     0.46867,     0.46858,     0.46849,     0.46839,      0.4683,     0.46821,     0.46811,     0.46802,\n",
            "            0.46793,     0.46783,     0.46774,     0.46741,     0.46697,     0.46654,     0.46623,      0.4663,     0.46637,     0.46644,     0.46652,     0.46659,     0.46666,     0.46525,      0.4633,     0.46253,     0.46136,     0.45981,     0.45757,     0.45718,     0.45679,      0.4564,     0.45622,\n",
            "            0.45599,     0.45521,     0.45454,     0.45391,     0.45324,     0.45246,     0.45158,     0.45053,     0.45046,     0.45054,     0.45062,     0.45069,     0.45077,     0.44931,     0.44946,     0.44961,     0.44976,     0.44989,     0.45003,     0.45016,     0.45041,     0.45042,     0.44937,\n",
            "            0.44922,     0.44937,     0.44952,     0.44912,     0.44859,     0.44806,     0.44776,      0.4475,     0.44723,     0.44697,      0.4467,     0.44645,     0.44664,     0.44682,     0.44437,     0.44444,     0.44315,     0.44346,     0.44242,     0.44081,      0.4396,     0.43728,     0.43739,\n",
            "            0.43751,     0.43762,     0.43786,     0.43681,     0.43505,     0.43452,     0.43405,     0.43359,     0.43175,     0.43128,     0.43082,     0.43035,        0.43,     0.42973,     0.42945,     0.42918,     0.42891,     0.42863,     0.42816,      0.4272,     0.42654,     0.42588,     0.42553,\n",
            "            0.42523,     0.42493,     0.42463,     0.42433,     0.42362,     0.42258,     0.42287,     0.42099,     0.42033,     0.41977,      0.4199,     0.42002,     0.42015,     0.41829,     0.41792,     0.41754,     0.41717,     0.41676,     0.41629,     0.41581,     0.41533,     0.41339,     0.41311,\n",
            "            0.41283,     0.41255,     0.41227,     0.41202,     0.41214,     0.41227,     0.41239,      0.4117,     0.40898,     0.40813,     0.40742,     0.40713,     0.40685,     0.40657,     0.40628,       0.406,     0.40285,     0.40174,     0.40088,     0.40003,     0.39917,     0.39742,     0.39555,\n",
            "            0.39506,     0.39457,     0.39405,     0.39336,     0.39267,     0.39221,     0.39186,     0.39152,     0.39117,     0.39083,      0.3871,     0.38623,     0.38572,     0.38586,       0.386,     0.38589,     0.38545,     0.38501,     0.38458,     0.38259,     0.38094,      0.3807,     0.38047,\n",
            "            0.38023,        0.38,     0.37976,     0.37953,      0.3793,     0.37736,     0.37678,     0.37619,     0.37556,     0.37485,     0.37414,      0.3717,     0.37099,      0.3702,     0.36931,     0.36538,     0.36498,     0.36458,     0.36418,     0.36378,     0.36185,     0.36163,      0.3614,\n",
            "            0.36118,     0.36095,     0.36073,      0.3605,     0.36028,     0.35891,      0.3553,     0.35378,     0.35232,     0.35136,     0.35152,     0.35167,     0.34991,     0.35009,     0.34976,     0.34943,      0.3491,     0.34876,     0.34818,     0.34599,     0.34271,     0.34113,     0.34039,\n",
            "            0.33965,     0.33719,     0.33658,     0.33596,     0.33425,     0.33369,     0.33327,     0.33286,     0.33244,     0.33177,     0.33083,        0.33,     0.32925,     0.32854,     0.32817,     0.32779,     0.32742,     0.32704,      0.3263,     0.32467,     0.32372,     0.32291,     0.32237,\n",
            "            0.32183,     0.32129,     0.31953,     0.31894,     0.31847,       0.318,     0.31559,     0.31384,      0.3139,     0.31395,     0.31401,     0.31406,     0.31412,     0.31391,     0.31264,     0.31089,      0.3102,      0.3099,     0.30961,     0.30931,     0.30902,     0.30872,     0.30696,\n",
            "            0.30548,     0.30389,     0.30227,     0.30099,     0.30056,     0.30013,      0.2997,     0.29927,     0.29849,     0.29752,     0.29477,     0.29399,     0.29245,     0.29049,     0.28966,     0.28947,     0.28816,     0.28491,     0.28372,     0.28273,      0.2813,     0.27986,     0.27906,\n",
            "            0.27824,     0.27632,     0.27598,     0.27565,     0.27531,     0.27498,     0.27465,      0.2736,       0.271,     0.26829,     0.26748,     0.26667,      0.2657,     0.26469,     0.26411,      0.2636,     0.26309,     0.26258,     0.26062,     0.25818,     0.25737,     0.25657,      0.2562,\n",
            "            0.25582,     0.25545,     0.25508,     0.25471,     0.25463,      0.2547,     0.25477,     0.25483,     0.25428,      0.2528,     0.25255,     0.25231,     0.25207,     0.25183,     0.25159,     0.25134,      0.2511,     0.25077,     0.24811,     0.24653,     0.24399,     0.24252,     0.24059,\n",
            "            0.23954,     0.23843,     0.23703,     0.23564,     0.23349,     0.23236,     0.23212,     0.23187,     0.23162,     0.23137,     0.23112,     0.23088,     0.23063,     0.23031,     0.22993,     0.22955,     0.22916,     0.22878,     0.22792,     0.22503,     0.22374,     0.22289,      0.2192,\n",
            "            0.21282,     0.20591,     0.19777,     0.17822,     0.16492,     0.13783,    0.098099,    0.066527,   0.0055113,           0,           0]]), 'Confidence', 'F1'], [array([          0,    0.001001,    0.002002,    0.003003,    0.004004,    0.005005,    0.006006,    0.007007,    0.008008,    0.009009,     0.01001,    0.011011,    0.012012,    0.013013,    0.014014,    0.015015,    0.016016,    0.017017,    0.018018,    0.019019,     0.02002,    0.021021,    0.022022,    0.023023,\n",
            "          0.024024,    0.025025,    0.026026,    0.027027,    0.028028,    0.029029,     0.03003,    0.031031,    0.032032,    0.033033,    0.034034,    0.035035,    0.036036,    0.037037,    0.038038,    0.039039,     0.04004,    0.041041,    0.042042,    0.043043,    0.044044,    0.045045,    0.046046,    0.047047,\n",
            "          0.048048,    0.049049,     0.05005,    0.051051,    0.052052,    0.053053,    0.054054,    0.055055,    0.056056,    0.057057,    0.058058,    0.059059,     0.06006,    0.061061,    0.062062,    0.063063,    0.064064,    0.065065,    0.066066,    0.067067,    0.068068,    0.069069,     0.07007,    0.071071,\n",
            "          0.072072,    0.073073,    0.074074,    0.075075,    0.076076,    0.077077,    0.078078,    0.079079,     0.08008,    0.081081,    0.082082,    0.083083,    0.084084,    0.085085,    0.086086,    0.087087,    0.088088,    0.089089,     0.09009,    0.091091,    0.092092,    0.093093,    0.094094,    0.095095,\n",
            "          0.096096,    0.097097,    0.098098,    0.099099,      0.1001,      0.1011,      0.1021,      0.1031,      0.1041,     0.10511,     0.10611,     0.10711,     0.10811,     0.10911,     0.11011,     0.11111,     0.11211,     0.11311,     0.11411,     0.11512,     0.11612,     0.11712,     0.11812,     0.11912,\n",
            "           0.12012,     0.12112,     0.12212,     0.12312,     0.12412,     0.12513,     0.12613,     0.12713,     0.12813,     0.12913,     0.13013,     0.13113,     0.13213,     0.13313,     0.13413,     0.13514,     0.13614,     0.13714,     0.13814,     0.13914,     0.14014,     0.14114,     0.14214,     0.14314,\n",
            "           0.14414,     0.14515,     0.14615,     0.14715,     0.14815,     0.14915,     0.15015,     0.15115,     0.15215,     0.15315,     0.15415,     0.15516,     0.15616,     0.15716,     0.15816,     0.15916,     0.16016,     0.16116,     0.16216,     0.16316,     0.16416,     0.16517,     0.16617,     0.16717,\n",
            "           0.16817,     0.16917,     0.17017,     0.17117,     0.17217,     0.17317,     0.17417,     0.17518,     0.17618,     0.17718,     0.17818,     0.17918,     0.18018,     0.18118,     0.18218,     0.18318,     0.18418,     0.18519,     0.18619,     0.18719,     0.18819,     0.18919,     0.19019,     0.19119,\n",
            "           0.19219,     0.19319,     0.19419,      0.1952,      0.1962,      0.1972,      0.1982,      0.1992,      0.2002,      0.2012,      0.2022,      0.2032,      0.2042,     0.20521,     0.20621,     0.20721,     0.20821,     0.20921,     0.21021,     0.21121,     0.21221,     0.21321,     0.21421,     0.21522,\n",
            "           0.21622,     0.21722,     0.21822,     0.21922,     0.22022,     0.22122,     0.22222,     0.22322,     0.22422,     0.22523,     0.22623,     0.22723,     0.22823,     0.22923,     0.23023,     0.23123,     0.23223,     0.23323,     0.23423,     0.23524,     0.23624,     0.23724,     0.23824,     0.23924,\n",
            "           0.24024,     0.24124,     0.24224,     0.24324,     0.24424,     0.24525,     0.24625,     0.24725,     0.24825,     0.24925,     0.25025,     0.25125,     0.25225,     0.25325,     0.25425,     0.25526,     0.25626,     0.25726,     0.25826,     0.25926,     0.26026,     0.26126,     0.26226,     0.26326,\n",
            "           0.26426,     0.26527,     0.26627,     0.26727,     0.26827,     0.26927,     0.27027,     0.27127,     0.27227,     0.27327,     0.27427,     0.27528,     0.27628,     0.27728,     0.27828,     0.27928,     0.28028,     0.28128,     0.28228,     0.28328,     0.28428,     0.28529,     0.28629,     0.28729,\n",
            "           0.28829,     0.28929,     0.29029,     0.29129,     0.29229,     0.29329,     0.29429,      0.2953,      0.2963,      0.2973,      0.2983,      0.2993,      0.3003,      0.3013,      0.3023,      0.3033,      0.3043,     0.30531,     0.30631,     0.30731,     0.30831,     0.30931,     0.31031,     0.31131,\n",
            "           0.31231,     0.31331,     0.31431,     0.31532,     0.31632,     0.31732,     0.31832,     0.31932,     0.32032,     0.32132,     0.32232,     0.32332,     0.32432,     0.32533,     0.32633,     0.32733,     0.32833,     0.32933,     0.33033,     0.33133,     0.33233,     0.33333,     0.33433,     0.33534,\n",
            "           0.33634,     0.33734,     0.33834,     0.33934,     0.34034,     0.34134,     0.34234,     0.34334,     0.34434,     0.34535,     0.34635,     0.34735,     0.34835,     0.34935,     0.35035,     0.35135,     0.35235,     0.35335,     0.35435,     0.35536,     0.35636,     0.35736,     0.35836,     0.35936,\n",
            "           0.36036,     0.36136,     0.36236,     0.36336,     0.36436,     0.36537,     0.36637,     0.36737,     0.36837,     0.36937,     0.37037,     0.37137,     0.37237,     0.37337,     0.37437,     0.37538,     0.37638,     0.37738,     0.37838,     0.37938,     0.38038,     0.38138,     0.38238,     0.38338,\n",
            "           0.38438,     0.38539,     0.38639,     0.38739,     0.38839,     0.38939,     0.39039,     0.39139,     0.39239,     0.39339,     0.39439,      0.3954,      0.3964,      0.3974,      0.3984,      0.3994,      0.4004,      0.4014,      0.4024,      0.4034,      0.4044,     0.40541,     0.40641,     0.40741,\n",
            "           0.40841,     0.40941,     0.41041,     0.41141,     0.41241,     0.41341,     0.41441,     0.41542,     0.41642,     0.41742,     0.41842,     0.41942,     0.42042,     0.42142,     0.42242,     0.42342,     0.42442,     0.42543,     0.42643,     0.42743,     0.42843,     0.42943,     0.43043,     0.43143,\n",
            "           0.43243,     0.43343,     0.43443,     0.43544,     0.43644,     0.43744,     0.43844,     0.43944,     0.44044,     0.44144,     0.44244,     0.44344,     0.44444,     0.44545,     0.44645,     0.44745,     0.44845,     0.44945,     0.45045,     0.45145,     0.45245,     0.45345,     0.45445,     0.45546,\n",
            "           0.45646,     0.45746,     0.45846,     0.45946,     0.46046,     0.46146,     0.46246,     0.46346,     0.46446,     0.46547,     0.46647,     0.46747,     0.46847,     0.46947,     0.47047,     0.47147,     0.47247,     0.47347,     0.47447,     0.47548,     0.47648,     0.47748,     0.47848,     0.47948,\n",
            "           0.48048,     0.48148,     0.48248,     0.48348,     0.48448,     0.48549,     0.48649,     0.48749,     0.48849,     0.48949,     0.49049,     0.49149,     0.49249,     0.49349,     0.49449,      0.4955,      0.4965,      0.4975,      0.4985,      0.4995,      0.5005,      0.5015,      0.5025,      0.5035,\n",
            "            0.5045,     0.50551,     0.50651,     0.50751,     0.50851,     0.50951,     0.51051,     0.51151,     0.51251,     0.51351,     0.51451,     0.51552,     0.51652,     0.51752,     0.51852,     0.51952,     0.52052,     0.52152,     0.52252,     0.52352,     0.52452,     0.52553,     0.52653,     0.52753,\n",
            "           0.52853,     0.52953,     0.53053,     0.53153,     0.53253,     0.53353,     0.53453,     0.53554,     0.53654,     0.53754,     0.53854,     0.53954,     0.54054,     0.54154,     0.54254,     0.54354,     0.54454,     0.54555,     0.54655,     0.54755,     0.54855,     0.54955,     0.55055,     0.55155,\n",
            "           0.55255,     0.55355,     0.55455,     0.55556,     0.55656,     0.55756,     0.55856,     0.55956,     0.56056,     0.56156,     0.56256,     0.56356,     0.56456,     0.56557,     0.56657,     0.56757,     0.56857,     0.56957,     0.57057,     0.57157,     0.57257,     0.57357,     0.57457,     0.57558,\n",
            "           0.57658,     0.57758,     0.57858,     0.57958,     0.58058,     0.58158,     0.58258,     0.58358,     0.58458,     0.58559,     0.58659,     0.58759,     0.58859,     0.58959,     0.59059,     0.59159,     0.59259,     0.59359,     0.59459,      0.5956,      0.5966,      0.5976,      0.5986,      0.5996,\n",
            "            0.6006,      0.6016,      0.6026,      0.6036,      0.6046,     0.60561,     0.60661,     0.60761,     0.60861,     0.60961,     0.61061,     0.61161,     0.61261,     0.61361,     0.61461,     0.61562,     0.61662,     0.61762,     0.61862,     0.61962,     0.62062,     0.62162,     0.62262,     0.62362,\n",
            "           0.62462,     0.62563,     0.62663,     0.62763,     0.62863,     0.62963,     0.63063,     0.63163,     0.63263,     0.63363,     0.63463,     0.63564,     0.63664,     0.63764,     0.63864,     0.63964,     0.64064,     0.64164,     0.64264,     0.64364,     0.64464,     0.64565,     0.64665,     0.64765,\n",
            "           0.64865,     0.64965,     0.65065,     0.65165,     0.65265,     0.65365,     0.65465,     0.65566,     0.65666,     0.65766,     0.65866,     0.65966,     0.66066,     0.66166,     0.66266,     0.66366,     0.66466,     0.66567,     0.66667,     0.66767,     0.66867,     0.66967,     0.67067,     0.67167,\n",
            "           0.67267,     0.67367,     0.67467,     0.67568,     0.67668,     0.67768,     0.67868,     0.67968,     0.68068,     0.68168,     0.68268,     0.68368,     0.68468,     0.68569,     0.68669,     0.68769,     0.68869,     0.68969,     0.69069,     0.69169,     0.69269,     0.69369,     0.69469,      0.6957,\n",
            "            0.6967,      0.6977,      0.6987,      0.6997,      0.7007,      0.7017,      0.7027,      0.7037,      0.7047,     0.70571,     0.70671,     0.70771,     0.70871,     0.70971,     0.71071,     0.71171,     0.71271,     0.71371,     0.71471,     0.71572,     0.71672,     0.71772,     0.71872,     0.71972,\n",
            "           0.72072,     0.72172,     0.72272,     0.72372,     0.72472,     0.72573,     0.72673,     0.72773,     0.72873,     0.72973,     0.73073,     0.73173,     0.73273,     0.73373,     0.73473,     0.73574,     0.73674,     0.73774,     0.73874,     0.73974,     0.74074,     0.74174,     0.74274,     0.74374,\n",
            "           0.74474,     0.74575,     0.74675,     0.74775,     0.74875,     0.74975,     0.75075,     0.75175,     0.75275,     0.75375,     0.75475,     0.75576,     0.75676,     0.75776,     0.75876,     0.75976,     0.76076,     0.76176,     0.76276,     0.76376,     0.76476,     0.76577,     0.76677,     0.76777,\n",
            "           0.76877,     0.76977,     0.77077,     0.77177,     0.77277,     0.77377,     0.77477,     0.77578,     0.77678,     0.77778,     0.77878,     0.77978,     0.78078,     0.78178,     0.78278,     0.78378,     0.78478,     0.78579,     0.78679,     0.78779,     0.78879,     0.78979,     0.79079,     0.79179,\n",
            "           0.79279,     0.79379,     0.79479,      0.7958,      0.7968,      0.7978,      0.7988,      0.7998,      0.8008,      0.8018,      0.8028,      0.8038,      0.8048,     0.80581,     0.80681,     0.80781,     0.80881,     0.80981,     0.81081,     0.81181,     0.81281,     0.81381,     0.81481,     0.81582,\n",
            "           0.81682,     0.81782,     0.81882,     0.81982,     0.82082,     0.82182,     0.82282,     0.82382,     0.82482,     0.82583,     0.82683,     0.82783,     0.82883,     0.82983,     0.83083,     0.83183,     0.83283,     0.83383,     0.83483,     0.83584,     0.83684,     0.83784,     0.83884,     0.83984,\n",
            "           0.84084,     0.84184,     0.84284,     0.84384,     0.84484,     0.84585,     0.84685,     0.84785,     0.84885,     0.84985,     0.85085,     0.85185,     0.85285,     0.85385,     0.85485,     0.85586,     0.85686,     0.85786,     0.85886,     0.85986,     0.86086,     0.86186,     0.86286,     0.86386,\n",
            "           0.86486,     0.86587,     0.86687,     0.86787,     0.86887,     0.86987,     0.87087,     0.87187,     0.87287,     0.87387,     0.87487,     0.87588,     0.87688,     0.87788,     0.87888,     0.87988,     0.88088,     0.88188,     0.88288,     0.88388,     0.88488,     0.88589,     0.88689,     0.88789,\n",
            "           0.88889,     0.88989,     0.89089,     0.89189,     0.89289,     0.89389,     0.89489,      0.8959,      0.8969,      0.8979,      0.8989,      0.8999,      0.9009,      0.9019,      0.9029,      0.9039,      0.9049,     0.90591,     0.90691,     0.90791,     0.90891,     0.90991,     0.91091,     0.91191,\n",
            "           0.91291,     0.91391,     0.91491,     0.91592,     0.91692,     0.91792,     0.91892,     0.91992,     0.92092,     0.92192,     0.92292,     0.92392,     0.92492,     0.92593,     0.92693,     0.92793,     0.92893,     0.92993,     0.93093,     0.93193,     0.93293,     0.93393,     0.93493,     0.93594,\n",
            "           0.93694,     0.93794,     0.93894,     0.93994,     0.94094,     0.94194,     0.94294,     0.94394,     0.94494,     0.94595,     0.94695,     0.94795,     0.94895,     0.94995,     0.95095,     0.95195,     0.95295,     0.95395,     0.95495,     0.95596,     0.95696,     0.95796,     0.95896,     0.95996,\n",
            "           0.96096,     0.96196,     0.96296,     0.96396,     0.96496,     0.96597,     0.96697,     0.96797,     0.96897,     0.96997,     0.97097,     0.97197,     0.97297,     0.97397,     0.97497,     0.97598,     0.97698,     0.97798,     0.97898,     0.97998,     0.98098,     0.98198,     0.98298,     0.98398,\n",
            "           0.98498,     0.98599,     0.98699,     0.98799,     0.98899,     0.98999,     0.99099,     0.99199,     0.99299,     0.99399,     0.99499,       0.996,       0.997,       0.998,       0.999,           1]), array([[   0.021827,    0.021827,    0.026664,    0.030683,    0.038759,    0.067365,    0.094386,       0.113,     0.13414,     0.14932,     0.16154,     0.17285,     0.18217,     0.19148,      0.2003,       0.208,     0.21749,     0.22458,     0.23179,     0.23977,     0.24803,     0.25347,     0.25934,\n",
            "            0.26525,     0.27133,     0.27602,     0.28047,     0.28321,     0.28835,     0.29355,     0.29735,      0.3031,     0.30566,     0.30985,     0.31292,      0.3177,     0.32059,     0.32179,     0.32727,      0.3298,     0.33503,     0.33889,     0.34296,      0.3449,      0.3487,     0.35311,\n",
            "            0.35756,     0.36033,     0.36417,     0.36605,     0.37067,      0.3718,     0.37409,     0.37608,     0.37951,     0.38259,     0.38613,     0.38766,       0.388,     0.38916,     0.39115,     0.39521,      0.3978,     0.40009,     0.40247,     0.40658,     0.40685,     0.41005,     0.41053,\n",
            "            0.41229,     0.41628,     0.41848,     0.41993,     0.42363,     0.42722,     0.42913,     0.43075,     0.43202,     0.43201,      0.4341,      0.4365,     0.43821,     0.43901,     0.43905,      0.4406,     0.44337,     0.44696,     0.44793,     0.44934,     0.44935,     0.45014,     0.45423,\n",
            "            0.45664,     0.45861,      0.4587,     0.45913,     0.46052,     0.46244,     0.46401,     0.46678,     0.46782,     0.46878,     0.46857,     0.47107,     0.47374,     0.47558,     0.47796,     0.48019,     0.48135,     0.48381,     0.48549,     0.48795,     0.48854,     0.49018,     0.49008,\n",
            "            0.49039,     0.48996,     0.49033,     0.49391,     0.49389,     0.49536,     0.49682,     0.49805,     0.50049,     0.50371,       0.504,     0.50431,     0.50487,     0.50597,     0.50452,     0.50516,     0.50574,     0.50461,     0.50475,      0.5078,     0.51188,     0.51276,     0.51409,\n",
            "            0.51458,     0.51511,     0.51638,     0.51864,     0.52092,     0.52138,     0.52276,     0.52391,     0.52427,     0.52378,     0.52605,     0.52604,     0.52773,     0.52844,     0.52873,     0.53211,     0.53373,      0.5347,     0.53439,     0.53437,     0.53492,     0.53445,     0.53555,\n",
            "            0.53447,     0.53453,      0.5369,     0.53874,     0.54165,     0.54448,     0.54407,     0.54449,     0.54494,     0.54716,     0.54708,     0.54915,     0.54949,     0.54984,     0.55046,     0.55092,     0.55306,     0.55569,     0.55553,     0.55786,     0.55879,     0.56021,     0.56268,\n",
            "            0.56591,     0.56751,     0.56801,     0.56865,     0.57007,     0.57045,     0.57108,      0.5721,     0.57167,     0.57162,     0.57176,     0.57402,     0.57877,     0.57823,     0.57882,     0.57947,     0.57989,     0.58048,     0.58156,     0.58419,     0.58495,     0.58803,     0.58874,\n",
            "            0.58997,     0.59022,     0.59047,     0.59173,     0.59244,     0.59246,     0.59486,     0.59439,     0.59407,      0.5944,     0.59841,     0.60132,     0.60186,     0.60165,     0.60143,     0.60382,     0.60585,     0.60939,     0.61145,     0.61195,     0.61296,      0.6144,     0.61518,\n",
            "            0.61513,     0.61666,     0.61773,     0.61853,     0.61947,     0.61989,     0.62031,     0.62095,     0.62176,     0.62196,      0.6237,     0.62728,     0.62902,     0.62978,     0.63099,       0.633,     0.63557,     0.63619,     0.63707,     0.63992,     0.63996,     0.64226,     0.64386,\n",
            "            0.64686,     0.64747,     0.64814,     0.64883,     0.64945,     0.65007,     0.65034,     0.65055,      0.6499,     0.64951,     0.64979,     0.64974,     0.65022,     0.64998,     0.64973,      0.6503,     0.65093,     0.65041,     0.65407,     0.65593,     0.65833,     0.65917,     0.65964,\n",
            "            0.66011,     0.66185,     0.66423,     0.66414,     0.66442,      0.6647,     0.66498,     0.66526,     0.66746,     0.67038,     0.67074,      0.6711,     0.67072,     0.67191,     0.67262,     0.67323,     0.67384,     0.67485,     0.67796,     0.67758,     0.67894,      0.6795,     0.68006,\n",
            "            0.68095,     0.68259,      0.6834,     0.68305,     0.68243,     0.68417,     0.68678,     0.68761,     0.68853,     0.68917,     0.68885,     0.68968,      0.6911,     0.69333,     0.69383,     0.69432,     0.69541,     0.69713,      0.6969,     0.69666,     0.69782,     0.69916,     0.70003,\n",
            "            0.70014,     0.70014,     0.70209,     0.70172,     0.70226,     0.70202,     0.70178,     0.70109,     0.70293,     0.70362,     0.70601,     0.70705,     0.70974,     0.71101,     0.71095,     0.71071,     0.71048,     0.71024,        0.71,     0.71017,      0.7107,     0.71124,     0.71474,\n",
            "            0.71604,     0.71715,     0.72077,     0.72222,     0.72339,     0.72584,     0.72526,     0.72622,     0.72741,     0.72885,     0.72981,     0.73039,     0.73075,     0.73111,     0.73146,     0.73349,     0.73447,     0.73509,     0.73487,     0.73464,     0.73484,      0.7353,     0.73576,\n",
            "            0.73622,     0.73719,     0.73777,     0.73729,     0.73718,     0.73706,     0.73694,     0.73682,     0.73726,     0.73999,     0.74179,     0.74329,     0.74299,     0.74263,     0.74253,     0.74301,     0.74349,     0.74396,     0.74529,     0.74568,     0.74537,     0.74686,     0.74821,\n",
            "            0.74938,     0.74831,     0.74997,     0.74962,     0.75019,     0.75024,     0.74974,     0.74911,     0.75112,      0.7522,      0.7533,      0.7532,     0.75283,     0.75252,     0.75413,     0.75379,      0.7542,     0.75471,     0.75523,     0.75545,     0.75683,     0.75663,     0.75642,\n",
            "             0.7572,     0.75997,     0.75976,     0.75956,     0.75906,     0.76066,     0.76046,     0.76025,     0.76178,     0.76409,     0.76388,     0.76367,     0.76365,     0.76466,     0.76543,     0.76528,     0.76512,     0.76497,      0.7663,     0.76654,     0.76677,     0.76701,     0.76724,\n",
            "            0.76747,     0.76771,     0.76794,     0.76817,     0.76775,     0.76738,     0.76707,     0.76851,     0.76788,      0.7717,     0.77381,     0.77443,     0.77496,     0.77549,     0.77539,     0.77519,     0.77498,     0.77477,     0.77455,     0.77432,     0.77465,     0.77572,     0.77618,\n",
            "            0.77598,     0.77577,     0.77625,     0.77842,     0.78273,     0.78318,     0.78257,     0.78196,     0.78445,     0.78519,     0.78594,     0.78783,     0.78814,     0.78794,     0.78774,     0.78979,     0.78963,     0.78948,     0.78933,     0.79006,     0.79082,     0.79156,     0.79185,\n",
            "            0.79213,     0.79242,     0.79271,     0.79299,     0.79328,     0.79357,     0.79396,     0.79473,      0.7955,     0.79621,     0.79679,     0.79737,     0.79795,     0.80104,     0.80221,     0.80569,     0.80688,     0.80719,     0.80662,      0.8062,     0.80591,     0.80958,       0.811,\n",
            "            0.81181,     0.81262,     0.81456,     0.81648,     0.81703,     0.81692,      0.8168,     0.81669,     0.81658,     0.81729,     0.81811,     0.81894,     0.81977,     0.82061,     0.82146,     0.82393,     0.82519,     0.82657,     0.82911,     0.83342,     0.83407,     0.83472,     0.83537,\n",
            "            0.83647,     0.83909,     0.84135,     0.84267,     0.84599,     0.84925,     0.85075,     0.85044,     0.85036,     0.85028,      0.8502,     0.85012,     0.85004,     0.84987,     0.84963,     0.85117,     0.85662,      0.8585,     0.85989,     0.86551,     0.86607,     0.86702,     0.86797,\n",
            "            0.86888,     0.87032,     0.87047,     0.87037,     0.87028,     0.87018,     0.86997,     0.87055,     0.87114,     0.87172,      0.8723,     0.87476,     0.87433,      0.8751,     0.87659,     0.87694,     0.87673,     0.87636,      0.8762,     0.87613,     0.87606,     0.87599,     0.87592,\n",
            "            0.87585,     0.87523,     0.87501,     0.87437,     0.87415,     0.87501,     0.87589,     0.87676,     0.87701,     0.87679,     0.87864,     0.87963,     0.87949,     0.87935,     0.88462,     0.88511,     0.88494,     0.88484,     0.88473,     0.88463,     0.88844,     0.88973,     0.89037,\n",
            "            0.89017,     0.89046,     0.89209,     0.89265,     0.89242,     0.89232,     0.89222,     0.89212,     0.89191,     0.89166,     0.89146,      0.8986,     0.90154,     0.90324,     0.90436,     0.90418,     0.90399,     0.90381,     0.90368,     0.90361,     0.90354,     0.90348,     0.90341,\n",
            "            0.90305,     0.90479,     0.90649,     0.90789,     0.90928,     0.91206,     0.91282,     0.91274,     0.91265,     0.91257,     0.91253,     0.91251,     0.91249,     0.91247,     0.91245,     0.91243,     0.91241,     0.91239,     0.91237,     0.91234,     0.91232,      0.9123,     0.91228,\n",
            "            0.91226,     0.91224,     0.91222,     0.91215,     0.91205,     0.91195,     0.91202,     0.91257,     0.91313,     0.91368,     0.91423,     0.91479,     0.91534,     0.91508,     0.91465,     0.91448,     0.91422,     0.91388,     0.91338,     0.91329,      0.9132,     0.91312,     0.91425,\n",
            "            0.91655,     0.91638,     0.91624,      0.9161,     0.91595,     0.91578,     0.91559,     0.91535,     0.91587,     0.91651,     0.91714,     0.91777,     0.91841,     0.91872,        0.92,     0.92128,     0.92255,     0.92366,     0.92476,     0.92587,     0.92799,        0.93,      0.9298,\n",
            "            0.93074,     0.93206,     0.93338,     0.93353,     0.93344,     0.93334,     0.93329,     0.93324,      0.9332,     0.93315,      0.9331,     0.93312,     0.93473,     0.93634,     0.93654,     0.94441,     0.94466,     0.94744,     0.94812,     0.94788,     0.94771,     0.94767,     0.94874,\n",
            "            0.94981,     0.95088,      0.9532,     0.95559,     0.95537,      0.9553,     0.95524,     0.95518,     0.95495,     0.95489,     0.95483,     0.95477,     0.95473,     0.95469,     0.95466,     0.95462,     0.95459,     0.95455,      0.9588,     0.95869,     0.95861,     0.95854,     0.95849,\n",
            "            0.95846,     0.95842,     0.95839,     0.95835,     0.95827,     0.95827,     0.96133,      0.9624,     0.96233,     0.96245,     0.96379,     0.96512,     0.96646,     0.96664,      0.9666,     0.96657,     0.96653,     0.96649,     0.96644,      0.9664,     0.96635,     0.96616,     0.96613,\n",
            "             0.9661,     0.96607,     0.96605,     0.96611,     0.96749,     0.96887,     0.97025,     0.97067,     0.97043,     0.97035,     0.97029,     0.97027,     0.97024,     0.97022,     0.97019,     0.97016,     0.96988,     0.96978,      0.9697,     0.96962,     0.96954,     0.96938,     0.96921,\n",
            "            0.96916,     0.96911,     0.96906,       0.969,     0.96893,     0.96889,     0.96886,     0.96882,     0.96879,     0.96876,     0.96839,     0.96831,     0.96889,     0.97065,     0.97241,     0.97339,     0.97335,     0.97332,     0.97328,     0.97311,     0.97297,     0.97295,     0.97293,\n",
            "            0.97291,     0.97289,     0.97287,     0.97285,     0.97283,     0.97266,     0.97261,     0.97256,     0.97251,     0.97244,     0.97238,     0.97217,      0.9721,     0.97203,     0.97195,     0.97159,     0.97155,     0.97152,     0.97148,     0.97144,     0.97126,     0.97124,     0.97122,\n",
            "             0.9712,     0.97118,     0.97115,     0.97113,     0.97111,     0.97098,     0.97063,     0.97048,     0.97034,     0.97127,     0.97366,     0.97604,     0.97615,     0.98181,     0.98179,     0.98177,     0.98175,     0.98172,     0.98169,     0.98155,     0.98134,     0.98124,     0.98119,\n",
            "            0.98114,     0.98098,     0.98094,      0.9809,     0.98078,     0.98074,     0.98072,     0.98069,     0.98066,     0.98061,     0.98055,     0.98049,     0.98044,     0.98039,     0.98036,     0.98034,     0.98031,     0.98028,     0.98023,     0.98011,     0.98005,     0.97999,     0.97995,\n",
            "            0.97991,     0.97987,     0.97974,      0.9797,     0.97966,     0.97963,     0.97945,     0.97988,     0.98096,     0.98203,      0.9831,     0.98417,     0.98524,      0.9861,     0.98603,     0.98594,      0.9859,     0.98589,     0.98587,     0.98586,     0.98584,     0.98582,     0.98573,\n",
            "            0.98565,     0.98556,     0.98547,      0.9854,     0.98538,     0.98535,     0.98533,      0.9853,     0.98526,      0.9852,     0.98504,       0.985,     0.98491,     0.98479,     0.98699,     0.99229,     0.99225,     0.99215,     0.99211,     0.99208,     0.99204,     0.99199,     0.99196,\n",
            "            0.99193,     0.99187,     0.99186,     0.99185,     0.99184,     0.99182,     0.99181,     0.99178,     0.99169,     0.99159,     0.99156,     0.99153,      0.9915,     0.99146,     0.99144,     0.99142,      0.9914,     0.99138,     0.99131,     0.99121,     0.99118,     0.99115,     0.99114,\n",
            "            0.99112,     0.99111,     0.99109,     0.99108,     0.99246,     0.99449,     0.99653,     0.99856,           1,           1,           1,           1,           1,           1,           1,           1,           1,           1,           1,           1,           1,           1,           1,\n",
            "                  1,           1,           1,           1,           1,           1,           1,           1,           1,           1,           1,           1,           1,           1,           1,           1,           1,           1,           1,           1,           1,           1,           1,\n",
            "                  1,           1,           1,           1,           1,           1,           1,           1,           1,           1,           1]]), 'Confidence', 'Precision'], [array([          0,    0.001001,    0.002002,    0.003003,    0.004004,    0.005005,    0.006006,    0.007007,    0.008008,    0.009009,     0.01001,    0.011011,    0.012012,    0.013013,    0.014014,    0.015015,    0.016016,    0.017017,    0.018018,    0.019019,     0.02002,    0.021021,    0.022022,    0.023023,\n",
            "          0.024024,    0.025025,    0.026026,    0.027027,    0.028028,    0.029029,     0.03003,    0.031031,    0.032032,    0.033033,    0.034034,    0.035035,    0.036036,    0.037037,    0.038038,    0.039039,     0.04004,    0.041041,    0.042042,    0.043043,    0.044044,    0.045045,    0.046046,    0.047047,\n",
            "          0.048048,    0.049049,     0.05005,    0.051051,    0.052052,    0.053053,    0.054054,    0.055055,    0.056056,    0.057057,    0.058058,    0.059059,     0.06006,    0.061061,    0.062062,    0.063063,    0.064064,    0.065065,    0.066066,    0.067067,    0.068068,    0.069069,     0.07007,    0.071071,\n",
            "          0.072072,    0.073073,    0.074074,    0.075075,    0.076076,    0.077077,    0.078078,    0.079079,     0.08008,    0.081081,    0.082082,    0.083083,    0.084084,    0.085085,    0.086086,    0.087087,    0.088088,    0.089089,     0.09009,    0.091091,    0.092092,    0.093093,    0.094094,    0.095095,\n",
            "          0.096096,    0.097097,    0.098098,    0.099099,      0.1001,      0.1011,      0.1021,      0.1031,      0.1041,     0.10511,     0.10611,     0.10711,     0.10811,     0.10911,     0.11011,     0.11111,     0.11211,     0.11311,     0.11411,     0.11512,     0.11612,     0.11712,     0.11812,     0.11912,\n",
            "           0.12012,     0.12112,     0.12212,     0.12312,     0.12412,     0.12513,     0.12613,     0.12713,     0.12813,     0.12913,     0.13013,     0.13113,     0.13213,     0.13313,     0.13413,     0.13514,     0.13614,     0.13714,     0.13814,     0.13914,     0.14014,     0.14114,     0.14214,     0.14314,\n",
            "           0.14414,     0.14515,     0.14615,     0.14715,     0.14815,     0.14915,     0.15015,     0.15115,     0.15215,     0.15315,     0.15415,     0.15516,     0.15616,     0.15716,     0.15816,     0.15916,     0.16016,     0.16116,     0.16216,     0.16316,     0.16416,     0.16517,     0.16617,     0.16717,\n",
            "           0.16817,     0.16917,     0.17017,     0.17117,     0.17217,     0.17317,     0.17417,     0.17518,     0.17618,     0.17718,     0.17818,     0.17918,     0.18018,     0.18118,     0.18218,     0.18318,     0.18418,     0.18519,     0.18619,     0.18719,     0.18819,     0.18919,     0.19019,     0.19119,\n",
            "           0.19219,     0.19319,     0.19419,      0.1952,      0.1962,      0.1972,      0.1982,      0.1992,      0.2002,      0.2012,      0.2022,      0.2032,      0.2042,     0.20521,     0.20621,     0.20721,     0.20821,     0.20921,     0.21021,     0.21121,     0.21221,     0.21321,     0.21421,     0.21522,\n",
            "           0.21622,     0.21722,     0.21822,     0.21922,     0.22022,     0.22122,     0.22222,     0.22322,     0.22422,     0.22523,     0.22623,     0.22723,     0.22823,     0.22923,     0.23023,     0.23123,     0.23223,     0.23323,     0.23423,     0.23524,     0.23624,     0.23724,     0.23824,     0.23924,\n",
            "           0.24024,     0.24124,     0.24224,     0.24324,     0.24424,     0.24525,     0.24625,     0.24725,     0.24825,     0.24925,     0.25025,     0.25125,     0.25225,     0.25325,     0.25425,     0.25526,     0.25626,     0.25726,     0.25826,     0.25926,     0.26026,     0.26126,     0.26226,     0.26326,\n",
            "           0.26426,     0.26527,     0.26627,     0.26727,     0.26827,     0.26927,     0.27027,     0.27127,     0.27227,     0.27327,     0.27427,     0.27528,     0.27628,     0.27728,     0.27828,     0.27928,     0.28028,     0.28128,     0.28228,     0.28328,     0.28428,     0.28529,     0.28629,     0.28729,\n",
            "           0.28829,     0.28929,     0.29029,     0.29129,     0.29229,     0.29329,     0.29429,      0.2953,      0.2963,      0.2973,      0.2983,      0.2993,      0.3003,      0.3013,      0.3023,      0.3033,      0.3043,     0.30531,     0.30631,     0.30731,     0.30831,     0.30931,     0.31031,     0.31131,\n",
            "           0.31231,     0.31331,     0.31431,     0.31532,     0.31632,     0.31732,     0.31832,     0.31932,     0.32032,     0.32132,     0.32232,     0.32332,     0.32432,     0.32533,     0.32633,     0.32733,     0.32833,     0.32933,     0.33033,     0.33133,     0.33233,     0.33333,     0.33433,     0.33534,\n",
            "           0.33634,     0.33734,     0.33834,     0.33934,     0.34034,     0.34134,     0.34234,     0.34334,     0.34434,     0.34535,     0.34635,     0.34735,     0.34835,     0.34935,     0.35035,     0.35135,     0.35235,     0.35335,     0.35435,     0.35536,     0.35636,     0.35736,     0.35836,     0.35936,\n",
            "           0.36036,     0.36136,     0.36236,     0.36336,     0.36436,     0.36537,     0.36637,     0.36737,     0.36837,     0.36937,     0.37037,     0.37137,     0.37237,     0.37337,     0.37437,     0.37538,     0.37638,     0.37738,     0.37838,     0.37938,     0.38038,     0.38138,     0.38238,     0.38338,\n",
            "           0.38438,     0.38539,     0.38639,     0.38739,     0.38839,     0.38939,     0.39039,     0.39139,     0.39239,     0.39339,     0.39439,      0.3954,      0.3964,      0.3974,      0.3984,      0.3994,      0.4004,      0.4014,      0.4024,      0.4034,      0.4044,     0.40541,     0.40641,     0.40741,\n",
            "           0.40841,     0.40941,     0.41041,     0.41141,     0.41241,     0.41341,     0.41441,     0.41542,     0.41642,     0.41742,     0.41842,     0.41942,     0.42042,     0.42142,     0.42242,     0.42342,     0.42442,     0.42543,     0.42643,     0.42743,     0.42843,     0.42943,     0.43043,     0.43143,\n",
            "           0.43243,     0.43343,     0.43443,     0.43544,     0.43644,     0.43744,     0.43844,     0.43944,     0.44044,     0.44144,     0.44244,     0.44344,     0.44444,     0.44545,     0.44645,     0.44745,     0.44845,     0.44945,     0.45045,     0.45145,     0.45245,     0.45345,     0.45445,     0.45546,\n",
            "           0.45646,     0.45746,     0.45846,     0.45946,     0.46046,     0.46146,     0.46246,     0.46346,     0.46446,     0.46547,     0.46647,     0.46747,     0.46847,     0.46947,     0.47047,     0.47147,     0.47247,     0.47347,     0.47447,     0.47548,     0.47648,     0.47748,     0.47848,     0.47948,\n",
            "           0.48048,     0.48148,     0.48248,     0.48348,     0.48448,     0.48549,     0.48649,     0.48749,     0.48849,     0.48949,     0.49049,     0.49149,     0.49249,     0.49349,     0.49449,      0.4955,      0.4965,      0.4975,      0.4985,      0.4995,      0.5005,      0.5015,      0.5025,      0.5035,\n",
            "            0.5045,     0.50551,     0.50651,     0.50751,     0.50851,     0.50951,     0.51051,     0.51151,     0.51251,     0.51351,     0.51451,     0.51552,     0.51652,     0.51752,     0.51852,     0.51952,     0.52052,     0.52152,     0.52252,     0.52352,     0.52452,     0.52553,     0.52653,     0.52753,\n",
            "           0.52853,     0.52953,     0.53053,     0.53153,     0.53253,     0.53353,     0.53453,     0.53554,     0.53654,     0.53754,     0.53854,     0.53954,     0.54054,     0.54154,     0.54254,     0.54354,     0.54454,     0.54555,     0.54655,     0.54755,     0.54855,     0.54955,     0.55055,     0.55155,\n",
            "           0.55255,     0.55355,     0.55455,     0.55556,     0.55656,     0.55756,     0.55856,     0.55956,     0.56056,     0.56156,     0.56256,     0.56356,     0.56456,     0.56557,     0.56657,     0.56757,     0.56857,     0.56957,     0.57057,     0.57157,     0.57257,     0.57357,     0.57457,     0.57558,\n",
            "           0.57658,     0.57758,     0.57858,     0.57958,     0.58058,     0.58158,     0.58258,     0.58358,     0.58458,     0.58559,     0.58659,     0.58759,     0.58859,     0.58959,     0.59059,     0.59159,     0.59259,     0.59359,     0.59459,      0.5956,      0.5966,      0.5976,      0.5986,      0.5996,\n",
            "            0.6006,      0.6016,      0.6026,      0.6036,      0.6046,     0.60561,     0.60661,     0.60761,     0.60861,     0.60961,     0.61061,     0.61161,     0.61261,     0.61361,     0.61461,     0.61562,     0.61662,     0.61762,     0.61862,     0.61962,     0.62062,     0.62162,     0.62262,     0.62362,\n",
            "           0.62462,     0.62563,     0.62663,     0.62763,     0.62863,     0.62963,     0.63063,     0.63163,     0.63263,     0.63363,     0.63463,     0.63564,     0.63664,     0.63764,     0.63864,     0.63964,     0.64064,     0.64164,     0.64264,     0.64364,     0.64464,     0.64565,     0.64665,     0.64765,\n",
            "           0.64865,     0.64965,     0.65065,     0.65165,     0.65265,     0.65365,     0.65465,     0.65566,     0.65666,     0.65766,     0.65866,     0.65966,     0.66066,     0.66166,     0.66266,     0.66366,     0.66466,     0.66567,     0.66667,     0.66767,     0.66867,     0.66967,     0.67067,     0.67167,\n",
            "           0.67267,     0.67367,     0.67467,     0.67568,     0.67668,     0.67768,     0.67868,     0.67968,     0.68068,     0.68168,     0.68268,     0.68368,     0.68468,     0.68569,     0.68669,     0.68769,     0.68869,     0.68969,     0.69069,     0.69169,     0.69269,     0.69369,     0.69469,      0.6957,\n",
            "            0.6967,      0.6977,      0.6987,      0.6997,      0.7007,      0.7017,      0.7027,      0.7037,      0.7047,     0.70571,     0.70671,     0.70771,     0.70871,     0.70971,     0.71071,     0.71171,     0.71271,     0.71371,     0.71471,     0.71572,     0.71672,     0.71772,     0.71872,     0.71972,\n",
            "           0.72072,     0.72172,     0.72272,     0.72372,     0.72472,     0.72573,     0.72673,     0.72773,     0.72873,     0.72973,     0.73073,     0.73173,     0.73273,     0.73373,     0.73473,     0.73574,     0.73674,     0.73774,     0.73874,     0.73974,     0.74074,     0.74174,     0.74274,     0.74374,\n",
            "           0.74474,     0.74575,     0.74675,     0.74775,     0.74875,     0.74975,     0.75075,     0.75175,     0.75275,     0.75375,     0.75475,     0.75576,     0.75676,     0.75776,     0.75876,     0.75976,     0.76076,     0.76176,     0.76276,     0.76376,     0.76476,     0.76577,     0.76677,     0.76777,\n",
            "           0.76877,     0.76977,     0.77077,     0.77177,     0.77277,     0.77377,     0.77477,     0.77578,     0.77678,     0.77778,     0.77878,     0.77978,     0.78078,     0.78178,     0.78278,     0.78378,     0.78478,     0.78579,     0.78679,     0.78779,     0.78879,     0.78979,     0.79079,     0.79179,\n",
            "           0.79279,     0.79379,     0.79479,      0.7958,      0.7968,      0.7978,      0.7988,      0.7998,      0.8008,      0.8018,      0.8028,      0.8038,      0.8048,     0.80581,     0.80681,     0.80781,     0.80881,     0.80981,     0.81081,     0.81181,     0.81281,     0.81381,     0.81481,     0.81582,\n",
            "           0.81682,     0.81782,     0.81882,     0.81982,     0.82082,     0.82182,     0.82282,     0.82382,     0.82482,     0.82583,     0.82683,     0.82783,     0.82883,     0.82983,     0.83083,     0.83183,     0.83283,     0.83383,     0.83483,     0.83584,     0.83684,     0.83784,     0.83884,     0.83984,\n",
            "           0.84084,     0.84184,     0.84284,     0.84384,     0.84484,     0.84585,     0.84685,     0.84785,     0.84885,     0.84985,     0.85085,     0.85185,     0.85285,     0.85385,     0.85485,     0.85586,     0.85686,     0.85786,     0.85886,     0.85986,     0.86086,     0.86186,     0.86286,     0.86386,\n",
            "           0.86486,     0.86587,     0.86687,     0.86787,     0.86887,     0.86987,     0.87087,     0.87187,     0.87287,     0.87387,     0.87487,     0.87588,     0.87688,     0.87788,     0.87888,     0.87988,     0.88088,     0.88188,     0.88288,     0.88388,     0.88488,     0.88589,     0.88689,     0.88789,\n",
            "           0.88889,     0.88989,     0.89089,     0.89189,     0.89289,     0.89389,     0.89489,      0.8959,      0.8969,      0.8979,      0.8989,      0.8999,      0.9009,      0.9019,      0.9029,      0.9039,      0.9049,     0.90591,     0.90691,     0.90791,     0.90891,     0.90991,     0.91091,     0.91191,\n",
            "           0.91291,     0.91391,     0.91491,     0.91592,     0.91692,     0.91792,     0.91892,     0.91992,     0.92092,     0.92192,     0.92292,     0.92392,     0.92492,     0.92593,     0.92693,     0.92793,     0.92893,     0.92993,     0.93093,     0.93193,     0.93293,     0.93393,     0.93493,     0.93594,\n",
            "           0.93694,     0.93794,     0.93894,     0.93994,     0.94094,     0.94194,     0.94294,     0.94394,     0.94494,     0.94595,     0.94695,     0.94795,     0.94895,     0.94995,     0.95095,     0.95195,     0.95295,     0.95395,     0.95495,     0.95596,     0.95696,     0.95796,     0.95896,     0.95996,\n",
            "           0.96096,     0.96196,     0.96296,     0.96396,     0.96496,     0.96597,     0.96697,     0.96797,     0.96897,     0.96997,     0.97097,     0.97197,     0.97297,     0.97397,     0.97497,     0.97598,     0.97698,     0.97798,     0.97898,     0.97998,     0.98098,     0.98198,     0.98298,     0.98398,\n",
            "           0.98498,     0.98599,     0.98699,     0.98799,     0.98899,     0.98999,     0.99099,     0.99199,     0.99299,     0.99399,     0.99499,       0.996,       0.997,       0.998,       0.999,           1]), array([[    0.89605,     0.89605,       0.875,     0.85395,     0.84342,     0.83158,     0.81842,     0.79605,     0.78947,     0.78026,     0.76711,     0.75789,        0.75,     0.74605,     0.73421,     0.72499,     0.71974,     0.71316,     0.70789,     0.70789,     0.70263,     0.69827,     0.69211,\n",
            "            0.68947,     0.68816,     0.68289,     0.68026,     0.67064,     0.66842,     0.66711,     0.66053,     0.65789,     0.65263,     0.65263,     0.64737,     0.64605,     0.64342,     0.63816,     0.63684,     0.63455,     0.63421,     0.63158,     0.63026,     0.62895,     0.62895,     0.62763,\n",
            "            0.62613,       0.625,     0.62237,     0.61842,     0.61842,     0.61367,     0.61024,     0.60595,     0.60395,     0.60395,     0.60395,     0.60395,     0.60145,     0.60021,     0.59868,     0.59868,     0.59605,     0.59605,     0.59342,     0.59342,     0.58947,     0.58947,     0.58553,\n",
            "            0.58553,     0.58553,     0.58553,     0.58295,     0.58158,     0.58158,     0.58026,     0.57763,     0.57548,     0.57237,     0.56974,     0.56974,     0.56842,     0.56842,     0.56579,     0.56447,     0.56447,     0.56447,     0.56368,     0.56262,     0.56053,     0.56053,     0.56053,\n",
            "            0.56053,     0.56053,     0.55973,     0.55789,     0.55658,     0.55658,     0.55526,     0.55526,     0.55526,     0.55526,     0.55263,     0.55263,     0.55263,     0.55263,     0.55263,     0.55132,     0.55132,     0.55132,        0.55,        0.55,     0.54737,     0.54737,     0.54605,\n",
            "            0.54571,     0.54477,     0.54342,     0.54319,     0.54211,     0.54079,     0.54079,     0.54079,     0.54079,     0.54079,     0.54079,     0.54079,     0.54079,     0.54038,     0.53725,     0.53595,     0.53553,      0.5321,     0.53158,     0.53158,     0.53158,     0.53026,     0.52895,\n",
            "            0.52895,     0.52895,     0.52895,     0.52895,     0.52895,     0.52895,     0.52763,     0.52632,     0.52492,     0.52237,     0.52237,     0.52105,     0.51974,     0.51711,     0.51579,     0.51579,     0.51447,     0.51408,     0.51345,     0.51184,     0.51184,     0.51056,     0.51053,\n",
            "            0.50757,     0.50658,     0.50658,     0.50658,     0.50658,     0.50643,     0.50263,     0.50132,     0.50132,     0.50132,         0.5,         0.5,         0.5,         0.5,     0.49946,     0.49868,     0.49868,     0.49698,     0.49605,     0.49605,     0.49494,     0.49342,     0.49342,\n",
            "            0.49342,     0.49342,     0.49342,     0.49342,     0.49342,     0.49342,     0.49342,     0.49342,      0.4917,     0.48947,     0.48838,     0.48816,     0.48813,     0.48705,     0.48642,     0.48553,     0.48553,     0.48553,     0.48462,     0.48421,     0.48421,     0.48421,     0.48421,\n",
            "            0.48421,     0.48421,     0.48421,     0.48421,     0.48421,     0.48158,     0.48158,     0.48012,     0.47949,     0.47895,     0.47895,     0.47763,     0.47738,     0.47695,     0.47651,     0.47632,      0.4753,     0.47419,     0.47368,     0.47368,     0.47368,     0.47368,     0.47368,\n",
            "            0.47105,     0.47105,     0.47105,     0.47105,     0.47105,     0.47105,     0.47105,     0.46974,     0.46935,     0.46842,     0.46842,     0.46842,     0.46842,     0.46842,     0.46842,     0.46711,     0.46579,     0.46579,     0.46579,     0.46579,     0.46447,     0.46447,     0.46447,\n",
            "            0.46447,     0.46447,     0.46447,     0.46447,     0.46447,     0.46447,     0.46252,     0.46052,     0.45919,     0.45842,     0.45789,     0.45526,     0.45496,     0.45447,     0.45398,     0.45395,     0.45395,     0.45289,     0.45263,     0.45263,     0.45263,     0.45263,     0.45263,\n",
            "            0.45263,     0.45263,     0.45132,        0.45,        0.45,        0.45,        0.45,        0.45,        0.45,        0.45,     0.44868,     0.44836,     0.44759,     0.44737,     0.44605,     0.44605,     0.44605,     0.44605,     0.44597,      0.4452,     0.44474,     0.44474,     0.44474,\n",
            "             0.4437,     0.44342,     0.44342,     0.44236,     0.44079,     0.44079,     0.44079,     0.44079,     0.44079,     0.44052,     0.43947,     0.43947,     0.43947,     0.43947,     0.43947,     0.43947,     0.43947,     0.43916,     0.43867,     0.43818,     0.43684,     0.43684,     0.43684,\n",
            "            0.43625,     0.43421,     0.43413,     0.43336,     0.43138,     0.43089,      0.4304,     0.42898,     0.42895,     0.42895,     0.42895,     0.42873,     0.42763,     0.42763,      0.4272,     0.42671,     0.42622,     0.42573,     0.42524,       0.425,       0.425,       0.425,       0.425,\n",
            "              0.425,       0.425,       0.425,       0.425,       0.425,     0.42499,     0.42368,     0.42368,     0.42368,     0.42368,     0.42368,     0.42368,     0.42368,     0.42368,     0.42368,     0.42368,     0.42368,     0.42354,     0.42305,     0.42256,     0.42237,     0.42237,     0.42237,\n",
            "            0.42237,     0.42237,     0.42203,     0.42098,     0.42072,     0.42047,     0.42021,     0.41995,     0.41974,     0.41974,     0.41974,     0.41909,     0.41841,     0.41764,     0.41711,     0.41711,     0.41711,     0.41711,     0.41711,     0.41665,     0.41598,     0.41538,     0.41446,\n",
            "            0.41311,     0.41053,     0.41046,     0.40969,     0.40789,      0.4071,     0.40601,     0.40466,     0.40395,     0.40395,     0.40263,     0.40157,     0.40077,     0.40009,         0.4,      0.3988,     0.39868,     0.39868,     0.39868,     0.39834,     0.39724,     0.39679,     0.39634,\n",
            "            0.39605,     0.39577,     0.39532,     0.39487,      0.3938,      0.3931,     0.39265,      0.3922,     0.39211,     0.39207,     0.39162,     0.39117,     0.39079,     0.39079,     0.39072,     0.39038,     0.39005,     0.38971,     0.38816,     0.38816,     0.38816,     0.38816,     0.38816,\n",
            "            0.38816,     0.38816,     0.38816,     0.38816,     0.38712,     0.38631,     0.38563,     0.38439,     0.38304,     0.38289,     0.38289,     0.38289,     0.38289,     0.38289,     0.38156,     0.38111,     0.38066,     0.38021,     0.37972,     0.37923,     0.37895,     0.37895,     0.37873,\n",
            "            0.37828,     0.37783,     0.37632,     0.37632,     0.37632,     0.37548,     0.37413,     0.37278,     0.37237,     0.37237,     0.37237,     0.37237,     0.37201,     0.37156,     0.37111,     0.37076,     0.37042,     0.37009,     0.36975,     0.36974,     0.36974,     0.36974,     0.36974,\n",
            "            0.36974,     0.36974,     0.36974,     0.36974,     0.36974,     0.36974,     0.36974,     0.36974,     0.36974,     0.36974,     0.36974,     0.36974,     0.36974,     0.36974,     0.36974,     0.36974,     0.36974,     0.36906,     0.36771,     0.36674,     0.36606,     0.36579,     0.36579,\n",
            "            0.36579,     0.36579,     0.36579,     0.36447,     0.36427,       0.364,     0.36373,     0.36346,     0.36319,     0.36316,     0.36316,     0.36316,     0.36316,     0.36316,     0.36316,     0.36316,     0.36316,     0.36316,     0.36316,     0.36184,     0.36184,     0.36184,     0.36184,\n",
            "            0.36184,     0.36184,     0.36184,     0.36184,      0.3614,     0.36053,     0.36002,     0.35912,      0.3589,     0.35867,     0.35845,     0.35822,       0.358,     0.35752,     0.35685,     0.35658,     0.35658,     0.35658,     0.35658,     0.35564,     0.35526,     0.35526,     0.35526,\n",
            "            0.35395,     0.35395,     0.35369,      0.3534,      0.3531,      0.3528,     0.35132,     0.35132,     0.35132,     0.35132,     0.35132,     0.34922,     0.34788,     0.34737,     0.34737,     0.34692,     0.34624,     0.34508,     0.34457,     0.34434,     0.34412,     0.34389,     0.34367,\n",
            "            0.34345,      0.3415,     0.34083,     0.33884,     0.33816,     0.33816,     0.33816,     0.33816,     0.33777,      0.3371,     0.33684,     0.33655,      0.3361,     0.33565,     0.33553,     0.33452,     0.33395,     0.33361,     0.33328,     0.33294,     0.33158,     0.33158,     0.33129,\n",
            "            0.33062,     0.32895,     0.32895,     0.32824,     0.32745,     0.32711,     0.32677,     0.32643,     0.32573,     0.32487,      0.3242,     0.32368,     0.32368,     0.32368,     0.32348,      0.3228,     0.32213,     0.32145,     0.32095,     0.32071,     0.32046,     0.32022,     0.31997,\n",
            "            0.31842,     0.31842,     0.31842,     0.31842,     0.31842,     0.31842,     0.31688,     0.31654,      0.3162,     0.31587,     0.31573,     0.31564,     0.31556,     0.31548,      0.3154,     0.31532,     0.31524,     0.31515,     0.31507,     0.31499,     0.31491,     0.31483,     0.31475,\n",
            "            0.31466,     0.31458,      0.3145,     0.31421,     0.31383,     0.31344,     0.31316,     0.31316,     0.31316,     0.31316,     0.31316,     0.31316,     0.31316,     0.31192,     0.31022,     0.30955,     0.30853,     0.30718,     0.30524,      0.3049,     0.30457,     0.30423,     0.30395,\n",
            "            0.30349,     0.30282,     0.30224,      0.3017,     0.30112,     0.30045,      0.2997,      0.2988,     0.29868,     0.29868,     0.29868,     0.29868,     0.29868,     0.29737,     0.29737,     0.29737,     0.29737,     0.29737,     0.29737,     0.29737,     0.29737,     0.29718,     0.29628,\n",
            "            0.29605,     0.29605,     0.29605,     0.29568,     0.29523,     0.29478,     0.29454,     0.29431,     0.29409,     0.29386,     0.29364,     0.29342,     0.29342,     0.29342,     0.29129,      0.2906,     0.28947,     0.28947,     0.28853,     0.28718,     0.28617,     0.28421,     0.28421,\n",
            "            0.28421,     0.28421,     0.28421,     0.28311,     0.28165,     0.28122,     0.28083,     0.28044,     0.27893,     0.27855,     0.27816,     0.27778,     0.27749,     0.27727,     0.27704,     0.27682,     0.27659,     0.27637,     0.27562,     0.27483,     0.27429,     0.27375,     0.27347,\n",
            "            0.27323,     0.27298,     0.27273,     0.27249,     0.27191,     0.27105,     0.27105,     0.26942,     0.26888,     0.26842,     0.26842,     0.26842,     0.26842,     0.26689,     0.26659,     0.26629,     0.26599,     0.26566,     0.26527,     0.26489,      0.2645,     0.26295,     0.26273,\n",
            "             0.2625,     0.26228,     0.26205,     0.26184,     0.26184,     0.26184,     0.26184,     0.26126,     0.25908,     0.25841,     0.25784,     0.25762,     0.25739,     0.25717,     0.25694,     0.25672,     0.25423,     0.25334,     0.25267,     0.25199,     0.25132,     0.24995,     0.24848,\n",
            "            0.24809,     0.24771,     0.24731,     0.24677,     0.24623,     0.24587,      0.2456,     0.24533,     0.24506,     0.24479,     0.24189,     0.24122,     0.24079,     0.24079,     0.24079,     0.24064,     0.24031,     0.23997,     0.23963,      0.2381,     0.23683,     0.23665,     0.23647,\n",
            "            0.23629,     0.23611,     0.23593,     0.23575,     0.23557,     0.23409,     0.23364,     0.23319,     0.23271,     0.23217,     0.23163,     0.22978,     0.22924,     0.22864,     0.22796,     0.22499,     0.22469,     0.22439,     0.22409,      0.2238,     0.22234,     0.22218,     0.22201,\n",
            "            0.22184,     0.22167,      0.2215,     0.22133,     0.22116,     0.22014,     0.21745,     0.21632,     0.21524,     0.21447,     0.21447,     0.21447,     0.21316,     0.21303,     0.21278,     0.21254,     0.21229,     0.21205,     0.21162,     0.21001,      0.2076,     0.20645,     0.20591,\n",
            "            0.20537,     0.20359,     0.20314,     0.20269,     0.20145,     0.20105,     0.20075,     0.20045,     0.20015,     0.19966,     0.19898,     0.19838,     0.19784,     0.19734,     0.19707,      0.1968,     0.19653,     0.19626,     0.19573,     0.19456,     0.19388,      0.1933,     0.19291,\n",
            "            0.19253,     0.19214,     0.19089,     0.19048,     0.19014,      0.1898,      0.1881,     0.18684,     0.18684,     0.18684,     0.18684,     0.18684,     0.18684,     0.18667,     0.18577,     0.18454,     0.18405,     0.18385,     0.18364,     0.18343,     0.18322,     0.18302,     0.18178,\n",
            "            0.18075,     0.17964,     0.17851,     0.17762,     0.17733,     0.17703,     0.17673,     0.17643,     0.17589,     0.17522,     0.17332,     0.17278,     0.17172,     0.17037,     0.16974,     0.16945,     0.16855,     0.16634,     0.16553,     0.16485,     0.16388,     0.16291,     0.16237,\n",
            "            0.16181,     0.16052,     0.16029,     0.16007,     0.15984,     0.15962,     0.15939,     0.15869,     0.15694,     0.15513,     0.15459,     0.15405,     0.15341,     0.15273,     0.15234,     0.15201,     0.15167,     0.15133,     0.15003,     0.14842,     0.14788,     0.14736,     0.14711,\n",
            "            0.14687,     0.14662,     0.14638,     0.14613,     0.14605,     0.14605,     0.14605,     0.14605,     0.14566,     0.14469,     0.14453,     0.14437,     0.14421,     0.14405,     0.14389,     0.14373,     0.14358,     0.14336,     0.14162,     0.14059,     0.13895,     0.13799,     0.13674,\n",
            "            0.13607,     0.13535,     0.13445,     0.13355,     0.13217,     0.13146,      0.1313,     0.13114,     0.13098,     0.13082,     0.13066,      0.1305,     0.13034,     0.13014,      0.1299,     0.12965,     0.12941,     0.12916,     0.12862,     0.12678,     0.12596,     0.12542,     0.12309,\n",
            "            0.11908,     0.11477,     0.10974,    0.097829,    0.089869,    0.074013,    0.051579,    0.034408,   0.0027633,           0,           0]]), 'Confidence', 'Recall']]\n",
            "fitness: 0.42509205979426246\n",
            "keys: ['metrics/precision(B)', 'metrics/recall(B)', 'metrics/mAP50(B)', 'metrics/mAP50-95(B)']\n",
            "maps: array([    0.41114])\n",
            "names: {0: 'pallets'}\n",
            "plot: True\n",
            "results_dict: {'metrics/precision(B)': 0.6618476586363549, 'metrics/recall(B)': 0.45263157894736844, 'metrics/mAP50(B)': 0.5506273069374121, 'metrics/mAP50-95(B)': 0.4111436990005791, 'fitness': 0.42509205979426246}\n",
            "save_dir: PosixPath('runs/detect/train3')\n",
            "speed: {'preprocess': 0.1384386649498573, 'inference': 0.6495874661665696, 'loss': 0.0004928845625657302, 'postprocess': 3.1824593360607443}\n",
            "task: 'detect'\n"
          ]
        }
      ]
    },
    {
      "cell_type": "code",
      "source": [
        "import pandas as pd\n",
        "import matplotlib.pyplot as plt\n",
        "\n",
        "# Load the CSV file\n",
        "csv_path = 'runs/detect/train/results.csv'  # Update the path if necessary\n",
        "df = pd.read_csv(csv_path)\n",
        "\n",
        "# Plot mAP@0.50 and mAP@0.50:0.95 across epochs\n",
        "plt.figure()\n",
        "plt.plot(df['metrics/mAP50(B)'], label='mAP@0.50')\n",
        "plt.plot(df['metrics/mAP50-95(B)'], label='mAP@0.50:0.95')\n",
        "plt.xlabel('Epoch')\n",
        "plt.ylabel('mAP')\n",
        "plt.title('mAP across Epochs')\n",
        "plt.legend()\n",
        "plt.show()\n",
        "\n",
        "# Plot Validation Losses\n",
        "plt.figure()\n",
        "plt.plot(df['val/box_loss'], label='Box Loss')\n",
        "plt.plot(df['val/cls_loss'], label='Classification Loss')\n",
        "plt.plot(df['val/dfl_loss'], label='DFL Loss')\n",
        "plt.xlabel('Epoch')\n",
        "plt.ylabel('Validation Loss')\n",
        "plt.title('Validation Losses across Epochs')\n",
        "plt.legend()\n",
        "plt.show()\n",
        "\n",
        "# Optionally, plot learning rates\n",
        "plt.figure()\n",
        "plt.plot(df['lr/pg0'], label='Learning Rate pg0')\n",
        "plt.plot(df['lr/pg1'], label='Learning Rate pg1')\n",
        "plt.plot(df['lr/pg2'], label='Learning Rate pg2')\n",
        "plt.xlabel('Epoch')\n",
        "plt.ylabel('Learning Rate')\n",
        "plt.title('Learning Rates across Epochs')\n",
        "plt.legend()\n",
        "plt.show()\n"
      ],
      "metadata": {
        "colab": {
          "base_uri": "https://localhost:8080/",
          "height": 1000
        },
        "id": "nGS0yliHUIgB",
        "outputId": "ac7bcc41-34db-485a-c740-48e57023a325"
      },
      "execution_count": null,
      "outputs": [
        {
          "output_type": "display_data",
          "data": {
            "text/plain": [
              "<Figure size 640x480 with 1 Axes>"
            ],
            "image/png": "[encoded data removed]"
          },
          "metadata": {}
        },
        {
          "output_type": "display_data",
          "data": {
            "text/plain": [
              "<Figure size 640x480 with 1 Axes>"
            ],
            "image/png": "[encoded data removed]"
          },
          "metadata": {}
        },
        {
          "output_type": "display_data",
          "data": {
            "text/plain": [
              "<Figure size 640x480 with 1 Axes>"
            ],
            "image/png": "[encoded data removed]"
          },
          "metadata": {}
        }
      ]
    },
    {
      "cell_type": "code",
      "source": [
        "#segmentation\n",
        "import cv2\n",
        "import os\n",
        "\n",
        "# Define paths\n",
        "mask_dir = \"/content/drive/MyDrive/seg_out_enhanced\"  # Directory with binary mask images\n",
        "label_dir = \"/content/drive/MyDrive/Segmentation_labels\"       # Directory to save YOLO-format label files\n",
        "os.makedirs(label_dir, exist_ok=True)\n",
        "\n",
        "# Define class index (for pallets, set to 0 based on your description)\n",
        "class_index = 0\n",
        "\n",
        "# Function to normalize coordinates\n",
        "def normalize_coordinates(coords, width, height):\n",
        "    return [(x / width, y / height) for (x, y) in coords]\n",
        "\n",
        "# Process each mask image\n",
        "for mask_filename in os.listdir(mask_dir):\n",
        "    if mask_filename.endswith(\".png\") or mask_filename.endswith(\".jpg\"):\n",
        "        # Load the mask image\n",
        "        mask_path = os.path.join(mask_dir, mask_filename)\n",
        "        mask = cv2.imread(mask_path, cv2.IMREAD_GRAYSCALE)\n",
        "        height, width = mask.shape\n",
        "\n",
        "        # Find contours (object boundaries) in the binary mask\n",
        "        contours, _ = cv2.findContours(mask, cv2.RETR_EXTERNAL, cv2.CHAIN_APPROX_SIMPLE)\n",
        "\n",
        "        # Prepare the label file\n",
        "        label_path = os.path.join(label_dir, f\"{os.path.splitext(mask_filename)[0]}.txt\")\n",
        "        with open(label_path, \"w\") as f:\n",
        "            # Process each contour\n",
        "            for contour in contours:\n",
        "                # Simplify the contour to reduce the number of points (optional)\n",
        "                epsilon = 0.01 * cv2.arcLength(contour, True)\n",
        "                contour = cv2.approxPolyDP(contour, epsilon, True)\n",
        "\n",
        "                # Get normalized coordinates of the contour points\n",
        "                normalized_coords = normalize_coordinates(contour.reshape(-1, 2), width, height)\n",
        "\n",
        "                # Format coordinates into the YOLO format string\n",
        "                coord_str = \" \".join(f\"{x:.3f} {y:.3f}\" for x, y in normalized_coords)\n",
        "                # Write the class index and coordinates to the label file\n",
        "                f.write(f\"{class_index} {coord_str}\\n\")\n",
        "\n",
        "print(\"YOLO segmentation labels generated successfully!\")\n"
      ],
      "metadata": {
        "colab": {
          "base_uri": "https://localhost:8080/",
          "height": 460
        },
        "id": "bwC4iqkWym83",
        "outputId": "3b83e8da-34b3-4c51-eec5-9436040c2cbe"
      },
      "execution_count": null,
      "outputs": [
        {
          "output_type": "error",
          "ename": "RuntimeError",
          "evalue": "DataLoader worker (pid 28885) exited unexpectedly with exit code 1. Details are lost due to multiprocessing. Rerunning with num_workers=0 may give better error trace.",
          "traceback": [
            "\u001b[0;31m---------------------------------------------------------------------------\u001b[0m",
            "\u001b[0;31mKeyboardInterrupt\u001b[0m                         Traceback (most recent call last)",
            "    \u001b[0;31m[... skipping hidden 1 frame]\u001b[0m\n",
            "\u001b[0;32m<ipython-input-24-d65d546733bf>\u001b[0m in \u001b[0;36m<cell line: 18>\u001b[0;34m()\u001b[0m\n\u001b[1;32m     29\u001b[0m         \u001b[0mlabel_path\u001b[0m \u001b[0;34m=\u001b[0m \u001b[0mos\u001b[0m\u001b[0;34m.\u001b[0m\u001b[0mpath\u001b[0m\u001b[0;34m.\u001b[0m\u001b[0mjoin\u001b[0m\u001b[0;34m(\u001b[0m\u001b[0mlabel_dir\u001b[0m\u001b[0;34m,\u001b[0m \u001b[0;34mf\"{os.path.splitext(mask_filename)[0]}.txt\"\u001b[0m\u001b[0;34m)\u001b[0m\u001b[0;34m\u001b[0m\u001b[0;34m\u001b[0m\u001b[0m\n\u001b[0;32m---> 30\u001b[0;31m         \u001b[0;32mwith\u001b[0m \u001b[0mopen\u001b[0m\u001b[0;34m(\u001b[0m\u001b[0mlabel_path\u001b[0m\u001b[0;34m,\u001b[0m \u001b[0;34m\"w\"\u001b[0m\u001b[0;34m)\u001b[0m \u001b[0;32mas\u001b[0m \u001b[0mf\u001b[0m\u001b[0;34m:\u001b[0m\u001b[0;34m\u001b[0m\u001b[0;34m\u001b[0m\u001b[0m\n\u001b[0m\u001b[1;32m     31\u001b[0m             \u001b[0;31m# Process each contour\u001b[0m\u001b[0;34m\u001b[0m\u001b[0;34m\u001b[0m\u001b[0m\n",
            "\u001b[0;32m/usr/lib/python3.10/codecs.py\u001b[0m in \u001b[0;36m__init__\u001b[0;34m(self, errors)\u001b[0m\n\u001b[1;32m    185\u001b[0m     \"\"\"\n\u001b[0;32m--> 186\u001b[0;31m     \u001b[0;32mdef\u001b[0m \u001b[0m__init__\u001b[0m\u001b[0;34m(\u001b[0m\u001b[0mself\u001b[0m\u001b[0;34m,\u001b[0m \u001b[0merrors\u001b[0m\u001b[0;34m=\u001b[0m\u001b[0;34m'strict'\u001b[0m\u001b[0;34m)\u001b[0m\u001b[0;34m:\u001b[0m\u001b[0;34m\u001b[0m\u001b[0;34m\u001b[0m\u001b[0m\n\u001b[0m\u001b[1;32m    187\u001b[0m         \"\"\"\n",
            "\u001b[0;31mKeyboardInterrupt\u001b[0m: ",
            "\nDuring handling of the above exception, another exception occurred:\n",
            "\u001b[0;31mRuntimeError\u001b[0m                              Traceback (most recent call last)",
            "\u001b[0;32m/usr/local/lib/python3.10/dist-packages/torch/utils/data/_utils/signal_handling.py\u001b[0m in \u001b[0;36mhandler\u001b[0;34m(signum, frame)\u001b[0m\n\u001b[1;32m     71\u001b[0m         \u001b[0;31m# This following call uses `waitid` with WNOHANG from C side. Therefore,\u001b[0m\u001b[0;34m\u001b[0m\u001b[0;34m\u001b[0m\u001b[0m\n\u001b[1;32m     72\u001b[0m         \u001b[0;31m# Python can still get and update the process status successfully.\u001b[0m\u001b[0;34m\u001b[0m\u001b[0;34m\u001b[0m\u001b[0m\n\u001b[0;32m---> 73\u001b[0;31m         \u001b[0m_error_if_any_worker_fails\u001b[0m\u001b[0;34m(\u001b[0m\u001b[0;34m)\u001b[0m\u001b[0;34m\u001b[0m\u001b[0;34m\u001b[0m\u001b[0m\n\u001b[0m\u001b[1;32m     74\u001b[0m         \u001b[0;32mif\u001b[0m \u001b[0mprevious_handler\u001b[0m \u001b[0;32mis\u001b[0m \u001b[0;32mnot\u001b[0m \u001b[0;32mNone\u001b[0m\u001b[0;34m:\u001b[0m\u001b[0;34m\u001b[0m\u001b[0;34m\u001b[0m\u001b[0m\n\u001b[1;32m     75\u001b[0m             \u001b[0;32massert\u001b[0m \u001b[0mcallable\u001b[0m\u001b[0;34m(\u001b[0m\u001b[0mprevious_handler\u001b[0m\u001b[0;34m)\u001b[0m\u001b[0;34m\u001b[0m\u001b[0;34m\u001b[0m\u001b[0m\n",
            "\u001b[0;31mRuntimeError\u001b[0m: DataLoader worker (pid 28885) exited unexpectedly with exit code 1. Details are lost due to multiprocessing. Rerunning with num_workers=0 may give better error trace."
          ]
        }
      ]
    },
    {
      "cell_type": "code",
      "source": [
        "import os\n",
        "import numpy as np\n",
        "import cv2\n",
        "\n",
        "# Define paths\n",
        "txt_file_path = \"/content/drive/MyDrive/Segmentation_labels/1579163715848-79_jpg.rf.01cce78460c67b680cfab8c4dd0f5498.txt\"  # Path to your segmentation .txt file\n",
        "orig_image_path = \"/content/drive/MyDrive/Pallets/1000736-6303_jpg.rf.92c0d6c8403755071eac22527c9ad815.jpg\"  # Path to save the binary mask\n",
        "original_img = cv2.imread(orig_image_path)\n",
        "output_image_path = \"test_img4.jpg\"\n",
        "print(original_img.shape)\n",
        "image_width = 416  # Replace with the original image width\n",
        "image_height = 416  # Replace with the original image height\n",
        "\n",
        "# Initialize a blank binary mask\n",
        "binary_mask = np.zeros((image_height, image_width), dtype=np.uint8)\n",
        "\n",
        "# Load the segmentation data from the .txt file\n",
        "with open(txt_file_path, \"r\") as f:\n",
        "    for line in f:\n",
        "        parts = line.strip().split()\n",
        "        if not parts:\n",
        "            continue\n",
        "\n",
        "        # The first part is the class index (we'll ignore it here)\n",
        "        class_index = int(parts[0])\n",
        "\n",
        "        # The remaining parts are the normalized coordinates\n",
        "        coords = list(map(float, parts[1:]))\n",
        "\n",
        "        # Group coordinates into (x, y) pairs and denormalize\n",
        "        polygon = []\n",
        "        for i in range(0, len(coords), 2):\n",
        "            x = int(coords[i] * image_width)\n",
        "            y = int(coords[i + 1] * image_height)\n",
        "            polygon.append((x, y))\n",
        "\n",
        "        # Draw the polygon on the binary mask\n",
        "        polygon = np.array([polygon], dtype=np.int32)\n",
        "        cv2.fillPoly(binary_mask, polygon, 255)  # Fill the polygon with white (255) on the mask\n",
        "\n",
        "# Save the binary mask\n",
        "cv2.imwrite(output_image_path, binary_mask)\n",
        "print(f\"Binary mask saved to {output_image_path}\")\n"
      ],
      "metadata": {
        "colab": {
          "base_uri": "https://localhost:8080/"
        },
        "id": "w55KRiwgFpew",
        "outputId": "5b2e6bc1-cbd0-4220-d51f-31a39c2c4a88"
      },
      "execution_count": null,
      "outputs": [
        {
          "output_type": "stream",
          "name": "stdout",
          "text": [
            "(416, 416, 3)\n",
            "Binary mask saved to test_img4.jpg\n"
          ]
        }
      ]
    },
    {
      "cell_type": "code",
      "source": [
        "# To segment manually using SAM large\n",
        "!git clone https://github.com/facebookresearch/segment-anything.git\n",
        "%cd segment-anything\n",
        "\n",
        "import os\n",
        "import cv2\n",
        "import numpy as np\n",
        "import torch\n",
        "from segment_anything import SamPredictor, sam_model_registry\n",
        "from PIL import Image\n",
        "\n",
        "# Initialize SAM model\n",
        "device = torch.device(\"cuda\" if torch.cuda.is_available() else \"cpu\")\n",
        "sam_model_type = \"vit_l\"  # Choose the model type (e.g., vit_b, vit_l, vit_h)\n",
        "sam_checkpoint = \"/content/drive/MyDrive/sam_vit_l_0b3195.pth\"  # Path to SAM model weights\n",
        "sam = sam_model_registry[sam_model_type](checkpoint=sam_checkpoint).to(device)\n",
        "predictor = SamPredictor(sam)\n",
        "\n",
        "# Paths to images and YOLO annotations\n",
        "image_dir = \"/content/drive/MyDrive/Pallets\"  # Directory with input images\n",
        "annotation_dir = \"/content/drive/MyDrive/Pallet_Annotation/yolo_annotations_enhanced\"  # Directory with YOLO annotations\n",
        "output_dir = \"/content/drive/MyDrive/seg_out_enhanced\"  # Output directory for segmentation maps\n",
        "label_output_dir = \"/content/drive/MyDrive/seg_labels_enhanced\"  # Output directory for labels\n",
        "# os.makedirs(output_dir, exist_ok=True)\n",
        "os.makedirs(label_output_dir, exist_ok=True)\n",
        "\n",
        "# Function to load YOLO annotations\n",
        "def load_yolo_boxes(annotation_file, img_width, img_height):\n",
        "    boxes = []\n",
        "    with open(annotation_file, \"r\") as f:\n",
        "        for line in f:\n",
        "            parts = line.strip().split()\n",
        "            # if not parts[0].isdigit():\n",
        "            parts = parts[1:]\n",
        "            x_center, y_center, width, height = map(float, parts)\n",
        "            x_min = max(0, int((x_center - width / 2) * img_width))\n",
        "            y_min = max(0, int((y_center - height / 2) * img_height))\n",
        "            x_max = int((x_center + width / 2) * img_width)\n",
        "            y_max = int((y_center + height / 2) * img_height)\n",
        "            if x_max > x_min and y_max > y_min:\n",
        "                boxes.append([x_min, y_min, x_max, y_max])\n",
        "    return boxes\n",
        "\n",
        "count = 0\n",
        "# Process each image and its corresponding annotation\n",
        "for image_filename in os.listdir(image_dir):\n",
        "    image_path = os.path.join(image_dir, image_filename)\n",
        "    annotation_path = os.path.join(annotation_dir, os.path.splitext(image_filename)[0] + \".txt\")\n",
        "\n",
        "    # Load image\n",
        "    image = np.array(Image.open(image_path).convert(\"RGB\"))\n",
        "    img_height, img_width = image.shape[:2]\n",
        "\n",
        "    # Load YOLO bounding boxes\n",
        "    if not os.path.exists(annotation_path):\n",
        "        print(\"Annotation not found:\", annotation_path)\n",
        "        continue\n",
        "    boxes = load_yolo_boxes(annotation_path, img_width, img_height)\n",
        "\n",
        "    # Prepare image for SAM\n",
        "    predictor.set_image(image)\n",
        "    boxes = np.array(boxes)\n",
        "    combined_mask = np.zeros((img_height, img_width), dtype=np.uint8)\n",
        "\n",
        "    # Label file path for this image\n",
        "    label_path = os.path.join(label_output_dir, f\"{os.path.splitext(image_filename)[0]}.txt\")\n",
        "    with open(label_path, \"w\") as label_file:\n",
        "\n",
        "        # Generate segmentation masks and save in text format for each bounding box\n",
        "        for box in boxes:\n",
        "            mask, _, _ = predictor.predict(box=box, multimask_output=False)\n",
        "            mask = mask[0].astype(np.uint8) * 255  # Convert boolean mask to binary (0 or 255)\n",
        "\n",
        "            # Resize the mask to fit the bounding box location within the combined mask\n",
        "            x_min, y_min, x_max, y_max = box\n",
        "            resized_mask = cv2.resize(mask, (x_max - x_min, y_max - y_min))\n",
        "\n",
        "            # Place the resized mask in the correct location in the combined mask\n",
        "            combined_mask[y_min:y_max, x_min:x_max] = np.maximum(combined_mask[y_min:y_max, x_min:x_max], resized_mask)\n",
        "\n",
        "            # Find contours in the mask to extract points for each object\n",
        "            contours, _ = cv2.findContours(resized_mask, cv2.RETR_EXTERNAL, cv2.CHAIN_APPROX_SIMPLE)\n",
        "\n",
        "            # For each contour, normalize coordinates and save to .txt file\n",
        "            for contour in contours:\n",
        "                # Normalize the coordinates of the contour points\n",
        "                normalized_coords = [\n",
        "                    (x_min + x) / img_width for x, _ in contour[:, 0, :]\n",
        "                ] + [\n",
        "                    (y_min + y) / img_height for _, y in contour[:, 0, :]\n",
        "                ]\n",
        "                # Flatten the list of coordinates\n",
        "                coord_str = \" \".join(f\"{coord:.6f}\" for coord in normalized_coords)\n",
        "\n",
        "                # Write class index (0 for pallets) and coordinates to the label file\n",
        "                label_file.write(f\"0 {coord_str}\\n\")\n",
        "\n",
        "    # Save the combined mask image\n",
        "    output_filename = os.path.join(output_dir, f\"{os.path.splitext(image_filename)[0]}.png\")\n",
        "    count += 1\n",
        "    # cv2.imwrite(output_filename, combined_mask)\n",
        "\n",
        "print(f\"Segmentation maps and labels saved. Total processed images: {count}\")\n"
      ],
      "metadata": {
        "colab": {
          "base_uri": "https://localhost:8080/"
        },
        "id": "Lm-5kAvoJVmI",
        "outputId": "5df49cd2-3f6d-438d-eb2c-b6f4315e88f9"
      },
      "execution_count": null,
      "outputs": [
        {
          "output_type": "stream",
          "name": "stdout",
          "text": [
            "Cloning into 'segment-anything'...\n",
            "remote: Enumerating objects: 304, done.\u001b[K\n",
            "remote: Counting objects:  16% (1/6)\u001b[K\rremote: Counting objects:  33% (2/6)\u001b[K\rremote: Counting objects:  50% (3/6)\u001b[K\rremote: Counting objects:  66% (4/6)\u001b[K\rremote: Counting objects:  83% (5/6)\u001b[K\rremote: Counting objects: 100% (6/6)\u001b[K\rremote: Counting objects: 100% (6/6), done.\u001b[K\n",
            "remote: Compressing objects: 100% (5/5), done.\u001b[K\n",
            "remote: Total 304 (delta 2), reused 3 (delta 1), pack-reused 298 (from 1)\u001b[K\n",
            "Receiving objects: 100% (304/304), 18.31 MiB | 37.20 MiB/s, done.\n",
            "Resolving deltas: 100% (159/159), done.\n",
            "/content/segment-anything/segment-anything\n"
          ]
        },
        {
          "output_type": "stream",
          "name": "stderr",
          "text": [
            "/content/segment-anything/segment_anything/modeling/prompt_encoder.py:199: UserWarning: cumsum_cuda_kernel does not have a deterministic implementation, but you set 'torch.use_deterministic_algorithms(True, warn_only=True)'. You can file an issue at https://github.com/pytorch/pytorch/issues to help us prioritize adding deterministic support for this operation. (Triggered internally at ../aten/src/ATen/Context.cpp:91.)\n",
            "  y_embed = grid.cumsum(dim=0) - 0.5\n",
            "/content/segment-anything/segment_anything/modeling/prompt_encoder.py:200: UserWarning: cumsum_cuda_kernel does not have a deterministic implementation, but you set 'torch.use_deterministic_algorithms(True, warn_only=True)'. You can file an issue at https://github.com/pytorch/pytorch/issues to help us prioritize adding deterministic support for this operation. (Triggered internally at ../aten/src/ATen/Context.cpp:91.)\n",
            "  x_embed = grid.cumsum(dim=1) - 0.5\n"
          ]
        },
        {
          "output_type": "stream",
          "name": "stdout",
          "text": [
            "Segmentation maps and labels saved. Total processed images: 519\n"
          ]
        }
      ]
    },
    {
      "cell_type": "code",
      "source": [
        "from ultralytics.data.annotator import auto_annotate\n",
        "\n",
        "auto_annotate(data=\"/content/drive/MyDrive/Pallets\", det_model=\"/content/runs/detect/train/weights/best.pt\", sam_model=\"sam_b.pt\", output_dir = '/content/drive/MyDrive/auto_annotate_seg')"
      ],
      "metadata": {
        "colab": {
          "base_uri": "https://localhost:8080/"
        },
        "id": "2Xjj1_eWZr38",
        "outputId": "709595e8-6ba8-4d7e-bfa1-77792c75e3df",
        "collapsed": true
      },
      "execution_count": null,
      "outputs": [
        {
          "output_type": "stream",
          "name": "stdout",
          "text": [
            "Downloading https://github.com/ultralytics/assets/releases/download/v8.3.0/sam_b.pt to 'sam_b.pt'...\n"
          ]
        },
        {
          "output_type": "stream",
          "name": "stderr",
          "text": [
            "100%|██████████| 358M/358M [00:12<00:00, 30.7MB/s]\n"
          ]
        },
        {
          "output_type": "stream",
          "name": "stdout",
          "text": [
            "\n",
            "image 1/519 /content/drive/MyDrive/Pallets/1000736-6303_jpg.rf.92c0d6c8403755071eac22527c9ad815.jpg: 640x640 3 palletss, 1 ground, 12.0ms\n",
            "image 2/519 /content/drive/MyDrive/Pallets/1014902-4606_jpg.rf.6898a8c6018412c618f84392537fea7d.jpg: 640x640 1 ground, 11.1ms\n",
            "image 3/519 /content/drive/MyDrive/Pallets/1041302-2676_jpg.rf.0aa375829dd491de1e616625efcd3a13.jpg: 640x640 1 pallets, 1 ground, 10.6ms\n",
            "image 4/519 /content/drive/MyDrive/Pallets/1063031-9187_jpg.rf.abc38713f828736b7123d30a2f8bb827.jpg: 640x640 1 pallets, 1 ground, 10.6ms\n",
            "image 5/519 /content/drive/MyDrive/Pallets/1111168-8003_jpg.rf.e38bdf04187a2016cc2300e03eeec91c.jpg: 640x640 2 palletss, 1 ground, 10.8ms\n",
            "image 6/519 /content/drive/MyDrive/Pallets/1159601-461_jpg.rf.342d4b4851283dddfde219515f9861d0.jpg: 640x640 1 pallets, 1 ground, 13.2ms\n",
            "image 7/519 /content/drive/MyDrive/Pallets/1210335-2054_jpg.rf.f3919fefd62f3398ac166a54ca47672e.jpg: 640x640 1 pallets, 1 ground, 10.7ms\n",
            "image 8/519 /content/drive/MyDrive/Pallets/1211768-1132_jpg.rf.3b5d8745b10b9cc8ba12710c1226cbb6.jpg: 640x640 1 pallets, 1 ground, 10.8ms\n",
            "image 9/519 /content/drive/MyDrive/Pallets/1284167-6196_jpg.rf.336692106e8538ca04d0a5d65ce856a0.jpg: 640x640 2 palletss, 1 ground, 11.0ms\n",
            "image 10/519 /content/drive/MyDrive/Pallets/1366296-2234_jpg.rf.740577a518467a1a9bba1f689b88c99e.jpg: 640x640 1 pallets, 1 ground, 11.0ms\n",
            "image 11/519 /content/drive/MyDrive/Pallets/1490599-2012_jpg.rf.0448c1701caeb6e9291d8116ab87b4b0.jpg: 640x640 1 ground, 11.2ms\n",
            "image 12/519 /content/drive/MyDrive/Pallets/1523528-9928_jpg.rf.72b97fae61b01490e09a48651b90339c.jpg: 640x640 1 pallets, 1 ground, 10.8ms\n",
            "image 13/519 /content/drive/MyDrive/Pallets/1564562462-5886269_jpg.rf.bb627ea02cf504c3f0a046911cfe48a8.jpg: 640x640 1 ground, 11.0ms\n",
            "image 14/519 /content/drive/MyDrive/Pallets/1564562504-1886058_jpg.rf.7584f7b952021b1465421cf10b02638e.jpg: 640x640 2 palletss, 1 ground, 10.6ms\n",
            "image 15/519 /content/drive/MyDrive/Pallets/1564562513447-27_jpg.rf.54e16bfd2d38bca79d0b811d328ea978.jpg: 640x640 4 palletss, 1 ground, 10.9ms\n",
            "image 16/519 /content/drive/MyDrive/Pallets/1564562557492-99_jpg.rf.b550ba087e81ef90e4d318db7b52f0fa.jpg: 640x640 3 palletss, 1 ground, 10.9ms\n",
            "image 17/519 /content/drive/MyDrive/Pallets/1564562558-053682_jpg.rf.529dc31e216c29ff83fcc09999507b54.jpg: 640x640 1 pallets, 1 ground, 11.6ms\n",
            "image 18/519 /content/drive/MyDrive/Pallets/1564562629-5272853_jpg.rf.09658164b37e6f28bb33a5999c4366b2.jpg: 640x640 2 palletss, 1 ground, 10.4ms\n",
            "image 19/519 /content/drive/MyDrive/Pallets/1564562642-7408607_jpg.rf.9e998a7c85057a2b6ca6246f713ed4ec.jpg: 640x640 2 palletss, 1 ground, 11.7ms\n",
            "image 20/519 /content/drive/MyDrive/Pallets/1564562648-8489418_jpg.rf.a5e6526b9db9aae7bbf6fdef48f74670.jpg: 640x640 1 ground, 10.6ms\n",
            "image 21/519 /content/drive/MyDrive/Pallets/1564562740-271396_jpg.rf.eca3376e54c4914c82c1628d121111ca.jpg: 640x640 2 palletss, 1 ground, 10.4ms\n",
            "image 22/519 /content/drive/MyDrive/Pallets/1564562832-8766208_jpg.rf.cee398e3c4c70e105b80a8d83bb2ab4f.jpg: 640x640 3 palletss, 1 ground, 12.6ms\n",
            "image 23/519 /content/drive/MyDrive/Pallets/1564562837-9688423_jpg.rf.e6248c1863f6d5c8e2978ca8490cf98d.jpg: 640x640 2 palletss, 1 ground, 10.6ms\n",
            "image 24/519 /content/drive/MyDrive/Pallets/1564562875-5935478_jpg.rf.0dc76b9987719a4b6e6fb457f1925ac8.jpg: 640x640 2 palletss, 1 ground, 10.5ms\n",
            "image 25/519 /content/drive/MyDrive/Pallets/1564562879889-45_jpg.rf.1f5de6c2cfbe3f9549f917874391d9fb.jpg: 640x640 2 palletss, 10.5ms\n",
            "image 26/519 /content/drive/MyDrive/Pallets/1564562881-697836_jpg.rf.79ec22c041097a4022f1a07bac69c638.jpg: 640x640 2 palletss, 1 ground, 10.3ms\n",
            "image 27/519 /content/drive/MyDrive/Pallets/1564562885-7863603_jpg.rf.d98e696f5ad6816c4f66144db1669038.jpg: 640x640 2 palletss, 1 ground, 10.2ms\n",
            "image 28/519 /content/drive/MyDrive/Pallets/1564562908-175581_jpg.rf.e7dd2aa26d8d1bc55ce078b8bfa852e9.jpg: 640x640 5 palletss, 1 ground, 10.7ms\n",
            "image 29/519 /content/drive/MyDrive/Pallets/1564562911-2067769_jpg.rf.57f1f926fe2da498e34ecca592e8f938.jpg: 640x640 3 palletss, 1 ground, 10.5ms\n",
            "image 30/519 /content/drive/MyDrive/Pallets/1564562913-2493865_jpg.rf.163a1ee0702c27f021280e80c87ef219.jpg: 640x640 4 palletss, 1 ground, 10.3ms\n",
            "image 31/519 /content/drive/MyDrive/Pallets/1564562916710-47_jpg.rf.d6cac1a4f33db6250ca3437ed44e2146.jpg: 640x640 2 palletss, 10.6ms\n",
            "image 32/519 /content/drive/MyDrive/Pallets/1564563110-5815756_jpg.rf.4e75449493dcdf262bdafec76d44173b.jpg: 640x640 1 pallets, 1 ground, 12.4ms\n",
            "image 33/519 /content/drive/MyDrive/Pallets/1564563112-631914_jpg.rf.64fcfaf72c719265713e51f1ecc0d82f.jpg: 640x640 2 palletss, 1 ground, 10.9ms\n",
            "image 34/519 /content/drive/MyDrive/Pallets/1564563152-2264738_jpg.rf.253ccc2dd1edd814f489752cf46dee05.jpg: 640x640 3 palletss, 1 ground, 10.7ms\n",
            "image 35/519 /content/drive/MyDrive/Pallets/1564563181-5758119_jpg.rf.81df1e849472b001db3c52ddd4d01953.jpg: 640x640 2 palletss, 1 ground, 11.2ms\n",
            "image 36/519 /content/drive/MyDrive/Pallets/1564563253-995207_jpg.rf.a627aed8c5abd2857478e587ac497ef7.jpg: 640x640 2 palletss, 1 ground, 11.1ms\n",
            "image 37/519 /content/drive/MyDrive/Pallets/1564563259-1441019_jpg.rf.96eb1b0f3ea657bb50b55e62085af9c2.jpg: 640x640 2 palletss, 1 ground, 10.7ms\n",
            "image 38/519 /content/drive/MyDrive/Pallets/1564563279-4191911_jpg.rf.a7947fb8e7de64741aa607636deae83e.jpg: 640x640 5 palletss, 1 ground, 10.5ms\n",
            "image 39/519 /content/drive/MyDrive/Pallets/1564563279-4213042_jpg.rf.1bc800024c0ddd6f2ebcb330931ad81b.jpg: 640x640 2 palletss, 1 ground, 10.6ms\n",
            "image 40/519 /content/drive/MyDrive/Pallets/1564563338-2304075_jpg.rf.a55e0195b3906898e1dbc5d2ecde8882.jpg: 640x640 2 palletss, 1 ground, 10.7ms\n",
            "image 41/519 /content/drive/MyDrive/Pallets/1564563368-7700672_jpg.rf.24b45545dffd4c9a5acc08ef978a6cfd.jpg: 640x640 2 palletss, 1 ground, 10.7ms\n",
            "image 42/519 /content/drive/MyDrive/Pallets/1564563375-9076285_jpg.rf.72cd25f74e845ee3eeb7a2bdd8b5aa85.jpg: 640x640 2 palletss, 1 ground, 10.5ms\n",
            "image 43/519 /content/drive/MyDrive/Pallets/1564563406-4411542_jpg.rf.0f631011721eeee47a730b04ff87a84b.jpg: 640x640 2 palletss, 1 ground, 10.5ms\n",
            "image 44/519 /content/drive/MyDrive/Pallets/1564563437-9349427_jpg.rf.51d00864faf56c966db64d229e59fa81.jpg: 640x640 4 palletss, 1 ground, 12.2ms\n",
            "image 45/519 /content/drive/MyDrive/Pallets/1564563456-1678703_jpg.rf.161aa8eb952cbbc95609223f794dc220.jpg: 640x640 2 palletss, 1 ground, 11.0ms\n",
            "image 46/519 /content/drive/MyDrive/Pallets/1564563473-4306836_jpg.rf.d23394c1c9c28bf15825a4c02d025e74.jpg: 640x640 2 palletss, 1 ground, 10.7ms\n",
            "image 47/519 /content/drive/MyDrive/Pallets/1564563664-6003265_jpg.rf.0f085ae1692f3a4bed589f00aecf5383.jpg: 640x640 3 palletss, 1 ground, 10.6ms\n",
            "image 48/519 /content/drive/MyDrive/Pallets/1564563696-0962741_jpg.rf.f6ec227e58032770bcd1f4b4ea7a2581.jpg: 640x640 2 palletss, 1 ground, 11.0ms\n",
            "image 49/519 /content/drive/MyDrive/Pallets/1564563819-998224_jpg.rf.1601f9b4002ae89da6fc334ab4f3a626.jpg: 640x640 5 palletss, 1 ground, 10.9ms\n",
            "image 50/519 /content/drive/MyDrive/Pallets/1564563917-9067333_jpg.rf.0ba6d542596347fff84f4d70476313a6.jpg: 640x640 2 palletss, 1 ground, 11.0ms\n",
            "image 51/519 /content/drive/MyDrive/Pallets/1564563923-9839232_jpg.rf.aabb565716c4fc09799efb702837f259.jpg: 640x640 2 palletss, 1 ground, 11.0ms\n",
            "image 52/519 /content/drive/MyDrive/Pallets/1564563945-3266575_jpg.rf.d8d78c41533bcd34c12bd04359c055a8.jpg: 640x640 4 palletss, 1 ground, 11.0ms\n",
            "image 53/519 /content/drive/MyDrive/Pallets/1564563947-3462377_jpg.rf.05918503b2ae64418c7486c6c8dbf8c3.jpg: 640x640 3 palletss, 1 ground, 10.9ms\n",
            "image 54/519 /content/drive/MyDrive/Pallets/1564564004-3937464_jpg.rf.33a180a289a97cf65d08f70ccac233b0.jpg: 640x640 4 palletss, 1 ground, 10.7ms\n",
            "image 55/519 /content/drive/MyDrive/Pallets/1564564005-412944_jpg.rf.057c4ea951fe5ca807d8bcb07e72e739.jpg: 640x640 3 palletss, 1 ground, 10.2ms\n",
            "image 56/519 /content/drive/MyDrive/Pallets/1564564020-6487424_jpg.rf.7bbc3f5b834f8d65dd030ac66902b3d7.jpg: 640x640 1 pallets, 1 ground, 10.4ms\n",
            "image 57/519 /content/drive/MyDrive/Pallets/1564564037-9521294_jpg.rf.59cf3ab7f482e51d0363a6e0befbdc56.jpg: 640x640 2 palletss, 1 ground, 12.5ms\n",
            "image 58/519 /content/drive/MyDrive/Pallets/1564564073-644894_jpg.rf.78d271aa9a6c31c7e58871485b54f1e8.jpg: 640x640 2 palletss, 1 ground, 10.5ms\n",
            "image 59/519 /content/drive/MyDrive/Pallets/1564564114-2246978_jpg.rf.bbd911d7f3626b1b5fb7f81703986c9d.jpg: 640x640 2 palletss, 1 ground, 10.2ms\n",
            "image 60/519 /content/drive/MyDrive/Pallets/1564564119-2665122_jpg.rf.7c4122158d99330a28c4a575b3286e9c.jpg: 640x640 2 palletss, 1 ground, 10.5ms\n",
            "image 61/519 /content/drive/MyDrive/Pallets/1564564151-7671437_jpg.rf.11bacaad3d2b49ce6e88e038f191923e.jpg: 640x640 2 palletss, 1 ground, 10.4ms\n",
            "image 62/519 /content/drive/MyDrive/Pallets/1564564225-8662603_jpg.rf.92a9030d35df40e96846bbf70186c04c.jpg: 640x640 4 palletss, 1 ground, 10.6ms\n",
            "image 63/519 /content/drive/MyDrive/Pallets/1564564238-002053_jpg.rf.38520dc1500faf9d2e5372529d44fd38.jpg: 640x640 3 palletss, 10.4ms\n",
            "image 64/519 /content/drive/MyDrive/Pallets/1564564253-26676_jpg.rf.e59eaa83c9169d6af0acbc1ad2a3863b.jpg: 640x640 1 pallets, 1 ground, 10.3ms\n",
            "image 65/519 /content/drive/MyDrive/Pallets/1564564269-5367193_jpg.rf.6a0b5f3538fe2746ecc575918a77dc23.jpg: 640x640 4 palletss, 1 ground, 10.4ms\n",
            "image 66/519 /content/drive/MyDrive/Pallets/1564564293-8917787_jpg.rf.b4792613019e673c81afaea6b4eeb509.jpg: 640x640 3 palletss, 1 ground, 10.6ms\n",
            "image 67/519 /content/drive/MyDrive/Pallets/1564564324-4348185_jpg.rf.f8886c66aac4b5897b0c5a776d214ad0.jpg: 640x640 1 ground, 11.0ms\n",
            "image 68/519 /content/drive/MyDrive/Pallets/1564564441-193432_jpg.rf.0e6ff697ff81fcbfbd1225160fb6bf07.jpg: 640x640 1 pallets, 1 ground, 11.0ms\n",
            "image 69/519 /content/drive/MyDrive/Pallets/1564564497194-7_jpg.rf.2853f329df0c7e94a790ed6a7033e47e.jpg: 640x640 4 palletss, 1 ground, 10.7ms\n",
            "image 70/519 /content/drive/MyDrive/Pallets/1564564498-1556869_jpg.rf.d46ccfe8ba510a4bdb5ebd34142640cb.jpg: 640x640 4 palletss, 1 ground, 10.9ms\n",
            "image 71/519 /content/drive/MyDrive/Pallets/1564564504-2637837_jpg.rf.3a52b37b1326ad0fa28a123b5d688161.jpg: 640x640 1 pallets, 1 ground, 10.8ms\n",
            "image 72/519 /content/drive/MyDrive/Pallets/1564564506796-28_jpg.rf.d4f201063aad22cf40d56d046564dd60.jpg: 640x640 5 palletss, 1 ground, 11.2ms\n",
            "image 73/519 /content/drive/MyDrive/Pallets/1564564543-7813487_jpg.rf.cff8f678da200419b3e7bf748f9ff2ae.jpg: 640x640 4 palletss, 11.1ms\n",
            "image 74/519 /content/drive/MyDrive/Pallets/1564564567-09893_jpg.rf.de5008e05ddbd23cf1ad5faceb651fc3.jpg: 640x640 1 pallets, 1 ground, 13.4ms\n",
            "image 75/519 /content/drive/MyDrive/Pallets/1564564567999-14_jpg.rf.af6adbec4ba415112e0d94b92551d8de.jpg: 640x640 3 palletss, 1 ground, 10.7ms\n",
            "image 76/519 /content/drive/MyDrive/Pallets/1564564580646-31_jpg.rf.b51fec9e8477110e96d1ecde79ba8388.jpg: 640x640 5 palletss, 1 ground, 11.1ms\n",
            "image 77/519 /content/drive/MyDrive/Pallets/1564564580749-95_jpg.rf.c9566aab2003b987b9e233453622112a.jpg: 640x640 3 palletss, 1 ground, 10.3ms\n",
            "image 78/519 /content/drive/MyDrive/Pallets/1564564588038-75_jpg.rf.9fdd942fe9773a2e494907ff7ae4eebb.jpg: 640x640 1 pallets, 1 ground, 11.0ms\n",
            "image 79/519 /content/drive/MyDrive/Pallets/1564564608-7540288_jpg.rf.1c1fd5272ae66f4f4368e7ea709adf3c.jpg: 640x640 2 palletss, 1 ground, 10.8ms\n",
            "image 80/519 /content/drive/MyDrive/Pallets/1564564614-8313203_jpg.rf.58257689f52961603d452f7826b61592.jpg: 640x640 2 palletss, 1 ground, 11.2ms\n",
            "image 81/519 /content/drive/MyDrive/Pallets/1564564619-895907_jpg.rf.f80de056f2657373524c6ea28705fae6.jpg: 640x640 6 palletss, 1 ground, 11.2ms\n",
            "image 82/519 /content/drive/MyDrive/Pallets/1564564625-022162_jpg.rf.06b5aec3a34a227b407ab23edd15bf95.jpg: 640x640 3 palletss, 1 ground, 10.6ms\n",
            "image 83/519 /content/drive/MyDrive/Pallets/1564564633139-25_jpg.rf.441864a73c1a4e35319559cf99bda1e0.jpg: 640x640 3 palletss, 1 ground, 12.0ms\n",
            "image 84/519 /content/drive/MyDrive/Pallets/1564564645-3099372_jpg.rf.78169f72fd2602e66a0041ed396d020d.jpg: 640x640 3 palletss, 1 ground, 10.5ms\n",
            "image 85/519 /content/drive/MyDrive/Pallets/1564564705-2180517_jpg.rf.fc5a6c094ff6c75d2cf7ee014595ccda.jpg: 640x640 2 palletss, 1 ground, 10.6ms\n",
            "image 86/519 /content/drive/MyDrive/Pallets/1564564752851-58_jpg.rf.546ea9df5216dd9ea0aa608f6ced6470.jpg: 640x640 6 palletss, 1 ground, 10.6ms\n",
            "image 87/519 /content/drive/MyDrive/Pallets/1564564866109-93_jpg.rf.cd74e78d1a98514307e7251c55afaf0c.jpg: 640x640 4 palletss, 1 ground, 10.5ms\n",
            "image 88/519 /content/drive/MyDrive/Pallets/1564564880-1781397_jpg.rf.bbdbd0e5f35fbf518cec395d081e42c5.jpg: 640x640 3 palletss, 1 ground, 10.5ms\n",
            "image 89/519 /content/drive/MyDrive/Pallets/1564564906843-11_jpg.rf.58bab3fa6e6ca98f3886d258cd169403.jpg: 640x640 5 palletss, 1 ground, 10.4ms\n",
            "image 90/519 /content/drive/MyDrive/Pallets/1564564911809-95_jpg.rf.adc540423f21cee4f83a6c80f51d7d7e.jpg: 640x640 3 palletss, 1 ground, 10.5ms\n",
            "image 91/519 /content/drive/MyDrive/Pallets/1564564965-5584183_jpg.rf.2dc8d05e035446483257bfc58d1f80a1.jpg: 640x640 2 palletss, 1 ground, 10.6ms\n",
            "image 92/519 /content/drive/MyDrive/Pallets/1564564972743-91_jpg.rf.9beb88948437b3081f9c945bb82642e9.jpg: 640x640 3 palletss, 1 ground, 10.6ms\n",
            "image 93/519 /content/drive/MyDrive/Pallets/1564564976325-2_jpg.rf.90f45bc63f29b425f67ebc1e6ebbf780.jpg: 640x640 3 palletss, 1 ground, 10.7ms\n",
            "image 94/519 /content/drive/MyDrive/Pallets/1564564983-9659345_jpg.rf.ce3164b47442867088f493aff34e4d1c.jpg: 640x640 2 palletss, 1 ground, 10.7ms\n",
            "image 95/519 /content/drive/MyDrive/Pallets/1564564989736-64_jpg.rf.9c48a976aa5f3b70380b3036eeb9e356.jpg: 640x640 4 palletss, 1 ground, 10.7ms\n",
            "image 96/519 /content/drive/MyDrive/Pallets/1564564999672-41_jpg.rf.e9e9791785160354e5fcf99d9bd3b3a1.jpg: 640x640 2 palletss, 1 ground, 10.5ms\n",
            "image 97/519 /content/drive/MyDrive/Pallets/1564565028979-98_jpg.rf.3636fa0f6cdc5b7776f957d3a8d00db9.jpg: 640x640 3 palletss, 1 ground, 11.0ms\n",
            "image 98/519 /content/drive/MyDrive/Pallets/1564565051-9060671_jpg.rf.5bf8810dbe1e9ee97746e500408fc465.jpg: 640x640 1 pallets, 1 ground, 11.0ms\n",
            "image 99/519 /content/drive/MyDrive/Pallets/1564565053155-31_jpg.rf.4fe0c9ae21407442d78541150d39cfdc.jpg: 640x640 2 palletss, 1 ground, 10.9ms\n",
            "image 100/519 /content/drive/MyDrive/Pallets/1564565062-004501_jpg.rf.552a1d59a1984f5b02a1a2494f6ec7b6.jpg: 640x640 2 palletss, 1 ground, 12.7ms\n",
            "image 101/519 /content/drive/MyDrive/Pallets/1564565076-154249_jpg.rf.8eec3a4a7af0fbb3f4f8291172dbd078.jpg: 640x640 2 palletss, 1 ground, 10.5ms\n",
            "image 102/519 /content/drive/MyDrive/Pallets/1564565105313-43_jpg.rf.9b3f373d179a734515cea11e10fac13e.jpg: 640x640 1 pallets, 1 ground, 11.0ms\n",
            "image 103/519 /content/drive/MyDrive/Pallets/1564565108790-36_jpg.rf.f624fdc6502d7731fa87357f9c7b0ba2.jpg: 640x640 2 palletss, 1 ground, 11.4ms\n",
            "image 104/519 /content/drive/MyDrive/Pallets/1564565112-7637706_jpg.rf.c86f9811267ac49cd2183dba9d80bd4c.jpg: 640x640 1 pallets, 1 ground, 11.8ms\n",
            "image 105/519 /content/drive/MyDrive/Pallets/1564565119884-04_jpg.rf.e200f115dd84913892904d0dc0d1b7e0.jpg: 640x640 4 palletss, 1 ground, 11.0ms\n",
            "image 106/519 /content/drive/MyDrive/Pallets/1564565120669-22_jpg.rf.c5240a30d5fd97793a0abb13931f829b.jpg: 640x640 2 palletss, 1 ground, 10.8ms\n",
            "image 107/519 /content/drive/MyDrive/Pallets/1564565194-002684_jpg.rf.4613f5c7fd5374b2b2a2e9fec38aef01.jpg: 640x640 3 palletss, 1 ground, 11.1ms\n",
            "image 108/519 /content/drive/MyDrive/Pallets/1564565222-4003818_jpg.rf.8cbdd5925039673632128d76f72bbc3d.jpg: 640x640 3 palletss, 1 ground, 11.1ms\n",
            "image 109/519 /content/drive/MyDrive/Pallets/1564565233-6147554_jpg.rf.51a5efd7571d8c790c658fdc81481a14.jpg: 640x640 2 palletss, 1 ground, 11.1ms\n",
            "image 110/519 /content/drive/MyDrive/Pallets/1564565316228-15_jpg.rf.b8993fd57de80e554f347e1c0b8be880.jpg: 640x640 4 palletss, 1 ground, 11.0ms\n",
            "image 111/519 /content/drive/MyDrive/Pallets/1574674847-3979993_jpg.rf.5372b8e536bf76f7d6dfd78e63c2ed3f.jpg: 640x640 3 palletss, 1 ground, 10.8ms\n",
            "image 112/519 /content/drive/MyDrive/Pallets/1574674858-4264317_jpg.rf.402898b177d1dd51503ba8d54d52c51b.jpg: 640x640 4 palletss, 1 ground, 10.5ms\n",
            "image 113/519 /content/drive/MyDrive/Pallets/1574674899-9846036_jpg.rf.aac47cf415727439f0794f6ac2f0d031.jpg: 640x640 3 palletss, 1 ground, 11.0ms\n",
            "image 114/519 /content/drive/MyDrive/Pallets/1574674901-0957634_jpg.rf.003ae31baeda6add5347d8623de97e32.jpg: 640x640 3 palletss, 2 grounds, 10.6ms\n",
            "image 115/519 /content/drive/MyDrive/Pallets/1574674929169-07_jpg.rf.f06320118aa6ee5cde323be89d40b7c2.jpg: 640x640 2 palletss, 1 ground, 10.8ms\n",
            "image 116/519 /content/drive/MyDrive/Pallets/1574674936-94951_jpg.rf.a804419af2fbeb883430df581fe0e4f1.jpg: 640x640 1 pallets, 1 ground, 11.2ms\n",
            "image 117/519 /content/drive/MyDrive/Pallets/1574674950859-98_jpg.rf.0702fa9da1a47751831fa6e0704454e8.jpg: 640x640 2 palletss, 1 ground, 12.4ms\n",
            "image 118/519 /content/drive/MyDrive/Pallets/1574674971-1990623_jpg.rf.089a1c6aae8c5e30197a1420727b1755.jpg: 640x640 4 palletss, 1 ground, 13.2ms\n",
            "image 119/519 /content/drive/MyDrive/Pallets/1574674984-4295294_jpg.rf.319f3bd21fd68395ede107ec9663d280.jpg: 640x640 3 palletss, 1 ground, 10.7ms\n",
            "image 120/519 /content/drive/MyDrive/Pallets/1574674988-8533869_jpg.rf.5f80ede609debc4f29d0a112125bc61f.jpg: 640x640 3 palletss, 1 ground, 10.8ms\n",
            "image 121/519 /content/drive/MyDrive/Pallets/1574675015436-8_jpg.rf.bc18290aa6259f6df3fe2e54195e1be9.jpg: 640x640 3 palletss, 11.1ms\n",
            "image 122/519 /content/drive/MyDrive/Pallets/1574675040-7550929_jpg.rf.50c67e19881f8fbdf1d47f8fd17ad71b.jpg: 640x640 1 pallets, 1 ground, 11.7ms\n",
            "image 123/519 /content/drive/MyDrive/Pallets/1574675046-9968197_jpg.rf.5abc6146be03f62686ce20527accdac1.jpg: 640x640 2 palletss, 1 ground, 11.4ms\n",
            "image 124/519 /content/drive/MyDrive/Pallets/1574675071-6811864_jpg.rf.295eec14352ae6098b3a7119afa78fc6.jpg: 640x640 2 palletss, 1 ground, 11.0ms\n",
            "image 125/519 /content/drive/MyDrive/Pallets/1574675071237-71_jpg.rf.02cddde61975070a8af393670bb68d4b.jpg: 640x640 2 palletss, 1 ground, 11.1ms\n",
            "image 126/519 /content/drive/MyDrive/Pallets/1574675093260-35_jpg.rf.a446631a556fafcf50666e85611042ac.jpg: 640x640 2 palletss, 11.2ms\n",
            "image 127/519 /content/drive/MyDrive/Pallets/1574675106-320153_jpg.rf.76b04e93726a538ce76918712e304c5f.jpg: 640x640 4 palletss, 1 ground, 10.7ms\n",
            "image 128/519 /content/drive/MyDrive/Pallets/1574675145-7230172_jpg.rf.e14d6db3d58ec4e277ce418ddd391965.jpg: 640x640 1 pallets, 1 ground, 10.9ms\n",
            "image 129/519 /content/drive/MyDrive/Pallets/1574675172-2514577_jpg.rf.728b789555ec5c383e4f4ad61ce10366.jpg: 640x640 3 palletss, 1 ground, 11.2ms\n",
            "image 130/519 /content/drive/MyDrive/Pallets/1574675220-9029324_jpg.rf.9b5727583da1d1e2e718c1a4e87c56c3.jpg: 640x640 2 palletss, 1 ground, 11.0ms\n",
            "image 131/519 /content/drive/MyDrive/Pallets/1574675328054-91_jpg.rf.0ab50b06ed188c76e47208dd03718cbf.jpg: 640x640 1 pallets, 11.3ms\n",
            "image 132/519 /content/drive/MyDrive/Pallets/1574675330-1570246_jpg.rf.9e5fff641e4ca6f094aaa9353c6fbc63.jpg: 640x640 2 palletss, 1 ground, 11.1ms\n",
            "image 133/519 /content/drive/MyDrive/Pallets/1574675345-6434352_jpg.rf.cc5db5971127a3b00e3fd8bd0c916fdc.jpg: 640x640 2 palletss, 1 ground, 11.5ms\n",
            "image 134/519 /content/drive/MyDrive/Pallets/1574675379-8566904_jpg.rf.8d71c335ec8a62601202fac7de1693b9.jpg: 640x640 1 pallets, 1 ground, 12.3ms\n",
            "image 135/519 /content/drive/MyDrive/Pallets/1574675428399-7_jpg.rf.15b7c811b5be564655fbc6e7df94d9a4.jpg: 640x640 2 palletss, 1 ground, 10.9ms\n",
            "image 136/519 /content/drive/MyDrive/Pallets/1574675471116-73_jpg.rf.095f23cbf81b9586bd0f54c22b0d7802.jpg: 640x640 1 pallets, 10.7ms\n",
            "image 137/519 /content/drive/MyDrive/Pallets/1574675495954-66_jpg.rf.332fc59d2845e7fcbbf6c56c36705967.jpg: 640x640 2 palletss, 1 ground, 11.0ms\n",
            "image 138/519 /content/drive/MyDrive/Pallets/1574675532217-24_jpg.rf.61a0624fcc334b4dad7b10d549dd1f91.jpg: 640x640 1 pallets, 10.9ms\n",
            "image 139/519 /content/drive/MyDrive/Pallets/1574675544635-36_jpg.rf.f9d3d506fc7428e0c01c42840b37c00a.jpg: 640x640 2 palletss, 1 ground, 11.2ms\n",
            "image 140/519 /content/drive/MyDrive/Pallets/1574675564339-86_jpg.rf.98c736e011dc0112b471e704663a5bcb.jpg: 640x640 4 palletss, 11.1ms\n",
            "image 141/519 /content/drive/MyDrive/Pallets/1574675568-4770262_jpg.rf.ad8fb73faf2c8765d5ca6e6e8c49f311.jpg: 640x640 2 palletss, 1 ground, 11.2ms\n",
            "image 142/519 /content/drive/MyDrive/Pallets/1574675584381-15_jpg.rf.89d58fbed21e432d0b56d4f1faf7b177.jpg: 640x640 2 palletss, 11.0ms\n",
            "image 143/519 /content/drive/MyDrive/Pallets/1574675594-9901083_jpg.rf.a0d0aab72f42e427252c24fbb1b70981.jpg: 640x640 1 pallets, 1 ground, 11.0ms\n",
            "image 144/519 /content/drive/MyDrive/Pallets/1574675674-5625844_jpg.rf.c7183a52d38b25ffad9f7945285fd0ce.jpg: 640x640 5 palletss, 1 ground, 11.3ms\n",
            "image 145/519 /content/drive/MyDrive/Pallets/1574675722-4208927_jpg.rf.13e5013edabe9a531ef098f671dd162f.jpg: 640x640 2 palletss, 1 ground, 11.1ms\n",
            "image 146/519 /content/drive/MyDrive/Pallets/1574675723-5172381_jpg.rf.189b83e492b3637ae414993a17d49ef0.jpg: 640x640 1 pallets, 1 ground, 11.2ms\n",
            "image 147/519 /content/drive/MyDrive/Pallets/1574675747-1029804_jpg.rf.3a870903d122b2f4b277383d8a91a0cb.jpg: 640x640 1 pallets, 1 ground, 11.5ms\n",
            "image 148/519 /content/drive/MyDrive/Pallets/1574675760388-28_jpg.rf.fa6bb24fced151b8db9a74badbe6d551.jpg: 640x640 4 palletss, 1 ground, 11.2ms\n",
            "image 149/519 /content/drive/MyDrive/Pallets/1574675795822-64_jpg.rf.2d275a51933616ad351963609e89daf6.jpg: 640x640 2 palletss, 1 ground, 10.8ms\n",
            "image 150/519 /content/drive/MyDrive/Pallets/1574675803439-09_jpg.rf.79b567413d12eeccdd08aa9a2faef4d4.jpg: 640x640 2 palletss, 1 ground, 11.7ms\n",
            "image 151/519 /content/drive/MyDrive/Pallets/1574675805-0053208_jpg.rf.95b08613bc8e0a53b2f06c61ec7773fe.jpg: 640x640 6 palletss, 1 ground, 11.1ms\n",
            "image 152/519 /content/drive/MyDrive/Pallets/1574675838874-33_jpg.rf.b900259c9b7e3f6f82e170aaa7f9224b.jpg: 640x640 3 palletss, 1 ground, 11.2ms\n",
            "image 153/519 /content/drive/MyDrive/Pallets/1574675843344-91_jpg.rf.1cf349c1c3d1d870f38af2204341c703.jpg: 640x640 4 palletss, 1 ground, 11.1ms\n",
            "image 154/519 /content/drive/MyDrive/Pallets/1574675847484-42_jpg.rf.bd390e5831259d3cb792f3890a9c5385.jpg: 640x640 3 palletss, 1 ground, 11.0ms\n",
            "image 155/519 /content/drive/MyDrive/Pallets/1574675855599-03_jpg.rf.bb7d58d1a63b2362bbf49dd095c92f59.jpg: 640x640 4 palletss, 1 ground, 11.1ms\n",
            "image 156/519 /content/drive/MyDrive/Pallets/1574675877455-2_jpg.rf.b02c541f1a49beab91f73cb5eaf05ad9.jpg: 640x640 6 palletss, 1 ground, 13.5ms\n",
            "image 157/519 /content/drive/MyDrive/Pallets/1574675880-5285752_jpg.rf.b6de615d2f5c41733adf382f7fbb8800.jpg: 640x640 1 pallets, 1 ground, 13.9ms\n",
            "image 158/519 /content/drive/MyDrive/Pallets/1574675881-2723544_jpg.rf.d444ececb9af2be2fbf8ccb67410b5c5.jpg: 640x640 3 palletss, 1 ground, 11.1ms\n",
            "image 159/519 /content/drive/MyDrive/Pallets/1574675884-5815227_jpg.rf.6bd65ca36b68e6ec1c5fdf697f357608.jpg: 640x640 3 palletss, 1 ground, 11.0ms\n",
            "image 160/519 /content/drive/MyDrive/Pallets/1574675984-0526953_jpg.rf.7fcf1278c0d26cf310e6e021c2bdbf36.jpg: 640x640 5 palletss, 1 ground, 11.2ms\n",
            "image 161/519 /content/drive/MyDrive/Pallets/1574676019-045351_jpg.rf.eb902fc16db0fca719eecd55f605c20b.jpg: 640x640 4 palletss, 1 ground, 11.1ms\n",
            "image 162/519 /content/drive/MyDrive/Pallets/1574676035-976945_jpg.rf.1a32d52acf90003d721ae3668f98bd94.jpg: 640x640 3 palletss, 1 ground, 11.1ms\n",
            "image 163/519 /content/drive/MyDrive/Pallets/1574676042-5946145_jpg.rf.20d1fa2bbc1c0ed6f7f60a80f46328a1.jpg: 640x640 1 pallets, 1 ground, 10.8ms\n",
            "image 164/519 /content/drive/MyDrive/Pallets/1574676112-1432595_jpg.rf.b316677f69afbbdb225ed1d599e04df9.jpg: 640x640 1 ground, 10.9ms\n",
            "image 165/519 /content/drive/MyDrive/Pallets/1574676161-0939708_jpg.rf.1448428c7a479e8d503b6251cd5f6df4.jpg: 640x640 4 palletss, 1 ground, 10.7ms\n",
            "image 166/519 /content/drive/MyDrive/Pallets/1574676163-6741621_jpg.rf.ac8e878c010cc8126d971ae4fe27bc7b.jpg: 640x640 2 palletss, 1 ground, 11.0ms\n",
            "image 167/519 /content/drive/MyDrive/Pallets/1574676210-4821746_jpg.rf.0456a46177da502e9258fbd30227cfcd.jpg: 640x640 3 palletss, 1 ground, 10.8ms\n",
            "image 168/519 /content/drive/MyDrive/Pallets/1574676213390-33_jpg.rf.4b49d5990fcf944682bf30f4c05452b8.jpg: 640x640 3 palletss, 1 ground, 11.2ms\n",
            "image 169/519 /content/drive/MyDrive/Pallets/1574676221-5361364_jpg.rf.a5197b95f541b58a9a7ebfb7cf5ae73f.jpg: 640x640 3 palletss, 1 ground, 10.7ms\n",
            "image 170/519 /content/drive/MyDrive/Pallets/1574676238-0701184_jpg.rf.337557449711eecdddf84e02904262d4.jpg: 640x640 3 palletss, 1 ground, 10.9ms\n",
            "image 171/519 /content/drive/MyDrive/Pallets/1574676441-2987163_jpg.rf.c7c3d7be1bbaa34cc443a54b0d4d8ac8.jpg: 640x640 2 palletss, 12.2ms\n",
            "image 172/519 /content/drive/MyDrive/Pallets/1574678432-8292773_jpg.rf.255fe6557d37a50d93fba45bfa05aff1.jpg: 640x640 3 palletss, 1 ground, 10.9ms\n",
            "image 173/519 /content/drive/MyDrive/Pallets/1574678570-7746537_jpg.rf.18555a8d6c7859a36283c5471934cf3b.jpg: 640x640 1 pallets, 1 ground, 10.8ms\n",
            "image 174/519 /content/drive/MyDrive/Pallets/1574678600-585359_jpg.rf.1393a71b1443afbe9c725f295f54c797.jpg: 640x640 2 palletss, 1 ground, 11.2ms\n",
            "image 175/519 /content/drive/MyDrive/Pallets/1574678615-6786532_jpg.rf.d45cdb37e4aeccc30a244bbf2fc65753.jpg: 640x640 2 palletss, 1 ground, 11.1ms\n",
            "image 176/519 /content/drive/MyDrive/Pallets/1574678622-6623657_jpg.rf.6bcabfc3f6b3292a967cc2bd22e7b16a.jpg: 640x640 1 pallets, 10.9ms\n",
            "image 177/519 /content/drive/MyDrive/Pallets/1574678623-3967745_jpg.rf.dcc5e67f52bc286392d16d92251fa9d0.jpg: 640x640 1 pallets, 1 ground, 11.7ms\n",
            "image 178/519 /content/drive/MyDrive/Pallets/1574678635-5572407_jpg.rf.03e472a3971c32e63fcbcbac61047eb8.jpg: 640x640 1 pallets, 1 ground, 10.8ms\n",
            "image 179/519 /content/drive/MyDrive/Pallets/1574678720-7446024_jpg.rf.bae38ff491df39d46452bdd26e6d885d.jpg: 640x640 1 pallets, 1 ground, 11.3ms\n",
            "image 180/519 /content/drive/MyDrive/Pallets/1574678722-9504724_jpg.rf.b55ba95f8271949ed115beca25128e46.jpg: 640x640 1 pallets, 1 ground, 11.0ms\n",
            "image 181/519 /content/drive/MyDrive/Pallets/1574679094-6900434_jpg.rf.59d933dd2f41683141f76fd16acfe028.jpg: 640x640 2 palletss, 1 ground, 10.7ms\n",
            "image 182/519 /content/drive/MyDrive/Pallets/1574679097-9963725_jpg.rf.97838782033143dd274c1819db8a0a5f.jpg: 640x640 2 palletss, 1 ground, 10.8ms\n",
            "image 183/519 /content/drive/MyDrive/Pallets/1574679106-8385172_jpg.rf.6482a51d45b4dc0eec715bb9d6929e28.jpg: 640x640 2 palletss, 1 ground, 10.6ms\n",
            "image 184/519 /content/drive/MyDrive/Pallets/1574679306-9302843_jpg.rf.254b83ec25cc21119a932fabd65c8ec1.jpg: 640x640 4 palletss, 10.9ms\n",
            "image 185/519 /content/drive/MyDrive/Pallets/1574679717-0518608_jpg.rf.2392d68e80bc31a51d1b779ac091a52b.jpg: 640x640 1 pallets, 1 ground, 18.0ms\n",
            "image 186/519 /content/drive/MyDrive/Pallets/1574680188-8220696_jpg.rf.fb05213da23cc9263cce83c967f9bb99.jpg: 640x640 1 pallets, 1 ground, 10.7ms\n",
            "image 187/519 /content/drive/MyDrive/Pallets/1574680213-0036175_jpg.rf.40b628f66ff25ea6e9beb2db03c76a65.jpg: 640x640 3 palletss, 1 ground, 10.7ms\n",
            "image 188/519 /content/drive/MyDrive/Pallets/1574680241-9828813_jpg.rf.37a4b2db1c77b4eeb6ebb81410ac2329.jpg: 640x640 2 palletss, 1 ground, 10.6ms\n",
            "image 189/519 /content/drive/MyDrive/Pallets/1574680561-9260354_jpg.rf.1feaa57c07920edca9f3d7b29a34e0fb.jpg: 640x640 5 palletss, 1 ground, 10.6ms\n",
            "image 190/519 /content/drive/MyDrive/Pallets/1574680571-851149_jpg.rf.bb06f5db202fd6a1d6d735cc93b0846a.jpg: 640x640 2 palletss, 1 ground, 10.6ms\n",
            "image 191/519 /content/drive/MyDrive/Pallets/1574680583-9238887_jpg.rf.3fee53a0a2fcd136244bd1b0603990c8.jpg: 640x640 3 palletss, 1 ground, 10.9ms\n",
            "image 192/519 /content/drive/MyDrive/Pallets/1574680599-31248_jpg.rf.e2d8748d515b0b21fda1f838be0da76a.jpg: 640x640 3 palletss, 1 ground, 10.8ms\n",
            "image 193/519 /content/drive/MyDrive/Pallets/1574680625-7344575_jpg.rf.3fd62b2fbcbaebfc150a054177501fc4.jpg: 640x640 3 palletss, 1 ground, 10.5ms\n",
            "image 194/519 /content/drive/MyDrive/Pallets/1574680833-161858_jpg.rf.13563004cdba72a33d10529caf118512.jpg: 640x640 2 palletss, 1 ground, 10.4ms\n",
            "image 195/519 /content/drive/MyDrive/Pallets/1574680847-212635_jpg.rf.44672b23c02dd976c879b87b5622fb88.jpg: 640x640 1 pallets, 1 ground, 12.0ms\n",
            "image 196/519 /content/drive/MyDrive/Pallets/1574680894-3566391_jpg.rf.199c2c970febbeb210175ead89a16900.jpg: 640x640 1 pallets, 1 ground, 11.2ms\n",
            "image 197/519 /content/drive/MyDrive/Pallets/1574680939-0240667_jpg.rf.561d7fcd0928f324d4dbdc2f20d26ca7.jpg: 640x640 4 palletss, 1 ground, 10.5ms\n",
            "image 198/519 /content/drive/MyDrive/Pallets/1574681301-7452023_jpg.rf.677a36e37e616c8941d446e3a22c8645.jpg: 640x640 1 pallets, 1 ground, 11.1ms\n",
            "image 199/519 /content/drive/MyDrive/Pallets/1574681310-9204135_jpg.rf.168128bb26ad96455f29f528681c232a.jpg: 640x640 4 palletss, 10.5ms\n",
            "image 200/519 /content/drive/MyDrive/Pallets/1574681735-6291656_jpg.rf.b7b53a686c040accf9a3a6d12fe6282d.jpg: 640x640 2 palletss, 1 ground, 11.2ms\n",
            "image 201/519 /content/drive/MyDrive/Pallets/1574681742-2271585_jpg.rf.1bb7bd8dd359858648d9101fdda05570.jpg: 640x640 3 palletss, 1 ground, 10.9ms\n",
            "image 202/519 /content/drive/MyDrive/Pallets/1574681826-8747158_jpg.rf.67989c006b75ea8d52573c5a4d2c3dad.jpg: 640x640 2 palletss, 1 ground, 10.8ms\n",
            "image 203/519 /content/drive/MyDrive/Pallets/1574681827-965445_jpg.rf.6f7675c8c02e8dcf072b400490aad139.jpg: 640x640 3 palletss, 1 ground, 10.7ms\n",
            "image 204/519 /content/drive/MyDrive/Pallets/1574681833-467182_jpg.rf.948b9556924c3351411614388c9cd32a.jpg: 640x640 2 palletss, 1 ground, 11.6ms\n",
            "image 205/519 /content/drive/MyDrive/Pallets/1574681866-4870656_jpg.rf.1ebbbdce743b06f823aca13733f2d39e.jpg: 640x640 2 palletss, 1 ground, 10.2ms\n",
            "image 206/519 /content/drive/MyDrive/Pallets/1574681874-188341_jpg.rf.f4ce0448ae06633f83dfd2beaada4b15.jpg: 640x640 2 palletss, 1 ground, 10.5ms\n",
            "image 207/519 /content/drive/MyDrive/Pallets/1574681885109-74_jpg.rf.17c1f484b0d3fd00caa69012330e9f47.jpg: 640x640 2 palletss, 1 ground, 10.5ms\n",
            "image 208/519 /content/drive/MyDrive/Pallets/1576591689764-88_jpg.rf.e0805e7dd3a98ac2d489e8e2f15cf247.jpg: 640x640 2 palletss, 12.3ms\n",
            "image 209/519 /content/drive/MyDrive/Pallets/1576591740-1848662_jpg.rf.499c8eae6d0743a2c38bdb95f7c2b99b.jpg: 640x640 3 palletss, 1 ground, 16.1ms\n",
            "image 210/519 /content/drive/MyDrive/Pallets/1576591750-4998326_jpg.rf.14ee88cde7db28956856047ce936cf9a.jpg: 640x640 3 palletss, 1 ground, 10.6ms\n",
            "image 211/519 /content/drive/MyDrive/Pallets/1576591984-727255_jpg.rf.cdd465df3028e7719f8bdd9325d0ae96.jpg: 640x640 2 palletss, 1 ground, 10.5ms\n",
            "image 212/519 /content/drive/MyDrive/Pallets/1576592000-1564353_jpg.rf.580892708b7e91122b31fea445d4ed44.jpg: 640x640 1 pallets, 1 ground, 16.2ms\n",
            "image 213/519 /content/drive/MyDrive/Pallets/1576592006-4469478_jpg.rf.cbc6c7ff2c92f23261a7dc27ad31d681.jpg: 640x640 1 pallets, 1 ground, 11.0ms\n",
            "image 214/519 /content/drive/MyDrive/Pallets/1576592036-3340125_jpg.rf.9f33120c4e0b2251aad22e9d7ed6ef7a.jpg: 640x640 3 palletss, 10.7ms\n",
            "image 215/519 /content/drive/MyDrive/Pallets/1576592040-4282_jpg.rf.a7144d42f9f5a8f36ee268dbc33b174c.jpg: 640x640 4 palletss, 1 ground, 10.6ms\n",
            "image 216/519 /content/drive/MyDrive/Pallets/1576592048-3216755_jpg.rf.64e70000518c7252dd8c833cbf4b4714.jpg: 640x640 5 palletss, 1 ground, 10.4ms\n",
            "image 217/519 /content/drive/MyDrive/Pallets/1576592269797-55_jpg.rf.2e17e4862e098523305ce423412b6530.jpg: 640x640 3 palletss, 1 ground, 10.5ms\n",
            "image 218/519 /content/drive/MyDrive/Pallets/1576592474280-3_jpg.rf.adbe9cac50b24f3fc1d30e5cfb671e52.jpg: 640x640 6 palletss, 1 ground, 11.7ms\n",
            "image 219/519 /content/drive/MyDrive/Pallets/1576592569-0801547_jpg.rf.deefaf661e1312c1fa3447b25e67bd69.jpg: 640x640 1 pallets, 10.3ms\n",
            "image 220/519 /content/drive/MyDrive/Pallets/1576592656-0728772_jpg.rf.1470a450ec980f72f50e59b49cc3454e.jpg: 640x640 2 palletss, 1 ground, 10.5ms\n",
            "image 221/519 /content/drive/MyDrive/Pallets/1576592663-3978252_jpg.rf.3e5c650da9be81d7d5f572b4dd3dc4d1.jpg: 640x640 4 palletss, 1 ground, 10.9ms\n",
            "image 222/519 /content/drive/MyDrive/Pallets/1576592712-8648534_jpg.rf.b1a8d8945e12c18a530b4f68dd0ff5fb.jpg: 640x640 2 palletss, 1 ground, 12.0ms\n",
            "image 223/519 /content/drive/MyDrive/Pallets/1576592911-27604_jpg.rf.a68747551ddeda538a4f2ed7a89d6282.jpg: 640x640 2 palletss, 10.5ms\n",
            "image 224/519 /content/drive/MyDrive/Pallets/1576592929056-4_jpg.rf.34fcb491165f542ffb6f822f0b25ad49.jpg: 640x640 3 palletss, 10.8ms\n",
            "image 225/519 /content/drive/MyDrive/Pallets/1576592934-1571093_jpg.rf.1a89c282758643faf04e830c8a57f3c7.jpg: 640x640 2 palletss, 1 ground, 11.9ms\n",
            "image 226/519 /content/drive/MyDrive/Pallets/1576592954057-88_jpg.rf.63c85055760fb921a8ef4df50733430c.jpg: 640x640 4 palletss, 1 ground, 10.6ms\n",
            "image 227/519 /content/drive/MyDrive/Pallets/1576593017-7446518_jpg.rf.504d7b56c9b6902c0f118cfe4470e61d.jpg: 640x640 3 palletss, 1 ground, 10.9ms\n",
            "image 228/519 /content/drive/MyDrive/Pallets/1576593070-9639418_jpg.rf.e155ac708b60fa9f1be0c863355fa5b9.jpg: 640x640 2 palletss, 1 ground, 10.8ms\n",
            "image 229/519 /content/drive/MyDrive/Pallets/1576593137-6827748_jpg.rf.4799a8337fcf6368a8dab16c04b7dab5.jpg: 640x640 1 pallets, 1 ground, 10.9ms\n",
            "image 230/519 /content/drive/MyDrive/Pallets/1576593141-0099733_jpg.rf.26abca1de91c137f53380ec346ca9c28.jpg: 640x640 1 pallets, 10.5ms\n",
            "image 231/519 /content/drive/MyDrive/Pallets/1576593160-2298274_jpg.rf.0b4dd3744c9592b0016cace1cb7af5ec.jpg: 640x640 2 palletss, 1 ground, 11.1ms\n",
            "image 232/519 /content/drive/MyDrive/Pallets/1576593160-9663491_jpg.rf.f065368119397d69a735db10ff29c5b1.jpg: 640x640 2 palletss, 1 ground, 10.6ms\n",
            "image 233/519 /content/drive/MyDrive/Pallets/1576593178-6697376_jpg.rf.915e0ba892dc43c33596e2fb81347f77.jpg: 640x640 1 pallets, 10.5ms\n",
            "image 234/519 /content/drive/MyDrive/Pallets/1576593186534-3_jpg.rf.156fe41bb46b0ff9c92b622f7c40b7ee.jpg: 640x640 4 palletss, 1 ground, 10.7ms\n",
            "image 235/519 /content/drive/MyDrive/Pallets/1576593206734-66_jpg.rf.2f1a88173fc0365001d2c68ebadaf4b1.jpg: 640x640 1 pallets, 1 ground, 12.6ms\n",
            "image 236/519 /content/drive/MyDrive/Pallets/1576593221-8680673_jpg.rf.d74ec7cb87ed8c1b164e66f0ee37644c.jpg: 640x640 3 palletss, 1 ground, 10.9ms\n",
            "image 237/519 /content/drive/MyDrive/Pallets/1576593263031-21_jpg.rf.c78f55b2bc400d12aa39c7fc79d0a7e8.jpg: 640x640 3 palletss, 1 ground, 10.7ms\n",
            "image 238/519 /content/drive/MyDrive/Pallets/1576593314-8535428_jpg.rf.b7d8b9d471dc52fdf472993e6839a634.jpg: 640x640 3 palletss, 1 ground, 10.4ms\n",
            "image 239/519 /content/drive/MyDrive/Pallets/1576593357-6272538_jpg.rf.15d843a64759c0cd6df37e0ffd052a13.jpg: 640x640 2 palletss, 10.5ms\n",
            "image 240/519 /content/drive/MyDrive/Pallets/1576593358-3581605_jpg.rf.e5b76652ab9072795201b7d6faa17903.jpg: 640x640 2 palletss, 1 ground, 10.4ms\n",
            "image 241/519 /content/drive/MyDrive/Pallets/1576593377202-6_jpg.rf.493b9f33160aa6c7a1ce7ffc56e5bcba.jpg: 640x640 3 palletss, 1 ground, 10.5ms\n",
            "image 242/519 /content/drive/MyDrive/Pallets/1576593431-2576625_jpg.rf.a23f519bf9586236906d1e8c03f11afb.jpg: 640x640 2 palletss, 10.5ms\n",
            "image 243/519 /content/drive/MyDrive/Pallets/1576593453-0518517_jpg.rf.74f09c14a96d2a086c703fdc331e6410.jpg: 640x640 3 palletss, 1 ground, 10.5ms\n",
            "image 244/519 /content/drive/MyDrive/Pallets/1576593485-84229_jpg.rf.8ec9408d9382d6a3cf7a8f195c358b01.jpg: 640x640 1 pallets, 11.8ms\n",
            "image 245/519 /content/drive/MyDrive/Pallets/1576593589-5124576_jpg.rf.b6e8f7d648fd4a4f98770bbdf45d9fb0.jpg: 640x640 3 palletss, 1 ground, 11.9ms\n",
            "image 246/519 /content/drive/MyDrive/Pallets/1576593590-2573757_jpg.rf.b53615eabcf8723501d4aa112308856c.jpg: 640x640 2 palletss, 1 ground, 10.6ms\n",
            "image 247/519 /content/drive/MyDrive/Pallets/1576593611-6224425_jpg.rf.61ee61e25c93154bd668e66be9d551d8.jpg: 640x640 1 pallets, 1 ground, 10.7ms\n",
            "image 248/519 /content/drive/MyDrive/Pallets/1576593627494-11_jpg.rf.83b982ae970a0328d0ebf392d48ada42.jpg: 640x640 4 palletss, 1 ground, 10.8ms\n",
            "image 249/519 /content/drive/MyDrive/Pallets/1576593632-66622_jpg.rf.916657cf7731a84dcff2140587e9df2a.jpg: 640x640 1 pallets, 10.8ms\n",
            "image 250/519 /content/drive/MyDrive/Pallets/1576593727600-21_jpg.rf.d2299b7887b307786973a130c8ed367e.jpg: 640x640 4 palletss, 1 ground, 10.8ms\n",
            "image 251/519 /content/drive/MyDrive/Pallets/1576593734-5974066_jpg.rf.70d8f119a5fb666d4020f43d26cfa776.jpg: 640x640 4 palletss, 1 ground, 10.6ms\n",
            "image 252/519 /content/drive/MyDrive/Pallets/1576593752-3416195_jpg.rf.f2f657870d5c31295052c14066c75181.jpg: 640x640 4 palletss, 1 ground, 10.4ms\n",
            "image 253/519 /content/drive/MyDrive/Pallets/1576593760-8596108_jpg.rf.32c442e244146f32099c10c0666623b1.jpg: 640x640 5 palletss, 1 ground, 10.6ms\n",
            "image 254/519 /content/drive/MyDrive/Pallets/1576593780-0521204_jpg.rf.d073175d26d2df7291a0d9ac70b7c405.jpg: 640x640 2 palletss, 10.4ms\n",
            "image 255/519 /content/drive/MyDrive/Pallets/1576593804-0853293_jpg.rf.6ecb6ed138a1bea931fc55ef6a874bfb.jpg: 640x640 3 palletss, 1 ground, 10.7ms\n",
            "image 256/519 /content/drive/MyDrive/Pallets/1576593810-7481027_jpg.rf.0d6b7942be1a7777a1e0de635234ce45.jpg: 640x640 4 palletss, 1 ground, 10.5ms\n",
            "image 257/519 /content/drive/MyDrive/Pallets/1576593843-1369352_jpg.rf.b1e04ae63838ac038cee0f54717f1131.jpg: 640x640 1 pallets, 1 ground, 10.6ms\n",
            "image 258/519 /content/drive/MyDrive/Pallets/1576593905-9443617_jpg.rf.5077929de4d90c3878603e39563a7ef2.jpg: 640x640 3 palletss, 1 ground, 11.3ms\n",
            "image 259/519 /content/drive/MyDrive/Pallets/1576593915-2000391_jpg.rf.fa3b28920100bcd9486672ba7974bedd.jpg: 640x640 4 palletss, 1 ground, 11.0ms\n",
            "image 260/519 /content/drive/MyDrive/Pallets/1576593925-2086785_jpg.rf.316840a80fb81d9b84d930f991991ee0.jpg: 640x640 3 palletss, 10.5ms\n",
            "image 261/519 /content/drive/MyDrive/Pallets/1576594021-7162247_jpg.rf.f6d48f6cd3b1f701a501222434153de6.jpg: 640x640 3 palletss, 10.5ms\n",
            "image 262/519 /content/drive/MyDrive/Pallets/1576594082-9448643_jpg.rf.20a2e62ee1d099579f397dec5567c1fe.jpg: 640x640 3 palletss, 10.4ms\n",
            "image 263/519 /content/drive/MyDrive/Pallets/1576594095-1039414_jpg.rf.b8186f7c1696dd5a2f9c32d0cf8ea817.jpg: 640x640 2 palletss, 1 ground, 10.7ms\n",
            "image 264/519 /content/drive/MyDrive/Pallets/1576594357-3295338_jpg.rf.1912b9e7c00cd97e7f902573ea451295.jpg: 640x640 2 palletss, 1 ground, 10.9ms\n",
            "image 265/519 /content/drive/MyDrive/Pallets/1576594811-8003807_jpg.rf.9c0b856843ca6f71298812362b319525.jpg: 640x640 2 palletss, 1 ground, 11.0ms\n",
            "image 266/519 /content/drive/MyDrive/Pallets/1576594812-532667_jpg.rf.f0247bb48abf103e5974d428d7cd1642.jpg: 640x640 1 pallets, 10.7ms\n",
            "image 267/519 /content/drive/MyDrive/Pallets/1576595217462-22_jpg.rf.a064678d3f311f6e52fd2cb7dc971f04.jpg: 640x640 3 palletss, 10.6ms\n",
            "image 268/519 /content/drive/MyDrive/Pallets/1576595407583-33_jpg.rf.f48efd5ee945d73f3aee196f1ef2e19b.jpg: 640x640 2 palletss, 1 ground, 10.9ms\n",
            "image 269/519 /content/drive/MyDrive/Pallets/1576595413-7409143_jpg.rf.69f1a5cc76ea704d34832052cc29e670.jpg: 640x640 1 pallets, 10.6ms\n",
            "image 270/519 /content/drive/MyDrive/Pallets/1576595485-205702_jpg.rf.05285608977f624be025d50ff5a43f6f.jpg: 640x640 3 palletss, 1 ground, 10.6ms\n",
            "image 271/519 /content/drive/MyDrive/Pallets/1576595531-7959466_jpg.rf.dd241903e9ab40d9a7888f395a75a384.jpg: 640x640 3 palletss, 1 ground, 10.4ms\n",
            "image 272/519 /content/drive/MyDrive/Pallets/1576595593-4578862_jpg.rf.ef9db7ef3d65b75f56b99f602d71fc07.jpg: 640x640 5 palletss, 1 ground, 10.8ms\n",
            "image 273/519 /content/drive/MyDrive/Pallets/1576595638567-68_jpg.rf.77264fd69e8302b1cc7b968de5681239.jpg: 640x640 4 palletss, 1 ground, 10.5ms\n",
            "image 274/519 /content/drive/MyDrive/Pallets/1576595653-6005688_jpg.rf.ca25519a63e7dfe82820a4eafbfa6c57.jpg: 640x640 3 palletss, 1 ground, 10.7ms\n",
            "image 275/519 /content/drive/MyDrive/Pallets/1576595690559-83_jpg.rf.71b7545ee61e4d1b2c59b44c43a551e1.jpg: 640x640 2 palletss, 1 ground, 10.5ms\n",
            "image 276/519 /content/drive/MyDrive/Pallets/1576595710-5028307_jpg.rf.491a6ef00003e204b00f62ebd420b633.jpg: 640x640 3 palletss, 1 ground, 11.0ms\n",
            "image 277/519 /content/drive/MyDrive/Pallets/1576595718-2912374_jpg.rf.653ee2bd6ad1e22845b028312a7e6fb6.jpg: 640x640 3 palletss, 1 ground, 10.8ms\n",
            "image 278/519 /content/drive/MyDrive/Pallets/1576595758-1803427_jpg.rf.62174a0337e458890df16d12ab9c40fb.jpg: 640x640 4 palletss, 1 ground, 13.6ms\n",
            "image 279/519 /content/drive/MyDrive/Pallets/1576595777-6807187_jpg.rf.833974acfba6cae2c44018c72237c08d.jpg: 640x640 1 pallets, 1 ground, 11.0ms\n",
            "image 280/519 /content/drive/MyDrive/Pallets/1576595800-150642_jpg.rf.08c95de8705199534d5775ceae47c6e5.jpg: 640x640 4 palletss, 1 ground, 10.8ms\n",
            "image 281/519 /content/drive/MyDrive/Pallets/1576595808-6382363_jpg.rf.9921f2ab900f45fa01ce2c42f86b810d.jpg: 640x640 2 palletss, 1 ground, 11.2ms\n",
            "image 282/519 /content/drive/MyDrive/Pallets/1576595820-450321_jpg.rf.c69ee4bb9406fcdbc0bb6c532f0c6036.jpg: 640x640 2 palletss, 1 ground, 10.8ms\n",
            "image 283/519 /content/drive/MyDrive/Pallets/1576595824-890256_jpg.rf.f2428ee72af26150fd3f1332f0cdd04d.jpg: 640x640 1 pallets, 10.9ms\n",
            "image 284/519 /content/drive/MyDrive/Pallets/1576595846-3087447_jpg.rf.0c847b44967b97023d7a36be5e8f7541.jpg: 640x640 2 palletss, 1 ground, 11.1ms\n",
            "image 285/519 /content/drive/MyDrive/Pallets/1576595862-5301063_jpg.rf.dc9d436a349797612ed3746ea9e66aa1.jpg: 640x640 2 palletss, 1 ground, 11.1ms\n",
            "image 286/519 /content/drive/MyDrive/Pallets/1576595920881-67_jpg.rf.e4eba31d6a5d79e22b9129217de0697a.jpg: 640x640 3 palletss, 1 ground, 11.1ms\n",
            "image 287/519 /content/drive/MyDrive/Pallets/1576595995-011055_jpg.rf.20ccacf076c639637c49c05c8c3ea089.jpg: 640x640 3 palletss, 1 ground, 10.7ms\n",
            "image 288/519 /content/drive/MyDrive/Pallets/1576596019-3746989_jpg.rf.e70c94de969ef6296a259646eb918313.jpg: 640x640 4 palletss, 1 ground, 12.2ms\n",
            "image 289/519 /content/drive/MyDrive/Pallets/1576596075-0650432_jpg.rf.69220198e79f4f6e44f766e875de1872.jpg: 640x640 2 palletss, 11.1ms\n",
            "image 290/519 /content/drive/MyDrive/Pallets/1576596075202-78_jpg.rf.8508799598ebd9e3f20bd0edf4801cb9.jpg: 640x640 4 palletss, 1 ground, 10.6ms\n",
            "image 291/519 /content/drive/MyDrive/Pallets/1576596080-5941865_jpg.rf.7e3717c803a8ce7df622e26a2d96840c.jpg: 640x640 3 palletss, 1 ground, 11.1ms\n",
            "image 292/519 /content/drive/MyDrive/Pallets/1576596191-0563583_jpg.rf.0c0b5fe8f3047b3470b8c384772be791.jpg: 640x640 3 palletss, 1 ground, 11.0ms\n",
            "image 293/519 /content/drive/MyDrive/Pallets/1576596229358-07_jpg.rf.4edadb2deabd623fd63ff0a58e6f4aa2.jpg: 640x640 5 palletss, 1 ground, 11.0ms\n",
            "image 294/519 /content/drive/MyDrive/Pallets/1576596265951-11_jpg.rf.fd0c6d0ff2fcaf35c08c73f97601c559.jpg: 640x640 3 palletss, 12.4ms\n",
            "image 295/519 /content/drive/MyDrive/Pallets/1579163258-0587647_jpg.rf.9b9e3748e521790847d509ed69da508a.jpg: 640x640 1 pallets, 1 ground, 11.0ms\n",
            "image 296/519 /content/drive/MyDrive/Pallets/1579163284-124246_jpg.rf.03d0d7c46752ce85b59b7a045d82bea3.jpg: 640x640 3 palletss, 1 ground, 11.0ms\n",
            "image 297/519 /content/drive/MyDrive/Pallets/1579163354-132157_jpg.rf.289aeb0f60f9668c62574e9388a1d9f7.jpg: 640x640 1 pallets, 1 ground, 11.1ms\n",
            "image 298/519 /content/drive/MyDrive/Pallets/1579163389986-09_jpg.rf.457dd366759a656ab2f4190cfd091769.jpg: 640x640 2 palletss, 1 ground, 10.9ms\n",
            "image 299/519 /content/drive/MyDrive/Pallets/1579163398-6177025_jpg.rf.fb4a3d58f2eca328077e32ac5faaa47f.jpg: 640x640 2 palletss, 1 ground, 10.9ms\n",
            "image 300/519 /content/drive/MyDrive/Pallets/1579163403-3200178_jpg.rf.6ed70bc71eb7735320d15be26fc3631f.jpg: 640x640 4 palletss, 1 ground, 10.8ms\n",
            "image 301/519 /content/drive/MyDrive/Pallets/1579163458204-93_jpg.rf.3787e86213a7ef1f0ecd7e38b99d9092.jpg: 640x640 3 palletss, 1 ground, 11.8ms\n",
            "image 302/519 /content/drive/MyDrive/Pallets/1579163460-1564646_jpg.rf.324e7d2e6c13c226df15bc5b7b4d4a25.jpg: 640x640 2 palletss, 1 ground, 10.8ms\n",
            "image 303/519 /content/drive/MyDrive/Pallets/1579163483-3342624_jpg.rf.e31df461adb8dbd0673951c8cd9ae14c.jpg: 640x640 2 palletss, 1 ground, 11.2ms\n",
            "image 304/519 /content/drive/MyDrive/Pallets/1579163485692-24_jpg.rf.651b8e5b4bf712d7cd62748e765b3f16.jpg: 640x640 3 palletss, 1 ground, 11.4ms\n",
            "image 305/519 /content/drive/MyDrive/Pallets/1579163489-4986608_jpg.rf.41d1bfd9c5159d557095e8dab7c82fa2.jpg: 640x640 1 pallets, 1 ground, 10.4ms\n",
            "image 306/519 /content/drive/MyDrive/Pallets/1579163497117-18_jpg.rf.fd16ce127631b411e4b22eb402c21202.jpg: 640x640 3 palletss, 1 ground, 10.7ms\n",
            "image 307/519 /content/drive/MyDrive/Pallets/1579163504073-7_jpg.rf.8e908fc480aebae682159c7e9e994fde.jpg: 640x640 2 palletss, 1 ground, 10.7ms\n",
            "image 308/519 /content/drive/MyDrive/Pallets/1579163576-0436416_jpg.rf.1ddc48e82bf2ae02630f3b44935ec60d.jpg: 640x640 1 pallets, 1 ground, 12.2ms\n",
            "image 309/519 /content/drive/MyDrive/Pallets/1579163598948-59_jpg.rf.2006598bb8762b39be755298f471296c.jpg: 640x640 1 pallets, 1 ground, 10.3ms\n",
            "image 310/519 /content/drive/MyDrive/Pallets/1579163627-0891926_jpg.rf.a72663220a11816a5bd97f1574431e83.jpg: 640x640 2 palletss, 1 ground, 10.4ms\n",
            "image 311/519 /content/drive/MyDrive/Pallets/1579163690-184766_jpg.rf.3bbfacad705eed10049d8ab9f0925168.jpg: 640x640 2 palletss, 1 ground, 10.5ms\n",
            "image 312/519 /content/drive/MyDrive/Pallets/1579163692-3571644_jpg.rf.29196c230eb581b558f39a36bcbe442d.jpg: 640x640 4 palletss, 1 ground, 12.0ms\n",
            "image 313/519 /content/drive/MyDrive/Pallets/1579163704-6508482_jpg.rf.71514332c237ab277736923b45c0cff9.jpg: 640x640 3 palletss, 1 ground, 10.5ms\n",
            "image 314/519 /content/drive/MyDrive/Pallets/1579163711-889331_jpg.rf.48801ef97ca3cf8b03948e68d7b35625.jpg: 640x640 3 palletss, 1 ground, 13.2ms\n",
            "image 315/519 /content/drive/MyDrive/Pallets/1579163714854-77_jpg.rf.8cbb1b7b06ca4fea70c95fb58392f7c4.jpg: 640x640 1 pallets, 1 ground, 10.7ms\n",
            "image 316/519 /content/drive/MyDrive/Pallets/1579163715848-79_jpg.rf.01cce78460c67b680cfab8c4dd0f5498.jpg: 640x640 1 pallets, 1 ground, 10.4ms\n",
            "image 317/519 /content/drive/MyDrive/Pallets/1579163757409-08_jpg.rf.9b7d4590875f97e5e6aecbd4151741a0.jpg: 640x640 2 palletss, 1 ground, 11.1ms\n",
            "image 318/519 /content/drive/MyDrive/Pallets/1579163768337-28_jpg.rf.1054c5e267b597bfe12135e0354da1b0.jpg: 640x640 1 pallets, 1 ground, 10.4ms\n",
            "image 319/519 /content/drive/MyDrive/Pallets/1579163777-4856954_jpg.rf.eeedfa305fb7cdc7cca05a1644e1eae4.jpg: 640x640 2 palletss, 1 ground, 10.8ms\n",
            "image 320/519 /content/drive/MyDrive/Pallets/1579163823972-83_jpg.rf.41ce62ba7806b1d28be34a209aa2659b.jpg: 640x640 3 palletss, 1 ground, 10.6ms\n",
            "image 321/519 /content/drive/MyDrive/Pallets/1579163942031-7_jpg.rf.9d3ceee95d71ca7b809800c7b6a38118.jpg: 640x640 3 palletss, 1 ground, 11.0ms\n",
            "image 322/519 /content/drive/MyDrive/Pallets/1579163962-361971_jpg.rf.917d4d2429adbeef243923dd40a51c23.jpg: 640x640 1 pallets, 1 ground, 14.5ms\n",
            "image 323/519 /content/drive/MyDrive/Pallets/1579164060-2072306_jpg.rf.5808f7d07ea3fc149931d46612d236f0.jpg: 640x640 2 palletss, 1 ground, 11.0ms\n",
            "image 324/519 /content/drive/MyDrive/Pallets/1579164079-416613_jpg.rf.46a27528377e88534bf5495abe80ff10.jpg: 640x640 2 palletss, 1 ground, 10.8ms\n",
            "image 325/519 /content/drive/MyDrive/Pallets/1579164163-8178449_jpg.rf.fb73b1454c0993d419b742374550010e.jpg: 640x640 1 pallets, 1 ground, 10.9ms\n",
            "image 326/519 /content/drive/MyDrive/Pallets/1579164170-7007685_jpg.rf.54b24f072c5d7328116599d3424fa47a.jpg: 640x640 2 palletss, 1 ground, 14.6ms\n",
            "image 327/519 /content/drive/MyDrive/Pallets/1579164185-965247_jpg.rf.df7ba59ce8d0e24dd0a94175c6c9b7d7.jpg: 640x640 4 palletss, 12.3ms\n",
            "image 328/519 /content/drive/MyDrive/Pallets/1579164192-1308327_jpg.rf.398807130a0d855e933415fb28e8febe.jpg: 640x640 1 pallets, 1 ground, 11.0ms\n",
            "image 329/519 /content/drive/MyDrive/Pallets/1579164232790-89_jpg.rf.e4232bcba123385d265389607bfb8e39.jpg: 640x640 1 pallets, 1 ground, 10.6ms\n",
            "image 330/519 /content/drive/MyDrive/Pallets/1579164273359-34_jpg.rf.182903f1afd5ea37337946f247787c6e.jpg: 640x640 4 palletss, 1 ground, 10.4ms\n",
            "image 331/519 /content/drive/MyDrive/Pallets/1579164284-5658035_jpg.rf.6113daab1e9269396e5ce1901dd14caa.jpg: 640x640 1 pallets, 1 ground, 10.6ms\n",
            "image 332/519 /content/drive/MyDrive/Pallets/1579164295-0813005_jpg.rf.43e807230ed2be55e9e297d04767f750.jpg: 640x640 1 pallets, 1 ground, 10.4ms\n",
            "image 333/519 /content/drive/MyDrive/Pallets/1579164329822-12_jpg.rf.3eafa767e28a90ed87cb31b2860d0584.jpg: 640x640 2 palletss, 1 ground, 10.6ms\n",
            "image 334/519 /content/drive/MyDrive/Pallets/1579164346877-05_jpg.rf.9f232a6aff4dd20f2626a76a30cfd3f3.jpg: 640x640 1 pallets, 1 ground, 10.7ms\n",
            "image 335/519 /content/drive/MyDrive/Pallets/1579164375-8988903_jpg.rf.e40e491a489430e4cc7197eea92df3c9.jpg: 640x640 3 palletss, 1 ground, 10.5ms\n",
            "image 336/519 /content/drive/MyDrive/Pallets/1579164393-297723_jpg.rf.555ca894a5dd1c71e4758a3afaee0d3e.jpg: 640x640 2 palletss, 1 ground, 10.8ms\n",
            "image 337/519 /content/drive/MyDrive/Pallets/1579164412611-85_jpg.rf.059e013f2253e827213ede1d27ae515d.jpg: 640x640 3 palletss, 1 ground, 11.1ms\n",
            "image 338/519 /content/drive/MyDrive/Pallets/1579164458-8922875_jpg.rf.9cf2be8c567c789e512c1cd95b05ce88.jpg: 640x640 5 palletss, 1 ground, 10.7ms\n",
            "image 339/519 /content/drive/MyDrive/Pallets/1579164535-0077477_jpg.rf.3f5862f6ca835e230eb3e2d630124910.jpg: 640x640 2 palletss, 1 ground, 11.8ms\n",
            "image 340/519 /content/drive/MyDrive/Pallets/1579164546401-1_jpg.rf.f5d40f4596f421d53eb49be125eb9f77.jpg: 640x640 1 pallets, 1 ground, 11.0ms\n",
            "image 341/519 /content/drive/MyDrive/Pallets/1579164563456-04_jpg.rf.fc51f5d0415f44baae22a580a9248498.jpg: 640x640 1 pallets, 1 ground, 17.5ms\n",
            "image 342/519 /content/drive/MyDrive/Pallets/1579164566-5557292_jpg.rf.862124da46ad3e9583b2341bcd44ab60.jpg: 640x640 1 pallets, 1 ground, 10.8ms\n",
            "image 343/519 /content/drive/MyDrive/Pallets/1579164570411-38_jpg.rf.a7122df365e1d00a8bc1bb009378da8b.jpg: 640x640 2 palletss, 1 ground, 11.2ms\n",
            "image 344/519 /content/drive/MyDrive/Pallets/1579164590-8476436_jpg.rf.183ac3daf355b4388f2109ac4407b1ed.jpg: 640x640 3 palletss, 1 ground, 10.8ms\n",
            "image 345/519 /content/drive/MyDrive/Pallets/1579164605-7086775_jpg.rf.814be0950349b978a6ae03faad29ddd0.jpg: 640x640 2 palletss, 1 ground, 10.9ms\n",
            "image 346/519 /content/drive/MyDrive/Pallets/1579164696-6845875_jpg.rf.cace020ae4a1827efbf683ec9655116e.jpg: 640x640 2 palletss, 1 ground, 10.7ms\n",
            "image 347/519 /content/drive/MyDrive/Pallets/1579164702-4788203_jpg.rf.2055326d4ae1445a53858a0b3e5d1966.jpg: 640x640 5 palletss, 1 ground, 10.7ms\n",
            "image 348/519 /content/drive/MyDrive/Pallets/1579164731023-54_jpg.rf.1a50a7799f74519ecce76404a30838e1.jpg: 640x640 2 palletss, 1 ground, 11.2ms\n",
            "image 349/519 /content/drive/MyDrive/Pallets/1579164757-9667983_jpg.rf.edf54bbff7dcb4934891d1ebb3d6df13.jpg: 640x640 2 palletss, 1 ground, 10.4ms\n",
            "image 350/519 /content/drive/MyDrive/Pallets/1579164832855-19_jpg.rf.6dd3f245d06d7758419852d03200aa24.jpg: 640x640 1 pallets, 1 ground, 10.4ms\n",
            "image 351/519 /content/drive/MyDrive/Pallets/1579164836830-85_jpg.rf.9ae8304e15a3b60f14d9f507a97dbabc.jpg: 640x640 2 palletss, 1 ground, 11.0ms\n",
            "image 352/519 /content/drive/MyDrive/Pallets/1579164866-6537786_jpg.rf.8351b8cc061a595b1ce64dccf20503c4.jpg: 640x640 2 palletss, 1 ground, 10.6ms\n",
            "image 353/519 /content/drive/MyDrive/Pallets/1579164868-8326545_jpg.rf.056f790a0d9591f410a44948c6b8c68e.jpg: 640x640 4 palletss, 1 ground, 10.6ms\n",
            "image 354/519 /content/drive/MyDrive/Pallets/1579164888-0507016_jpg.rf.da71c190b66f9646233c7a9347dad6ba.jpg: 640x640 2 palletss, 1 ground, 11.9ms\n",
            "image 355/519 /content/drive/MyDrive/Pallets/1579164918-8791964_jpg.rf.178f313218b2e2367fe6dd4c55ee2964.jpg: 640x640 3 palletss, 1 ground, 10.5ms\n",
            "image 356/519 /content/drive/MyDrive/Pallets/1579164940-2718668_jpg.rf.26f613081c9c81d61e8a78559011dcb8.jpg: 640x640 2 palletss, 1 ground, 10.7ms\n",
            "image 357/519 /content/drive/MyDrive/Pallets/1579165008536-55_jpg.rf.c3e51eddd7ed29f70f9b6ca75ad285be.jpg: 640x640 3 palletss, 1 ground, 10.4ms\n",
            "image 358/519 /content/drive/MyDrive/Pallets/1579165064835-33_jpg.rf.849732ac95219f72e64b668070cce45a.jpg: 640x640 2 palletss, 1 ground, 10.9ms\n",
            "image 359/519 /content/drive/MyDrive/Pallets/1579165088180-98_jpg.rf.8e3f0cbecc4091ff63372f1c93735365.jpg: 640x640 1 pallets, 1 ground, 10.3ms\n",
            "image 360/519 /content/drive/MyDrive/Pallets/1579165146-19246_jpg.rf.e1ed4b6a6608ad5585290b254a35e83c.jpg: 640x640 4 palletss, 1 ground, 10.6ms\n",
            "image 361/519 /content/drive/MyDrive/Pallets/1579165190-3987918_jpg.rf.749bd810b0f85771a182e5e989a7ecaa.jpg: 640x640 3 palletss, 1 ground, 10.4ms\n",
            "image 362/519 /content/drive/MyDrive/Pallets/1579165261-1098924_jpg.rf.76b6ff9d21147dc719172e22647b8fb6.jpg: 640x640 2 palletss, 1 ground, 10.7ms\n",
            "image 363/519 /content/drive/MyDrive/Pallets/1579165269493-95_jpg.rf.3c06268ace4fcd51358632aa383e2fe2.jpg: 640x640 1 pallets, 1 ground, 10.7ms\n",
            "image 364/519 /content/drive/MyDrive/Pallets/1579165304-658784_jpg.rf.b4fd56e06f090148c546f9e65b5bfcd0.jpg: 640x640 4 palletss, 1 ground, 11.9ms\n",
            "image 365/519 /content/drive/MyDrive/Pallets/1579165348-414935_jpg.rf.ba1d95502a72acb8f9cdb72e2fd36bb1.jpg: 640x640 5 palletss, 1 ground, 12.6ms\n",
            "image 366/519 /content/drive/MyDrive/Pallets/1579165360-3612704_jpg.rf.a5db192c0c0777086680ef7d69273432.jpg: 640x640 3 palletss, 1 ground, 10.6ms\n",
            "image 367/519 /content/drive/MyDrive/Pallets/1579165389-0477474_jpg.rf.a30f9a007f8f5b63ab44b397958d84ea.jpg: 640x640 2 palletss, 1 ground, 11.1ms\n",
            "image 368/519 /content/drive/MyDrive/Pallets/1579165482-5021696_jpg.rf.2b5a7f142908dd46bc46691c74e1878c.jpg: 640x640 2 palletss, 1 ground, 11.0ms\n",
            "image 369/519 /content/drive/MyDrive/Pallets/1579165585-2862303_jpg.rf.20ba361c17b3fd8b4af8fcc7b8f2ae3b.jpg: 640x640 3 palletss, 1 ground, 11.5ms\n",
            "image 370/519 /content/drive/MyDrive/Pallets/1579165590280-96_jpg.rf.9633c01225796f59106932282d479146.jpg: 640x640 2 palletss, 1 ground, 11.3ms\n",
            "image 371/519 /content/drive/MyDrive/Pallets/1579165612633-66_jpg.rf.6583818cd3e840b072fbe13fe1a6c4cc.jpg: 640x640 3 palletss, 1 ground, 11.1ms\n",
            "image 372/519 /content/drive/MyDrive/Pallets/1579165650-8778071_jpg.rf.5a8a08c5b46796789db8152ae41bc0fe.jpg: 640x640 5 palletss, 1 ground, 10.7ms\n",
            "image 373/519 /content/drive/MyDrive/Pallets/1579165668-2395704_jpg.rf.5af25c6ff90fe26cdc7e62ac67ebafff.jpg: 640x640 3 palletss, 1 ground, 10.9ms\n",
            "image 374/519 /content/drive/MyDrive/Pallets/1579165706-9628217_jpg.rf.aacb687d29ecfd8f5783a7af304fd8fc.jpg: 640x640 4 palletss, 1 ground, 11.1ms\n",
            "image 375/519 /content/drive/MyDrive/Pallets/1579165723-96164_jpg.rf.45da5de8f1fa6ede6d651bdd8f534c0d.jpg: 640x640 1 pallets, 1 ground, 11.0ms\n",
            "image 376/519 /content/drive/MyDrive/Pallets/1579165757351-14_jpg.rf.6702aae86cccd9bdcb6003d8b90e61a4.jpg: 640x640 3 palletss, 1 ground, 10.8ms\n",
            "image 377/519 /content/drive/MyDrive/Pallets/1579165766292-15_jpg.rf.cc2f99be7f3addd60854131363732810.jpg: 640x640 2 palletss, 1 ground, 11.0ms\n",
            "image 378/519 /content/drive/MyDrive/Pallets/1579165804-2784626_jpg.rf.4044efd768a0d30e483938742830c3ec.jpg: 640x640 2 palletss, 1 ground, 10.9ms\n",
            "image 379/519 /content/drive/MyDrive/Pallets/1579165882-7939787_jpg.rf.fc717ef5eb81a6c26c96a56b16c35fec.jpg: 640x640 2 palletss, 1 ground, 10.8ms\n",
            "image 380/519 /content/drive/MyDrive/Pallets/1579165916-0687387_jpg.rf.85767ac999fb0b6a94b3e8777d888fb9.jpg: 640x640 1 pallets, 1 ground, 10.3ms\n",
            "image 381/519 /content/drive/MyDrive/Pallets/1579165942470-55_jpg.rf.e748fdd5d55b62271c4d4a897da651fd.jpg: 640x640 3 palletss, 1 ground, 10.4ms\n",
            "image 382/519 /content/drive/MyDrive/Pallets/1579165953-0547156_jpg.rf.09d44da1c72e644c9188968a2a679476.jpg: 640x640 2 palletss, 1 ground, 10.5ms\n",
            "image 383/519 /content/drive/MyDrive/Pallets/1579165976-9568176_jpg.rf.ecc16ce71616a57519505c97d2ef72fd.jpg: 640x640 2 palletss, 1 ground, 13.4ms\n",
            "image 384/519 /content/drive/MyDrive/Pallets/1579165984-929977_jpg.rf.2fe69911c79cbf13f4a8b14045da8d65.jpg: 640x640 1 ground, 12.3ms\n",
            "image 385/519 /content/drive/MyDrive/Pallets/1579166083-423345_jpg.rf.d848b7b3e13a13ca9039819e48ef5ec6.jpg: 640x640 1 ground, 10.5ms\n",
            "image 386/519 /content/drive/MyDrive/Pallets/1579166093-1988482_jpg.rf.e8812a6e3b4c9ce440b55a204688425d.jpg: 640x640 2 palletss, 1 ground, 10.2ms\n",
            "image 387/519 /content/drive/MyDrive/Pallets/1579166165-2025146_jpg.rf.811fc73ad3b112715d169deca9d5e054.jpg: 640x640 1 pallets, 1 ground, 11.9ms\n",
            "image 388/519 /content/drive/MyDrive/Pallets/1579166261-470415_jpg.rf.b63146cd8003d05ab9d0a187c2032ecc.jpg: 640x640 2 palletss, 1 ground, 10.4ms\n",
            "image 389/519 /content/drive/MyDrive/Pallets/1579166346983-81_jpg.rf.16120990fe1667c7f8b2e3fae9bd3bb4.jpg: 640x640 2 palletss, 1 ground, 10.3ms\n",
            "image 390/519 /content/drive/MyDrive/Pallets/1579166354-4549654_jpg.rf.95a61b0f06809c0880175f009ffccc6f.jpg: 640x640 3 palletss, 1 ground, 10.5ms\n",
            "image 391/519 /content/drive/MyDrive/Pallets/1579166367-1308901_jpg.rf.585a2cb98008bd3a9f13229aa3bfe962.jpg: 640x640 2 palletss, 1 ground, 10.7ms\n",
            "image 392/519 /content/drive/MyDrive/Pallets/1583415814-9447544_jpg.rf.ec87233607a1317abda4c1a345750448.jpg: 640x640 2 palletss, 1 ground, 10.6ms\n",
            "image 393/519 /content/drive/MyDrive/Pallets/1583415880-0447588_jpg.rf.3165ebcd5f09b0840197eef798d21d30.jpg: 640x640 4 palletss, 1 ground, 10.5ms\n",
            "image 394/519 /content/drive/MyDrive/Pallets/1583415893363-01_jpg.rf.81ffcc0dfb9a58e906f665ae7e8475a3.jpg: 640x640 4 palletss, 1 ground, 12.2ms\n",
            "image 395/519 /content/drive/MyDrive/Pallets/1583415922-0078974_jpg.rf.d62d95701205aab1f1aaf337360c6ef2.jpg: 640x640 3 palletss, 1 ground, 10.6ms\n",
            "image 396/519 /content/drive/MyDrive/Pallets/1583416077-84815_jpg.rf.c0ea40708d3ce5654e14f0a5d7181cfd.jpg: 640x640 3 palletss, 1 ground, 10.6ms\n",
            "image 397/519 /content/drive/MyDrive/Pallets/1583416158-3076644_jpg.rf.d25dab578e4c722d8cf195392a6fcd67.jpg: 640x640 1 pallets, 1 ground, 10.8ms\n",
            "image 398/519 /content/drive/MyDrive/Pallets/1583416163-822562_jpg.rf.79b5d9995549fd11cc24a76bc0f2aebb.jpg: 640x640 2 palletss, 1 ground, 12.5ms\n",
            "image 399/519 /content/drive/MyDrive/Pallets/1583416177-073148_jpg.rf.1bd5d2a7194531a1f2399fb0a2dcf69b.jpg: 640x640 1 ground, 10.5ms\n",
            "image 400/519 /content/drive/MyDrive/Pallets/1583416178-541664_jpg.rf.c553be5aa5b94921303bd2358c2f3ebd.jpg: 640x640 2 palletss, 1 ground, 10.6ms\n",
            "image 401/519 /content/drive/MyDrive/Pallets/1583416210283-68_jpg.rf.064b4929199e6b6bc8d91c6a91dbfb48.jpg: 640x640 2 palletss, 1 ground, 10.4ms\n",
            "image 402/519 /content/drive/MyDrive/Pallets/1583416215-342789_jpg.rf.e023d3014d08bc9c9ecf73ae9fa303bf.jpg: 640x640 2 palletss, 1 ground, 13.0ms\n",
            "image 403/519 /content/drive/MyDrive/Pallets/1583416216-4489245_jpg.rf.b52939957b2d5a8c758285e54103b980.jpg: 640x640 2 palletss, 1 ground, 11.1ms\n",
            "image 404/519 /content/drive/MyDrive/Pallets/1583416253-2717173_jpg.rf.07e250b7c97046b9dca0b0732897d994.jpg: 640x640 1 pallets, 1 ground, 10.7ms\n",
            "image 405/519 /content/drive/MyDrive/Pallets/1583416256-583535_jpg.rf.54be30cd423c93015053bd6bf2add329.jpg: 640x640 2 palletss, 1 ground, 11.1ms\n",
            "image 406/519 /content/drive/MyDrive/Pallets/1583416262-1038742_jpg.rf.a8d2a1261c6da6177224d86ce0373f29.jpg: 640x640 2 palletss, 1 ground, 11.3ms\n",
            "image 407/519 /content/drive/MyDrive/Pallets/1583416315-088042_jpg.rf.936a8d25b384fc5fd6aee9f84bef8785.jpg: 640x640 2 palletss, 1 ground, 10.7ms\n",
            "image 408/519 /content/drive/MyDrive/Pallets/1583416405-22268_jpg.rf.7aeaf544e5e4d93116dcb1dd0b15717c.jpg: 640x640 2 palletss, 1 ground, 12.8ms\n",
            "image 409/519 /content/drive/MyDrive/Pallets/1583416443-0684996_jpg.rf.1ec6ac5b83a4a1d79be5ef928e7dc263.jpg: 640x640 2 palletss, 1 ground, 10.4ms\n",
            "image 410/519 /content/drive/MyDrive/Pallets/1583416466-2106316_jpg.rf.3e00f204cf895aaf9945b2bea7e2f268.jpg: 640x640 3 palletss, 1 ground, 10.7ms\n",
            "image 411/519 /content/drive/MyDrive/Pallets/1583416479-4456072_jpg.rf.01f6228d0b6348deb8fc7c284e6f54ca.jpg: 640x640 2 palletss, 1 ground, 10.6ms\n",
            "image 412/519 /content/drive/MyDrive/Pallets/1583416525-823023_jpg.rf.316df7668ee2636d478373d1ad534ab3.jpg: 640x640 1 pallets, 1 ground, 11.3ms\n",
            "image 413/519 /content/drive/MyDrive/Pallets/1583416555-6207283_jpg.rf.5d9e749ac7969475552b20ac5dab0dbe.jpg: 640x640 1 pallets, 1 ground, 10.5ms\n",
            "image 414/519 /content/drive/MyDrive/Pallets/1583416565-552056_jpg.rf.42ba3f84fcc7e62bd6324aa6ced2b082.jpg: 640x640 1 pallets, 1 ground, 10.5ms\n",
            "image 415/519 /content/drive/MyDrive/Pallets/1583416566-6559315_jpg.rf.794ad44c1347923d25756b36c1798996.jpg: 640x640 2 palletss, 1 ground, 10.7ms\n",
            "image 416/519 /content/drive/MyDrive/Pallets/1583416603-0623858_jpg.rf.5c24abace482eca5d216f67a65b34d77.jpg: 640x640 1 pallets, 1 ground, 10.3ms\n",
            "image 417/519 /content/drive/MyDrive/Pallets/1583416751-9491072_jpg.rf.35f8d79060df98bc531a286d704d9442.jpg: 640x640 2 palletss, 1 ground, 10.9ms\n",
            "image 418/519 /content/drive/MyDrive/Pallets/1583416919-8965213_jpg.rf.9a937631b621c69848c0eca708c3ff6a.jpg: 640x640 1 pallets, 1 ground, 10.9ms\n",
            "image 419/519 /content/drive/MyDrive/Pallets/1583416922-1057835_jpg.rf.7430359200838e7f225c09ecfa95e6b1.jpg: 640x640 3 palletss, 1 ground, 10.8ms\n",
            "image 420/519 /content/drive/MyDrive/Pallets/1583416923-2079024_jpg.rf.ee2aff0fa25147a2332782b9016d1b1a.jpg: 640x640 3 palletss, 1 ground, 11.0ms\n",
            "image 421/519 /content/drive/MyDrive/Pallets/1583416924-314423_jpg.rf.0177bb401cf5265c7ca7034daae4eea2.jpg: 640x640 1 pallets, 1 ground, 10.9ms\n",
            "image 422/519 /content/drive/MyDrive/Pallets/1583416990-1649833_jpg.rf.6176327cec542f3241be3c437fd98a1a.jpg: 640x640 2 palletss, 1 ground, 12.9ms\n",
            "image 423/519 /content/drive/MyDrive/Pallets/1583417018-1270084_jpg.rf.7ec905b84d769430d8062fdaf9ad87dc.jpg: 640x640 2 palletss, 1 ground, 10.5ms\n",
            "image 424/519 /content/drive/MyDrive/Pallets/1583417030-647893_jpg.rf.0d977454baf3c13b6b0cd045e7b4661a.jpg: 640x640 2 palletss, 1 ground, 10.2ms\n",
            "image 425/519 /content/drive/MyDrive/Pallets/1583417094-7899199_jpg.rf.8af1905cc7e047c0e1b6a891652ae12b.jpg: 640x640 1 pallets, 10.5ms\n",
            "image 426/519 /content/drive/MyDrive/Pallets/1583417200-191599_jpg.rf.89a231eadea2e209ef3dc929cbaf92fe.jpg: 640x640 2 palletss, 1 ground, 10.6ms\n",
            "image 427/519 /content/drive/MyDrive/Pallets/1583417310-6180003_jpg.rf.0312d83ff2d14038e225db5204ba168e.jpg: 640x640 2 palletss, 1 ground, 10.6ms\n",
            "image 428/519 /content/drive/MyDrive/Pallets/1583417329-3613424_jpg.rf.3bc2c1b3a6e9e7b971e37389506c91e5.jpg: 640x640 1 pallets, 1 ground, 10.4ms\n",
            "image 429/519 /content/drive/MyDrive/Pallets/1583417331-5713766_jpg.rf.4357f866770953d0dbc219308b21863b.jpg: 640x640 1 ground, 14.7ms\n",
            "image 430/519 /content/drive/MyDrive/Pallets/1583417347-7319086_jpg.rf.aad4d6d1102cf766c9c435081f8ad86d.jpg: 640x640 2 palletss, 1 ground, 16.2ms\n",
            "image 431/519 /content/drive/MyDrive/Pallets/1583417449-5996566_jpg.rf.c6fd54893bf44473d7c6bc217cdcf3a9.jpg: 640x640 3 palletss, 1 ground, 10.4ms\n",
            "image 432/519 /content/drive/MyDrive/Pallets/1583417542-6061158_jpg.rf.43cc81ffd1f8ce01dddf546cca784275.jpg: 640x640 2 palletss, 1 ground, 10.3ms\n",
            "image 433/519 /content/drive/MyDrive/Pallets/1583417571-3344219_jpg.rf.d1b06b0fed327cf4337705219d7d373c.jpg: 640x640 2 palletss, 1 ground, 10.5ms\n",
            "image 434/519 /content/drive/MyDrive/Pallets/1583417589-743646_jpg.rf.002075c407ab1546c7927b72ee8d488d.jpg: 640x640 4 palletss, 1 ground, 10.6ms\n",
            "image 435/519 /content/drive/MyDrive/Pallets/1583417596-0228927_jpg.rf.7a0a3d2aed29520e32efa7c271ff7677.jpg: 640x640 1 pallets, 10.6ms\n",
            "image 436/519 /content/drive/MyDrive/Pallets/1583417607-814251_jpg.rf.31cfb2b7fd8d273c84260a0e9a113a46.jpg: 640x640 4 palletss, 1 ground, 11.3ms\n",
            "image 437/519 /content/drive/MyDrive/Pallets/1583417618-4772136_jpg.rf.836022c1cfd99af1684569bc00011745.jpg: 640x640 2 palletss, 1 ground, 12.4ms\n",
            "image 438/519 /content/drive/MyDrive/Pallets/1583417639-8973188_jpg.rf.bdacf92043697bca9c6d4a1659269a63.jpg: 640x640 4 palletss, 1 ground, 10.7ms\n",
            "image 439/519 /content/drive/MyDrive/Pallets/1583417648-7524588_jpg.rf.7a5f08bb6e5e3c74e4a39596cab41231.jpg: 640x640 3 palletss, 1 ground, 10.7ms\n",
            "image 440/519 /content/drive/MyDrive/Pallets/1583417679-6219325_jpg.rf.c01b49e8f740b058638373edeb1868eb.jpg: 640x640 3 palletss, 1 ground, 10.3ms\n",
            "image 441/519 /content/drive/MyDrive/Pallets/1583417696-534476_jpg.rf.73863708afdb02d6689827c72b9db7c7.jpg: 640x640 1 pallets, 1 ground, 11.1ms\n",
            "image 442/519 /content/drive/MyDrive/Pallets/1583417711-6513793_jpg.rf.1a28e9a6057af8b4ef86c6bc1713a04d.jpg: 640x640 3 palletss, 1 ground, 10.5ms\n",
            "image 443/519 /content/drive/MyDrive/Pallets/1583417795-5771549_jpg.rf.6dc3905b050507851a4b449f0b032b00.jpg: 640x640 1 ground, 10.6ms\n",
            "image 444/519 /content/drive/MyDrive/Pallets/1583417866-222574_jpg.rf.8c0da29168c05fc36f32eac6197a406d.jpg: 640x640 3 palletss, 1 ground, 10.5ms\n",
            "image 445/519 /content/drive/MyDrive/Pallets/1644165-1614_jpg.rf.3beef2e4b1a48832dbe5e30404a98205.jpg: 640x640 1 pallets, 1 ground, 10.7ms\n",
            "image 446/519 /content/drive/MyDrive/Pallets/1651932-1961_jpg.rf.f5d23e888625d4dc48e955992c4e5ce1.jpg: 640x640 2 palletss, 1 ground, 10.6ms\n",
            "image 447/519 /content/drive/MyDrive/Pallets/1665798-0076_jpg.rf.4316190955bbca88ee9da6a9558c415e.jpg: 640x640 1 ground, 10.7ms\n",
            "image 448/519 /content/drive/MyDrive/Pallets/1817931-0472_jpg.rf.efb90f6d5ae6b03ca62b1e1abec2fc26.jpg: 640x640 3 palletss, 1 ground, 10.6ms\n",
            "image 449/519 /content/drive/MyDrive/Pallets/1851030-8421_jpg.rf.01086d479f3d6b1940e5686363cffdc5.jpg: 640x640 2 palletss, 1 ground, 10.5ms\n",
            "image 450/519 /content/drive/MyDrive/Pallets/1879393-2224_jpg.rf.843f706e641e443dbfcd45a5c85b30bb.jpg: 640x640 1 pallets, 1 ground, 10.9ms\n",
            "image 451/519 /content/drive/MyDrive/Pallets/1893530-5428_jpg.rf.e7c6bf3ab3ab19e9835d26976d2e2049.jpg: 640x640 3 palletss, 1 ground, 10.9ms\n",
            "image 452/519 /content/drive/MyDrive/Pallets/1943230-206_jpg.rf.a9ff94a8a8714fcc18e86d23b8eddf38.jpg: 640x640 1 pallets, 1 ground, 10.6ms\n",
            "image 453/519 /content/drive/MyDrive/Pallets/1966062-9711_jpg.rf.5b164cb758dafd7b8a14ba7b578439b9.jpg: 640x640 2 palletss, 1 ground, 10.8ms\n",
            "image 454/519 /content/drive/MyDrive/Pallets/2006495-764_jpg.rf.168e65a12de154ab6d52cc2c9dab9066.jpg: 640x640 1 pallets, 1 ground, 10.9ms\n",
            "image 455/519 /content/drive/MyDrive/Pallets/2028862-5421_jpg.rf.4c3ebb7a7a9b315be7ea05257b4f281c.jpg: 640x640 3 palletss, 1 ground, 10.9ms\n",
            "image 456/519 /content/drive/MyDrive/Pallets/2039024-9859_jpg.rf.1d91901c7706e1246c4d413d0f198e40.jpg: 640x640 3 palletss, 1 ground, 10.6ms\n",
            "image 457/519 /content/drive/MyDrive/Pallets/2173290-9346_jpg.rf.8b2de3af436eefa5925db40eee839106.jpg: 640x640 1 pallets, 1 ground, 10.4ms\n",
            "image 458/519 /content/drive/MyDrive/Pallets/2242076-1528_jpg.rf.60c3739ca19fbe36fcb40c555b256e5c.jpg: 640x640 1 pallets, 1 ground, 10.3ms\n",
            "image 459/519 /content/drive/MyDrive/Pallets/2250576-1034_jpg.rf.b7a12d3a464cdc26885b77bb96b6f8d2.jpg: 640x640 1 pallets, 1 ground, 13.4ms\n",
            "image 460/519 /content/drive/MyDrive/Pallets/2265910-0015_jpg.rf.e33a355f27b73632b211217da2894ae5.jpg: 640x640 2 palletss, 1 ground, 10.6ms\n",
            "image 461/519 /content/drive/MyDrive/Pallets/2299757-0311_jpg.rf.b9ce8f5570abb470d82e010b64d1b752.jpg: 640x640 1 pallets, 1 ground, 10.5ms\n",
            "image 462/519 /content/drive/MyDrive/Pallets/2372489-3856_jpg.rf.d004db002117fd37ddf3f1f1de71a1a6.jpg: 640x640 2 palletss, 1 ground, 10.5ms\n",
            "image 463/519 /content/drive/MyDrive/Pallets/2375456-4422_jpg.rf.59ecf9eb88581176b106baa0018867b8.jpg: 640x640 2 palletss, 1 ground, 10.6ms\n",
            "image 464/519 /content/drive/MyDrive/Pallets/2456074-6926_jpg.rf.1c2ed604170cd11b55c9c9b600148a33.jpg: 640x640 4 palletss, 1 ground, 10.4ms\n",
            "image 465/519 /content/drive/MyDrive/Pallets/2491108-3865_jpg.rf.255ce2e0dc92b196929aebe8c1f6eacf.jpg: 640x640 1 pallets, 1 ground, 10.7ms\n",
            "image 466/519 /content/drive/MyDrive/Pallets/2500008-3284_jpg.rf.63a8ad39edb471d6159f98d6d31bc62d.jpg: 640x640 3 palletss, 1 ground, 13.3ms\n",
            "image 467/519 /content/drive/MyDrive/Pallets/2622157-572_jpg.rf.a20fb404ae7b562541586f5933fd4617.jpg: 640x640 4 palletss, 1 ground, 10.4ms\n",
            "image 468/519 /content/drive/MyDrive/Pallets/2659490-2402_jpg.rf.2153942225898d42d19c3a4574a55efb.jpg: 640x640 3 palletss, 1 ground, 10.3ms\n",
            "image 469/519 /content/drive/MyDrive/Pallets/2659987-1363_jpg.rf.afc7f2c051ca1c8cdeca529130a8726c.jpg: 640x640 3 palletss, 1 ground, 10.8ms\n",
            "image 470/519 /content/drive/MyDrive/Pallets/2694949-878_jpg.rf.b0f2e410c034854c716183aa5ea2087f.jpg: 640x640 3 palletss, 1 ground, 10.4ms\n",
            "image 471/519 /content/drive/MyDrive/Pallets/2708886-7657_jpg.rf.0d625945835f8553c5bf733a4b3bf0ee.jpg: 640x640 1 pallets, 1 ground, 10.9ms\n",
            "image 472/519 /content/drive/MyDrive/Pallets/2739619-5181_jpg.rf.1c9a8749860f16bc7c13ab8ee3ab8e1c.jpg: 640x640 1 pallets, 1 ground, 10.7ms\n",
            "image 473/519 /content/drive/MyDrive/Pallets/2793789-3996_jpg.rf.e669369a2851e19851e101bd558a47ac.jpg: 640x640 1 pallets, 1 ground, 10.8ms\n",
            "image 474/519 /content/drive/MyDrive/Pallets/2806956-2342_jpg.rf.bb12ace6ac2e65b14639689cf5e1c270.jpg: 640x640 1 pallets, 1 ground, 10.8ms\n",
            "image 475/519 /content/drive/MyDrive/Pallets/2813948-4026_jpg.rf.da8386e67c6007ea4f2adbbb394f5438.jpg: 640x640 3 palletss, 1 ground, 11.8ms\n",
            "image 476/519 /content/drive/MyDrive/Pallets/2866985-5281_jpg.rf.cdd39e8a376cb62c40b9861588902534.jpg: 640x640 3 palletss, 1 ground, 10.7ms\n",
            "image 477/519 /content/drive/MyDrive/Pallets/3100583-7125_jpg.rf.0eaf1100170c7fb04c1650d0d1006dde.jpg: 640x640 3 palletss, 1 ground, 11.1ms\n",
            "image 478/519 /content/drive/MyDrive/Pallets/3164402-2943_jpg.rf.0f2dff2702a1cb51d02db536bbd7699d.jpg: 640x640 1 ground, 11.8ms\n",
            "image 479/519 /content/drive/MyDrive/Pallets/3195243-8649_jpg.rf.489a82ed8f86ba04d6e41b566a5bce3b.jpg: 640x640 4 palletss, 1 ground, 11.0ms\n",
            "image 480/519 /content/drive/MyDrive/Pallets/3247501-6411_jpg.rf.f7a39ed78c2742355d4fcf8ccd429b8d.jpg: 640x640 1 pallets, 1 ground, 11.0ms\n",
            "image 481/519 /content/drive/MyDrive/Pallets/3268801-4828_jpg.rf.8138931a27b56fa1446dd5fad6f05a11.jpg: 640x640 2 palletss, 1 ground, 10.5ms\n",
            "image 482/519 /content/drive/MyDrive/Pallets/3311434-148_jpg.rf.a4ee39e1f6ea12faeba25d3aba715d4b.jpg: 640x640 1 ground, 11.2ms\n",
            "image 483/519 /content/drive/MyDrive/Pallets/3415608-0988_jpg.rf.d22480bea84633ba94ea7201725452c8.jpg: 640x640 3 palletss, 1 ground, 10.5ms\n",
            "image 484/519 /content/drive/MyDrive/Pallets/3438700-1608_jpg.rf.5d7019ed73d19878006be00e25aeb8c7.jpg: 640x640 3 palletss, 1 ground, 10.7ms\n",
            "image 485/519 /content/drive/MyDrive/Pallets/3487299-7817_jpg.rf.2f1c30bf81181796f9657be3ffa8a233.jpg: 640x640 1 ground, 11.0ms\n",
            "image 486/519 /content/drive/MyDrive/Pallets/3518899-5281_jpg.rf.0984a8ce525127ea45bc4dde3163f117.jpg: 640x640 1 pallets, 1 ground, 10.6ms\n",
            "image 487/519 /content/drive/MyDrive/Pallets/3528232-376_jpg.rf.3d7df962c2ed2912da041654db42a119.jpg: 640x640 1 pallets, 1 ground, 10.5ms\n",
            "image 488/519 /content/drive/MyDrive/Pallets/3617031-682_jpg.rf.ce133b1adc1a264737581a8451671570.jpg: 640x640 2 palletss, 1 ground, 10.6ms\n",
            "image 489/519 /content/drive/MyDrive/Pallets/3619498-7484_jpg.rf.bc56cbf6aa5d32c7b6880419e2222946.jpg: 640x640 1 pallets, 1 ground, 10.4ms\n",
            "image 490/519 /content/drive/MyDrive/Pallets/509496543-927_jpg.rf.93fd17cc0ee797c7ce0b808ecebd4536.jpg: 640x640 3 palletss, 1 ground, 10.6ms\n",
            "image 491/519 /content/drive/MyDrive/Pallets/509505109-879_jpg.rf.c3afcaeb7d51c7adab5339e72bbb9d7c.jpg: 640x640 3 palletss, 1 ground, 10.7ms\n",
            "image 492/519 /content/drive/MyDrive/Pallets/509612776-976_jpg.rf.a42d102a039ba4bfb495b310d27bb235.jpg: 640x640 3 palletss, 1 ground, 10.8ms\n",
            "image 493/519 /content/drive/MyDrive/Pallets/509660976-8698_jpg.rf.1c7a04ca2639c1c217d60c00e5e2b0ee.jpg: 640x640 2 palletss, 1 ground, 10.7ms\n",
            "image 494/519 /content/drive/MyDrive/Pallets/509867843-9994_jpg.rf.2e81e3e5c9cc6d14fe9b5d8ee974b519.jpg: 640x640 3 palletss, 1 ground, 10.7ms\n",
            "image 495/519 /content/drive/MyDrive/Pallets/509957043-9868_jpg.rf.9f831041b6bf7d218c51b43514daf344.jpg: 640x640 4 palletss, 1 ground, 10.5ms\n",
            "image 496/519 /content/drive/MyDrive/Pallets/510015843-9887_jpg.rf.f3cfd4ae74ab364027328d4c562c1ff7.jpg: 640x640 3 palletss, 1 ground, 10.3ms\n",
            "image 497/519 /content/drive/MyDrive/Pallets/510187710-0157_jpg.rf.5cdbd253b13b6ff23784b6c2147bde31.jpg: 640x640 2 palletss, 1 ground, 10.5ms\n",
            "image 498/519 /content/drive/MyDrive/Pallets/510196244-1362_jpg.rf.0f7a65b1f0c68968247ed112092e9958.jpg: 640x640 3 palletss, 1 ground, 10.6ms\n",
            "image 499/519 /content/drive/MyDrive/Pallets/510372776-9545_jpg.rf.28a26ef480cd22b153fda9410f1d78a2.jpg: 640x640 1 pallets, 1 ground, 10.7ms\n",
            "image 500/519 /content/drive/MyDrive/Pallets/510646544-4627_jpg.rf.511284305ff2aeb2a970956533b0fdb2.jpg: 640x640 2 palletss, 1 ground, 11.0ms\n",
            "image 501/519 /content/drive/MyDrive/Pallets/510708010-1049_jpg.rf.eca8ef3dc30951e9181336e929508f16.jpg: 640x640 1 pallets, 1 ground, 10.8ms\n",
            "image 502/519 /content/drive/MyDrive/Pallets/510875777-0441_jpg.rf.77aadc0f3c5d596fd60e37630238a8c9.jpg: 640x640 4 palletss, 1 ground, 10.4ms\n",
            "image 503/519 /content/drive/MyDrive/Pallets/512139289-8439_jpg.rf.3968332c33f175b1703ddaf84521e093.jpg: 640x640 1 pallets, 1 ground, 10.7ms\n",
            "image 504/519 /content/drive/MyDrive/Pallets/513095553-9437_jpg.rf.4982628a31d48154099ba9ec3c74e148.jpg: 640x640 3 palletss, 1 ground, 10.4ms\n",
            "image 505/519 /content/drive/MyDrive/Pallets/513225219-8518_jpg.rf.078757301386ce942d94889a452e5cd5.jpg: 640x640 2 palletss, 1 ground, 10.7ms\n",
            "image 506/519 /content/drive/MyDrive/Pallets/513232419-8454_jpg.rf.d80af8a8a3133996220cd61280cbb7f1.jpg: 640x640 1 pallets, 1 ground, 10.9ms\n",
            "image 507/519 /content/drive/MyDrive/Pallets/513570230-1615_jpg.rf.836ea295f08337337045dfab67c52c98.jpg: 640x640 3 palletss, 1 ground, 11.2ms\n",
            "image 508/519 /content/drive/MyDrive/Pallets/513896916-6794_jpg.rf.665bccd48cd38ba2adcfff2e6e6995d3.jpg: 640x640 2 palletss, 1 ground, 10.3ms\n",
            "image 509/519 /content/drive/MyDrive/Pallets/514262326-1186_jpg.rf.7e113e57e3a059982a4b14ccb1a5ca1d.jpg: 640x640 3 palletss, 1 ground, 10.6ms\n",
            "image 510/519 /content/drive/MyDrive/Pallets/514294926-1294_jpg.rf.2f9a687bd7bc1299faa50e9cc898f824.jpg: 640x640 2 palletss, 1 ground, 10.4ms\n",
            "image 511/519 /content/drive/MyDrive/Pallets/515040422-5261_jpg.rf.1934272c7cb7042d4514fd6404b558fd.jpg: 640x640 4 palletss, 1 ground, 10.3ms\n",
            "image 512/519 /content/drive/MyDrive/Pallets/515205822-5012_jpg.rf.14b8552ef02a15fcfb44961e6d1796bd.jpg: 640x640 3 palletss, 1 ground, 10.4ms\n",
            "image 513/519 /content/drive/MyDrive/Pallets/515215955-4142_jpg.rf.c5236e5db29ae54f626af1521a65a6d3.jpg: 640x640 2 palletss, 1 ground, 12.8ms\n",
            "image 514/519 /content/drive/MyDrive/Pallets/516138600-9432_jpg.rf.88e6a77e593db0116558237c48faf67f.jpg: 640x640 1 pallets, 1 ground, 10.6ms\n",
            "image 515/519 /content/drive/MyDrive/Pallets/543202-7201_jpg.rf.06dd4762d69c0fdf739b25d3d551a04a.jpg: 640x640 1 pallets, 1 ground, 10.4ms\n",
            "image 516/519 /content/drive/MyDrive/Pallets/640401-9657_jpg.rf.e368f35da8da3392bf49a4b89173662d.jpg: 640x640 3 palletss, 1 ground, 10.8ms\n",
            "image 517/519 /content/drive/MyDrive/Pallets/682534-5486_jpg.rf.b6d19e6d4c3509619f8f6daaa16cb6cb.jpg: 640x640 1 pallets, 1 ground, 10.6ms\n",
            "image 518/519 /content/drive/MyDrive/Pallets/832000-4745_jpg.rf.a5095af23fbb1def084779085b20ff47.jpg: 640x640 3 palletss, 1 ground, 10.6ms\n",
            "image 519/519 /content/drive/MyDrive/Pallets/837093-6721_jpg.rf.4a017ab42e52423ce3838c67911b3397.jpg: 640x640 3 palletss, 1 ground, 10.4ms\n",
            "Speed: 2.6ms preprocess, 11.0ms inference, 1.4ms postprocess per image at shape (1, 3, 640, 640)\n"
          ]
        }
      ]
    },
    {
      "cell_type": "code",
      "source": [
        "# Seg\n",
        "\n",
        "import os\n",
        "import shutil\n",
        "import random\n",
        "import yaml\n",
        "\n",
        "# Paths to your original images and annotations\n",
        "image_dir = \"/content/drive/MyDrive/Pallets\"\n",
        "annotation_dir = \"/content/drive/MyDrive/auto_annotate_seg\"\n",
        "\n",
        "#  80% for training, 20% for validation\n",
        "train_ratio = 0.8\n",
        "\n",
        "# Define paths for the new directory structure\n",
        "base_dir = \"/content/drive/MyDrive/yolov11_seg\"\n",
        "image_train_dir = os.path.join(base_dir, \"images/train\")\n",
        "image_val_dir = os.path.join(base_dir, \"images/val\")\n",
        "label_train_dir = os.path.join(base_dir, \"labels/train\")\n",
        "label_val_dir = os.path.join(base_dir, \"labels/val\")\n",
        "\n",
        "# Create directories\n",
        "os.makedirs(image_train_dir, exist_ok=True)\n",
        "os.makedirs(image_val_dir, exist_ok=True)\n",
        "os.makedirs(label_train_dir, exist_ok=True)\n",
        "os.makedirs(label_val_dir, exist_ok=True)\n",
        "\n",
        "# Get list of all images and corresponding annotations\n",
        "images = [f for f in os.listdir(image_dir) if f.endswith(('.jpg', '.jpeg', '.png'))]\n",
        "annotations = [f.replace('.jpg', '.txt').replace('.jpeg', '.txt').replace('.png', '.txt') for f in images]\n",
        "\n",
        "# Shuffle and split data\n",
        "data = list(zip(images, annotations))\n",
        "random.shuffle(data)\n",
        "train_size = int(len(data) * train_ratio)\n",
        "train_data = data[:train_size]\n",
        "val_data = data[train_size:]\n",
        "\n",
        "# Function to copy files to the appropriate directories\n",
        "def copy_files(data, image_dest, label_dest):\n",
        "    for img, ann in data:\n",
        "        img_src = os.path.join(image_dir, img)\n",
        "        ann_src = os.path.join(annotation_dir, ann)\n",
        "\n",
        "        img_dest_path = os.path.join(image_dest, img)\n",
        "        ann_dest_path = os.path.join(label_dest, ann)\n",
        "\n",
        "        # Copy image and annotation if both exist\n",
        "        if os.path.exists(img_src) and os.path.exists(ann_src):\n",
        "            shutil.copy(img_src, img_dest_path)\n",
        "            shutil.copy(ann_src, ann_dest_path)\n",
        "\n",
        "# Copy training and validation files\n",
        "copy_files(train_data, image_train_dir, label_train_dir)\n",
        "copy_files(val_data, image_val_dir, label_val_dir)\n",
        "\n",
        "print(\"Data split and organized successfully.\")\n",
        "\n",
        "# Define class names (adjust based on your dataset)\n",
        "class_names = {0: 'pallets', 1: 'ground'}  # Replace with actual class names\n",
        "\n",
        "# YAML file content\n",
        "yaml_content = {\n",
        "    \"train\": os.path.abspath(image_train_dir),\n",
        "    \"val\": os.path.abspath(image_val_dir),\n",
        "    \"nc\": len(class_names),\n",
        "    \"names\": class_names\n",
        "}\n",
        "\n",
        "# Save YAML file\n",
        "yaml_path = os.path.join(base_dir, \"custom_data.yaml\")\n",
        "with open(yaml_path, \"w\") as yaml_file:\n",
        "    yaml.dump(yaml_content, yaml_file, default_flow_style=False)\n",
        "\n",
        "print(\"Data split, organized, and YAML file created successfully.\")\n",
        "print(f\"YAML file saved at: {yaml_path}\")\n"
      ],
      "metadata": {
        "id": "Ex1KOvurf-5s",
        "colab": {
          "base_uri": "https://localhost:8080/"
        },
        "outputId": "a168284a-0eaa-4b37-bd03-75b5c707d046"
      },
      "execution_count": null,
      "outputs": [
        {
          "output_type": "stream",
          "name": "stdout",
          "text": [
            "Data split and organized successfully.\n",
            "Data split, organized, and YAML file created successfully.\n",
            "YAML file saved at: /content/drive/MyDrive/yolov11_seg/custom_data.yaml\n"
          ]
        }
      ]
    },
    {
      "cell_type": "code",
      "source": [
        "#Segmentation\n",
        "from ultralytics import YOLO\n",
        "import matplotlib.pyplot as plt\n",
        "\n",
        "model = YOLO('yolo11n-seg.pt')  # load a pretrained YOLO detection model\n",
        "results = model.train(data='/content/drive/MyDrive/yolov11_seg/custom_data.yaml', epochs=20, batch= 16, device = 0,\n",
        "    hsv_h=0.015,           # HSV augmentation for hue\n",
        "    hsv_s=0.7,             # HSV augmentation for saturation\n",
        "    hsv_v=0.4,             # HSV augmentation for value\n",
        "    degrees=10.0,          # Rotation augmentation\n",
        "    translate=0.1,         # Translation augmentation\n",
        "    scale=0.5,             # Scale augmentation\n",
        "    shear=0.0  )  # train the model\n",
        "\n"
      ],
      "metadata": {
        "colab": {
          "base_uri": "https://localhost:8080/"
        },
        "id": "PQYKNiqOTCVB",
        "outputId": "6f9458d6-925c-4615-ca75-1e31dd20ce1a"
      },
      "execution_count": null,
      "outputs": [
        {
          "output_type": "stream",
          "name": "stdout",
          "text": [
            "Downloading https://github.com/ultralytics/assets/releases/download/v8.3.0/yolo11n-seg.pt to 'yolo11n-seg.pt'...\n"
          ]
        },
        {
          "output_type": "stream",
          "name": "stderr",
          "text": [
            "100%|██████████| 5.90M/5.90M [00:00<00:00, 256MB/s]"
          ]
        },
        {
          "output_type": "stream",
          "name": "stdout",
          "text": [
            "Ultralytics 8.3.31 🚀 Python-3.10.12 torch-2.5.0+cu121 CUDA:0 (NVIDIA A100-SXM4-40GB, 40514MiB)\n",
            "\u001b[34m\u001b[1mengine/trainer: \u001b[0mtask=segment, mode=train, model=yolo11n-seg.pt, data=/content/drive/MyDrive/yolov11_seg/custom_data.yaml, epochs=20, time=None, patience=100, batch=16, imgsz=640, save=True, save_period=-1, cache=False, device=0, workers=8, project=None, name=train, exist_ok=False, pretrained=True, optimizer=auto, verbose=True, seed=0, deterministic=True, single_cls=False, rect=False, cos_lr=False, close_mosaic=10, resume=False, amp=True, fraction=1.0, profile=False, freeze=None, multi_scale=False, overlap_mask=True, mask_ratio=4, dropout=0.0, val=True, split=val, save_json=False, save_hybrid=False, conf=None, iou=0.7, max_det=300, half=False, dnn=False, plots=True, source=None, vid_stride=1, stream_buffer=False, visualize=False, augment=False, agnostic_nms=False, classes=None, retina_masks=False, embed=None, show=False, save_frames=False, save_txt=False, save_conf=False, save_crop=False, show_labels=True, show_conf=True, show_boxes=True, line_width=None, format=torchscript, keras=False, optimize=False, int8=False, dynamic=False, simplify=True, opset=None, workspace=4, nms=False, lr0=0.01, lrf=0.01, momentum=0.937, weight_decay=0.0005, warmup_epochs=3.0, warmup_momentum=0.8, warmup_bias_lr=0.1, box=7.5, cls=0.5, dfl=1.5, pose=12.0, kobj=1.0, label_smoothing=0.0, nbs=64, hsv_h=0.015, hsv_s=0.7, hsv_v=0.4, degrees=10.0, translate=0.1, scale=0.5, shear=0.0, perspective=0.0, flipud=0.0, fliplr=0.5, bgr=0.0, mosaic=1.0, mixup=0.0, copy_paste=0.0, copy_paste_mode=flip, auto_augment=randaugment, erasing=0.4, crop_fraction=1.0, cfg=None, tracker=botsort.yaml, save_dir=runs/segment/train\n",
            "Overriding model.yaml nc=80 with nc=2\n",
            "\n",
            "                   from  n    params  module                                       arguments                     \n",
            "  0                  -1  1       464  ultralytics.nn.modules.conv.Conv             [3, 16, 3, 2]                 \n",
            "  1                  -1  1      4672  ultralytics.nn.modules.conv.Conv             [16, 32, 3, 2]                \n",
            "  2                  -1  1      6640  ultralytics.nn.modules.block.C3k2            [32, 64, 1, False, 0.25]      \n",
            "  3                  -1  1     36992  ultralytics.nn.modules.conv.Conv             [64, 64, 3, 2]                \n",
            "  4                  -1  1     26080  ultralytics.nn.modules.block.C3k2            [64, 128, 1, False, 0.25]     \n",
            "  5                  -1  1    147712  ultralytics.nn.modules.conv.Conv             [128, 128, 3, 2]              \n",
            "  6                  -1  1     87040  ultralytics.nn.modules.block.C3k2            [128, 128, 1, True]           \n",
            "  7                  -1  1    295424  ultralytics.nn.modules.conv.Conv             [128, 256, 3, 2]              \n",
            "  8                  -1  1    346112  ultralytics.nn.modules.block.C3k2            [256, 256, 1, True]           \n",
            "  9                  -1  1    164608  ultralytics.nn.modules.block.SPPF            [256, 256, 5]                 \n",
            " 10                  -1  1    249728  ultralytics.nn.modules.block.C2PSA           [256, 256, 1]                 \n",
            " 11                  -1  1         0  torch.nn.modules.upsampling.Upsample         [None, 2, 'nearest']          \n",
            " 12             [-1, 6]  1         0  ultralytics.nn.modules.conv.Concat           [1]                           \n"
          ]
        },
        {
          "output_type": "stream",
          "name": "stderr",
          "text": [
            "\n"
          ]
        },
        {
          "output_type": "stream",
          "name": "stdout",
          "text": [
            " 13                  -1  1    111296  ultralytics.nn.modules.block.C3k2            [384, 128, 1, False]          \n",
            " 14                  -1  1         0  torch.nn.modules.upsampling.Upsample         [None, 2, 'nearest']          \n",
            " 15             [-1, 4]  1         0  ultralytics.nn.modules.conv.Concat           [1]                           \n",
            " 16                  -1  1     32096  ultralytics.nn.modules.block.C3k2            [256, 64, 1, False]           \n",
            " 17                  -1  1     36992  ultralytics.nn.modules.conv.Conv             [64, 64, 3, 2]                \n",
            " 18            [-1, 13]  1         0  ultralytics.nn.modules.conv.Concat           [1]                           \n",
            " 19                  -1  1     86720  ultralytics.nn.modules.block.C3k2            [192, 128, 1, False]          \n",
            " 20                  -1  1    147712  ultralytics.nn.modules.conv.Conv             [128, 128, 3, 2]              \n",
            " 21            [-1, 10]  1         0  ultralytics.nn.modules.conv.Concat           [1]                           \n",
            " 22                  -1  1    378880  ultralytics.nn.modules.block.C3k2            [384, 256, 1, True]           \n",
            " 23        [16, 19, 22]  1    683830  ultralytics.nn.modules.head.Segment          [2, 32, 64, [64, 128, 256]]   \n",
            "YOLO11n-seg summary: 355 layers, 2,842,998 parameters, 2,842,982 gradients, 10.4 GFLOPs\n",
            "\n",
            "Transferred 510/561 items from pretrained weights\n",
            "\u001b[34m\u001b[1mTensorBoard: \u001b[0mStart with 'tensorboard --logdir runs/segment/train', view at http://localhost:6006/\n",
            "Freezing layer 'model.23.dfl.conv.weight'\n",
            "\u001b[34m\u001b[1mAMP: \u001b[0mrunning Automatic Mixed Precision (AMP) checks...\n",
            "\u001b[34m\u001b[1mAMP: \u001b[0mchecks passed ✅\n"
          ]
        },
        {
          "output_type": "stream",
          "name": "stderr",
          "text": [
            "\u001b[34m\u001b[1mtrain: \u001b[0mScanning /content/drive/MyDrive/yolov11_seg/labels/train... 415 images, 0 backgrounds, 0 corrupt: 100%|██████████| 415/415 [00:02<00:00, 140.36it/s]\n"
          ]
        },
        {
          "output_type": "stream",
          "name": "stdout",
          "text": [
            "\u001b[34m\u001b[1mtrain: \u001b[0mNew cache created: /content/drive/MyDrive/yolov11_seg/labels/train.cache\n",
            "\u001b[34m\u001b[1malbumentations: \u001b[0mBlur(p=0.01, blur_limit=(3, 7)), MedianBlur(p=0.01, blur_limit=(3, 7)), ToGray(p=0.01, num_output_channels=3, method='weighted_average'), CLAHE(p=0.01, clip_limit=(1.0, 4.0), tile_grid_size=(8, 8))\n"
          ]
        },
        {
          "output_type": "stream",
          "name": "stderr",
          "text": [
            "\u001b[34m\u001b[1mval: \u001b[0mScanning /content/drive/MyDrive/yolov11_seg/labels/val... 104 images, 0 backgrounds, 0 corrupt: 100%|██████████| 104/104 [00:00<00:00, 130.61it/s]\n"
          ]
        },
        {
          "output_type": "stream",
          "name": "stdout",
          "text": [
            "\u001b[34m\u001b[1mval: \u001b[0mNew cache created: /content/drive/MyDrive/yolov11_seg/labels/val.cache\n",
            "Plotting labels to runs/segment/train/labels.jpg... \n",
            "\u001b[34m\u001b[1moptimizer:\u001b[0m 'optimizer=auto' found, ignoring 'lr0=0.01' and 'momentum=0.937' and determining best 'optimizer', 'lr0' and 'momentum' automatically... \n",
            "\u001b[34m\u001b[1moptimizer:\u001b[0m AdamW(lr=0.001667, momentum=0.9) with parameter groups 90 weight(decay=0.0), 101 weight(decay=0.0005), 100 bias(decay=0.0)\n",
            "\u001b[34m\u001b[1mTensorBoard: \u001b[0mmodel graph visualization added ✅\n",
            "Image sizes 640 train, 640 val\n",
            "Using 8 dataloader workers\n",
            "Logging results to \u001b[1mruns/segment/train\u001b[0m\n",
            "Starting training for 20 epochs...\n",
            "\n",
            "      Epoch    GPU_mem   box_loss   seg_loss   cls_loss   dfl_loss  Instances       Size\n"
          ]
        },
        {
          "output_type": "stream",
          "name": "stderr",
          "text": [
            "       1/20       3.5G       1.18      3.775      2.725      1.479         99        640: 100%|██████████| 26/26 [00:05<00:00,  4.82it/s]\n",
            "                 Class     Images  Instances      Box(P          R      mAP50  mAP50-95)     Mask(P          R      mAP50  mAP50-95): 100%|██████████| 4/4 [00:01<00:00,  3.82it/s]"
          ]
        },
        {
          "output_type": "stream",
          "name": "stdout",
          "text": [
            "                   all        104        355     0.0108      0.925      0.505      0.331    0.00936      0.795      0.382      0.275\n"
          ]
        },
        {
          "output_type": "stream",
          "name": "stderr",
          "text": [
            "\n"
          ]
        },
        {
          "output_type": "stream",
          "name": "stdout",
          "text": [
            "\n",
            "      Epoch    GPU_mem   box_loss   seg_loss   cls_loss   dfl_loss  Instances       Size\n"
          ]
        },
        {
          "output_type": "stream",
          "name": "stderr",
          "text": [
            "       2/20      3.18G      1.081      2.866      2.038      1.418        122        640: 100%|██████████| 26/26 [00:04<00:00,  5.58it/s]\n",
            "                 Class     Images  Instances      Box(P          R      mAP50  mAP50-95)     Mask(P          R      mAP50  mAP50-95): 100%|██████████| 4/4 [00:01<00:00,  3.94it/s]"
          ]
        },
        {
          "output_type": "stream",
          "name": "stdout",
          "text": [
            "                   all        104        355      0.634      0.181      0.466      0.305      0.528      0.151      0.343       0.23\n"
          ]
        },
        {
          "output_type": "stream",
          "name": "stderr",
          "text": [
            "\n"
          ]
        },
        {
          "output_type": "stream",
          "name": "stdout",
          "text": [
            "\n",
            "      Epoch    GPU_mem   box_loss   seg_loss   cls_loss   dfl_loss  Instances       Size\n"
          ]
        },
        {
          "output_type": "stream",
          "name": "stderr",
          "text": [
            "       3/20       3.4G      1.146      2.872      1.731      1.456        110        640: 100%|██████████| 26/26 [00:04<00:00,  5.51it/s]\n",
            "                 Class     Images  Instances      Box(P          R      mAP50  mAP50-95)     Mask(P          R      mAP50  mAP50-95): 100%|██████████| 4/4 [00:01<00:00,  3.75it/s]"
          ]
        },
        {
          "output_type": "stream",
          "name": "stdout",
          "text": [
            "                   all        104        355      0.493      0.643       0.51      0.336      0.442      0.523      0.391      0.254\n"
          ]
        },
        {
          "output_type": "stream",
          "name": "stderr",
          "text": [
            "\n"
          ]
        },
        {
          "output_type": "stream",
          "name": "stdout",
          "text": [
            "\n",
            "      Epoch    GPU_mem   box_loss   seg_loss   cls_loss   dfl_loss  Instances       Size\n"
          ]
        },
        {
          "output_type": "stream",
          "name": "stderr",
          "text": [
            "       4/20      3.36G       1.12      2.826      1.659      1.424        110        640: 100%|██████████| 26/26 [00:04<00:00,  5.93it/s]\n",
            "                 Class     Images  Instances      Box(P          R      mAP50  mAP50-95)     Mask(P          R      mAP50  mAP50-95): 100%|██████████| 4/4 [00:00<00:00,  4.33it/s]"
          ]
        },
        {
          "output_type": "stream",
          "name": "stdout",
          "text": [
            "                   all        104        355      0.425      0.562       0.43      0.248      0.382      0.487       0.33       0.19\n"
          ]
        },
        {
          "output_type": "stream",
          "name": "stderr",
          "text": [
            "\n"
          ]
        },
        {
          "output_type": "stream",
          "name": "stdout",
          "text": [
            "\n",
            "      Epoch    GPU_mem   box_loss   seg_loss   cls_loss   dfl_loss  Instances       Size\n"
          ]
        },
        {
          "output_type": "stream",
          "name": "stderr",
          "text": [
            "       5/20      3.29G      1.097      2.707      1.576      1.407        117        640: 100%|██████████| 26/26 [00:04<00:00,  5.99it/s]\n",
            "                 Class     Images  Instances      Box(P          R      mAP50  mAP50-95)     Mask(P          R      mAP50  mAP50-95): 100%|██████████| 4/4 [00:00<00:00,  4.06it/s]"
          ]
        },
        {
          "output_type": "stream",
          "name": "stdout",
          "text": [
            "                   all        104        355      0.467      0.623        0.5       0.32       0.41       0.54      0.357      0.228\n"
          ]
        },
        {
          "output_type": "stream",
          "name": "stderr",
          "text": [
            "\n"
          ]
        },
        {
          "output_type": "stream",
          "name": "stdout",
          "text": [
            "\n",
            "      Epoch    GPU_mem   box_loss   seg_loss   cls_loss   dfl_loss  Instances       Size\n"
          ]
        },
        {
          "output_type": "stream",
          "name": "stderr",
          "text": [
            "       6/20      3.32G      1.062      2.648      1.517      1.381        108        640: 100%|██████████| 26/26 [00:04<00:00,  5.62it/s]\n",
            "                 Class     Images  Instances      Box(P          R      mAP50  mAP50-95)     Mask(P          R      mAP50  mAP50-95): 100%|██████████| 4/4 [00:00<00:00,  4.14it/s]"
          ]
        },
        {
          "output_type": "stream",
          "name": "stdout",
          "text": [
            "                   all        104        355      0.557      0.597      0.601      0.333       0.58       0.44      0.438      0.191\n"
          ]
        },
        {
          "output_type": "stream",
          "name": "stderr",
          "text": [
            "\n"
          ]
        },
        {
          "output_type": "stream",
          "name": "stdout",
          "text": [
            "\n",
            "      Epoch    GPU_mem   box_loss   seg_loss   cls_loss   dfl_loss  Instances       Size\n"
          ]
        },
        {
          "output_type": "stream",
          "name": "stderr",
          "text": [
            "       7/20      3.37G      1.071      2.665      1.479      1.395         99        640: 100%|██████████| 26/26 [00:04<00:00,  5.91it/s]\n",
            "                 Class     Images  Instances      Box(P          R      mAP50  mAP50-95)     Mask(P          R      mAP50  mAP50-95): 100%|██████████| 4/4 [00:00<00:00,  4.38it/s]"
          ]
        },
        {
          "output_type": "stream",
          "name": "stdout",
          "text": [
            "                   all        104        355      0.587      0.549      0.536      0.347      0.519       0.48      0.387      0.254\n"
          ]
        },
        {
          "output_type": "stream",
          "name": "stderr",
          "text": [
            "\n"
          ]
        },
        {
          "output_type": "stream",
          "name": "stdout",
          "text": [
            "\n",
            "      Epoch    GPU_mem   box_loss   seg_loss   cls_loss   dfl_loss  Instances       Size\n"
          ]
        },
        {
          "output_type": "stream",
          "name": "stderr",
          "text": [
            "       8/20      3.32G      1.067      2.616      1.453      1.394        106        640: 100%|██████████| 26/26 [00:04<00:00,  6.00it/s]\n",
            "                 Class     Images  Instances      Box(P          R      mAP50  mAP50-95)     Mask(P          R      mAP50  mAP50-95): 100%|██████████| 4/4 [00:00<00:00,  4.67it/s]"
          ]
        },
        {
          "output_type": "stream",
          "name": "stdout",
          "text": [
            "                   all        104        355      0.688      0.671      0.681      0.495      0.625      0.614       0.56      0.405\n"
          ]
        },
        {
          "output_type": "stream",
          "name": "stderr",
          "text": [
            "\n"
          ]
        },
        {
          "output_type": "stream",
          "name": "stdout",
          "text": [
            "\n",
            "      Epoch    GPU_mem   box_loss   seg_loss   cls_loss   dfl_loss  Instances       Size\n"
          ]
        },
        {
          "output_type": "stream",
          "name": "stderr",
          "text": [
            "       9/20      3.31G      1.035      2.587      1.377      1.365         89        640: 100%|██████████| 26/26 [00:04<00:00,  5.69it/s]\n",
            "                 Class     Images  Instances      Box(P          R      mAP50  mAP50-95)     Mask(P          R      mAP50  mAP50-95): 100%|██████████| 4/4 [00:00<00:00,  4.16it/s]"
          ]
        },
        {
          "output_type": "stream",
          "name": "stdout",
          "text": [
            "                   all        104        355      0.627      0.672      0.667      0.517      0.584      0.585       0.54      0.409\n"
          ]
        },
        {
          "output_type": "stream",
          "name": "stderr",
          "text": [
            "\n"
          ]
        },
        {
          "output_type": "stream",
          "name": "stdout",
          "text": [
            "\n",
            "      Epoch    GPU_mem   box_loss   seg_loss   cls_loss   dfl_loss  Instances       Size\n"
          ]
        },
        {
          "output_type": "stream",
          "name": "stderr",
          "text": [
            "      10/20      3.27G     0.9726      2.468      1.332      1.314         96        640: 100%|██████████| 26/26 [00:04<00:00,  5.74it/s]\n",
            "                 Class     Images  Instances      Box(P          R      mAP50  mAP50-95)     Mask(P          R      mAP50  mAP50-95): 100%|██████████| 4/4 [00:00<00:00,  4.48it/s]"
          ]
        },
        {
          "output_type": "stream",
          "name": "stdout",
          "text": [
            "                   all        104        355      0.703      0.704      0.691      0.547      0.626      0.624       0.56      0.431\n"
          ]
        },
        {
          "output_type": "stream",
          "name": "stderr",
          "text": [
            "\n"
          ]
        },
        {
          "output_type": "stream",
          "name": "stdout",
          "text": [
            "Closing dataloader mosaic\n",
            "\u001b[34m\u001b[1malbumentations: \u001b[0mBlur(p=0.01, blur_limit=(3, 7)), MedianBlur(p=0.01, blur_limit=(3, 7)), ToGray(p=0.01, num_output_channels=3, method='weighted_average'), CLAHE(p=0.01, clip_limit=(1.0, 4.0), tile_grid_size=(8, 8))\n",
            "\n",
            "      Epoch    GPU_mem   box_loss   seg_loss   cls_loss   dfl_loss  Instances       Size\n"
          ]
        },
        {
          "output_type": "stream",
          "name": "stderr",
          "text": [
            "      11/20      3.15G     0.9453      2.397      1.635      1.398         44        640: 100%|██████████| 26/26 [00:05<00:00,  4.47it/s]\n",
            "                 Class     Images  Instances      Box(P          R      mAP50  mAP50-95)     Mask(P          R      mAP50  mAP50-95): 100%|██████████| 4/4 [00:00<00:00,  4.55it/s]"
          ]
        },
        {
          "output_type": "stream",
          "name": "stdout",
          "text": [
            "                   all        104        355      0.672      0.642      0.662      0.488        0.6      0.566      0.547      0.384\n"
          ]
        },
        {
          "output_type": "stream",
          "name": "stderr",
          "text": [
            "\n"
          ]
        },
        {
          "output_type": "stream",
          "name": "stdout",
          "text": [
            "\n",
            "      Epoch    GPU_mem   box_loss   seg_loss   cls_loss   dfl_loss  Instances       Size\n"
          ]
        },
        {
          "output_type": "stream",
          "name": "stderr",
          "text": [
            "      12/20      3.18G     0.8748      2.207      1.449      1.345         48        640: 100%|██████████| 26/26 [00:04<00:00,  5.74it/s]\n",
            "                 Class     Images  Instances      Box(P          R      mAP50  mAP50-95)     Mask(P          R      mAP50  mAP50-95): 100%|██████████| 4/4 [00:00<00:00,  4.23it/s]"
          ]
        },
        {
          "output_type": "stream",
          "name": "stdout",
          "text": [
            "                   all        104        355      0.641      0.752      0.712      0.559      0.595      0.645      0.594      0.447\n"
          ]
        },
        {
          "output_type": "stream",
          "name": "stderr",
          "text": [
            "\n"
          ]
        },
        {
          "output_type": "stream",
          "name": "stdout",
          "text": [
            "\n",
            "      Epoch    GPU_mem   box_loss   seg_loss   cls_loss   dfl_loss  Instances       Size\n"
          ]
        },
        {
          "output_type": "stream",
          "name": "stderr",
          "text": [
            "      13/20      3.18G      0.853      2.235      1.359      1.323         45        640: 100%|██████████| 26/26 [00:04<00:00,  6.00it/s]\n",
            "                 Class     Images  Instances      Box(P          R      mAP50  mAP50-95)     Mask(P          R      mAP50  mAP50-95): 100%|██████████| 4/4 [00:00<00:00,  4.90it/s]"
          ]
        },
        {
          "output_type": "stream",
          "name": "stdout",
          "text": [
            "                   all        104        355      0.712      0.714      0.722      0.566      0.647      0.629      0.582      0.427\n"
          ]
        },
        {
          "output_type": "stream",
          "name": "stderr",
          "text": [
            "\n"
          ]
        },
        {
          "output_type": "stream",
          "name": "stdout",
          "text": [
            "\n",
            "      Epoch    GPU_mem   box_loss   seg_loss   cls_loss   dfl_loss  Instances       Size\n"
          ]
        },
        {
          "output_type": "stream",
          "name": "stderr",
          "text": [
            "      14/20      3.18G     0.8243      2.178      1.325      1.299         42        640: 100%|██████████| 26/26 [00:04<00:00,  6.10it/s]\n",
            "                 Class     Images  Instances      Box(P          R      mAP50  mAP50-95)     Mask(P          R      mAP50  mAP50-95): 100%|██████████| 4/4 [00:00<00:00,  4.47it/s]"
          ]
        },
        {
          "output_type": "stream",
          "name": "stdout",
          "text": [
            "                   all        104        355      0.756      0.711      0.755      0.578      0.691      0.627      0.624      0.479\n"
          ]
        },
        {
          "output_type": "stream",
          "name": "stderr",
          "text": [
            "\n"
          ]
        },
        {
          "output_type": "stream",
          "name": "stdout",
          "text": [
            "\n",
            "      Epoch    GPU_mem   box_loss   seg_loss   cls_loss   dfl_loss  Instances       Size\n"
          ]
        },
        {
          "output_type": "stream",
          "name": "stderr",
          "text": [
            "      15/20      3.18G     0.7961      2.013      1.265      1.287         41        640: 100%|██████████| 26/26 [00:04<00:00,  5.68it/s]\n",
            "                 Class     Images  Instances      Box(P          R      mAP50  mAP50-95)     Mask(P          R      mAP50  mAP50-95): 100%|██████████| 4/4 [00:00<00:00,  4.53it/s]"
          ]
        },
        {
          "output_type": "stream",
          "name": "stdout",
          "text": [
            "                   all        104        355      0.765      0.748      0.753       0.58      0.683      0.657      0.596      0.456\n"
          ]
        },
        {
          "output_type": "stream",
          "name": "stderr",
          "text": [
            "\n"
          ]
        },
        {
          "output_type": "stream",
          "name": "stdout",
          "text": [
            "\n",
            "      Epoch    GPU_mem   box_loss   seg_loss   cls_loss   dfl_loss  Instances       Size\n"
          ]
        },
        {
          "output_type": "stream",
          "name": "stderr",
          "text": [
            "      16/20      3.18G     0.7785      1.947       1.22      1.265         48        640: 100%|██████████| 26/26 [00:04<00:00,  5.81it/s]\n",
            "                 Class     Images  Instances      Box(P          R      mAP50  mAP50-95)     Mask(P          R      mAP50  mAP50-95): 100%|██████████| 4/4 [00:00<00:00,  4.52it/s]"
          ]
        },
        {
          "output_type": "stream",
          "name": "stdout",
          "text": [
            "                   all        104        355      0.734      0.728       0.75      0.618       0.69      0.632      0.613      0.479\n"
          ]
        },
        {
          "output_type": "stream",
          "name": "stderr",
          "text": [
            "\n"
          ]
        },
        {
          "output_type": "stream",
          "name": "stdout",
          "text": [
            "\n",
            "      Epoch    GPU_mem   box_loss   seg_loss   cls_loss   dfl_loss  Instances       Size\n"
          ]
        },
        {
          "output_type": "stream",
          "name": "stderr",
          "text": [
            "      17/20      3.18G     0.7292      1.881       1.18      1.221         44        640: 100%|██████████| 26/26 [00:04<00:00,  6.06it/s]\n",
            "                 Class     Images  Instances      Box(P          R      mAP50  mAP50-95)     Mask(P          R      mAP50  mAP50-95): 100%|██████████| 4/4 [00:00<00:00,  4.70it/s]"
          ]
        },
        {
          "output_type": "stream",
          "name": "stdout",
          "text": [
            "                   all        104        355      0.738      0.707      0.745      0.624      0.662      0.634      0.605      0.479\n"
          ]
        },
        {
          "output_type": "stream",
          "name": "stderr",
          "text": [
            "\n"
          ]
        },
        {
          "output_type": "stream",
          "name": "stdout",
          "text": [
            "\n",
            "      Epoch    GPU_mem   box_loss   seg_loss   cls_loss   dfl_loss  Instances       Size\n"
          ]
        },
        {
          "output_type": "stream",
          "name": "stderr",
          "text": [
            "      18/20      3.18G     0.7274      1.818      1.138      1.227         52        640: 100%|██████████| 26/26 [00:04<00:00,  5.95it/s]\n",
            "                 Class     Images  Instances      Box(P          R      mAP50  mAP50-95)     Mask(P          R      mAP50  mAP50-95): 100%|██████████| 4/4 [00:00<00:00,  4.74it/s]"
          ]
        },
        {
          "output_type": "stream",
          "name": "stdout",
          "text": [
            "                   all        104        355      0.713      0.745      0.759      0.638      0.649      0.673      0.613      0.479\n"
          ]
        },
        {
          "output_type": "stream",
          "name": "stderr",
          "text": [
            "\n"
          ]
        },
        {
          "output_type": "stream",
          "name": "stdout",
          "text": [
            "\n",
            "      Epoch    GPU_mem   box_loss   seg_loss   cls_loss   dfl_loss  Instances       Size\n"
          ]
        },
        {
          "output_type": "stream",
          "name": "stderr",
          "text": [
            "      19/20      3.15G     0.6986      1.844      1.123      1.204         43        640: 100%|██████████| 26/26 [00:04<00:00,  5.79it/s]\n",
            "                 Class     Images  Instances      Box(P          R      mAP50  mAP50-95)     Mask(P          R      mAP50  mAP50-95): 100%|██████████| 4/4 [00:00<00:00,  4.63it/s]"
          ]
        },
        {
          "output_type": "stream",
          "name": "stdout",
          "text": [
            "                   all        104        355      0.748       0.66      0.746      0.619      0.683      0.595      0.603       0.47\n"
          ]
        },
        {
          "output_type": "stream",
          "name": "stderr",
          "text": [
            "\n"
          ]
        },
        {
          "output_type": "stream",
          "name": "stdout",
          "text": [
            "\n",
            "      Epoch    GPU_mem   box_loss   seg_loss   cls_loss   dfl_loss  Instances       Size\n"
          ]
        },
        {
          "output_type": "stream",
          "name": "stderr",
          "text": [
            "      20/20      3.15G      0.695      1.817      1.124      1.204         48        640: 100%|██████████| 26/26 [00:04<00:00,  5.92it/s]\n",
            "                 Class     Images  Instances      Box(P          R      mAP50  mAP50-95)     Mask(P          R      mAP50  mAP50-95): 100%|██████████| 4/4 [00:00<00:00,  4.67it/s]"
          ]
        },
        {
          "output_type": "stream",
          "name": "stdout",
          "text": [
            "                   all        104        355      0.748      0.723      0.758      0.632       0.68      0.645      0.615      0.491\n"
          ]
        },
        {
          "output_type": "stream",
          "name": "stderr",
          "text": [
            "\n"
          ]
        },
        {
          "output_type": "stream",
          "name": "stdout",
          "text": [
            "\n",
            "20 epochs completed in 0.048 hours.\n",
            "Optimizer stripped from runs/segment/train/weights/last.pt, 6.0MB\n",
            "Optimizer stripped from runs/segment/train/weights/best.pt, 6.0MB\n",
            "\n",
            "Validating runs/segment/train/weights/best.pt...\n",
            "Ultralytics 8.3.31 🚀 Python-3.10.12 torch-2.5.0+cu121 CUDA:0 (NVIDIA A100-SXM4-40GB, 40514MiB)\n",
            "YOLO11n-seg summary (fused): 265 layers, 2,834,958 parameters, 0 gradients, 10.2 GFLOPs\n"
          ]
        },
        {
          "output_type": "stream",
          "name": "stderr",
          "text": [
            "                 Class     Images  Instances      Box(P          R      mAP50  mAP50-95)     Mask(P          R      mAP50  mAP50-95): 100%|██████████| 4/4 [00:01<00:00,  2.30it/s]\n"
          ]
        },
        {
          "output_type": "stream",
          "name": "stdout",
          "text": [
            "                   all        104        355       0.75      0.723      0.758      0.632       0.68      0.645      0.615      0.491\n",
            "               pallets        102        259      0.628      0.541      0.613      0.466      0.605       0.51      0.552      0.365\n",
            "                ground         96         96      0.873      0.906      0.903      0.797      0.754      0.781      0.677      0.617\n",
            "Speed: 0.3ms preprocess, 1.6ms inference, 0.0ms loss, 2.0ms postprocess per image\n",
            "Results saved to \u001b[1mruns/segment/train\u001b[0m\n"
          ]
        }
      ]
    },
    {
      "cell_type": "code",
      "source": [
        "import matplotlib.pyplot as plt\n",
        "import pandas as pd\n",
        "\n",
        "csv_path = 'runs/segment/train/results.csv'  # Update the path if necessary\n",
        "df = pd.read_csv(csv_path)\n",
        "# Extract epochs and relevant metrics\n",
        "epochs = df['epoch']\n",
        "mAP50_M = df['metrics/mAP50(M)']\n",
        "mAP50_95_M = df['metrics/mAP50-95(M)']\n",
        "\n",
        "# Plot mAP@0.50 and mAP@0.50:0.95 for segmentation (as IoU proxies)\n",
        "plt.figure(figsize=(10, 5))\n",
        "plt.plot(epochs, mAP50_M, label='mAP@0.50 (M)', marker='o')\n",
        "plt.plot(epochs, mAP50_95_M, label='mAP@0.50:0.95 (M)', marker='o')\n",
        "plt.xlabel('Epoch')\n",
        "plt.ylabel('mAP (IoU approximation)')\n",
        "plt.title('IoU Approximation for Segmentation Across Epochs')\n",
        "plt.legend()\n",
        "plt.grid(True)\n",
        "plt.show()\n"
      ],
      "metadata": {
        "colab": {
          "base_uri": "https://localhost:8080/",
          "height": 487
        },
        "id": "wC3VrGCDZGDD",
        "outputId": "e378387b-55a8-48bd-c298-2e39fd44e479"
      },
      "execution_count": null,
      "outputs": [
        {
          "output_type": "display_data",
          "data": {
            "text/plain": [
              "<Figure size 1000x500 with 1 Axes>"
            ],
            "image/png": "[encoded data removed]"
          },
          "metadata": {}
        }
      ]
    },
    {
      "cell_type": "code",
      "source": [
        "from ultralytics import YOLO\n",
        "import numpy as np\n",
        "import cv2\n",
        "import matplotlib.pyplot as plt\n",
        "\n",
        "# Load the model\n",
        "model = YOLO('/content/runs/segment/train/weights/best.pt')  # Load your trained model\n",
        "\n",
        "# Run inference\n",
        "results = model('/content/drive/MyDrive/Pallets/1564564911809-95_jpg.rf.adc540423f21cee4f83a6c80f51d7d7e.jpg')  # Predict on the image\n",
        "\n",
        "for res in results :\n",
        "  res.save('TEST.png')\n",
        "\n"
      ],
      "metadata": {
        "colab": {
          "base_uri": "https://localhost:8080/"
        },
        "id": "8_nxtzZJg9SI",
        "outputId": "8a26266b-c33f-415e-e506-dea524f062f9"
      },
      "execution_count": null,
      "outputs": [
        {
          "output_type": "stream",
          "name": "stdout",
          "text": [
            "\n",
            "image 1/1 /content/drive/MyDrive/Pallets/1564564911809-95_jpg.rf.adc540423f21cee4f83a6c80f51d7d7e.jpg: 640x640 2 palletss, 1 ground, 13.7ms\n",
            "Speed: 2.6ms preprocess, 13.7ms inference, 4.1ms postprocess per image at shape (1, 3, 640, 640)\n"
          ]
        }
      ]
    }
  ]
}