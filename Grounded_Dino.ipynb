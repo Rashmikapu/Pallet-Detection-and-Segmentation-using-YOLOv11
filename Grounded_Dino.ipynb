{
  "cells": [
    {
      "cell_type": "code",
      "execution_count": 1,
      "metadata": {
        "colab": {
          "base_uri": "https://localhost:8080/"
        },
        "id": "s427Ap6OIR3G",
        "outputId": "ed4613f4-fbe2-4b75-f1f3-3d55bfe6f012"
      },
      "outputs": [
        {
          "output_type": "stream",
          "name": "stdout",
          "text": [
            "Mounted at /content/drive\n"
          ]
        }
      ],
      "source": [
        "from google.colab import drive\n",
        "drive.mount('/content/drive')\n"
      ]
    },
    {
      "cell_type": "code",
      "execution_count": 2,
      "metadata": {
        "id": "X1Skn8oCCzse",
        "colab": {
          "base_uri": "https://localhost:8080/"
        },
        "collapsed": true,
        "outputId": "fc0b6154-7014-44d2-ba04-c2ad1a91b896"
      },
      "outputs": [
        {
          "output_type": "stream",
          "name": "stdout",
          "text": [
            "/content/drive/MyDrive\n",
            "fatal: destination path 'GroundingDINO' already exists and is not an empty directory.\n",
            "/content/drive/MyDrive/GroundingDINO\n",
            "Obtaining file:///content/drive/MyDrive/GroundingDINO\n",
            "  Preparing metadata (setup.py) ... \u001b[?25l\u001b[?25hdone\n",
            "Requirement already satisfied: torch in /usr/local/lib/python3.10/dist-packages (from groundingdino==0.1.0) (2.5.0+cu121)\n",
            "Requirement already satisfied: torchvision in /usr/local/lib/python3.10/dist-packages (from groundingdino==0.1.0) (0.20.0+cu121)\n",
            "Requirement already satisfied: transformers in /usr/local/lib/python3.10/dist-packages (from groundingdino==0.1.0) (4.46.2)\n",
            "Collecting addict (from groundingdino==0.1.0)\n",
            "  Downloading addict-2.4.0-py3-none-any.whl.metadata (1.0 kB)\n",
            "Collecting yapf (from groundingdino==0.1.0)\n",
            "  Downloading yapf-0.43.0-py3-none-any.whl.metadata (46 kB)\n",
            "\u001b[2K     \u001b[90m━━━━━━━━━━━━━━━━━━━━━━━━━━━━━━━━━━━━━━━━\u001b[0m \u001b[32m46.8/46.8 kB\u001b[0m \u001b[31m3.0 MB/s\u001b[0m eta \u001b[36m0:00:00\u001b[0m\n",
            "\u001b[?25hRequirement already satisfied: timm in /usr/local/lib/python3.10/dist-packages (from groundingdino==0.1.0) (1.0.11)\n",
            "Requirement already satisfied: numpy in /usr/local/lib/python3.10/dist-packages (from groundingdino==0.1.0) (1.26.4)\n",
            "Requirement already satisfied: opencv-python in /usr/local/lib/python3.10/dist-packages (from groundingdino==0.1.0) (4.10.0.84)\n",
            "Collecting supervision>=0.22.0 (from groundingdino==0.1.0)\n",
            "  Downloading supervision-0.25.0-py3-none-any.whl.metadata (14 kB)\n",
            "Requirement already satisfied: pycocotools in /usr/local/lib/python3.10/dist-packages (from groundingdino==0.1.0) (2.0.8)\n",
            "Requirement already satisfied: contourpy>=1.0.7 in /usr/local/lib/python3.10/dist-packages (from supervision>=0.22.0->groundingdino==0.1.0) (1.3.0)\n",
            "Requirement already satisfied: defusedxml<0.8.0,>=0.7.1 in /usr/local/lib/python3.10/dist-packages (from supervision>=0.22.0->groundingdino==0.1.0) (0.7.1)\n",
            "Requirement already satisfied: matplotlib>=3.6.0 in /usr/local/lib/python3.10/dist-packages (from supervision>=0.22.0->groundingdino==0.1.0) (3.8.0)\n",
            "Requirement already satisfied: pillow>=9.4 in /usr/local/lib/python3.10/dist-packages (from supervision>=0.22.0->groundingdino==0.1.0) (11.0.0)\n",
            "Requirement already satisfied: pyyaml>=5.3 in /usr/local/lib/python3.10/dist-packages (from supervision>=0.22.0->groundingdino==0.1.0) (6.0.2)\n",
            "Requirement already satisfied: scipy<2.0.0,>=1.10.0 in /usr/local/lib/python3.10/dist-packages (from supervision>=0.22.0->groundingdino==0.1.0) (1.13.1)\n",
            "Requirement already satisfied: huggingface_hub in /usr/local/lib/python3.10/dist-packages (from timm->groundingdino==0.1.0) (0.26.2)\n",
            "Requirement already satisfied: safetensors in /usr/local/lib/python3.10/dist-packages (from timm->groundingdino==0.1.0) (0.4.5)\n",
            "Requirement already satisfied: filelock in /usr/local/lib/python3.10/dist-packages (from torch->groundingdino==0.1.0) (3.16.1)\n",
            "Requirement already satisfied: typing-extensions>=4.8.0 in /usr/local/lib/python3.10/dist-packages (from torch->groundingdino==0.1.0) (4.12.2)\n",
            "Requirement already satisfied: networkx in /usr/local/lib/python3.10/dist-packages (from torch->groundingdino==0.1.0) (3.4.2)\n",
            "Requirement already satisfied: jinja2 in /usr/local/lib/python3.10/dist-packages (from torch->groundingdino==0.1.0) (3.1.4)\n",
            "Requirement already satisfied: fsspec in /usr/local/lib/python3.10/dist-packages (from torch->groundingdino==0.1.0) (2024.10.0)\n",
            "Requirement already satisfied: sympy==1.13.1 in /usr/local/lib/python3.10/dist-packages (from torch->groundingdino==0.1.0) (1.13.1)\n",
            "Requirement already satisfied: mpmath<1.4,>=1.1.0 in /usr/local/lib/python3.10/dist-packages (from sympy==1.13.1->torch->groundingdino==0.1.0) (1.3.0)\n",
            "Requirement already satisfied: packaging>=20.0 in /usr/local/lib/python3.10/dist-packages (from transformers->groundingdino==0.1.0) (24.2)\n",
            "Requirement already satisfied: regex!=2019.12.17 in /usr/local/lib/python3.10/dist-packages (from transformers->groundingdino==0.1.0) (2024.9.11)\n",
            "Requirement already satisfied: requests in /usr/local/lib/python3.10/dist-packages (from transformers->groundingdino==0.1.0) (2.32.3)\n",
            "Requirement already satisfied: tokenizers<0.21,>=0.20 in /usr/local/lib/python3.10/dist-packages (from transformers->groundingdino==0.1.0) (0.20.3)\n",
            "Requirement already satisfied: tqdm>=4.27 in /usr/local/lib/python3.10/dist-packages (from transformers->groundingdino==0.1.0) (4.66.6)\n",
            "Requirement already satisfied: platformdirs>=3.5.1 in /usr/local/lib/python3.10/dist-packages (from yapf->groundingdino==0.1.0) (4.3.6)\n",
            "Requirement already satisfied: tomli>=2.0.1 in /usr/local/lib/python3.10/dist-packages (from yapf->groundingdino==0.1.0) (2.0.2)\n",
            "Requirement already satisfied: cycler>=0.10 in /usr/local/lib/python3.10/dist-packages (from matplotlib>=3.6.0->supervision>=0.22.0->groundingdino==0.1.0) (0.12.1)\n",
            "Requirement already satisfied: fonttools>=4.22.0 in /usr/local/lib/python3.10/dist-packages (from matplotlib>=3.6.0->supervision>=0.22.0->groundingdino==0.1.0) (4.54.1)\n",
            "Requirement already satisfied: kiwisolver>=1.0.1 in /usr/local/lib/python3.10/dist-packages (from matplotlib>=3.6.0->supervision>=0.22.0->groundingdino==0.1.0) (1.4.7)\n",
            "Requirement already satisfied: pyparsing>=2.3.1 in /usr/local/lib/python3.10/dist-packages (from matplotlib>=3.6.0->supervision>=0.22.0->groundingdino==0.1.0) (3.2.0)\n",
            "Requirement already satisfied: python-dateutil>=2.7 in /usr/local/lib/python3.10/dist-packages (from matplotlib>=3.6.0->supervision>=0.22.0->groundingdino==0.1.0) (2.8.2)\n",
            "Requirement already satisfied: MarkupSafe>=2.0 in /usr/local/lib/python3.10/dist-packages (from jinja2->torch->groundingdino==0.1.0) (3.0.2)\n",
            "Requirement already satisfied: charset-normalizer<4,>=2 in /usr/local/lib/python3.10/dist-packages (from requests->transformers->groundingdino==0.1.0) (3.4.0)\n",
            "Requirement already satisfied: idna<4,>=2.5 in /usr/local/lib/python3.10/dist-packages (from requests->transformers->groundingdino==0.1.0) (3.10)\n",
            "Requirement already satisfied: urllib3<3,>=1.21.1 in /usr/local/lib/python3.10/dist-packages (from requests->transformers->groundingdino==0.1.0) (2.2.3)\n",
            "Requirement already satisfied: certifi>=2017.4.17 in /usr/local/lib/python3.10/dist-packages (from requests->transformers->groundingdino==0.1.0) (2024.8.30)\n",
            "Requirement already satisfied: six>=1.5 in /usr/local/lib/python3.10/dist-packages (from python-dateutil>=2.7->matplotlib>=3.6.0->supervision>=0.22.0->groundingdino==0.1.0) (1.16.0)\n",
            "Downloading supervision-0.25.0-py3-none-any.whl (181 kB)\n",
            "\u001b[2K   \u001b[90m━━━━━━━━━━━━━━━━━━━━━━━━━━━━━━━━━━━━━━━━\u001b[0m \u001b[32m181.5/181.5 kB\u001b[0m \u001b[31m8.2 MB/s\u001b[0m eta \u001b[36m0:00:00\u001b[0m\n",
            "\u001b[?25hDownloading addict-2.4.0-py3-none-any.whl (3.8 kB)\n",
            "Downloading yapf-0.43.0-py3-none-any.whl (256 kB)\n",
            "\u001b[2K   \u001b[90m━━━━━━━━━━━━━━━━━━━━━━━━━━━━━━━━━━━━━━━━\u001b[0m \u001b[32m256.2/256.2 kB\u001b[0m \u001b[31m19.8 MB/s\u001b[0m eta \u001b[36m0:00:00\u001b[0m\n",
            "\u001b[?25hInstalling collected packages: addict, yapf, supervision, groundingdino\n",
            "  Running setup.py develop for groundingdino\n",
            "Successfully installed addict-2.4.0 groundingdino-0.1.0 supervision-0.25.0 yapf-0.43.0\n"
          ]
        }
      ],
      "source": [
        "%cd /content/drive/MyDrive\n",
        "!git clone https://github.com/IDEA-Research/GroundingDINO.git\n",
        "%cd GroundingDINO/\n",
        "!pip install -e ."
      ]
    },
    {
      "cell_type": "code",
      "execution_count": 3,
      "metadata": {
        "colab": {
          "base_uri": "https://localhost:8080/"
        },
        "id": "xzY5GSGRGJmv",
        "outputId": "0edf2647-aea1-4ddc-a365-eb5a2607510b"
      },
      "outputs": [
        {
          "output_type": "stream",
          "name": "stdout",
          "text": [
            "mkdir: cannot create directory ‘/content/drive/MyDrive/GroundingDINO/weights’: File exists\n",
            "/content/drive/MyDrive/GroundingDINO/weights\n"
          ]
        }
      ],
      "source": [
        "!mkdir /content/drive/MyDrive/GroundingDINO/weights\n",
        "%cd /content/drive/MyDrive/GroundingDINO/weights\n",
        "!wget -q https://github.com/IDEA-Research/GroundingDINO/releases/download/v0.1.0-alpha/groundingdino_swint_ogc.pth"
      ]
    },
    {
      "cell_type": "code",
      "execution_count": 4,
      "metadata": {
        "colab": {
          "base_uri": "https://localhost:8080/"
        },
        "id": "zjbqhX90qzGF",
        "outputId": "032eee62-af28-483b-a6b4-911cab1d25ef"
      },
      "outputs": [
        {
          "output_type": "stream",
          "name": "stdout",
          "text": [
            "/content/drive/MyDrive/GroundingDINO\n"
          ]
        }
      ],
      "source": [
        "%cd /content/drive/MyDrive/GroundingDINO"
      ]
    },
    {
      "cell_type": "code",
      "execution_count": 20,
      "metadata": {
        "colab": {
          "base_uri": "https://localhost:8080/"
        },
        "id": "zP8hZKjVHXQc",
        "outputId": "97396734-df1a-45e8-d64c-dfc09c59d0fa"
      },
      "outputs": [
        {
          "output_type": "stream",
          "name": "stdout",
          "text": [
            "final text_encoder_type: bert-base-uncased\n"
          ]
        },
        {
          "output_type": "stream",
          "name": "stderr",
          "text": [
            "FutureWarning: You are using `torch.load` with `weights_only=False` (the current default value), which uses the default pickle module implicitly. It is possible to construct malicious pickle data which will execute arbitrary code during unpickling (See https://github.com/pytorch/pytorch/blob/main/SECURITY.md#untrusted-models for more details). In a future release, the default value for `weights_only` will be flipped to `True`. This limits the functions that could be executed during unpickling. Arbitrary objects will no longer be allowed to be loaded via this mode unless they are explicitly allowlisted by the user via `torch.serialization.add_safe_globals`. We recommend you start setting `weights_only=True` for any use case where you don't have full control of the loaded file. Please open an issue on GitHub for any issues related to this experimental feature.\n"
          ]
        }
      ],
      "source": [
        "import os\n",
        "import typer\n",
        "import cv2\n",
        "import torch\n",
        "import torchvision\n",
        "from groundingdino.util.inference import load_model, load_image, predict, annotate\n",
        "from tqdm import tqdm\n",
        "\n",
        "text_prompt = 'warehouse pallets, pallet, wooden pallet, ground, floor'\n",
        "box_threshold = 0.3\n",
        "text_threshold = 0.35\n",
        "export_annotated_images = True\n",
        "config_path=\"/content/drive/MyDrive/GroundingDINO/groundingdino/config/GroundingDINO_SwinT_OGC.py\"\n",
        "weights_path=\"/content/drive/MyDrive/GroundingDINO/weights/groundingdino_swint_ogc.pth\"\n",
        "model = load_model(config_path, weights_path)"
      ]
    },
    {
      "cell_type": "code",
      "execution_count": 6,
      "metadata": {
        "id": "Wm-bHclmIooU"
      },
      "outputs": [],
      "source": [
        "import os\n",
        "import cv2\n",
        "import torchvision.ops\n",
        "from tqdm import tqdm\n",
        "import torch\n",
        "\n",
        "image_directory = '/content/drive/MyDrive/Pallets'\n",
        "dataset = os.listdir(image_directory)"
      ]
    },
    {
      "cell_type": "code",
      "execution_count": 13,
      "metadata": {
        "id": "m3rwheeHI6ho"
      },
      "outputs": [],
      "source": [
        "# Define a function to convert bounding box coordinates from PascalVOC to YOLO format\n",
        "def convert_to_yolo_format(xmin, ymin, xmax, ymax, img_width, img_height):\n",
        "    x_center = ((xmin + xmax) / 2) / img_width\n",
        "    y_center = ((ymin + ymax) / 2) / img_height\n",
        "    width = (xmax - xmin) / img_width\n",
        "    height = (ymax - ymin) / img_height\n",
        "    return x_center, y_center, width, height\n",
        "\n",
        "# Define a function to save YOLO annotations\n",
        "def save_yolo_txt(image_filename, image_shape, boxes, labels, output_dir):\n",
        "    img_width, img_height = image_shape[1], image_shape[0]\n",
        "    yolo_annotation_path = os.path.join(output_dir, f\"{os.path.splitext(image_filename)[0]}.txt\")\n",
        "\n",
        "    with open(yolo_annotation_path, \"w\") as file:\n",
        "        for box, label in zip(boxes, labels):\n",
        "            xmin, ymin, xmax, ymax = box\n",
        "            x_center, y_center, width, height = convert_to_yolo_format(xmin, ymin, xmax, ymax, img_width, img_height)\n",
        "            print(label)\n",
        "            if label not in ['ground','floor']:\n",
        "              label = '0'\n",
        "              file.write(f\"{label} {x_center} {y_center} {width} {height}\\n\")\n",
        "            else  :\n",
        "              label = '1'\n",
        "              file.write(f\"{label} {x_center} {y_center} {width} {height}\\n\")"
      ]
    },
    {
      "cell_type": "code",
      "execution_count": 21,
      "metadata": {
        "colab": {
          "base_uri": "https://localhost:8080/"
        },
        "id": "fCuzB3w3JG0C",
        "outputId": "9d6f385d-096b-4a18-ae69-f4e8290f503c"
      },
      "outputs": [
        {
          "output_type": "stream",
          "name": "stderr",
          "text": [
            "\r  0%|          | 0/519 [00:00<?, ?it/s]UserWarning: torch.utils.checkpoint: the use_reentrant parameter should be passed explicitly. In version 2.5 we will raise an exception if use_reentrant is not passed. use_reentrant=False is recommended, but if you need to preserve the current default behavior, you can pass use_reentrant=True. Refer to docs for more details on the differences between the two variants.\n",
            "UserWarning: None of the inputs have requires_grad=True. Gradients will be None\n",
            "FutureWarning: `torch.cuda.amp.autocast(args...)` is deprecated. Please use `torch.amp.autocast('cuda', args...)` instead.\n",
            "  0%|          | 2/519 [00:02<09:57,  1.16s/it]"
          ]
        },
        {
          "output_type": "stream",
          "name": "stdout",
          "text": [
            "floor\n",
            "warehouse pallets\n",
            "ground\n",
            "\n",
            "floor\n",
            "\n",
            "ground\n",
            "pallet\n"
          ]
        },
        {
          "output_type": "stream",
          "name": "stderr",
          "text": [
            "  1%|          | 4/519 [00:03<04:10,  2.06it/s]"
          ]
        },
        {
          "output_type": "stream",
          "name": "stdout",
          "text": [
            "warehouse pallets\n",
            "wooden pallet\n",
            "pallet\n",
            "floor\n",
            "pallets\n",
            "pallet\n",
            "\n",
            "\n",
            "\n",
            "\n",
            "\n",
            "\n"
          ]
        },
        {
          "output_type": "stream",
          "name": "stderr",
          "text": [
            "  1%|          | 6/519 [00:03<02:30,  3.40it/s]"
          ]
        },
        {
          "output_type": "stream",
          "name": "stdout",
          "text": [
            "floor\n",
            "\n",
            "\n",
            "ground\n",
            "\n",
            "floor\n",
            "wooden pallet\n",
            "pallet\n",
            "wooden pallet\n",
            "ground\n"
          ]
        },
        {
          "output_type": "stream",
          "name": "stderr",
          "text": [
            "  2%|▏         | 8/519 [00:03<01:55,  4.43it/s]"
          ]
        },
        {
          "output_type": "stream",
          "name": "stdout",
          "text": [
            "floor\n",
            "warehouse\n",
            "\n",
            "\n",
            "floor\n",
            "warehouse pallets\n",
            "\n",
            "ground\n",
            "\n",
            "wooden pallet\n"
          ]
        },
        {
          "output_type": "stream",
          "name": "stderr",
          "text": [
            "  2%|▏         | 10/519 [00:04<01:49,  4.67it/s]"
          ]
        },
        {
          "output_type": "stream",
          "name": "stdout",
          "text": [
            "floor\n",
            "wooden pallet\n",
            "pallet\n",
            "\n",
            "\n",
            "ground\n",
            "\n",
            "floor\n",
            "pallets\n",
            "\n",
            "\n",
            "ground\n",
            "pallet\n",
            "\n"
          ]
        },
        {
          "output_type": "stream",
          "name": "stderr",
          "text": [
            "  2%|▏         | 12/519 [00:04<01:31,  5.51it/s]"
          ]
        },
        {
          "output_type": "stream",
          "name": "stdout",
          "text": [
            "floor\n",
            "warehouse pallets\n",
            "pallet\n",
            "ground\n",
            "floor\n",
            "ground\n",
            "\n",
            "pal\n",
            "\n"
          ]
        },
        {
          "output_type": "stream",
          "name": "stderr",
          "text": [
            "  3%|▎         | 14/519 [00:04<01:25,  5.89it/s]"
          ]
        },
        {
          "output_type": "stream",
          "name": "stdout",
          "text": [
            "floor\n",
            "warehouse pallets\n",
            "\n",
            "floor\n",
            "warehouse pallets\n",
            "warehouse pal\n",
            "pallets\n",
            "pallet\n",
            "\n",
            "\n"
          ]
        },
        {
          "output_type": "stream",
          "name": "stderr",
          "text": [
            "  3%|▎         | 16/519 [00:05<01:20,  6.26it/s]"
          ]
        },
        {
          "output_type": "stream",
          "name": "stdout",
          "text": [
            "warehouse pallets\n",
            "pallet\n",
            "floor\n",
            "\n",
            "\n",
            "\n",
            "\n",
            "floor\n",
            "warehouse pallets\n",
            "pal\n",
            "wooden pallet\n",
            "ground\n"
          ]
        },
        {
          "output_type": "stream",
          "name": "stderr",
          "text": [
            "  3%|▎         | 18/519 [00:05<01:17,  6.46it/s]"
          ]
        },
        {
          "output_type": "stream",
          "name": "stdout",
          "text": [
            "floor\n",
            "\n",
            "ground\n",
            "floor\n",
            "warehouse pallets\n",
            "pallet\n",
            "warehouse pallets\n",
            "##let\n",
            "\n",
            "\n"
          ]
        },
        {
          "output_type": "stream",
          "name": "stderr",
          "text": [
            "  4%|▍         | 20/519 [00:05<01:18,  6.37it/s]"
          ]
        },
        {
          "output_type": "stream",
          "name": "stdout",
          "text": [
            "wooden pallet\n",
            "wooden pallet\n",
            "pallets\n",
            "pallet\n",
            "\n",
            "\n",
            "\n",
            "floor\n",
            "floor\n",
            "warehouse pallets\n",
            "warehouse pallets\n",
            "pallet\n",
            "pallet\n",
            "\n",
            "ground\n"
          ]
        },
        {
          "output_type": "stream",
          "name": "stderr",
          "text": [
            "  4%|▍         | 22/519 [00:05<01:16,  6.51it/s]"
          ]
        },
        {
          "output_type": "stream",
          "name": "stdout",
          "text": [
            "floor\n",
            "\n",
            "ground\n",
            "warehouse pallets\n",
            "floor\n",
            "##lets\n",
            "pallet\n"
          ]
        },
        {
          "output_type": "stream",
          "name": "stderr",
          "text": [
            "  5%|▍         | 24/519 [00:06<01:15,  6.60it/s]"
          ]
        },
        {
          "output_type": "stream",
          "name": "stdout",
          "text": [
            "warehouse pallets\n",
            "pallet\n",
            "wooden pallet\n",
            "floor\n",
            "floor\n",
            "warehouse pallets\n",
            "\n",
            "\n"
          ]
        },
        {
          "output_type": "stream",
          "name": "stderr",
          "text": [
            "  5%|▌         | 26/519 [00:06<01:16,  6.46it/s]"
          ]
        },
        {
          "output_type": "stream",
          "name": "stdout",
          "text": [
            "warehouse pallets\n",
            "pallets\n",
            "\n",
            "wooden pallet\n",
            "floor\n",
            "warehouse pallets\n",
            "pallet\n",
            "\n",
            "\n"
          ]
        },
        {
          "output_type": "stream",
          "name": "stderr",
          "text": [
            "  5%|▌         | 28/519 [00:06<01:14,  6.55it/s]"
          ]
        },
        {
          "output_type": "stream",
          "name": "stdout",
          "text": [
            "\n",
            "floor\n",
            "\n",
            "\n",
            "\n",
            "floor\n",
            "pallets\n",
            "ground\n",
            "\n",
            "\n"
          ]
        },
        {
          "output_type": "stream",
          "name": "stderr",
          "text": [
            "  6%|▌         | 30/519 [00:07<01:13,  6.61it/s]"
          ]
        },
        {
          "output_type": "stream",
          "name": "stdout",
          "text": [
            "floor\n",
            "wooden pallet\n",
            "\n",
            "pallets\n",
            "ground\n",
            "warehouse pallets\n",
            "floor\n",
            "pal\n",
            "\n",
            "\n"
          ]
        },
        {
          "output_type": "stream",
          "name": "stderr",
          "text": [
            "  6%|▌         | 32/519 [00:07<01:14,  6.51it/s]"
          ]
        },
        {
          "output_type": "stream",
          "name": "stdout",
          "text": [
            "floor\n",
            "\n",
            "floor\n",
            "\n",
            "\n",
            "ground\n"
          ]
        },
        {
          "output_type": "stream",
          "name": "stderr",
          "text": [
            "  7%|▋         | 34/519 [00:07<01:13,  6.59it/s]"
          ]
        },
        {
          "output_type": "stream",
          "name": "stdout",
          "text": [
            "floor\n",
            "\n",
            "\n",
            "\n",
            "\n",
            "floor\n",
            "pallet\n",
            "\n",
            "pallet\n",
            "pallet\n",
            "\n",
            "wooden pallet\n"
          ]
        },
        {
          "output_type": "stream",
          "name": "stderr",
          "text": [
            "  7%|▋         | 36/519 [00:08<01:15,  6.42it/s]"
          ]
        },
        {
          "output_type": "stream",
          "name": "stdout",
          "text": [
            "floor\n",
            "\n",
            "wooden pallet\n",
            "\n",
            "##let\n",
            "floor\n",
            "warehouse pallets\n",
            "ground\n",
            "\n",
            "\n"
          ]
        },
        {
          "output_type": "stream",
          "name": "stderr",
          "text": [
            "  7%|▋         | 38/519 [00:08<01:13,  6.52it/s]"
          ]
        },
        {
          "output_type": "stream",
          "name": "stdout",
          "text": [
            "floor\n",
            "\n",
            "\n",
            "wooden pallet\n",
            "ground\n",
            "\n",
            "pallet\n",
            "wooden pallet\n",
            "\n",
            "floor\n",
            "woodenlet\n",
            "ground\n",
            "\n",
            "\n"
          ]
        },
        {
          "output_type": "stream",
          "name": "stderr",
          "text": [
            "  8%|▊         | 40/519 [00:08<01:12,  6.57it/s]"
          ]
        },
        {
          "output_type": "stream",
          "name": "stdout",
          "text": [
            "floor\n",
            "wooden pallet\n",
            "warehouse pallets\n",
            "\n",
            "\n",
            "floor\n",
            "\n",
            "floor\n",
            "wooden pallet\n",
            "\n",
            "\n",
            "ground\n"
          ]
        },
        {
          "output_type": "stream",
          "name": "stderr",
          "text": [
            "  8%|▊         | 42/519 [00:09<01:14,  6.41it/s]"
          ]
        },
        {
          "output_type": "stream",
          "name": "stdout",
          "text": [
            "floor\n",
            "pal\n",
            "pallet\n",
            "\n",
            "ground\n",
            "floor\n",
            "wooden pallet\n",
            "\n",
            "\n",
            "ground\n",
            "\n",
            "\n"
          ]
        },
        {
          "output_type": "stream",
          "name": "stderr",
          "text": [
            "  8%|▊         | 44/519 [00:09<01:12,  6.54it/s]"
          ]
        },
        {
          "output_type": "stream",
          "name": "stdout",
          "text": [
            "warehouse pallets\n",
            "floor\n",
            "ground\n"
          ]
        },
        {
          "output_type": "stream",
          "name": "stderr",
          "text": [
            "  9%|▉         | 46/519 [00:09<01:12,  6.49it/s]"
          ]
        },
        {
          "output_type": "stream",
          "name": "stdout",
          "text": [
            "floor\n",
            "\n",
            "pal\n",
            "\n",
            "\n",
            "\n",
            "\n",
            "\n",
            "pallets\n",
            "\n",
            "floor\n",
            "pallet\n",
            "wooden pallet\n",
            "pallet\n",
            "\n",
            "\n",
            "pallet\n"
          ]
        },
        {
          "output_type": "stream",
          "name": "stderr",
          "text": [
            "  9%|▉         | 48/519 [00:09<01:13,  6.39it/s]"
          ]
        },
        {
          "output_type": "stream",
          "name": "stdout",
          "text": [
            "floor\n",
            "warehouse pallets\n",
            "\n",
            "pallets\n",
            "ground\n",
            "floor\n",
            "ground\n"
          ]
        },
        {
          "output_type": "stream",
          "name": "stderr",
          "text": [
            " 10%|▉         | 50/519 [00:10<01:12,  6.48it/s]"
          ]
        },
        {
          "output_type": "stream",
          "name": "stdout",
          "text": [
            "pallets\n",
            "pallet\n",
            "warehouse\n",
            "wooden pallet\n",
            "\n",
            "\n",
            "\n",
            "warehouse pallets\n",
            "floor\n",
            "wooden pallet\n"
          ]
        },
        {
          "output_type": "stream",
          "name": "stderr",
          "text": [
            " 10%|█         | 52/519 [00:10<01:12,  6.47it/s]"
          ]
        },
        {
          "output_type": "stream",
          "name": "stdout",
          "text": [
            "floor\n",
            "warehouse pallets\n",
            "wooden pallet\n",
            "ground\n",
            "floor\n",
            "\n",
            "\n",
            "\n",
            "ground\n"
          ]
        },
        {
          "output_type": "stream",
          "name": "stderr",
          "text": [
            " 10%|█         | 54/519 [00:10<01:13,  6.32it/s]"
          ]
        },
        {
          "output_type": "stream",
          "name": "stdout",
          "text": [
            "floor\n",
            "\n",
            "wooden pallet\n",
            "ground\n",
            "\n",
            "warehouse pallets\n",
            "warehouse pallets\n",
            "\n",
            "\n"
          ]
        },
        {
          "output_type": "stream",
          "name": "stderr",
          "text": [
            " 11%|█         | 56/519 [00:11<01:11,  6.44it/s]"
          ]
        },
        {
          "output_type": "stream",
          "name": "stdout",
          "text": [
            "floor\n",
            "ground\n",
            "\n",
            "\n",
            "warehouse pallets\n",
            "floor\n",
            "pallet\n",
            "floor\n",
            "wooden pallet\n"
          ]
        },
        {
          "output_type": "stream",
          "name": "stderr",
          "text": [
            " 11%|█         | 58/519 [00:11<01:10,  6.52it/s]"
          ]
        },
        {
          "output_type": "stream",
          "name": "stdout",
          "text": [
            "warehouse pallets\n",
            "\n",
            "\n",
            "floor\n",
            "\n",
            "\n",
            "floor\n",
            "warehouse pallets\n",
            "pal\n",
            "\n",
            "\n"
          ]
        },
        {
          "output_type": "stream",
          "name": "stderr",
          "text": [
            " 12%|█▏        | 60/519 [00:11<01:11,  6.42it/s]"
          ]
        },
        {
          "output_type": "stream",
          "name": "stdout",
          "text": [
            "floor\n",
            "pallets\n",
            "pallet\n",
            "\n",
            "\n",
            "ground\n",
            "floor\n",
            "pallets\n",
            "ground\n",
            "\n",
            "\n",
            "\n"
          ]
        },
        {
          "output_type": "stream",
          "name": "stderr",
          "text": [
            " 12%|█▏        | 62/519 [00:12<01:12,  6.28it/s]"
          ]
        },
        {
          "output_type": "stream",
          "name": "stdout",
          "text": [
            "floor\n",
            "\n",
            "\n",
            "\n",
            "ground\n",
            "\n",
            "floor\n",
            "floor\n",
            "\n",
            "\n",
            "wooden pallet\n",
            "\n",
            "\n",
            "\n",
            "\n"
          ]
        },
        {
          "output_type": "stream",
          "name": "stderr",
          "text": [
            " 12%|█▏        | 64/519 [00:12<01:14,  6.11it/s]"
          ]
        },
        {
          "output_type": "stream",
          "name": "stdout",
          "text": [
            "floor\n",
            "warehouse pallets\n",
            "\n",
            "\n",
            "floor\n",
            "\n",
            "\n",
            "\n",
            "wooden pallet\n"
          ]
        },
        {
          "output_type": "stream",
          "name": "stderr",
          "text": [
            " 13%|█▎        | 66/519 [00:12<01:14,  6.08it/s]"
          ]
        },
        {
          "output_type": "stream",
          "name": "stdout",
          "text": [
            "floor\n",
            "wooden pallet\n",
            "pallets\n",
            "\n",
            "\n",
            "pal\n",
            "pallet\n",
            "wooden pallet\n",
            "ground\n",
            "floor\n",
            "\n",
            "\n",
            "\n",
            "\n",
            "\n",
            "\n"
          ]
        },
        {
          "output_type": "stream",
          "name": "stderr",
          "text": [
            " 13%|█▎        | 68/519 [00:13<01:11,  6.28it/s]"
          ]
        },
        {
          "output_type": "stream",
          "name": "stdout",
          "text": [
            "\n",
            "\n",
            "\n",
            "pallet\n",
            "\n",
            "pallet\n",
            "floor\n",
            "warehouse\n",
            "\n",
            "ground\n",
            "\n"
          ]
        },
        {
          "output_type": "stream",
          "name": "stderr",
          "text": [
            " 13%|█▎        | 70/519 [00:13<01:11,  6.30it/s]"
          ]
        },
        {
          "output_type": "stream",
          "name": "stdout",
          "text": [
            "floor\n",
            "warehouse pallets\n",
            "pallet\n",
            "wooden pallet\n",
            "ground\n",
            "floor\n",
            "warehouse pallets\n",
            "\n",
            "\n",
            "##let\n",
            "\n",
            "ground\n"
          ]
        },
        {
          "output_type": "stream",
          "name": "stderr",
          "text": [
            " 14%|█▍        | 72/519 [00:13<01:09,  6.44it/s]"
          ]
        },
        {
          "output_type": "stream",
          "name": "stdout",
          "text": [
            "warehouse pallets\n",
            "floor\n",
            "\n",
            "warehouse pallets\n"
          ]
        },
        {
          "output_type": "stream",
          "name": "stderr",
          "text": [
            " 14%|█▍        | 74/519 [00:14<01:08,  6.46it/s]"
          ]
        },
        {
          "output_type": "stream",
          "name": "stdout",
          "text": [
            "floor\n",
            "\n",
            "warehouse pallets\n",
            "wooden pallet\n",
            "\n",
            "ground\n",
            "floor\n",
            "warehouse pallets\n",
            "pallet\n",
            "##let\n",
            "pallets\n",
            "\n",
            "\n"
          ]
        },
        {
          "output_type": "stream",
          "name": "stderr",
          "text": [
            " 15%|█▍        | 76/519 [00:14<01:08,  6.43it/s]"
          ]
        },
        {
          "output_type": "stream",
          "name": "stdout",
          "text": [
            "floor\n",
            "warehouse pallets\n",
            "pallet\n",
            "\n",
            "wooden pallet\n",
            "\n",
            "\n",
            "floor\n",
            "warehouse pallets\n",
            "\n",
            "\n",
            "ground\n",
            "\n",
            "\n"
          ]
        },
        {
          "output_type": "stream",
          "name": "stderr",
          "text": [
            " 15%|█▌        | 78/519 [00:14<01:07,  6.53it/s]"
          ]
        },
        {
          "output_type": "stream",
          "name": "stdout",
          "text": [
            "floor\n",
            "\n",
            "ground\n",
            "floor\n",
            "\n",
            "pallets\n",
            "\n",
            "ground\n"
          ]
        },
        {
          "output_type": "stream",
          "name": "stderr",
          "text": [
            " 15%|█▌        | 80/519 [00:14<01:06,  6.59it/s]"
          ]
        },
        {
          "output_type": "stream",
          "name": "stdout",
          "text": [
            "floor\n",
            "warehouse pallets\n",
            "pallet\n",
            "wooden pallet\n",
            "ground\n",
            "pallets\n",
            "\n",
            "warehouse\n",
            "\n",
            "\n"
          ]
        },
        {
          "output_type": "stream",
          "name": "stderr",
          "text": [
            " 16%|█▌        | 82/519 [00:15<01:07,  6.45it/s]"
          ]
        },
        {
          "output_type": "stream",
          "name": "stdout",
          "text": [
            "floor\n",
            "warehouse pallets\n",
            "wooden pallet\n",
            "warehouse\n",
            "\n",
            "\n",
            "floor\n",
            "\n",
            "\n",
            "\n",
            "\n",
            "pallet\n",
            "ground\n",
            "\n"
          ]
        },
        {
          "output_type": "stream",
          "name": "stderr",
          "text": [
            " 16%|█▌        | 84/519 [00:15<01:06,  6.58it/s]"
          ]
        },
        {
          "output_type": "stream",
          "name": "stdout",
          "text": [
            "floor\n",
            "warehouse pallets\n",
            "ground\n",
            "\n",
            "floor\n",
            "wooden pallet\n",
            "ground\n",
            "pallet\n",
            "\n"
          ]
        },
        {
          "output_type": "stream",
          "name": "stderr",
          "text": [
            " 17%|█▋        | 86/519 [00:15<01:07,  6.41it/s]"
          ]
        },
        {
          "output_type": "stream",
          "name": "stdout",
          "text": [
            "warehouse pallets\n",
            "floor\n",
            "pallet\n",
            "wooden pallet\n",
            "ground\n",
            "floor\n",
            "warehouse pallets\n",
            "\n",
            "ground\n"
          ]
        },
        {
          "output_type": "stream",
          "name": "stderr",
          "text": [
            " 17%|█▋        | 88/519 [00:16<01:05,  6.54it/s]"
          ]
        },
        {
          "output_type": "stream",
          "name": "stdout",
          "text": [
            "floor\n",
            "warehouse pallets\n",
            "\n",
            "pallet\n",
            "\n",
            "wooden pallet\n",
            "wooden pallet\n",
            "wooden pallet\n",
            "\n",
            "\n",
            "pallet\n",
            "floor\n",
            "\n",
            "\n"
          ]
        },
        {
          "output_type": "stream",
          "name": "stderr",
          "text": [
            " 17%|█▋        | 90/519 [00:16<01:04,  6.61it/s]"
          ]
        },
        {
          "output_type": "stream",
          "name": "stdout",
          "text": [
            "floor\n",
            "\n",
            "pallet\n",
            "\n",
            "\n",
            "pallet\n",
            "\n",
            "woodenlet\n",
            "\n",
            "warehouse pallets\n",
            "pallet\n",
            "\n",
            "\n",
            "\n",
            "\n"
          ]
        },
        {
          "output_type": "stream",
          "name": "stderr",
          "text": [
            " 18%|█▊        | 92/519 [00:16<01:06,  6.47it/s]"
          ]
        },
        {
          "output_type": "stream",
          "name": "stdout",
          "text": [
            "floor\n",
            "\n",
            "warehouse pallets\n",
            "pallet\n",
            "\n",
            "floor\n",
            "wooden pallet\n",
            "ground\n"
          ]
        },
        {
          "output_type": "stream",
          "name": "stderr",
          "text": [
            " 18%|█▊        | 94/519 [00:17<01:05,  6.52it/s]"
          ]
        },
        {
          "output_type": "stream",
          "name": "stdout",
          "text": [
            "floor\n",
            "warehouse pallets\n",
            "\n",
            "\n",
            "\n",
            "\n",
            "\n",
            "##let\n",
            "\n",
            "floor\n",
            "pallets\n",
            "pallet\n",
            "ground\n",
            "warehouse pallets\n",
            "wooden pallet\n"
          ]
        },
        {
          "output_type": "stream",
          "name": "stderr",
          "text": [
            " 18%|█▊        | 96/519 [00:17<01:04,  6.55it/s]"
          ]
        },
        {
          "output_type": "stream",
          "name": "stdout",
          "text": [
            "floor\n",
            "wooden pallet\n",
            "pallet\n",
            "pallets\n",
            "warehouse pallets\n",
            "wooden pallet\n",
            "ground\n",
            "\n",
            "\n",
            "warehouse pallets\n",
            "\n",
            "pallet\n",
            "\n",
            "pallet\n"
          ]
        },
        {
          "output_type": "stream",
          "name": "stderr",
          "text": [
            " 19%|█▉        | 98/519 [00:17<01:05,  6.44it/s]"
          ]
        },
        {
          "output_type": "stream",
          "name": "stdout",
          "text": [
            "floor\n",
            "\n",
            "pallets\n",
            "\n",
            "pallet\n",
            "wooden pallet\n",
            "wooden pallet\n",
            "warehouse pallets\n",
            "floor\n",
            "wooden pallet\n",
            "pallet\n",
            "\n"
          ]
        },
        {
          "output_type": "stream",
          "name": "stderr",
          "text": [
            " 19%|█▉        | 100/519 [00:18<01:04,  6.53it/s]"
          ]
        },
        {
          "output_type": "stream",
          "name": "stdout",
          "text": [
            "warehouse pallets\n",
            "warehouse pallets\n",
            "floor\n",
            "\n",
            "\n",
            "\n",
            "\n",
            "wooden pallet\n",
            "floor\n",
            "\n",
            "ground\n",
            "\n"
          ]
        },
        {
          "output_type": "stream",
          "name": "stderr",
          "text": [
            " 20%|█▉        | 102/519 [00:18<01:03,  6.57it/s]"
          ]
        },
        {
          "output_type": "stream",
          "name": "stdout",
          "text": [
            "warehouse pallets\n",
            "warehouse pallets\n",
            "pallet\n",
            "floor\n",
            "\n",
            "\n",
            "\n",
            "warehouse pallets\n",
            "\n",
            "\n",
            "warehouse pallets\n",
            "floor\n",
            "\n"
          ]
        },
        {
          "output_type": "stream",
          "name": "stderr",
          "text": [
            " 20%|██        | 104/519 [00:18<01:04,  6.45it/s]"
          ]
        },
        {
          "output_type": "stream",
          "name": "stdout",
          "text": [
            "floor\n",
            "warehouse pallets\n",
            "\n",
            "wooden pallet\n",
            "floor\n",
            "warehouse pallets\n",
            "pallet\n",
            "\n",
            "\n",
            "\n",
            "\n",
            "ground\n",
            "wooden pallet\n"
          ]
        },
        {
          "output_type": "stream",
          "name": "stderr",
          "text": [
            " 20%|██        | 106/519 [00:18<01:04,  6.43it/s]"
          ]
        },
        {
          "output_type": "stream",
          "name": "stdout",
          "text": [
            "floor\n",
            "wooden pallet\n",
            "ground\n",
            "wooden pallet\n",
            "pallet\n",
            "\n",
            "\n",
            "floor\n",
            "pallet\n",
            "warehouse pallets\n",
            "wooden pallet\n",
            "\n",
            "ground\n"
          ]
        },
        {
          "output_type": "stream",
          "name": "stderr",
          "text": [
            " 21%|██        | 108/519 [00:19<01:04,  6.36it/s]"
          ]
        },
        {
          "output_type": "stream",
          "name": "stdout",
          "text": [
            "floor\n",
            "\n",
            "ground\n",
            "floor\n",
            "\n",
            "pal\n",
            "ground\n",
            "\n",
            "\n"
          ]
        },
        {
          "output_type": "stream",
          "name": "stderr",
          "text": [
            " 21%|██        | 110/519 [00:19<01:03,  6.46it/s]"
          ]
        },
        {
          "output_type": "stream",
          "name": "stdout",
          "text": [
            "floor\n",
            "wooden pallet\n",
            "warehouse pallets\n",
            "pallet\n",
            "\n",
            "##let\n",
            "\n",
            "floor\n",
            "\n",
            "pal\n",
            "\n",
            "pallet\n",
            "wooden pallet\n",
            "ground\n"
          ]
        },
        {
          "output_type": "stream",
          "name": "stderr",
          "text": [
            " 22%|██▏       | 112/519 [00:19<01:02,  6.50it/s]"
          ]
        },
        {
          "output_type": "stream",
          "name": "stdout",
          "text": [
            "wooden pallet\n",
            "warehouse pallets\n",
            "\n",
            "floor\n",
            "\n",
            "ground\n",
            "\n"
          ]
        },
        {
          "output_type": "stream",
          "name": "stderr",
          "text": [
            " 22%|██▏       | 114/519 [00:20<01:03,  6.36it/s]"
          ]
        },
        {
          "output_type": "stream",
          "name": "stdout",
          "text": [
            "floor\n",
            "wooden pallet\n",
            "\n",
            "pallet\n",
            "pallets\n",
            "pallets\n",
            "\n",
            "pallet\n",
            "floor\n",
            "warehouse pallets\n",
            "pallet\n",
            "warehouse\n",
            "\n",
            "\n"
          ]
        },
        {
          "output_type": "stream",
          "name": "stderr",
          "text": [
            " 22%|██▏       | 116/519 [00:20<01:04,  6.28it/s]"
          ]
        },
        {
          "output_type": "stream",
          "name": "stdout",
          "text": [
            "floor\n",
            "warehouse pallets\n",
            "wooden pallet\n",
            "pallet\n",
            "\n",
            "ground\n",
            "floor\n",
            "pallet\n",
            "wooden pallet\n",
            "\n",
            "\n",
            "\n"
          ]
        },
        {
          "output_type": "stream",
          "name": "stderr",
          "text": [
            " 23%|██▎       | 118/519 [00:20<01:02,  6.46it/s]"
          ]
        },
        {
          "output_type": "stream",
          "name": "stdout",
          "text": [
            "floor\n",
            "warehouse pallets\n",
            "\n",
            "\n",
            "ground\n",
            "floor\n",
            "warehouse pallets\n",
            "\n",
            "warehouse pallets\n"
          ]
        },
        {
          "output_type": "stream",
          "name": "stderr",
          "text": [
            " 23%|██▎       | 120/519 [00:21<01:02,  6.37it/s]"
          ]
        },
        {
          "output_type": "stream",
          "name": "stdout",
          "text": [
            "floor\n",
            "pal\n",
            "wooden pallet\n",
            "\n",
            "ground\n",
            "floor\n",
            "warehouse pallets\n",
            "\n",
            "\n",
            "ground\n",
            "\n"
          ]
        },
        {
          "output_type": "stream",
          "name": "stderr",
          "text": [
            " 24%|██▎       | 122/519 [00:21<01:00,  6.52it/s]"
          ]
        },
        {
          "output_type": "stream",
          "name": "stdout",
          "text": [
            "pallets\n",
            "floor\n",
            "floor\n",
            "\n",
            "pallet\n",
            "\n",
            "floor\n",
            "ground\n"
          ]
        },
        {
          "output_type": "stream",
          "name": "stderr",
          "text": [
            " 24%|██▍       | 124/519 [00:21<01:00,  6.58it/s]"
          ]
        },
        {
          "output_type": "stream",
          "name": "stdout",
          "text": [
            "floor\n",
            "warehouse pallets\n",
            "warehouse pallets\n",
            "pallet\n",
            "floor\n",
            "floor\n",
            "wooden pallet\n",
            "\n",
            "\n",
            "\n",
            "pallet\n"
          ]
        },
        {
          "output_type": "stream",
          "name": "stderr",
          "text": [
            " 24%|██▍       | 126/519 [00:22<01:00,  6.47it/s]"
          ]
        },
        {
          "output_type": "stream",
          "name": "stdout",
          "text": [
            "floor\n",
            "warehouse pallets\n",
            "pallet\n",
            "\n",
            "\n",
            "\n",
            "\n",
            "floor\n",
            "warehouse pallets\n",
            "wooden pallet\n",
            "\n",
            "pallet\n",
            "\n"
          ]
        },
        {
          "output_type": "stream",
          "name": "stderr",
          "text": [
            " 25%|██▍       | 128/519 [00:22<00:59,  6.55it/s]"
          ]
        },
        {
          "output_type": "stream",
          "name": "stdout",
          "text": [
            "warehouse pallets\n",
            "\n",
            "\n",
            "\n",
            "floor\n",
            "wooden pallet\n",
            "pallets\n",
            "pallet\n",
            "ground\n",
            "\n",
            "\n"
          ]
        },
        {
          "output_type": "stream",
          "name": "stderr",
          "text": [
            " 25%|██▌       | 130/519 [00:22<01:01,  6.36it/s]"
          ]
        },
        {
          "output_type": "stream",
          "name": "stdout",
          "text": [
            "floor\n",
            "wooden pallet\n",
            "\n",
            "\n",
            "pal\n",
            "\n",
            "\n",
            "\n",
            "\n",
            "\n",
            "\n",
            "\n",
            "\n"
          ]
        },
        {
          "output_type": "stream",
          "name": "stderr",
          "text": [
            " 25%|██▌       | 132/519 [00:23<01:00,  6.41it/s]"
          ]
        },
        {
          "output_type": "stream",
          "name": "stdout",
          "text": [
            "floor\n",
            "ground\n",
            "floor\n",
            "\n",
            "warehouse pallets\n",
            "ground\n",
            "wooden pallet\n"
          ]
        },
        {
          "output_type": "stream",
          "name": "stderr",
          "text": [
            " 26%|██▌       | 134/519 [00:23<01:01,  6.31it/s]"
          ]
        },
        {
          "output_type": "stream",
          "name": "stdout",
          "text": [
            "warehouse\n",
            "pallet\n",
            "floor\n",
            "wooden pallet\n",
            "\n",
            "\n",
            "warehouse\n",
            "pallets\n",
            "pallet\n",
            "floor\n",
            "\n"
          ]
        },
        {
          "output_type": "stream",
          "name": "stderr",
          "text": [
            " 26%|██▌       | 136/519 [00:23<01:01,  6.20it/s]"
          ]
        },
        {
          "output_type": "stream",
          "name": "stdout",
          "text": [
            "floor\n",
            "warehouse pallets\n",
            "pallet\n",
            "\n",
            "ground\n",
            "warehouse pallets\n",
            "warehouse pallets\n",
            "\n"
          ]
        },
        {
          "output_type": "stream",
          "name": "stderr",
          "text": [
            " 27%|██▋       | 138/519 [00:23<00:59,  6.38it/s]"
          ]
        },
        {
          "output_type": "stream",
          "name": "stdout",
          "text": [
            "floor\n",
            "\n",
            "\n",
            "warehouse pallets\n",
            "\n",
            "\n"
          ]
        },
        {
          "output_type": "stream",
          "name": "stderr",
          "text": [
            " 27%|██▋       | 140/519 [00:24<00:58,  6.48it/s]"
          ]
        },
        {
          "output_type": "stream",
          "name": "stdout",
          "text": [
            "floor\n",
            "wooden pallet\n",
            "warehouse pallets\n",
            "\n",
            "ground\n",
            "\n",
            "floor\n",
            "\n",
            "\n",
            "\n",
            "\n",
            "ground\n"
          ]
        },
        {
          "output_type": "stream",
          "name": "stderr",
          "text": [
            " 27%|██▋       | 142/519 [00:24<00:59,  6.32it/s]"
          ]
        },
        {
          "output_type": "stream",
          "name": "stdout",
          "text": [
            "floor\n",
            "ground\n",
            "\n",
            "floor\n",
            "pallets\n",
            "pallet\n",
            "\n",
            "ground\n"
          ]
        },
        {
          "output_type": "stream",
          "name": "stderr",
          "text": [
            " 28%|██▊       | 144/519 [00:24<00:58,  6.38it/s]"
          ]
        },
        {
          "output_type": "stream",
          "name": "stdout",
          "text": [
            "floor\n",
            "\n",
            "pallets\n",
            "\n",
            "\n",
            "\n",
            "\n",
            "warehouse pallets\n",
            "pallet\n",
            "\n",
            "\n"
          ]
        },
        {
          "output_type": "stream",
          "name": "stderr",
          "text": [
            " 28%|██▊       | 146/519 [00:25<01:00,  6.19it/s]"
          ]
        },
        {
          "output_type": "stream",
          "name": "stdout",
          "text": [
            "floor\n",
            "wooden pallet\n",
            "ground\n",
            "pallet\n",
            "\n",
            "floor\n",
            "pallet\n",
            "\n",
            "\n",
            "ground\n"
          ]
        },
        {
          "output_type": "stream",
          "name": "stderr",
          "text": [
            " 29%|██▊       | 148/519 [00:25<00:57,  6.40it/s]"
          ]
        },
        {
          "output_type": "stream",
          "name": "stdout",
          "text": [
            "floor\n",
            "\n",
            "\n",
            "\n",
            "\n",
            "ground\n",
            "floor\n",
            "\n",
            "\n",
            "ground\n"
          ]
        },
        {
          "output_type": "stream",
          "name": "stderr",
          "text": [
            " 29%|██▉       | 150/519 [00:25<00:57,  6.46it/s]"
          ]
        },
        {
          "output_type": "stream",
          "name": "stdout",
          "text": [
            "\n",
            "floor\n",
            "\n",
            "\n",
            "\n",
            "\n",
            "\n",
            "warehouse pallets\n",
            "\n",
            "floor\n",
            "warehouse pallets\n",
            "pallet\n",
            "\n",
            "wooden pallet\n"
          ]
        },
        {
          "output_type": "stream",
          "name": "stderr",
          "text": [
            " 29%|██▉       | 152/519 [00:26<00:57,  6.36it/s]"
          ]
        },
        {
          "output_type": "stream",
          "name": "stdout",
          "text": [
            "floor\n",
            "pallets\n",
            "\n",
            "floor\n",
            "wooden pallet\n",
            "warehouse pallets\n",
            "pallet\n",
            "pal\n",
            "pallets\n",
            "\n",
            "\n",
            "ground\n"
          ]
        },
        {
          "output_type": "stream",
          "name": "stderr",
          "text": [
            " 30%|██▉       | 154/519 [00:26<00:56,  6.49it/s]"
          ]
        },
        {
          "output_type": "stream",
          "name": "stdout",
          "text": [
            "floor\n",
            "\n",
            "\n",
            "pallet\n",
            "\n",
            "\n",
            "\n",
            "pallet\n",
            "warehouse pallets\n",
            "floor\n",
            "\n"
          ]
        },
        {
          "output_type": "stream",
          "name": "stderr",
          "text": [
            " 30%|███       | 156/519 [00:26<00:57,  6.34it/s]"
          ]
        },
        {
          "output_type": "stream",
          "name": "stdout",
          "text": [
            "warehouse pallets\n",
            "floor\n",
            "pallet\n",
            "\n",
            "pallet\n",
            "wooden pallet\n",
            "floor\n",
            "warehouse pallets\n",
            "wooden pallet\n",
            "pallet\n",
            "\n",
            "\n",
            "\n"
          ]
        },
        {
          "output_type": "stream",
          "name": "stderr",
          "text": [
            " 30%|███       | 158/519 [00:27<00:56,  6.43it/s]"
          ]
        },
        {
          "output_type": "stream",
          "name": "stdout",
          "text": [
            "floor\n",
            "\n",
            "\n",
            "\n",
            "pallet\n",
            "\n",
            "wooden pallet\n",
            "\n",
            "floor\n",
            "warehouse pallets\n",
            "warehouse pallets\n",
            "\n",
            "\n",
            "##let\n"
          ]
        },
        {
          "output_type": "stream",
          "name": "stderr",
          "text": [
            " 31%|███       | 160/519 [00:27<00:55,  6.47it/s]"
          ]
        },
        {
          "output_type": "stream",
          "name": "stdout",
          "text": [
            "floor\n",
            "warehouse pallets\n",
            "\n",
            "\n",
            "pallet\n",
            "\n",
            "\n",
            "floor\n",
            "warehouse pallets\n",
            "pallet\n",
            "ground\n",
            "pallets\n",
            "wooden pallet\n",
            "\n"
          ]
        },
        {
          "output_type": "stream",
          "name": "stderr",
          "text": [
            " 31%|███       | 162/519 [00:27<00:56,  6.36it/s]"
          ]
        },
        {
          "output_type": "stream",
          "name": "stdout",
          "text": [
            "floor\n",
            "pallets\n",
            "pallet\n",
            "\n",
            "pallet\n",
            "\n",
            "\n",
            "floor\n",
            "\n"
          ]
        },
        {
          "output_type": "stream",
          "name": "stderr",
          "text": [
            " 32%|███▏      | 164/519 [00:28<00:54,  6.49it/s]"
          ]
        },
        {
          "output_type": "stream",
          "name": "stdout",
          "text": [
            "floor\n",
            "pallet\n",
            "ground\n",
            "\n",
            "\n",
            "warehouse pallets\n",
            "floor\n",
            "pallet\n"
          ]
        },
        {
          "output_type": "stream",
          "name": "stderr",
          "text": [
            " 32%|███▏      | 166/519 [00:28<00:53,  6.58it/s]"
          ]
        },
        {
          "output_type": "stream",
          "name": "stdout",
          "text": [
            "warehouse pallets\n",
            "floor\n",
            "\n",
            "\n",
            "\n",
            "floor\n",
            "warehouse pallets\n",
            "pallets\n",
            "pallet\n",
            "ground\n",
            "\n"
          ]
        },
        {
          "output_type": "stream",
          "name": "stderr",
          "text": [
            " 32%|███▏      | 168/519 [00:28<00:54,  6.45it/s]"
          ]
        },
        {
          "output_type": "stream",
          "name": "stdout",
          "text": [
            "floor\n",
            "warehouse pallets\n",
            "\n",
            "\n",
            "\n",
            "ground\n",
            "pallet\n",
            "\n",
            "floor\n",
            "wooden pallet\n",
            "ground\n",
            "\n",
            "\n"
          ]
        },
        {
          "output_type": "stream",
          "name": "stderr",
          "text": [
            " 33%|███▎      | 170/519 [00:28<00:53,  6.51it/s]"
          ]
        },
        {
          "output_type": "stream",
          "name": "stdout",
          "text": [
            "floor\n",
            "warehouse pallets\n",
            "\n",
            "\n",
            "warehouse pallets\n",
            "warehouse pallets\n",
            "pallet\n",
            "floor\n",
            "\n",
            "\n",
            "\n",
            "wooden pallet\n"
          ]
        },
        {
          "output_type": "stream",
          "name": "stderr",
          "text": [
            " 33%|███▎      | 172/519 [00:29<00:54,  6.38it/s]"
          ]
        },
        {
          "output_type": "stream",
          "name": "stdout",
          "text": [
            "warehouse pallets\n",
            "floor\n",
            "\n",
            "\n",
            "\n",
            "floor\n",
            "warehouse pallets\n",
            "\n",
            "\n"
          ]
        },
        {
          "output_type": "stream",
          "name": "stderr",
          "text": [
            " 34%|███▎      | 174/519 [00:29<00:53,  6.50it/s]"
          ]
        },
        {
          "output_type": "stream",
          "name": "stdout",
          "text": [
            "floor\n",
            "warehouse pallets\n",
            "\n",
            "ground\n",
            "pallet\n",
            "floor\n",
            "pallets\n",
            "pallet\n",
            "wooden pallet\n",
            "ground\n",
            "\n"
          ]
        },
        {
          "output_type": "stream",
          "name": "stderr",
          "text": [
            " 34%|███▍      | 176/519 [00:29<00:52,  6.52it/s]"
          ]
        },
        {
          "output_type": "stream",
          "name": "stdout",
          "text": [
            "floor\n",
            "\n",
            "\n",
            "\n",
            "\n",
            "floor\n",
            "\n",
            "\n",
            "\n",
            "\n"
          ]
        },
        {
          "output_type": "stream",
          "name": "stderr",
          "text": [
            " 34%|███▍      | 178/519 [00:30<00:53,  6.35it/s]"
          ]
        },
        {
          "output_type": "stream",
          "name": "stdout",
          "text": [
            "floor\n",
            "warehouse pallets\n",
            "\n",
            "\n",
            "pallet\n",
            "\n",
            "wooden pallet\n",
            "\n"
          ]
        },
        {
          "output_type": "stream",
          "name": "stderr",
          "text": [
            " 35%|███▍      | 180/519 [00:30<00:52,  6.50it/s]"
          ]
        },
        {
          "output_type": "stream",
          "name": "stdout",
          "text": [
            "floor\n",
            "warehouse pallets\n",
            "warehouse pallets\n",
            "\n",
            "\n",
            "\n",
            "floor\n",
            "wooden pallet\n",
            "\n",
            "\n",
            "ground\n",
            "\n",
            "\n"
          ]
        },
        {
          "output_type": "stream",
          "name": "stderr",
          "text": [
            " 35%|███▌      | 182/519 [00:30<00:52,  6.47it/s]"
          ]
        },
        {
          "output_type": "stream",
          "name": "stdout",
          "text": [
            "warehouse pallets\n",
            "\n",
            "floor\n",
            "floor\n",
            "pal\n",
            "\n",
            "pallet\n",
            "\n",
            "\n",
            "\n",
            "\n",
            "\n"
          ]
        },
        {
          "output_type": "stream",
          "name": "stderr",
          "text": [
            " 35%|███▌      | 184/519 [00:31<00:52,  6.35it/s]"
          ]
        },
        {
          "output_type": "stream",
          "name": "stdout",
          "text": [
            "floor\n",
            "\n",
            "\n",
            "ground\n",
            "\n",
            "floor\n",
            "pallet\n",
            "pallet\n",
            "\n"
          ]
        },
        {
          "output_type": "stream",
          "name": "stderr",
          "text": [
            " 36%|███▌      | 186/519 [00:31<00:51,  6.53it/s]"
          ]
        },
        {
          "output_type": "stream",
          "name": "stdout",
          "text": [
            "floor\n",
            "ground\n",
            "\n",
            "floor\n",
            "\n",
            "pallet\n",
            "wooden pallet\n",
            "\n",
            "ground\n"
          ]
        },
        {
          "output_type": "stream",
          "name": "stderr",
          "text": [
            " 36%|███▌      | 188/519 [00:31<00:51,  6.38it/s]"
          ]
        },
        {
          "output_type": "stream",
          "name": "stdout",
          "text": [
            "warehouse pallets\n",
            "floor\n",
            "\n",
            "floor\n",
            "pallet\n",
            "floor\n",
            "\n",
            "ground\n",
            "\n"
          ]
        },
        {
          "output_type": "stream",
          "name": "stderr",
          "text": [
            " 37%|███▋      | 190/519 [00:32<00:50,  6.48it/s]"
          ]
        },
        {
          "output_type": "stream",
          "name": "stdout",
          "text": [
            "floor\n",
            "warehouse pallets\n",
            "pallet\n",
            "\n",
            "pal\n",
            "\n",
            "ground\n",
            "\n",
            "floor\n",
            "warehouse pallets\n",
            "pal\n",
            "pallet\n",
            "\n",
            "ground\n"
          ]
        },
        {
          "output_type": "stream",
          "name": "stderr",
          "text": [
            " 37%|███▋      | 192/519 [00:32<00:50,  6.45it/s]"
          ]
        },
        {
          "output_type": "stream",
          "name": "stdout",
          "text": [
            "floor\n",
            "\n",
            "\n",
            "floor\n",
            "\n",
            "pallets\n",
            "pallet\n",
            "pal\n",
            "ground\n"
          ]
        },
        {
          "output_type": "stream",
          "name": "stderr",
          "text": [
            " 37%|███▋      | 194/519 [00:32<00:51,  6.30it/s]"
          ]
        },
        {
          "output_type": "stream",
          "name": "stdout",
          "text": [
            "floor\n",
            "pallet\n",
            "warehouse pallets\n",
            "pallets\n",
            "\n",
            "wooden pallet\n",
            "ground\n",
            "floor\n",
            "\n",
            "\n",
            "warehouse pal\n",
            "\n",
            "\n"
          ]
        },
        {
          "output_type": "stream",
          "name": "stderr",
          "text": [
            " 38%|███▊      | 196/519 [00:33<00:50,  6.42it/s]"
          ]
        },
        {
          "output_type": "stream",
          "name": "stdout",
          "text": [
            "floor\n",
            "warehouse pallets\n",
            "pallet\n",
            "warehouse pallets\n",
            "\n",
            "ground\n",
            "\n",
            "\n",
            "\n",
            "warehouse pallets\n",
            "floor\n",
            "pallet\n",
            "\n",
            "wooden pallet\n"
          ]
        },
        {
          "output_type": "stream",
          "name": "stderr",
          "text": [
            " 38%|███▊      | 198/519 [00:33<00:49,  6.53it/s]"
          ]
        },
        {
          "output_type": "stream",
          "name": "stdout",
          "text": [
            "\n",
            "floor\n",
            "\n",
            "\n",
            "floor\n",
            "warehouse pallets\n",
            "pallet\n",
            "ground\n"
          ]
        },
        {
          "output_type": "stream",
          "name": "stderr",
          "text": [
            " 39%|███▊      | 200/519 [00:33<00:49,  6.42it/s]"
          ]
        },
        {
          "output_type": "stream",
          "name": "stdout",
          "text": [
            "floor\n",
            "warehouse pallets\n",
            "wooden pallet\n",
            "\n",
            "\n",
            "ground\n",
            "warehouse pallets\n",
            "floor\n",
            "warehouse pallets\n",
            "\n",
            "pallet\n",
            "\n"
          ]
        },
        {
          "output_type": "stream",
          "name": "stderr",
          "text": [
            " 39%|███▉      | 202/519 [00:33<00:49,  6.47it/s]"
          ]
        },
        {
          "output_type": "stream",
          "name": "stdout",
          "text": [
            "warehouse pallets\n",
            "floor\n",
            "pal\n",
            "\n",
            "\n",
            "\n",
            "\n",
            "floor\n",
            "pallets\n",
            "pallet\n",
            "\n",
            "\n",
            "\n",
            "\n"
          ]
        },
        {
          "output_type": "stream",
          "name": "stderr",
          "text": [
            " 39%|███▉      | 204/519 [00:34<00:51,  6.10it/s]"
          ]
        },
        {
          "output_type": "stream",
          "name": "stdout",
          "text": [
            "floor\n",
            "\n",
            "warehouse pallets\n",
            "pallet\n",
            "wooden pallet\n",
            "ground\n",
            "\n",
            "warehouse pallets\n",
            "\n",
            "\n",
            "\n",
            "\n",
            "\n"
          ]
        },
        {
          "output_type": "stream",
          "name": "stderr",
          "text": [
            " 40%|███▉      | 206/519 [00:34<00:49,  6.33it/s]"
          ]
        },
        {
          "output_type": "stream",
          "name": "stdout",
          "text": [
            "floor\n",
            "\n",
            "\n",
            "floor\n",
            "\n",
            "\n",
            "ground\n"
          ]
        },
        {
          "output_type": "stream",
          "name": "stderr",
          "text": [
            " 40%|████      | 208/519 [00:34<00:48,  6.45it/s]"
          ]
        },
        {
          "output_type": "stream",
          "name": "stdout",
          "text": [
            "floor\n",
            "warehouse pallets\n",
            "pallet\n",
            "ground\n",
            "\n",
            "\n",
            "warehouse pallets\n",
            "\n"
          ]
        },
        {
          "output_type": "stream",
          "name": "stderr",
          "text": [
            " 40%|████      | 210/519 [00:35<00:47,  6.50it/s]"
          ]
        },
        {
          "output_type": "stream",
          "name": "stdout",
          "text": [
            "floor\n",
            "\n",
            "ground\n",
            "\n",
            "floor\n",
            "warehouse pallets\n",
            "\n",
            "\n",
            "ground\n",
            "\n"
          ]
        },
        {
          "output_type": "stream",
          "name": "stderr",
          "text": [
            " 41%|████      | 212/519 [00:35<00:46,  6.57it/s]"
          ]
        },
        {
          "output_type": "stream",
          "name": "stdout",
          "text": [
            "floor\n",
            "pallets\n",
            "ground\n",
            "\n",
            "floor\n",
            "ground\n",
            "\n",
            "\n"
          ]
        },
        {
          "output_type": "stream",
          "name": "stderr",
          "text": [
            " 41%|████      | 214/519 [00:35<00:47,  6.39it/s]"
          ]
        },
        {
          "output_type": "stream",
          "name": "stdout",
          "text": [
            "floor\n",
            "warehouse pallets\n",
            "\n",
            "ground\n",
            "\n",
            "floor\n",
            "\n",
            "\n"
          ]
        },
        {
          "output_type": "stream",
          "name": "stderr",
          "text": [
            " 42%|████▏     | 216/519 [00:36<00:47,  6.41it/s]"
          ]
        },
        {
          "output_type": "stream",
          "name": "stdout",
          "text": [
            "floor\n",
            "wooden pallet\n",
            "ground\n",
            "\n",
            "pallet\n",
            "floor\n",
            "wooden pallet\n",
            "pallets\n",
            "\n",
            "pallet\n",
            "pal\n",
            "ground\n"
          ]
        },
        {
          "output_type": "stream",
          "name": "stderr",
          "text": [
            " 42%|████▏     | 218/519 [00:36<00:47,  6.36it/s]"
          ]
        },
        {
          "output_type": "stream",
          "name": "stdout",
          "text": [
            "floor\n",
            "warehouse pallets\n",
            "\n",
            "\n",
            "\n",
            "\n",
            "\n",
            "floor\n",
            "warehouse pallets\n",
            "\n",
            "\n",
            "\n",
            "ground\n",
            "pallet\n",
            "\n",
            "\n",
            "\n"
          ]
        },
        {
          "output_type": "stream",
          "name": "stderr",
          "text": [
            " 42%|████▏     | 220/519 [00:36<00:47,  6.31it/s]"
          ]
        },
        {
          "output_type": "stream",
          "name": "stdout",
          "text": [
            "warehouse pallets\n",
            "wooden pallet\n",
            "pallet\n",
            "floor\n",
            "\n",
            "floor\n",
            "warehouse pal\n",
            "ground\n",
            "\n"
          ]
        },
        {
          "output_type": "stream",
          "name": "stderr",
          "text": [
            " 43%|████▎     | 222/519 [00:37<00:47,  6.29it/s]"
          ]
        },
        {
          "output_type": "stream",
          "name": "stdout",
          "text": [
            "warehouse pallets\n",
            "floor\n",
            "warehouse pallets\n",
            "\n",
            "\n",
            "\n",
            "floor\n",
            "warehouse pallets\n",
            "wooden pallet\n",
            "\n",
            "ground\n",
            "\n"
          ]
        },
        {
          "output_type": "stream",
          "name": "stderr",
          "text": [
            " 43%|████▎     | 224/519 [00:37<00:47,  6.24it/s]"
          ]
        },
        {
          "output_type": "stream",
          "name": "stdout",
          "text": [
            "warehouse pallets\n",
            "floor\n",
            "warehouse pallets\n",
            "\n",
            "warehouse pallets\n",
            "wooden pallet\n",
            "floor\n",
            "pallet\n"
          ]
        },
        {
          "output_type": "stream",
          "name": "stderr",
          "text": [
            " 44%|████▎     | 226/519 [00:37<00:45,  6.38it/s]"
          ]
        },
        {
          "output_type": "stream",
          "name": "stdout",
          "text": [
            "floor\n",
            "\n",
            "pallets\n",
            "pallet\n",
            "wooden pallet\n",
            "ground\n",
            "wooden pallet\n",
            "pallet\n",
            "floor\n",
            "warehouse pallets\n",
            "ground\n",
            "\n"
          ]
        },
        {
          "output_type": "stream",
          "name": "stderr",
          "text": [
            " 44%|████▍     | 228/519 [00:38<00:44,  6.47it/s]"
          ]
        },
        {
          "output_type": "stream",
          "name": "stdout",
          "text": [
            "floor\n",
            "pallets\n",
            "pallet\n",
            "pallet\n",
            "\n",
            "ground\n",
            "\n",
            "floor\n",
            "pallets\n",
            "\n",
            "floor\n"
          ]
        },
        {
          "output_type": "stream",
          "name": "stderr",
          "text": [
            " 44%|████▍     | 230/519 [00:38<00:45,  6.35it/s]"
          ]
        },
        {
          "output_type": "stream",
          "name": "stdout",
          "text": [
            "floor\n",
            "ground\n",
            "warehouse pallets\n",
            "floor\n",
            "pallet\n",
            "wooden pallet\n"
          ]
        },
        {
          "output_type": "stream",
          "name": "stderr",
          "text": [
            " 45%|████▍     | 232/519 [00:38<00:44,  6.48it/s]"
          ]
        },
        {
          "output_type": "stream",
          "name": "stdout",
          "text": [
            "floor\n",
            "ground\n",
            "\n",
            "\n",
            "floor\n",
            "pallets\n",
            "ground\n",
            "pallet\n",
            "wooden pallet\n"
          ]
        },
        {
          "output_type": "stream",
          "name": "stderr",
          "text": [
            " 45%|████▌     | 234/519 [00:38<00:43,  6.49it/s]"
          ]
        },
        {
          "output_type": "stream",
          "name": "stdout",
          "text": [
            "floor\n",
            "warehouse pallets\n",
            "warehouse pallets\n",
            "ground\n",
            "\n",
            "\n",
            "\n",
            "\n",
            "\n",
            "\n",
            "warehouse pallets\n",
            "\n",
            "floor\n",
            "ground\n"
          ]
        },
        {
          "output_type": "stream",
          "name": "stderr",
          "text": [
            " 45%|████▌     | 236/519 [00:39<00:44,  6.38it/s]"
          ]
        },
        {
          "output_type": "stream",
          "name": "stdout",
          "text": [
            "floor\n",
            "warehouse pallets\n",
            "ground\n",
            "pal\n",
            "\n",
            "floor\n",
            "pallets\n",
            "\n",
            "ground\n",
            "\n",
            "\n",
            "\n"
          ]
        },
        {
          "output_type": "stream",
          "name": "stderr",
          "text": [
            " 46%|████▌     | 238/519 [00:39<00:43,  6.53it/s]"
          ]
        },
        {
          "output_type": "stream",
          "name": "stdout",
          "text": [
            "floor\n",
            "\n",
            "##lets\n",
            "floor\n",
            "ground\n",
            "\n",
            "pal\n",
            "\n"
          ]
        },
        {
          "output_type": "stream",
          "name": "stderr",
          "text": [
            " 46%|████▌     | 240/519 [00:39<00:42,  6.55it/s]"
          ]
        },
        {
          "output_type": "stream",
          "name": "stdout",
          "text": [
            "floor\n",
            "pallets\n",
            "ground\n",
            "pallet\n",
            "\n",
            "floor\n",
            "warehouse pallets\n",
            "warehouse pallets\n",
            "ground\n",
            "\n"
          ]
        },
        {
          "output_type": "stream",
          "name": "stderr",
          "text": [
            " 47%|████▋     | 242/519 [00:40<00:43,  6.42it/s]"
          ]
        },
        {
          "output_type": "stream",
          "name": "stdout",
          "text": [
            "floor\n",
            "\n",
            "\n",
            "floor\n",
            "warehouse pallets\n",
            "wooden pallet\n",
            "\n",
            "\n",
            "ground\n"
          ]
        },
        {
          "output_type": "stream",
          "name": "stderr",
          "text": [
            " 47%|████▋     | 244/519 [00:40<00:42,  6.48it/s]"
          ]
        },
        {
          "output_type": "stream",
          "name": "stdout",
          "text": [
            "floor\n",
            "\n",
            "ground\n",
            "\n",
            "pallet\n",
            "\n",
            "floor\n",
            "\n",
            "wooden pallet\n",
            "\n",
            "\n",
            "pallet\n",
            "\n"
          ]
        },
        {
          "output_type": "stream",
          "name": "stderr",
          "text": [
            " 47%|████▋     | 246/519 [00:40<00:44,  6.18it/s]"
          ]
        },
        {
          "output_type": "stream",
          "name": "stdout",
          "text": [
            "floor\n",
            "warehouse pallets\n",
            "\n",
            "warehouse pallets\n",
            "pallet\n",
            "warehouse pallets\n",
            "wooden pallet\n",
            "\n"
          ]
        },
        {
          "output_type": "stream",
          "name": "stderr",
          "text": [
            " 48%|████▊     | 248/519 [00:41<00:42,  6.35it/s]"
          ]
        },
        {
          "output_type": "stream",
          "name": "stdout",
          "text": [
            "warehouse pallets\n",
            "\n",
            "floor\n",
            "warehouse pallets\n",
            "warehouse pallets\n",
            "\n",
            "pallet\n"
          ]
        },
        {
          "output_type": "stream",
          "name": "stderr",
          "text": [
            " 48%|████▊     | 250/519 [00:41<00:41,  6.50it/s]"
          ]
        },
        {
          "output_type": "stream",
          "name": "stdout",
          "text": [
            "floor\n",
            "warehouse pallets\n",
            "pallet\n",
            "\n",
            "\n",
            "wooden pallet\n",
            "wooden pallet\n",
            "pallet\n",
            "warehouse pallets\n",
            "floor\n",
            "\n"
          ]
        },
        {
          "output_type": "stream",
          "name": "stderr",
          "text": [
            " 49%|████▊     | 252/519 [00:41<00:41,  6.42it/s]"
          ]
        },
        {
          "output_type": "stream",
          "name": "stdout",
          "text": [
            "floor\n",
            "warehouse pallets\n",
            "\n",
            "ground\n",
            "\n",
            "\n",
            "floor\n",
            "warehouse pallets\n",
            "pallets\n",
            "pallet\n",
            "\n",
            "\n",
            "wooden pallet\n",
            "\n"
          ]
        },
        {
          "output_type": "stream",
          "name": "stderr",
          "text": [
            " 49%|████▉     | 254/519 [00:42<00:41,  6.39it/s]"
          ]
        },
        {
          "output_type": "stream",
          "name": "stdout",
          "text": [
            "floor\n",
            "\n",
            "warehouse pallets\n",
            "floor\n"
          ]
        },
        {
          "output_type": "stream",
          "name": "stderr",
          "text": [
            " 49%|████▉     | 256/519 [00:42<00:41,  6.28it/s]"
          ]
        },
        {
          "output_type": "stream",
          "name": "stdout",
          "text": [
            "floor\n",
            "wooden pallet\n",
            "\n",
            "\n",
            "floor\n",
            "\n",
            "ground\n",
            "\n"
          ]
        },
        {
          "output_type": "stream",
          "name": "stderr",
          "text": [
            " 50%|████▉     | 258/519 [00:42<00:40,  6.45it/s]"
          ]
        },
        {
          "output_type": "stream",
          "name": "stdout",
          "text": [
            "pallet\n",
            "wooden pallet\n",
            "floor\n",
            "warehouse pallets\n",
            "pallet\n",
            "ground\n",
            "\n",
            "\n"
          ]
        },
        {
          "output_type": "stream",
          "name": "stderr",
          "text": [
            " 50%|█████     | 260/519 [00:42<00:39,  6.50it/s]"
          ]
        },
        {
          "output_type": "stream",
          "name": "stdout",
          "text": [
            "floor\n",
            "ground\n",
            "warehouse pallets\n",
            "wooden pallet\n",
            "\n",
            "\n",
            "\n",
            "floor\n",
            "\n",
            "pallets\n",
            "ground\n",
            "pallet\n",
            "\n"
          ]
        },
        {
          "output_type": "stream",
          "name": "stderr",
          "text": [
            " 50%|█████     | 262/519 [00:43<00:38,  6.60it/s]"
          ]
        },
        {
          "output_type": "stream",
          "name": "stdout",
          "text": [
            "floor\n",
            "warehouse pallets\n",
            "\n",
            "pallet\n",
            "wooden pallet\n",
            "pallet\n",
            "\n",
            "wooden pallet\n",
            "wooden pallet\n",
            "\n",
            "warehouse pallets\n",
            "\n"
          ]
        },
        {
          "output_type": "stream",
          "name": "stderr",
          "text": [
            " 51%|█████     | 264/519 [00:43<00:38,  6.62it/s]"
          ]
        },
        {
          "output_type": "stream",
          "name": "stdout",
          "text": [
            "floor\n",
            "\n",
            "ground\n",
            "\n",
            "floor\n",
            "warehouse pallets\n",
            "\n",
            "\n",
            "ground\n",
            "\n"
          ]
        },
        {
          "output_type": "stream",
          "name": "stderr",
          "text": [
            " 51%|█████▏    | 266/519 [00:43<00:38,  6.57it/s]"
          ]
        },
        {
          "output_type": "stream",
          "name": "stdout",
          "text": [
            "warehouse pallets\n",
            "warehouse pallets\n",
            "floor\n",
            "\n",
            "\n",
            "\n",
            "floor\n",
            "warehouse pallets\n",
            "\n",
            "\n",
            "\n"
          ]
        },
        {
          "output_type": "stream",
          "name": "stderr",
          "text": [
            " 52%|█████▏    | 268/519 [00:44<00:39,  6.41it/s]"
          ]
        },
        {
          "output_type": "stream",
          "name": "stdout",
          "text": [
            "floor\n",
            "warehouse pallets\n",
            "\n",
            "warehouse pallets\n",
            "pallet\n",
            "pallet\n",
            "wooden pallet\n",
            "pallet\n",
            "\n",
            "ground\n",
            "floor\n",
            "\n",
            "\n"
          ]
        },
        {
          "output_type": "stream",
          "name": "stderr",
          "text": [
            " 52%|█████▏    | 270/519 [00:44<00:38,  6.52it/s]"
          ]
        },
        {
          "output_type": "stream",
          "name": "stdout",
          "text": [
            "warehouse pallets\n",
            "\n",
            "pallet\n",
            "\n",
            "\n",
            "floor\n",
            "warehouse pallets\n",
            "\n",
            "\n",
            "\n",
            "pal\n",
            "\n"
          ]
        },
        {
          "output_type": "stream",
          "name": "stderr",
          "text": [
            " 52%|█████▏    | 272/519 [00:44<00:37,  6.53it/s]"
          ]
        },
        {
          "output_type": "stream",
          "name": "stdout",
          "text": [
            "floor\n",
            "pallets\n",
            "pallet\n",
            "ground\n",
            "\n",
            "\n",
            "warehouse pallets\n",
            "floor\n",
            "warehouse pallets\n",
            "\n",
            "\n",
            "\n",
            "\n"
          ]
        },
        {
          "output_type": "stream",
          "name": "stderr",
          "text": [
            " 53%|█████▎    | 274/519 [00:45<00:38,  6.34it/s]"
          ]
        },
        {
          "output_type": "stream",
          "name": "stdout",
          "text": [
            "warehouse pallets\n",
            "floor\n",
            "pallet\n",
            "\n",
            "\n",
            "\n",
            "floor\n",
            "pallet\n",
            "ground\n"
          ]
        },
        {
          "output_type": "stream",
          "name": "stderr",
          "text": [
            " 53%|█████▎    | 276/519 [00:45<00:37,  6.47it/s]"
          ]
        },
        {
          "output_type": "stream",
          "name": "stdout",
          "text": [
            "floor\n",
            "warehouse pallets\n",
            "\n",
            "wooden pallet\n",
            "\n",
            "floor\n",
            "\n",
            "\n",
            "\n"
          ]
        },
        {
          "output_type": "stream",
          "name": "stderr",
          "text": [
            " 54%|█████▎    | 278/519 [00:45<00:37,  6.40it/s]"
          ]
        },
        {
          "output_type": "stream",
          "name": "stdout",
          "text": [
            "floor\n",
            "warehouse pallets\n",
            "warehouse pallets\n",
            "\n",
            "\n",
            "pallets\n",
            "warehouse pallets\n",
            "pallet\n",
            "floor\n",
            "floor\n",
            "wooden pallet\n",
            "\n",
            "\n"
          ]
        },
        {
          "output_type": "stream",
          "name": "stderr",
          "text": [
            " 54%|█████▍    | 280/519 [00:46<00:36,  6.52it/s]"
          ]
        },
        {
          "output_type": "stream",
          "name": "stdout",
          "text": [
            "floor\n",
            "wooden pallet\n",
            "\n",
            "ground\n",
            "\n",
            "warehouse pallets\n",
            "\n",
            "wooden pallet\n",
            "pallet\n",
            "\n",
            "\n"
          ]
        },
        {
          "output_type": "stream",
          "name": "stderr",
          "text": [
            " 54%|█████▍    | 282/519 [00:46<00:36,  6.54it/s]"
          ]
        },
        {
          "output_type": "stream",
          "name": "stdout",
          "text": [
            "floor\n",
            "warehouse pallets\n",
            "pallet\n",
            "ground\n",
            "\n",
            "floor\n",
            "floor\n",
            "\n"
          ]
        },
        {
          "output_type": "stream",
          "name": "stderr",
          "text": [
            " 55%|█████▍    | 284/519 [00:46<00:36,  6.36it/s]"
          ]
        },
        {
          "output_type": "stream",
          "name": "stdout",
          "text": [
            "floor\n",
            "\n",
            "\n",
            "\n",
            "ground\n",
            "\n",
            "floor\n",
            "\n",
            "\n",
            "pallet\n",
            "\n",
            "ground\n"
          ]
        },
        {
          "output_type": "stream",
          "name": "stderr",
          "text": [
            " 55%|█████▌    | 286/519 [00:47<00:36,  6.44it/s]"
          ]
        },
        {
          "output_type": "stream",
          "name": "stdout",
          "text": [
            "floor\n",
            "wooden pallet\n",
            "warehouse pallets\n",
            "pallet\n",
            "\n",
            "ground\n",
            "\n",
            "\n",
            "warehouse pallets\n",
            "\n",
            "\n",
            "\n",
            "\n"
          ]
        },
        {
          "output_type": "stream",
          "name": "stderr",
          "text": [
            " 55%|█████▌    | 288/519 [00:47<00:36,  6.28it/s]"
          ]
        },
        {
          "output_type": "stream",
          "name": "stdout",
          "text": [
            "floor\n",
            "wooden pallet\n",
            "ground\n",
            "pallet\n",
            "floor\n",
            "wooden pallet\n",
            "\n",
            "warehouse pallets\n",
            "pallet\n",
            "pallet\n",
            "ground\n",
            "\n",
            "\n",
            "\n"
          ]
        },
        {
          "output_type": "stream",
          "name": "stderr",
          "text": [
            " 56%|█████▌    | 290/519 [00:47<00:35,  6.38it/s]"
          ]
        },
        {
          "output_type": "stream",
          "name": "stdout",
          "text": [
            "floor\n",
            "warehouse pallets\n",
            "wooden pallet\n",
            "pallet\n",
            "\n",
            "\n",
            "pallets\n",
            "warehouse pallets\n",
            "floor\n",
            "\n",
            "\n"
          ]
        },
        {
          "output_type": "stream",
          "name": "stderr",
          "text": [
            " 56%|█████▋    | 292/519 [00:47<00:35,  6.39it/s]"
          ]
        },
        {
          "output_type": "stream",
          "name": "stdout",
          "text": [
            "floor\n",
            "\n",
            "pallet\n",
            "\n",
            "\n",
            "wooden pallet\n",
            "\n",
            "\n",
            "warehouse pallets\n",
            "floor\n"
          ]
        },
        {
          "output_type": "stream",
          "name": "stderr",
          "text": [
            " 57%|█████▋    | 294/519 [00:48<00:35,  6.31it/s]"
          ]
        },
        {
          "output_type": "stream",
          "name": "stdout",
          "text": [
            "floor\n",
            "\n",
            "\n",
            "\n",
            "\n",
            "\n",
            "\n",
            "warehouse pallets\n",
            "\n",
            "\n",
            "\n",
            "\n",
            "\n"
          ]
        },
        {
          "output_type": "stream",
          "name": "stderr",
          "text": [
            " 57%|█████▋    | 296/519 [00:48<00:34,  6.42it/s]"
          ]
        },
        {
          "output_type": "stream",
          "name": "stdout",
          "text": [
            "warehouse pal\n",
            "floor\n",
            "floor\n",
            "floor\n",
            "warehouse pallets\n",
            "\n",
            "\n"
          ]
        },
        {
          "output_type": "stream",
          "name": "stderr",
          "text": [
            " 57%|█████▋    | 298/519 [00:48<00:35,  6.25it/s]"
          ]
        },
        {
          "output_type": "stream",
          "name": "stdout",
          "text": [
            "floor\n",
            "wooden pallet\n",
            "pallet\n",
            "ground\n",
            "\n",
            "warehouse pallets\n",
            "\n",
            "\n"
          ]
        },
        {
          "output_type": "stream",
          "name": "stderr",
          "text": [
            " 58%|█████▊    | 300/519 [00:49<00:34,  6.41it/s]"
          ]
        },
        {
          "output_type": "stream",
          "name": "stdout",
          "text": [
            "floor\n",
            "pallets\n",
            "pallet\n",
            "warehouse pallets\n",
            "wooden pallet\n",
            "\n",
            "ground\n",
            "floor\n",
            "wooden pallet\n",
            "\n",
            "pallets\n",
            "\n",
            "ground\n"
          ]
        },
        {
          "output_type": "stream",
          "name": "stderr",
          "text": [
            " 58%|█████▊    | 302/519 [00:49<00:34,  6.22it/s]"
          ]
        },
        {
          "output_type": "stream",
          "name": "stdout",
          "text": [
            "warehouse pallets\n",
            "floor\n",
            "\n",
            "\n",
            "\n",
            "\n",
            "floor\n",
            "\n",
            "warehouse pallets\n",
            "pallet\n",
            "\n",
            "\n",
            "wooden pallet\n"
          ]
        },
        {
          "output_type": "stream",
          "name": "stderr",
          "text": [
            " 59%|█████▊    | 304/519 [00:49<00:34,  6.26it/s]"
          ]
        },
        {
          "output_type": "stream",
          "name": "stdout",
          "text": [
            "warehouse pallets\n",
            "floor\n",
            "floor\n",
            "warehouse pallets\n",
            "wooden pallet\n",
            "pallet\n",
            "ground\n"
          ]
        },
        {
          "output_type": "stream",
          "name": "stderr",
          "text": [
            " 59%|█████▉    | 306/519 [00:50<00:32,  6.46it/s]"
          ]
        },
        {
          "output_type": "stream",
          "name": "stdout",
          "text": [
            "\n",
            "warehouse pallets\n",
            "floor\n",
            "\n",
            "\n",
            "\n",
            "floor\n",
            "ground\n",
            "\n",
            "pallet\n",
            "\n"
          ]
        },
        {
          "output_type": "stream",
          "name": "stderr",
          "text": [
            " 59%|█████▉    | 308/519 [00:50<00:32,  6.54it/s]"
          ]
        },
        {
          "output_type": "stream",
          "name": "stdout",
          "text": [
            "floor\n",
            "\n",
            "\n",
            "\n",
            "floor\n",
            "warehouse pallets\n",
            "pallets\n",
            "pallet\n",
            "\n",
            "pallet\n",
            "pallet\n",
            "\n",
            "\n"
          ]
        },
        {
          "output_type": "stream",
          "name": "stderr",
          "text": [
            " 60%|█████▉    | 310/519 [00:50<00:32,  6.46it/s]"
          ]
        },
        {
          "output_type": "stream",
          "name": "stdout",
          "text": [
            "floor\n",
            "warehouse pallets\n",
            "pallet\n",
            "\n",
            "wooden pallet\n",
            "pallet\n",
            "ground\n",
            "floor\n",
            "ground\n"
          ]
        },
        {
          "output_type": "stream",
          "name": "stderr",
          "text": [
            " 60%|██████    | 312/519 [00:51<00:31,  6.54it/s]"
          ]
        },
        {
          "output_type": "stream",
          "name": "stdout",
          "text": [
            "floor\n",
            "ground\n",
            "\n",
            "warehouse pallets\n",
            "floor\n",
            "pallet\n",
            "\n",
            "\n",
            "\n"
          ]
        },
        {
          "output_type": "stream",
          "name": "stderr",
          "text": [
            " 61%|██████    | 314/519 [00:51<00:31,  6.47it/s]"
          ]
        },
        {
          "output_type": "stream",
          "name": "stdout",
          "text": [
            "floor\n",
            "wooden pallet\n",
            "\n",
            "ground\n",
            "\n",
            "floor\n",
            "wooden pallet\n",
            "warehouse pallets\n",
            "ground\n"
          ]
        },
        {
          "output_type": "stream",
          "name": "stderr",
          "text": [
            " 61%|██████    | 316/519 [00:51<00:31,  6.38it/s]"
          ]
        },
        {
          "output_type": "stream",
          "name": "stdout",
          "text": [
            "floor\n",
            "pallet\n",
            "pallets\n",
            "\n",
            "wooden pallet\n",
            "\n",
            "ground\n",
            "wooden pallet\n",
            "floor\n",
            "wooden pallet\n",
            "\n",
            "warehouse pallets\n",
            "ground\n"
          ]
        },
        {
          "output_type": "stream",
          "name": "stderr",
          "text": [
            " 61%|██████▏   | 318/519 [00:52<00:31,  6.47it/s]"
          ]
        },
        {
          "output_type": "stream",
          "name": "stdout",
          "text": [
            "floor\n",
            "warehouse pallets\n",
            "\n",
            "ground\n",
            "floor\n",
            "warehouse pallets\n",
            "\n",
            "\n",
            "##let\n"
          ]
        },
        {
          "output_type": "stream",
          "name": "stderr",
          "text": [
            " 62%|██████▏   | 320/519 [00:52<00:31,  6.38it/s]"
          ]
        },
        {
          "output_type": "stream",
          "name": "stdout",
          "text": [
            "floor\n",
            "warehouse pallets\n",
            "pallet\n",
            "ground\n",
            "\n",
            "pal\n",
            "pallet\n",
            "\n",
            "\n",
            "\n"
          ]
        },
        {
          "output_type": "stream",
          "name": "stderr",
          "text": [
            " 62%|██████▏   | 322/519 [00:52<00:30,  6.48it/s]"
          ]
        },
        {
          "output_type": "stream",
          "name": "stdout",
          "text": [
            "floor\n",
            "wooden pallet\n",
            "\n",
            "floor\n",
            "wooden pallet\n",
            "ground\n",
            "\n"
          ]
        },
        {
          "output_type": "stream",
          "name": "stderr",
          "text": [
            " 62%|██████▏   | 324/519 [00:52<00:29,  6.52it/s]"
          ]
        },
        {
          "output_type": "stream",
          "name": "stdout",
          "text": [
            "floor\n",
            "\n",
            "\n",
            "pallet\n",
            "pal\n",
            "ground\n",
            "floor\n",
            "\n",
            "warehouse pallets\n",
            "\n",
            "ground\n"
          ]
        },
        {
          "output_type": "stream",
          "name": "stderr",
          "text": [
            " 63%|██████▎   | 326/519 [00:53<00:30,  6.42it/s]"
          ]
        },
        {
          "output_type": "stream",
          "name": "stdout",
          "text": [
            "floor\n",
            "floor\n",
            "\n",
            "\n",
            "warehouse pallets\n",
            "floor\n",
            "wooden pallet\n",
            "pallet\n"
          ]
        },
        {
          "output_type": "stream",
          "name": "stderr",
          "text": [
            " 63%|██████▎   | 328/519 [00:53<00:29,  6.49it/s]"
          ]
        },
        {
          "output_type": "stream",
          "name": "stdout",
          "text": [
            "wooden pallet\n",
            "pallet\n",
            "floor\n",
            "pal\n",
            "\n",
            "\n",
            "warehouse pallets\n",
            "pallet\n",
            "pallet\n",
            "wooden pallet\n",
            "floor\n",
            "ground\n"
          ]
        },
        {
          "output_type": "stream",
          "name": "stderr",
          "text": [
            " 64%|██████▎   | 330/519 [00:53<00:29,  6.34it/s]"
          ]
        },
        {
          "output_type": "stream",
          "name": "stdout",
          "text": [
            "warehouse pallets\n",
            "##let\n",
            "wooden pallet\n",
            "floor\n",
            "wooden pallet\n",
            "warehouse pallets\n",
            "\n",
            "ground\n"
          ]
        },
        {
          "output_type": "stream",
          "name": "stderr",
          "text": [
            " 64%|██████▍   | 332/519 [00:54<00:29,  6.41it/s]"
          ]
        },
        {
          "output_type": "stream",
          "name": "stdout",
          "text": [
            "floor\n",
            "warehouse pallets\n",
            "\n",
            "\n",
            "ground\n",
            "\n",
            "floor\n",
            "warehouse pallets\n",
            "warehouse pallets\n",
            "\n",
            "\n",
            "\n",
            "ground\n"
          ]
        },
        {
          "output_type": "stream",
          "name": "stderr",
          "text": [
            " 64%|██████▍   | 334/519 [00:54<00:28,  6.52it/s]"
          ]
        },
        {
          "output_type": "stream",
          "name": "stdout",
          "text": [
            "floor\n",
            "warehouse pallets\n",
            "\n",
            "\n",
            "\n",
            "\n",
            "floor\n",
            "pallets\n",
            "\n",
            "pallet\n",
            "\n",
            "wooden pallet\n",
            "\n"
          ]
        },
        {
          "output_type": "stream",
          "name": "stderr",
          "text": [
            " 65%|██████▍   | 336/519 [00:54<00:28,  6.40it/s]"
          ]
        },
        {
          "output_type": "stream",
          "name": "stdout",
          "text": [
            "floor\n",
            "warehouse pallets\n",
            "pallet\n",
            "\n",
            "ground\n",
            "floor\n",
            "warehouse pallets\n",
            "\n",
            "ground\n"
          ]
        },
        {
          "output_type": "stream",
          "name": "stderr",
          "text": [
            " 65%|██████▌   | 338/519 [00:55<00:27,  6.52it/s]"
          ]
        },
        {
          "output_type": "stream",
          "name": "stdout",
          "text": [
            "floor\n",
            "\n",
            "\n",
            "\n",
            "\n",
            "floor\n",
            "warehouse pallets\n",
            "wooden pallet\n",
            "\n",
            "\n",
            "\n"
          ]
        },
        {
          "output_type": "stream",
          "name": "stderr",
          "text": [
            " 66%|██████▌   | 340/519 [00:55<00:27,  6.58it/s]"
          ]
        },
        {
          "output_type": "stream",
          "name": "stdout",
          "text": [
            "floor\n",
            "warehouse pallets\n",
            "pallet\n",
            "warehouse pallets\n",
            "pallet\n",
            "wooden\n",
            "ground\n",
            "floor\n",
            "ground\n",
            "\n",
            "\n"
          ]
        },
        {
          "output_type": "stream",
          "name": "stderr",
          "text": [
            " 66%|██████▌   | 342/519 [00:55<00:27,  6.52it/s]"
          ]
        },
        {
          "output_type": "stream",
          "name": "stdout",
          "text": [
            "warehouse pallets\n",
            "pallet\n",
            "floor\n",
            "wooden pallet\n",
            "\n",
            "floor\n",
            "\n",
            "pallet\n",
            "ground\n"
          ]
        },
        {
          "output_type": "stream",
          "name": "stderr",
          "text": [
            " 66%|██████▋   | 344/519 [00:56<00:26,  6.50it/s]"
          ]
        },
        {
          "output_type": "stream",
          "name": "stdout",
          "text": [
            "floor\n",
            "pallets\n",
            "pallet\n",
            "wooden pallet\n",
            "ground\n",
            "floor\n",
            "ground\n",
            "pal\n",
            "\n",
            "\n"
          ]
        },
        {
          "output_type": "stream",
          "name": "stderr",
          "text": [
            " 67%|██████▋   | 346/519 [00:56<00:30,  5.62it/s]"
          ]
        },
        {
          "output_type": "stream",
          "name": "stdout",
          "text": [
            "warehouse\n",
            "pallets\n",
            "floor\n",
            "pallet\n",
            "\n",
            "floor\n",
            "warehouse pallets\n",
            "warehouse pallets\n",
            "pallet\n",
            "wooden pallet\n",
            "ground\n"
          ]
        },
        {
          "output_type": "stream",
          "name": "stderr",
          "text": [
            " 67%|██████▋   | 348/519 [00:56<00:28,  6.01it/s]"
          ]
        },
        {
          "output_type": "stream",
          "name": "stdout",
          "text": [
            "pallets\n",
            "pallet\n",
            "\n",
            "\n",
            "\n",
            "floor\n",
            "\n",
            "\n",
            "\n"
          ]
        },
        {
          "output_type": "stream",
          "name": "stderr",
          "text": [
            " 67%|██████▋   | 350/519 [00:57<00:27,  6.14it/s]"
          ]
        },
        {
          "output_type": "stream",
          "name": "stdout",
          "text": [
            "pallet\n",
            "\n",
            "\n",
            "\n",
            "wooden pallet\n",
            "floor\n",
            "floor\n",
            "warehouse pallets\n",
            "\n",
            "pal\n"
          ]
        },
        {
          "output_type": "stream",
          "name": "stderr",
          "text": [
            " 68%|██████▊   | 352/519 [00:57<00:26,  6.42it/s]"
          ]
        },
        {
          "output_type": "stream",
          "name": "stdout",
          "text": [
            "floor\n",
            "wooden pallet\n",
            "ground\n",
            "\n",
            "warehouse pallets\n",
            "floor\n",
            "\n"
          ]
        },
        {
          "output_type": "stream",
          "name": "stderr",
          "text": [
            " 68%|██████▊   | 354/519 [00:57<00:25,  6.54it/s]"
          ]
        },
        {
          "output_type": "stream",
          "name": "stdout",
          "text": [
            "floor\n",
            "\n",
            "warehouse pallets\n",
            "ground\n",
            "\n",
            "pallet\n",
            "floor\n",
            "warehouse pallets\n",
            "\n",
            "ground\n"
          ]
        },
        {
          "output_type": "stream",
          "name": "stderr",
          "text": [
            " 69%|██████▊   | 356/519 [00:58<00:26,  6.27it/s]"
          ]
        },
        {
          "output_type": "stream",
          "name": "stdout",
          "text": [
            "floor\n",
            "warehouse pallets\n",
            "wooden pallet\n",
            "\n",
            "##let\n",
            "ground\n",
            "floor\n",
            "wooden pallet\n",
            "ground\n",
            "\n",
            "pallet\n"
          ]
        },
        {
          "output_type": "stream",
          "name": "stderr",
          "text": [
            " 69%|██████▉   | 358/519 [00:58<00:24,  6.47it/s]"
          ]
        },
        {
          "output_type": "stream",
          "name": "stdout",
          "text": [
            "floor\n",
            "warehouse pallets\n",
            "pallet\n",
            "\n",
            "ground\n",
            "warehouse\n",
            "\n",
            "\n",
            "\n"
          ]
        },
        {
          "output_type": "stream",
          "name": "stderr",
          "text": [
            " 69%|██████▉   | 360/519 [00:58<00:25,  6.34it/s]"
          ]
        },
        {
          "output_type": "stream",
          "name": "stdout",
          "text": [
            "floor\n",
            "warehouse pallets\n",
            "pallet\n",
            "pallet\n",
            "\n",
            "ground\n",
            "floor\n",
            "warehouse pallets\n",
            "pal\n",
            "wooden pallet\n",
            "\n",
            "\n"
          ]
        },
        {
          "output_type": "stream",
          "name": "stderr",
          "text": [
            " 70%|██████▉   | 362/519 [00:58<00:24,  6.47it/s]"
          ]
        },
        {
          "output_type": "stream",
          "name": "stdout",
          "text": [
            "floor\n",
            "\n",
            "floor\n",
            "ground\n",
            "warehouse pallets\n"
          ]
        },
        {
          "output_type": "stream",
          "name": "stderr",
          "text": [
            " 70%|███████   | 364/519 [00:59<00:23,  6.53it/s]"
          ]
        },
        {
          "output_type": "stream",
          "name": "stdout",
          "text": [
            "floor\n",
            "wooden pallet\n",
            "wooden pallet\n",
            "pallet\n",
            "pallet\n",
            "ground\n",
            "\n",
            "floor\n",
            "pallet\n",
            "wooden pallet\n",
            "warehouse pallets\n",
            "\n"
          ]
        },
        {
          "output_type": "stream",
          "name": "stderr",
          "text": [
            " 71%|███████   | 366/519 [00:59<00:23,  6.39it/s]"
          ]
        },
        {
          "output_type": "stream",
          "name": "stdout",
          "text": [
            "floor\n",
            "warehouse pallets\n",
            "warehouse pallets\n",
            "\n",
            "\n",
            "\n",
            "\n",
            "pallets\n",
            "pal\n",
            "\n",
            "floor\n",
            "\n"
          ]
        },
        {
          "output_type": "stream",
          "name": "stderr",
          "text": [
            " 71%|███████   | 368/519 [00:59<00:23,  6.44it/s]"
          ]
        },
        {
          "output_type": "stream",
          "name": "stdout",
          "text": [
            "floor\n",
            "\n",
            "\n",
            "ground\n",
            "\n",
            "floor\n",
            "wooden pallet\n",
            "warehouse pallets\n",
            "pallet\n",
            "pallets\n",
            "\n",
            "\n"
          ]
        },
        {
          "output_type": "stream",
          "name": "stderr",
          "text": [
            " 71%|███████▏  | 370/519 [01:00<00:23,  6.30it/s]"
          ]
        },
        {
          "output_type": "stream",
          "name": "stdout",
          "text": [
            "floor\n",
            "warehouse pallets\n",
            "\n",
            "\n",
            "\n",
            "floor\n",
            "warehouse pallets\n",
            "wooden pallet\n",
            "##let\n",
            "ground\n",
            "\n"
          ]
        },
        {
          "output_type": "stream",
          "name": "stderr",
          "text": [
            " 72%|███████▏  | 372/519 [01:00<00:22,  6.41it/s]"
          ]
        },
        {
          "output_type": "stream",
          "name": "stdout",
          "text": [
            "floor\n",
            "wooden pallet\n",
            "warehouse pallets\n",
            "pal\n",
            "ground\n",
            "floor\n",
            "##lets\n",
            "\n",
            "warehouse pallets\n",
            "pallet\n",
            "wooden pallet\n",
            "warehouse pallets\n",
            "pallet\n",
            "wooden pallet\n"
          ]
        },
        {
          "output_type": "stream",
          "name": "stderr",
          "text": [
            " 72%|███████▏  | 374/519 [01:00<00:22,  6.44it/s]"
          ]
        },
        {
          "output_type": "stream",
          "name": "stdout",
          "text": [
            "floor\n",
            "ground\n",
            "\n",
            "pallet\n",
            "floor\n",
            "warehouse pallets\n",
            "pallet\n",
            "\n",
            "ground\n",
            "wooden pallet\n"
          ]
        },
        {
          "output_type": "stream",
          "name": "stderr",
          "text": [
            " 72%|███████▏  | 376/519 [01:01<00:22,  6.33it/s]"
          ]
        },
        {
          "output_type": "stream",
          "name": "stdout",
          "text": [
            "floor\n",
            "wooden pallet\n",
            "warehouse pallets\n",
            "\n",
            "\n",
            "floor\n",
            "pallets\n",
            "##let\n",
            "\n",
            "ground\n"
          ]
        },
        {
          "output_type": "stream",
          "name": "stderr",
          "text": [
            " 73%|███████▎  | 378/519 [01:01<00:21,  6.41it/s]"
          ]
        },
        {
          "output_type": "stream",
          "name": "stdout",
          "text": [
            "floor\n",
            "warehouse pallets\n",
            "pallet\n",
            "ground\n",
            "\n",
            "floor\n",
            "\n",
            "ground\n"
          ]
        },
        {
          "output_type": "stream",
          "name": "stderr",
          "text": [
            " 73%|███████▎  | 380/519 [01:01<00:22,  6.31it/s]"
          ]
        },
        {
          "output_type": "stream",
          "name": "stdout",
          "text": [
            "floor\n",
            "warehouse pallets\n",
            "pallet\n",
            "warehouse pallets\n",
            "wooden pallet\n",
            "\n",
            "floor\n",
            "warehouse pallets\n",
            "\n",
            "ground\n",
            "pallet\n",
            "\n"
          ]
        },
        {
          "output_type": "stream",
          "name": "stderr",
          "text": [
            " 74%|███████▎  | 382/519 [01:02<00:21,  6.36it/s]"
          ]
        },
        {
          "output_type": "stream",
          "name": "stdout",
          "text": [
            "floor\n",
            "wooden pallet\n",
            "pallet\n",
            "\n",
            "ground\n",
            "floor\n",
            "\n",
            "\n",
            "\n",
            "\n",
            "\n",
            "ground\n"
          ]
        },
        {
          "output_type": "stream",
          "name": "stderr",
          "text": [
            " 74%|███████▍  | 384/519 [01:02<00:21,  6.43it/s]"
          ]
        },
        {
          "output_type": "stream",
          "name": "stdout",
          "text": [
            "warehouse pallets\n",
            "\n",
            "\n",
            "warehouse pallets\n",
            "\n",
            "\n",
            "\n",
            "\n"
          ]
        },
        {
          "output_type": "stream",
          "name": "stderr",
          "text": [
            " 74%|███████▍  | 386/519 [01:02<00:20,  6.38it/s]"
          ]
        },
        {
          "output_type": "stream",
          "name": "stdout",
          "text": [
            "floor\n",
            "\n",
            "\n",
            "\n",
            "\n",
            "floor\n",
            "\n",
            "\n",
            "ground\n",
            "woodenlet\n",
            "\n",
            "\n"
          ]
        },
        {
          "output_type": "stream",
          "name": "stderr",
          "text": [
            " 75%|███████▍  | 388/519 [01:03<00:20,  6.45it/s]"
          ]
        },
        {
          "output_type": "stream",
          "name": "stdout",
          "text": [
            "floor\n",
            "\n",
            "ground\n",
            "pallet\n",
            "woodenlet\n",
            "floor\n",
            "warehouse pallets\n",
            "pallet\n",
            "\n"
          ]
        },
        {
          "output_type": "stream",
          "name": "stderr",
          "text": [
            " 75%|███████▌  | 390/519 [01:03<00:20,  6.18it/s]"
          ]
        },
        {
          "output_type": "stream",
          "name": "stdout",
          "text": [
            "floor\n",
            "\n",
            "\n",
            "\n",
            "\n",
            "floor\n",
            "ground\n",
            "\n"
          ]
        },
        {
          "output_type": "stream",
          "name": "stderr",
          "text": [
            " 76%|███████▌  | 392/519 [01:03<00:20,  6.33it/s]"
          ]
        },
        {
          "output_type": "stream",
          "name": "stdout",
          "text": [
            "floor\n",
            "\n",
            "\n",
            "\n",
            "\n",
            "ground\n",
            "floor\n",
            "ground\n"
          ]
        },
        {
          "output_type": "stream",
          "name": "stderr",
          "text": [
            " 76%|███████▌  | 394/519 [01:03<00:19,  6.41it/s]"
          ]
        },
        {
          "output_type": "stream",
          "name": "stdout",
          "text": [
            "warehouse pallets\n",
            "floor\n",
            "floor\n",
            "pallets\n",
            "pallets\n",
            "pallet\n",
            "wooden pallet\n",
            "\n",
            "\n",
            "\n"
          ]
        },
        {
          "output_type": "stream",
          "name": "stderr",
          "text": [
            " 76%|███████▋  | 396/519 [01:04<00:19,  6.47it/s]"
          ]
        },
        {
          "output_type": "stream",
          "name": "stdout",
          "text": [
            "floor\n",
            "ground\n",
            "wooden pallet\n",
            "wooden pallet\n",
            "pallet\n",
            "floor\n",
            "\n",
            "floor\n"
          ]
        },
        {
          "output_type": "stream",
          "name": "stderr",
          "text": [
            " 77%|███████▋  | 398/519 [01:04<00:18,  6.53it/s]"
          ]
        },
        {
          "output_type": "stream",
          "name": "stdout",
          "text": [
            "floor\n",
            "warehouse pal\n",
            "\n",
            "floor\n",
            "warehouse pallets\n",
            "wooden pallet\n",
            "\n",
            "\n",
            "pallet\n",
            "ground\n"
          ]
        },
        {
          "output_type": "stream",
          "name": "stderr",
          "text": [
            " 77%|███████▋  | 400/519 [01:04<00:18,  6.56it/s]"
          ]
        },
        {
          "output_type": "stream",
          "name": "stdout",
          "text": [
            "floor\n",
            "warehouse pallets\n",
            "ground\n",
            "\n",
            "\n",
            "\n",
            "floor\n",
            "warehouse pallets\n",
            "\n",
            "ground\n",
            "pal\n",
            "\n",
            "\n",
            "\n"
          ]
        },
        {
          "output_type": "stream",
          "name": "stderr",
          "text": [
            "\r 77%|███████▋  | 401/519 [01:05<00:18,  6.41it/s]"
          ]
        },
        {
          "output_type": "stream",
          "name": "stdout",
          "text": [
            "floor\n",
            "ground\n",
            "\n"
          ]
        },
        {
          "output_type": "stream",
          "name": "stderr",
          "text": [
            " 78%|███████▊  | 403/519 [01:05<00:19,  6.04it/s]"
          ]
        },
        {
          "output_type": "stream",
          "name": "stdout",
          "text": [
            "floor\n",
            "warehouse pallets\n",
            "\n",
            "\n",
            "\n",
            "ground\n",
            "\n",
            "wooden pallet\n",
            "floor\n",
            "pallet\n",
            "ground\n"
          ]
        },
        {
          "output_type": "stream",
          "name": "stderr",
          "text": [
            " 78%|███████▊  | 405/519 [01:05<00:17,  6.35it/s]"
          ]
        },
        {
          "output_type": "stream",
          "name": "stdout",
          "text": [
            "floor\n",
            "wooden pallet\n",
            "pallets\n",
            "\n",
            "\n",
            "floor\n",
            "\n",
            "\n",
            "\n",
            "\n",
            "\n"
          ]
        },
        {
          "output_type": "stream",
          "name": "stderr",
          "text": [
            " 78%|███████▊  | 407/519 [01:06<00:17,  6.37it/s]"
          ]
        },
        {
          "output_type": "stream",
          "name": "stdout",
          "text": [
            "\n",
            "floor\n",
            "\n",
            "floor\n",
            "ground\n"
          ]
        },
        {
          "output_type": "stream",
          "name": "stderr",
          "text": [
            " 79%|███████▉  | 409/519 [01:06<00:17,  6.42it/s]"
          ]
        },
        {
          "output_type": "stream",
          "name": "stdout",
          "text": [
            "floor\n",
            "warehouse pallets\n",
            "\n",
            "ground\n",
            "pallet\n",
            "pallet\n",
            "floor\n",
            "pallets\n",
            "pallet\n",
            "wooden pallet\n",
            "ground\n"
          ]
        },
        {
          "output_type": "stream",
          "name": "stderr",
          "text": [
            " 79%|███████▉  | 411/519 [01:06<00:17,  6.29it/s]"
          ]
        },
        {
          "output_type": "stream",
          "name": "stdout",
          "text": [
            "floor\n",
            "warehouse pallets\n",
            "pal\n",
            "ground\n",
            "\n",
            "\n",
            "floor\n",
            "ground\n",
            "\n",
            "pallet\n",
            "\n"
          ]
        },
        {
          "output_type": "stream",
          "name": "stderr",
          "text": [
            " 80%|███████▉  | 413/519 [01:06<00:16,  6.45it/s]"
          ]
        },
        {
          "output_type": "stream",
          "name": "stdout",
          "text": [
            "floor\n",
            "\n",
            "\n",
            "\n",
            "\n",
            "floor\n",
            "warehouse pallets\n",
            "ground\n"
          ]
        },
        {
          "output_type": "stream",
          "name": "stderr",
          "text": [
            " 80%|███████▉  | 415/519 [01:07<00:16,  6.49it/s]"
          ]
        },
        {
          "output_type": "stream",
          "name": "stdout",
          "text": [
            "floor\n",
            "warehouse pallets\n",
            "warehouse pallets\n",
            "pal\n",
            "\n",
            "\n",
            "warehouse pallets\n",
            "warehouse pallets\n",
            "wooden pallet\n",
            "pallet\n",
            "\n",
            "\n"
          ]
        },
        {
          "output_type": "stream",
          "name": "stderr",
          "text": [
            " 80%|████████  | 417/519 [01:07<00:15,  6.39it/s]"
          ]
        },
        {
          "output_type": "stream",
          "name": "stdout",
          "text": [
            "floor\n",
            "\n",
            "\n",
            "##let\n",
            "floor\n",
            "warehouse pallets\n",
            "warehouse pallets\n",
            "\n",
            "\n",
            "ground\n"
          ]
        },
        {
          "output_type": "stream",
          "name": "stderr",
          "text": [
            " 81%|████████  | 419/519 [01:07<00:15,  6.46it/s]"
          ]
        },
        {
          "output_type": "stream",
          "name": "stdout",
          "text": [
            "floor\n",
            "ground\n",
            "floor\n",
            "warehouse pallets\n",
            "warehouse pallets\n",
            "\n",
            "\n",
            "\n",
            "\n"
          ]
        },
        {
          "output_type": "stream",
          "name": "stderr",
          "text": [
            " 81%|████████  | 421/519 [01:08<00:14,  6.58it/s]"
          ]
        },
        {
          "output_type": "stream",
          "name": "stdout",
          "text": [
            "floor\n",
            "pallets\n",
            "ground\n",
            "floor\n",
            "\n",
            "warehouse pallets\n",
            "\n",
            "\n"
          ]
        },
        {
          "output_type": "stream",
          "name": "stderr",
          "text": [
            " 82%|████████▏ | 423/519 [01:08<00:14,  6.56it/s]"
          ]
        },
        {
          "output_type": "stream",
          "name": "stdout",
          "text": [
            "\n",
            "floor\n",
            "warehouse pallets\n",
            "pallet\n",
            "warehouse pallets\n",
            "pallet\n",
            "\n",
            "wooden pallet\n",
            "pallet\n",
            "\n",
            "\n",
            "warehouse pallets\n",
            "floor\n",
            "pallet\n",
            "wooden pallet\n",
            "ground\n"
          ]
        },
        {
          "output_type": "stream",
          "name": "stderr",
          "text": [
            " 82%|████████▏ | 425/519 [01:08<00:14,  6.49it/s]"
          ]
        },
        {
          "output_type": "stream",
          "name": "stdout",
          "text": [
            "floor\n",
            "\n",
            "warehouse pallets\n",
            "\n",
            "ground\n",
            "warehouse pallets\n",
            "pallet\n",
            "floor\n",
            "\n",
            "\n",
            "\n",
            "pal\n"
          ]
        },
        {
          "output_type": "stream",
          "name": "stderr",
          "text": [
            " 82%|████████▏ | 427/519 [01:09<00:14,  6.35it/s]"
          ]
        },
        {
          "output_type": "stream",
          "name": "stdout",
          "text": [
            "floor\n",
            "wooden pallet\n",
            "pallet\n",
            "ground\n",
            "floor\n",
            "wooden pallet\n",
            "\n",
            "\n"
          ]
        },
        {
          "output_type": "stream",
          "name": "stderr",
          "text": [
            " 83%|████████▎ | 429/519 [01:09<00:13,  6.50it/s]"
          ]
        },
        {
          "output_type": "stream",
          "name": "stdout",
          "text": [
            "floor\n",
            "wooden pallet\n",
            "\n",
            "warehouse pallets\n",
            "\n",
            "ground\n",
            "floor\n",
            "warehouse pallets\n",
            "warehouse pallets\n",
            "ground\n",
            "\n",
            "\n"
          ]
        },
        {
          "output_type": "stream",
          "name": "stderr",
          "text": [
            " 83%|████████▎ | 431/519 [01:09<00:13,  6.54it/s]"
          ]
        },
        {
          "output_type": "stream",
          "name": "stdout",
          "text": [
            "floor\n",
            "warehouse pallets\n",
            "pallets\n",
            "\n",
            "pallet\n",
            "pallet\n",
            "wooden pallet\n",
            "wooden pallet\n",
            "\n",
            "floor\n",
            "warehouse pallets\n",
            "wooden pallet\n",
            "\n",
            "ground\n",
            "\n"
          ]
        },
        {
          "output_type": "stream",
          "name": "stderr",
          "text": [
            " 83%|████████▎ | 433/519 [01:10<00:13,  6.39it/s]"
          ]
        },
        {
          "output_type": "stream",
          "name": "stdout",
          "text": [
            "floor\n",
            "warehouse pallets\n",
            "warehouse pallets\n",
            "\n",
            "\n",
            "\n",
            "\n",
            "pallet\n",
            "wooden pallet\n",
            "floor\n",
            "\n"
          ]
        },
        {
          "output_type": "stream",
          "name": "stderr",
          "text": [
            " 84%|████████▍ | 435/519 [01:10<00:12,  6.50it/s]"
          ]
        },
        {
          "output_type": "stream",
          "name": "stdout",
          "text": [
            "floor\n",
            "pallets\n",
            "pallet\n",
            "wooden pallet\n",
            "ground\n",
            "\n",
            "warehouse pallets\n",
            "\n",
            "floor\n",
            "pallet\n",
            "wooden pallet\n"
          ]
        },
        {
          "output_type": "stream",
          "name": "stderr",
          "text": [
            " 84%|████████▍ | 437/519 [01:10<00:12,  6.35it/s]"
          ]
        },
        {
          "output_type": "stream",
          "name": "stdout",
          "text": [
            "floor\n",
            "pallets\n",
            "ground\n",
            "\n",
            "pallet\n",
            "\n",
            "floor\n",
            "warehouse pallets\n",
            "pallets\n",
            "\n",
            "pallet\n",
            "wooden pallet\n",
            "ground\n"
          ]
        },
        {
          "output_type": "stream",
          "name": "stderr",
          "text": [
            " 85%|████████▍ | 439/519 [01:11<00:12,  6.39it/s]"
          ]
        },
        {
          "output_type": "stream",
          "name": "stdout",
          "text": [
            "warehouse pallets\n",
            "floor\n",
            "pallet\n",
            "wooden pallet\n",
            "\n",
            "\n",
            "warehouse\n",
            "pallets\n",
            "pallet\n",
            "\n",
            "wooden pallet\n"
          ]
        },
        {
          "output_type": "stream",
          "name": "stderr",
          "text": [
            " 85%|████████▍ | 441/519 [01:11<00:11,  6.51it/s]"
          ]
        },
        {
          "output_type": "stream",
          "name": "stdout",
          "text": [
            "floor\n",
            "pal\n",
            "\n",
            "\n",
            "\n",
            "ground\n",
            "floor\n",
            "warehouse pallets\n",
            "ground\n",
            "wooden pallet\n",
            "\n",
            "\n"
          ]
        },
        {
          "output_type": "stream",
          "name": "stderr",
          "text": [
            " 85%|████████▌ | 443/519 [01:11<00:12,  6.32it/s]"
          ]
        },
        {
          "output_type": "stream",
          "name": "stdout",
          "text": [
            "warehouse pallets\n",
            "pallet\n",
            "\n",
            "\n",
            "floor\n",
            "wooden pallet\n",
            "wooden pallet\n",
            "warehouse pallets\n",
            "warehouse pal\n",
            "\n"
          ]
        },
        {
          "output_type": "stream",
          "name": "stderr",
          "text": [
            " 86%|████████▌ | 445/519 [01:11<00:11,  6.40it/s]"
          ]
        },
        {
          "output_type": "stream",
          "name": "stdout",
          "text": [
            "floor\n",
            "\n",
            "pallet\n",
            "\n",
            "\n",
            "\n",
            "\n",
            "\n",
            "floor\n",
            "warehouse pallets\n",
            "\n",
            "\n",
            "ground\n"
          ]
        },
        {
          "output_type": "stream",
          "name": "stderr",
          "text": [
            " 86%|████████▌ | 447/519 [01:12<00:11,  6.29it/s]"
          ]
        },
        {
          "output_type": "stream",
          "name": "stdout",
          "text": [
            "floor\n",
            "wooden pallet\n",
            "warehouse pallets\n",
            "pallet\n",
            "\n",
            "ground\n",
            "pallets\n",
            "pallet\n",
            "\n",
            "\n",
            "\n",
            "\n"
          ]
        },
        {
          "output_type": "stream",
          "name": "stderr",
          "text": [
            " 87%|████████▋ | 449/519 [01:12<00:10,  6.38it/s]"
          ]
        },
        {
          "output_type": "stream",
          "name": "stdout",
          "text": [
            "floor\n",
            "pallets\n",
            "pallet\n",
            "wooden pallet\n",
            "\n",
            "ground\n",
            "floor\n",
            "pallets\n",
            "pallet\n",
            "\n",
            "\n",
            "\n",
            "ground\n",
            "wooden pallet\n"
          ]
        },
        {
          "output_type": "stream",
          "name": "stderr",
          "text": [
            " 87%|████████▋ | 451/519 [01:12<00:10,  6.42it/s]"
          ]
        },
        {
          "output_type": "stream",
          "name": "stdout",
          "text": [
            "floor\n",
            "pallets\n",
            "\n",
            "ground\n",
            "\n",
            "wooden pallet\n",
            "floor\n",
            "warehouse pallets\n",
            "warehouse pallets\n",
            "wooden pallet\n",
            "pallet\n",
            "ground\n",
            "\n"
          ]
        },
        {
          "output_type": "stream",
          "name": "stderr",
          "text": [
            " 87%|████████▋ | 453/519 [01:13<00:10,  6.31it/s]"
          ]
        },
        {
          "output_type": "stream",
          "name": "stdout",
          "text": [
            "floor\n",
            "warehouse pallets\n",
            "ground\n",
            "\n",
            "floor\n",
            "wooden pallet\n",
            "\n",
            "\n",
            "ground\n"
          ]
        },
        {
          "output_type": "stream",
          "name": "stderr",
          "text": [
            " 88%|████████▊ | 455/519 [01:13<00:09,  6.46it/s]"
          ]
        },
        {
          "output_type": "stream",
          "name": "stdout",
          "text": [
            "floor\n",
            "warehouse pallets\n",
            "pallets\n",
            "\n",
            "pallet\n",
            "pal\n",
            "floor\n",
            "warehouse pallets\n",
            "warehouse pallets\n",
            "pallet\n",
            "pallet\n",
            "ground\n",
            "woodenlet\n",
            "\n"
          ]
        },
        {
          "output_type": "stream",
          "name": "stderr",
          "text": [
            " 88%|████████▊ | 457/519 [01:13<00:09,  6.48it/s]"
          ]
        },
        {
          "output_type": "stream",
          "name": "stdout",
          "text": [
            "floor\n",
            "\n",
            "\n",
            "\n",
            "pallet\n",
            "floor\n",
            "\n",
            "ground\n"
          ]
        },
        {
          "output_type": "stream",
          "name": "stderr",
          "text": [
            " 88%|████████▊ | 459/519 [01:14<00:09,  6.34it/s]"
          ]
        },
        {
          "output_type": "stream",
          "name": "stdout",
          "text": [
            "floor\n",
            "warehouse pallets\n",
            "pallets\n",
            "pallet\n",
            "wooden pallet\n",
            "pallet\n",
            "##let\n",
            "\n",
            "warehouse pallets\n",
            "floor\n",
            "warehouse pallets\n",
            "pallet\n",
            "\n",
            "\n",
            "\n"
          ]
        },
        {
          "output_type": "stream",
          "name": "stderr",
          "text": [
            " 89%|████████▉ | 461/519 [01:14<00:09,  6.40it/s]"
          ]
        },
        {
          "output_type": "stream",
          "name": "stdout",
          "text": [
            "floor\n",
            "warehouse pallets\n",
            "\n",
            "pallet\n",
            "ground\n",
            "pallet\n",
            "\n",
            "floor\n",
            "warehouse pallets\n",
            "pallet\n",
            "wooden pallet\n",
            "warehouse pallets\n",
            "\n",
            "ground\n"
          ]
        },
        {
          "output_type": "stream",
          "name": "stderr",
          "text": [
            " 89%|████████▉ | 463/519 [01:14<00:08,  6.25it/s]"
          ]
        },
        {
          "output_type": "stream",
          "name": "stdout",
          "text": [
            "floor\n",
            "pallets\n",
            "pallet\n",
            "wooden pallet\n",
            "ground\n",
            "\n",
            "floor\n",
            "ground\n"
          ]
        },
        {
          "output_type": "stream",
          "name": "stderr",
          "text": [
            " 90%|████████▉ | 465/519 [01:15<00:08,  6.38it/s]"
          ]
        },
        {
          "output_type": "stream",
          "name": "stdout",
          "text": [
            "pallets\n",
            "warehouse pallets\n",
            "pallets\n",
            "\n",
            "pal\n",
            "pallet\n",
            "\n",
            "floor\n",
            "warehouse pallets\n",
            "wooden pallet\n",
            "\n",
            "\n",
            "\n",
            "\n",
            "\n",
            "ground\n",
            "\n"
          ]
        },
        {
          "output_type": "stream",
          "name": "stderr",
          "text": [
            " 90%|████████▉ | 467/519 [01:15<00:07,  6.51it/s]"
          ]
        },
        {
          "output_type": "stream",
          "name": "stdout",
          "text": [
            "floor\n",
            "pallets\n",
            "pallet\n",
            "pallet\n",
            "ground\n",
            "##let\n",
            "\n",
            "pallets\n",
            "pallet\n",
            "\n",
            "pallets\n",
            "\n",
            "\n"
          ]
        },
        {
          "output_type": "stream",
          "name": "stderr",
          "text": [
            " 90%|█████████ | 469/519 [01:15<00:07,  6.46it/s]"
          ]
        },
        {
          "output_type": "stream",
          "name": "stdout",
          "text": [
            "floor\n",
            "\n",
            "ground\n",
            "floor\n",
            "wooden pallet\n",
            "\n",
            "warehouse pallets\n",
            "\n",
            "ground\n",
            "\n"
          ]
        },
        {
          "output_type": "stream",
          "name": "stderr",
          "text": [
            " 91%|█████████ | 471/519 [01:15<00:07,  6.54it/s]"
          ]
        },
        {
          "output_type": "stream",
          "name": "stdout",
          "text": [
            "warehouse pallets\n",
            "\n",
            "\n",
            "\n",
            "\n",
            "floor\n",
            "warehouse pallets\n",
            "\n",
            "ground\n",
            "\n"
          ]
        },
        {
          "output_type": "stream",
          "name": "stderr",
          "text": [
            " 91%|█████████ | 473/519 [01:16<00:07,  6.35it/s]"
          ]
        },
        {
          "output_type": "stream",
          "name": "stdout",
          "text": [
            "floor\n",
            "warehouse pallets\n",
            "ground\n",
            "floor\n",
            "wooden pallet\n",
            "pallet\n",
            "\n",
            "pal\n",
            "pallets\n",
            "\n",
            "ground\n"
          ]
        },
        {
          "output_type": "stream",
          "name": "stderr",
          "text": [
            " 92%|█████████▏| 475/519 [01:16<00:06,  6.47it/s]"
          ]
        },
        {
          "output_type": "stream",
          "name": "stdout",
          "text": [
            "warehouse pallets\n",
            "\n",
            "\n",
            "\n",
            "floor\n",
            "warehouse pallets\n",
            "wooden pallet\n",
            "\n",
            "pallet\n",
            "\n",
            "ground\n"
          ]
        },
        {
          "output_type": "stream",
          "name": "stderr",
          "text": [
            " 92%|█████████▏| 477/519 [01:16<00:06,  6.49it/s]"
          ]
        },
        {
          "output_type": "stream",
          "name": "stdout",
          "text": [
            "floor\n",
            "warehouse pallets\n",
            "pallets\n",
            "\n",
            "\n",
            "pallets\n"
          ]
        },
        {
          "output_type": "stream",
          "name": "stderr",
          "text": [
            " 92%|█████████▏| 479/519 [01:17<00:06,  6.38it/s]"
          ]
        },
        {
          "output_type": "stream",
          "name": "stdout",
          "text": [
            "floor\n",
            "warehouse pallets\n",
            "pallet\n",
            "ground\n",
            "\n",
            "floor\n",
            "pallets\n",
            "pallet\n",
            "wooden pallet\n",
            "\n",
            "wooden pallet\n",
            "\n",
            "\n"
          ]
        },
        {
          "output_type": "stream",
          "name": "stderr",
          "text": [
            " 93%|█████████▎| 481/519 [01:17<00:05,  6.47it/s]"
          ]
        },
        {
          "output_type": "stream",
          "name": "stdout",
          "text": [
            "floor\n",
            "\n",
            "pallets\n",
            "\n",
            "\n",
            "pallet\n",
            "ground\n",
            "floor\n",
            "\n",
            "ground\n"
          ]
        },
        {
          "output_type": "stream",
          "name": "stderr",
          "text": [
            " 93%|█████████▎| 483/519 [01:17<00:05,  6.55it/s]"
          ]
        },
        {
          "output_type": "stream",
          "name": "stdout",
          "text": [
            "\n",
            "\n",
            "floor\n",
            "warehouse pallets\n",
            "wooden pallet\n",
            "\n",
            "\n",
            "\n"
          ]
        },
        {
          "output_type": "stream",
          "name": "stderr",
          "text": [
            " 93%|█████████▎| 485/519 [01:18<00:05,  6.47it/s]"
          ]
        },
        {
          "output_type": "stream",
          "name": "stdout",
          "text": [
            "floor\n",
            "pallets\n",
            "pallet\n",
            "ground\n",
            "pallets\n",
            "floor\n",
            "pallet\n",
            "ground\n",
            "\n"
          ]
        },
        {
          "output_type": "stream",
          "name": "stderr",
          "text": [
            " 94%|█████████▍| 487/519 [01:18<00:04,  6.56it/s]"
          ]
        },
        {
          "output_type": "stream",
          "name": "stdout",
          "text": [
            "floor\n",
            "\n",
            "warehouse pallets\n",
            "warehouse\n",
            "pallet\n",
            "wooden pallet\n",
            "\n",
            "pallet\n",
            "\n",
            "\n",
            "warehouse pallets\n",
            "floor\n",
            "ground\n"
          ]
        },
        {
          "output_type": "stream",
          "name": "stderr",
          "text": [
            " 94%|█████████▍| 489/519 [01:18<00:05,  5.96it/s]"
          ]
        },
        {
          "output_type": "stream",
          "name": "stdout",
          "text": [
            "floor\n",
            "warehouse pallets\n",
            "pal\n",
            "\n",
            "\n",
            "\n",
            "floor\n",
            "warehouse pallets\n",
            "warehouse pallets\n",
            "\n",
            "\n",
            "ground\n"
          ]
        },
        {
          "output_type": "stream",
          "name": "stderr",
          "text": [
            " 95%|█████████▍| 491/519 [01:19<00:04,  6.28it/s]"
          ]
        },
        {
          "output_type": "stream",
          "name": "stdout",
          "text": [
            "floor\n",
            "ground\n",
            "\n",
            "\n",
            "warehouse pallets\n",
            "pallet\n",
            "floor\n",
            "wooden pallet\n",
            "\n",
            "\n",
            "\n"
          ]
        },
        {
          "output_type": "stream",
          "name": "stderr",
          "text": [
            " 95%|█████████▍| 493/519 [01:19<00:04,  6.20it/s]"
          ]
        },
        {
          "output_type": "stream",
          "name": "stdout",
          "text": [
            "floor\n",
            "pallets\n",
            "pallet\n",
            "\n",
            "wooden pallet\n",
            "\n",
            "ground\n",
            "\n",
            "floor\n",
            "\n",
            "\n",
            "\n",
            "ground\n"
          ]
        },
        {
          "output_type": "stream",
          "name": "stderr",
          "text": [
            " 95%|█████████▌| 495/519 [01:19<00:03,  6.44it/s]"
          ]
        },
        {
          "output_type": "stream",
          "name": "stdout",
          "text": [
            "floor\n",
            "warehouse pallets\n",
            "\n",
            "\n",
            "ground\n",
            "\n",
            "\n",
            "\n",
            "warehouse pallets\n",
            "floor\n",
            "\n"
          ]
        },
        {
          "output_type": "stream",
          "name": "stderr",
          "text": [
            " 96%|█████████▌| 497/519 [01:20<00:03,  6.49it/s]"
          ]
        },
        {
          "output_type": "stream",
          "name": "stdout",
          "text": [
            "floor\n",
            "wooden pallet\n",
            "\n",
            "pallet\n",
            "pallet\n",
            "\n",
            "floor\n",
            "floor\n",
            "\n",
            "pallet\n",
            "warehouse pallets\n",
            "wooden pallet\n",
            "\n",
            "\n",
            "pallet\n"
          ]
        },
        {
          "output_type": "stream",
          "name": "stderr",
          "text": [
            " 96%|█████████▌| 499/519 [01:20<00:03,  6.46it/s]"
          ]
        },
        {
          "output_type": "stream",
          "name": "stdout",
          "text": [
            "floor\n",
            "warehouse pallets\n",
            "warehouse pallets\n",
            "pallet\n",
            "ground\n",
            "\n",
            "\n",
            "warehouse pallets\n",
            "pallet\n",
            "\n",
            "\n",
            "\n"
          ]
        },
        {
          "output_type": "stream",
          "name": "stderr",
          "text": [
            " 97%|█████████▋| 501/519 [01:20<00:02,  6.50it/s]"
          ]
        },
        {
          "output_type": "stream",
          "name": "stdout",
          "text": [
            "floor\n",
            "warehouse pallets\n",
            "pal\n",
            "\n",
            "\n",
            "\n",
            "ground\n",
            "floor\n",
            "warehouse pallets\n",
            "\n",
            "\n"
          ]
        },
        {
          "output_type": "stream",
          "name": "stderr",
          "text": [
            " 97%|█████████▋| 503/519 [01:21<00:02,  6.37it/s]"
          ]
        },
        {
          "output_type": "stream",
          "name": "stdout",
          "text": [
            "floor\n",
            "warehouse pallets\n",
            "pallet\n",
            "\n",
            "ground\n",
            "floor\n",
            "warehouse pallets\n",
            "pallet\n",
            "\n",
            "ground\n",
            "\n"
          ]
        },
        {
          "output_type": "stream",
          "name": "stderr",
          "text": [
            " 97%|█████████▋| 505/519 [01:21<00:02,  6.49it/s]"
          ]
        },
        {
          "output_type": "stream",
          "name": "stdout",
          "text": [
            "floor\n",
            "warehouse pallets\n",
            "pallet\n",
            "wooden pallet\n",
            "ground\n",
            "floor\n",
            "warehouse pallets\n",
            "\n",
            "\n",
            "ground\n",
            "pal\n"
          ]
        },
        {
          "output_type": "stream",
          "name": "stderr",
          "text": [
            " 98%|█████████▊| 507/519 [01:21<00:01,  6.52it/s]"
          ]
        },
        {
          "output_type": "stream",
          "name": "stdout",
          "text": [
            "warehouse pallets\n",
            "\n",
            "floor\n",
            "##lets\n",
            "pallet\n",
            "ground\n",
            "wooden pallet\n"
          ]
        },
        {
          "output_type": "stream",
          "name": "stderr",
          "text": [
            " 98%|█████████▊| 509/519 [01:21<00:01,  6.43it/s]"
          ]
        },
        {
          "output_type": "stream",
          "name": "stdout",
          "text": [
            "\n",
            "warehouse\n",
            "wooden pallet\n",
            "\n",
            "\n",
            "\n",
            "floor\n",
            "warehouse pallets\n",
            "warehouse pallets\n",
            "pallet\n",
            "\n",
            "\n",
            "ground\n"
          ]
        },
        {
          "output_type": "stream",
          "name": "stderr",
          "text": [
            " 98%|█████████▊| 511/519 [01:22<00:01,  6.52it/s]"
          ]
        },
        {
          "output_type": "stream",
          "name": "stdout",
          "text": [
            "floor\n",
            "\n",
            "\n",
            "\n",
            "\n",
            "warehouse pallets\n",
            "\n",
            "\n",
            "\n"
          ]
        },
        {
          "output_type": "stream",
          "name": "stderr",
          "text": [
            " 99%|█████████▉| 513/519 [01:22<00:00,  6.29it/s]"
          ]
        },
        {
          "output_type": "stream",
          "name": "stdout",
          "text": [
            "warehouse pallets\n",
            "wooden pallet\n",
            "\n",
            "floor\n",
            "\n",
            "\n",
            "floor\n",
            "\n",
            "\n",
            "\n",
            "\n",
            "ground\n"
          ]
        },
        {
          "output_type": "stream",
          "name": "stderr",
          "text": [
            " 99%|█████████▉| 515/519 [01:22<00:00,  6.41it/s]"
          ]
        },
        {
          "output_type": "stream",
          "name": "stdout",
          "text": [
            "\n",
            "\n",
            "pallet\n",
            "wooden pallet\n",
            "\n",
            "floor\n",
            "floor\n",
            "\n",
            "\n",
            "\n",
            "\n",
            "\n"
          ]
        },
        {
          "output_type": "stream",
          "name": "stderr",
          "text": [
            "100%|█████████▉| 517/519 [01:23<00:00,  6.48it/s]"
          ]
        },
        {
          "output_type": "stream",
          "name": "stdout",
          "text": [
            "floor\n",
            "warehouse pallets\n",
            "pallets\n",
            "\n",
            "\n",
            "##let\n",
            "ground\n",
            "\n",
            "\n",
            "floor\n",
            "warehouse pallets\n",
            "pallets\n",
            "ground\n",
            "\n"
          ]
        },
        {
          "output_type": "stream",
          "name": "stderr",
          "text": [
            "100%|██████████| 519/519 [01:23<00:00,  6.22it/s]"
          ]
        },
        {
          "output_type": "stream",
          "name": "stdout",
          "text": [
            "floor\n",
            "\n",
            "\n",
            "\n",
            "\n",
            "\n",
            "ground\n",
            "\n",
            "floor\n",
            "\n",
            "warehouse pallets\n",
            "\n",
            "\n",
            "YOLO annotations saved to /content/drive/MyDrive/Pallet_Annotation/yolo_annotations\n"
          ]
        },
        {
          "output_type": "stream",
          "name": "stderr",
          "text": [
            "\n"
          ]
        }
      ],
      "source": [
        "# Initialize a directory for saving YOLO annotations\n",
        "yolo_annotation_dir = os.path.join(\"/content/drive/MyDrive/Pallet_Annotation\", \"yolo_annotations\")\n",
        "annotated_dir = os.path.join('/content/drive/MyDrive', \"annotated_images_det\")\n",
        "os.makedirs(yolo_annotation_dir, exist_ok=True)\n",
        "model = model.to(\"cuda\")\n",
        "# Iterate through your dataset\n",
        "for image_filename in tqdm(dataset):\n",
        "    image_path = os.path.join(image_directory, image_filename)\n",
        "    image_source, image = load_image(image_path)\n",
        "    image = image.to(torch.device(\"cuda\")).float()\n",
        "\n",
        "    # Obtain model predictions\n",
        "    boxes, logits, phrases = predict(\n",
        "        model=model,\n",
        "        image=image,\n",
        "        caption=text_prompt,\n",
        "        box_threshold=box_threshold,\n",
        "        text_threshold=text_threshold,\n",
        "        device=\"cuda\"\n",
        "    )\n",
        "\n",
        "    # Get image dimensions and convert boxes\n",
        "    c, h, w = image.shape\n",
        "    boxes_rs = boxes * torch.Tensor([w, h, w, h])\n",
        "    rel_box = torchvision.ops.box_convert(boxes=boxes_rs, in_fmt=\"cxcywh\", out_fmt=\"xyxy\").numpy()\n",
        "\n",
        "    # Save the YOLO annotations for this image\n",
        "    save_yolo_txt(image_filename=image_filename, image_shape=[h, w, c], boxes=rel_box, labels=phrases, output_dir=yolo_annotation_dir)\n",
        "\n",
        "    # Save the annotated image with bounding boxes\n",
        "    output_file = os.path.join(annotated_dir, f\"{os.path.splitext(image_filename)[0]}_annotated.jpg\")\n",
        "    annotated_frame = annotate(image_source=image_source, boxes=boxes, logits=logits, phrases=phrases)\n",
        "    cv2.imwrite(output_file, annotated_frame)\n",
        "\n",
        "print(f\"YOLO annotations saved to {yolo_annotation_dir}\")"
      ]
    },
    {
      "cell_type": "code",
      "source": [
        "!git clone https://github.com/facebookresearch/segment-anything.git\n",
        "%cd segment-anything\n"
      ],
      "metadata": {
        "colab": {
          "base_uri": "https://localhost:8080/"
        },
        "id": "W_KGKutQsfaD",
        "outputId": "a406f07f-1e7b-442b-e6f2-6ea00822b961"
      },
      "execution_count": null,
      "outputs": [
        {
          "output_type": "stream",
          "name": "stdout",
          "text": [
            "fatal: destination path 'segment-anything' already exists and is not an empty directory.\n",
            "/content/segment-anything\n"
          ]
        }
      ]
    },
    {
      "cell_type": "code",
      "source": [
        "!pip install -r requirements.txt\n",
        "!pip install ."
      ],
      "metadata": {
        "colab": {
          "base_uri": "https://localhost:8080/"
        },
        "id": "JWsWHStXslpt",
        "outputId": "cf2150e3-09b6-4fa6-bfeb-b155ffd92cb2"
      },
      "execution_count": null,
      "outputs": [
        {
          "output_type": "stream",
          "name": "stdout",
          "text": [
            "\u001b[31mERROR: Could not open requirements file: [Errno 2] No such file or directory: 'requirements.txt'\u001b[0m\u001b[31m\n",
            "\u001b[0mProcessing /content/segment-anything\n",
            "  Preparing metadata (setup.py) ... \u001b[?25l\u001b[?25hdone\n",
            "Building wheels for collected packages: segment_anything\n",
            "  Building wheel for segment_anything (setup.py) ... \u001b[?25l\u001b[?25hdone\n",
            "  Created wheel for segment_anything: filename=segment_anything-1.0-py3-none-any.whl size=36592 sha256=b10f8d0d0828998b6975d99ff15581f2dfd27af579e0be0ae58c9ca73f29350a\n",
            "  Stored in directory: /root/.cache/pip/wheels/b4/ba/0a/26204d95149815c291179f15d5f40f59a4f6ffa79e5bd1ccc2\n",
            "Successfully built segment_anything\n",
            "Installing collected packages: segment_anything\n",
            "Successfully installed segment_anything-1.0\n"
          ]
        }
      ]
    },
    {
      "cell_type": "code",
      "source": [
        "import os\n",
        "import cv2\n",
        "import numpy as np\n",
        "import torch\n",
        "from segment_anything import SamPredictor, sam_model_registry\n",
        "from torchvision.ops import box_convert\n",
        "from PIL import Image\n",
        "\n",
        "# Initialize SAM model\n",
        "device = torch.device(\"cuda\" if torch.cuda.is_available() else \"cpu\")\n",
        "sam_model_type = \"vit_l\"  # Choose the model type (e.g., vit_b, vit_l, vit_h)\n",
        "sam_checkpoint = \"/content/drive/MyDrive/sam_vit_l_0b3195.pth\"  # Path to SAM model weights\n",
        "sam = sam_model_registry[sam_model_type](checkpoint=sam_checkpoint).to(device)\n",
        "predictor = SamPredictor(sam)\n",
        "\n",
        "# Paths to images and YOLO annotations\n",
        "image_dir = \"/content/drive/MyDrive/Pallets\"  # Directory with input images\n",
        "annotation_dir = \"/content/drive/MyDrive/Pallet_Annotation/yolo_annotations_enhanced\"  # Directory with YOLO annotations\n",
        "output_dir = \"/content/drive/MyDrive/seg_out_enhanced\"  # Output directory for segmentation maps\n",
        "os.makedirs(output_dir, exist_ok=True)\n",
        "\n",
        "# Function to load YOLO annotations\n",
        "def load_yolo_boxes(annotation_file, img_width, img_height):\n",
        "    boxes = []\n",
        "    with open(annotation_file, \"r\") as f:\n",
        "        for line in f:\n",
        "            try :\n",
        "              parts = line.strip().split()\n",
        "\n",
        "            # Skip the first part (label text) if it's non-numeric, and parse the coordinates\n",
        "              if not parts[0].isdigit():\n",
        "                  parts = parts[1:]  # Skip the label if it is text like 'pallet'\n",
        "\n",
        "              x_center, y_center, width, height = map(float,parts)\n",
        "              # Convert YOLO format (x_center, y_center, width, height) to bounding box (xmin, ymin, xmax, ymax)\n",
        "              x_min = max(0,int((x_center - width / 2) * img_width))\n",
        "              y_min = max(0,int((y_center - height / 2) * img_height))\n",
        "              x_max = int((x_center + width / 2) * img_width)\n",
        "              y_max = int((y_center + height / 2) * img_height)\n",
        "              if x_max > x_min and y_max > y_min:\n",
        "                boxes.append([x_min, y_min, x_max, y_max])\n",
        "              else :\n",
        "                print(\"Empty boxes : \", annotation_file)\n",
        "            except ValueError:\n",
        "                print(\"Value error: \",annotation_file)\n",
        "                continue\n",
        "    return boxes\n",
        "\n",
        "count = 0\n",
        "# Process each image and its corresponding annotation\n",
        "for image_filename in os.listdir(image_dir):\n",
        "    image_path = os.path.join(image_dir, image_filename)\n",
        "    annotation_path = os.path.join(annotation_dir, os.path.splitext(image_filename)[0] + \".txt\")\n",
        "\n",
        "    # Load image\n",
        "    image = np.array(Image.open(image_path).convert(\"RGB\"))\n",
        "    img_height, img_width = image.shape[:2]\n",
        "\n",
        "    # Load YOLO bounding boxes\n",
        "    if not os.path.exists(annotation_path):\n",
        "        print(\"Annotation not found : \", annotation_path)\n",
        "        continue\n",
        "    boxes = load_yolo_boxes(annotation_path, img_width, img_height)\n",
        "\n",
        "    # Prepare image for SAM\n",
        "    predictor.set_image(image)\n",
        "    boxes = np.array(boxes)\n",
        "    combined_mask = np.zeros((img_height, img_width), dtype=np.uint8)\n",
        "\n",
        "    # Generate segmentation masks for each bounding box\n",
        "    for box in boxes:\n",
        "        # Use SAM to predict the mask within each bounding box\n",
        "        mask, _, _ = predictor.predict(\n",
        "            box=box,\n",
        "            multimask_output=False\n",
        "        )\n",
        "\n",
        "        mask = mask[0].astype(np.uint8) * 255  # Convert boolean mask to binary (0 or 255)\n",
        "\n",
        "        # Resize the mask to fit the bounding box location within the combined mask\n",
        "        x_min, y_min, x_max, y_max = box\n",
        "        resized_mask = cv2.resize(mask, (x_max - x_min, y_max - y_min))\n",
        "\n",
        "        # Place the resized mask into the correct location in the combined mask\n",
        "        combined_mask[y_min:y_max, x_min:x_max] = np.maximum(combined_mask[y_min:y_max, x_min:x_max], resized_mask)\n",
        "\n",
        "        # Save the segmentation mask\n",
        "    output_filename = os.path.join(output_dir, f\"{os.path.splitext(image_filename)[0]}.png\")\n",
        "    count+=1\n",
        "    cv2.imwrite(output_filename, combined_mask)\n",
        "\n",
        "print(f\"Segmentation maps saved in {output_dir}\")\n",
        "print(count)"
      ],
      "metadata": {
        "colab": {
          "base_uri": "https://localhost:8080/"
        },
        "id": "HqfmCiCVsQCv",
        "outputId": "0380bdd7-dded-4d9e-c274-e3ee09439258"
      },
      "execution_count": null,
      "outputs": [
        {
          "output_type": "stream",
          "name": "stderr",
          "text": [
            "/content/segment-anything/segment_anything/build_sam.py:105: FutureWarning: You are using `torch.load` with `weights_only=False` (the current default value), which uses the default pickle module implicitly. It is possible to construct malicious pickle data which will execute arbitrary code during unpickling (See https://github.com/pytorch/pytorch/blob/main/SECURITY.md#untrusted-models for more details). In a future release, the default value for `weights_only` will be flipped to `True`. This limits the functions that could be executed during unpickling. Arbitrary objects will no longer be allowed to be loaded via this mode unless they are explicitly allowlisted by the user via `torch.serialization.add_safe_globals`. We recommend you start setting `weights_only=True` for any use case where you don't have full control of the loaded file. Please open an issue on GitHub for any issues related to this experimental feature.\n",
            "  state_dict = torch.load(f)\n"
          ]
        },
        {
          "output_type": "stream",
          "name": "stdout",
          "text": [
            "Segmentation maps saved in /content/drive/MyDrive/seg_out_enhanced\n",
            "519\n"
          ]
        }
      ]
    },
    {
      "cell_type": "code",
      "source": [
        "count, count1 = 0,0\n",
        "for image_filename in os.listdir('/content/drive/MyDrive/seg_out_enhanced'):\n",
        "  count+=1\n",
        "\n",
        "for image_filename in os.listdir('/content/drive/MyDrive/Pallets'):\n",
        "  count1+=1\n",
        "\n",
        "print(\"Input images : \",count1)\n",
        "print(\"Segmented images : \", count)\n"
      ],
      "metadata": {
        "colab": {
          "base_uri": "https://localhost:8080/"
        },
        "id": "y2Ik8NsmAdeT",
        "outputId": "b50cca6a-6135-4989-c79b-7afe271b1941"
      },
      "execution_count": null,
      "outputs": [
        {
          "output_type": "stream",
          "name": "stdout",
          "text": [
            "Input images :  519\n",
            "Segmented images :  519\n"
          ]
        }
      ]
    },
    {
      "cell_type": "code",
      "source": [
        "import os\n",
        "\n",
        "# Define the directory containing the .txt files\n",
        "directory = '/content/drive/MyDrive/Pallet_Annotation/yolo_annotations_enhanced'\n",
        "\n",
        "# Loop through each file in the directory\n",
        "for filename in os.listdir(directory):\n",
        "    # Check if the file is a .txt file\n",
        "    if filename.endswith('.txt'):\n",
        "        file_path = os.path.join(directory, filename)\n",
        "\n",
        "        # Open and read the file\n",
        "        with open(file_path, 'r') as file:\n",
        "            content = file.read()\n",
        "\n",
        "        # Replace 'pallet' with '1'\n",
        "        new_content = content.replace('pallet', '0')\n",
        "\n",
        "        # Write the modified content back to the file\n",
        "        with open(file_path, 'w') as file:\n",
        "            file.write(new_content)\n",
        "\n",
        "\n",
        "\n",
        "print(\"Replacement completed.\")\n"
      ],
      "metadata": {
        "colab": {
          "base_uri": "https://localhost:8080/"
        },
        "id": "Hq0K8JpeAmQ8",
        "outputId": "2a42889e-7112-423d-face-29845740f76d"
      },
      "execution_count": null,
      "outputs": [
        {
          "output_type": "stream",
          "name": "stdout",
          "text": [
            "Replacement completed.\n"
          ]
        }
      ]
    }
  ],
  "metadata": {
    "accelerator": "GPU",
    "colab": {
      "gpuType": "A100",
      "machine_shape": "hm",
      "provenance": []
    },
    "kernelspec": {
      "display_name": "Python 3",
      "name": "python3"
    },
    "language_info": {
      "name": "python"
    }
  },
  "nbformat": 4,
  "nbformat_minor": 0
}